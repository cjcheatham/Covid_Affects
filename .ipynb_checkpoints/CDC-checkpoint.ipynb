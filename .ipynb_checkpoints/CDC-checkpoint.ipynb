{
 "cells": [
  {
   "cell_type": "markdown",
   "id": "07a72e3e-3cd2-476c-af07-76f41f0e922f",
   "metadata": {
    "tags": []
   },
   "source": [
    "# Dependencies and Setup\n",
    "import pandas as pd\n",
    "import requests\n",
    "import glob\n",
    "import matplotlib.pyplot as plt\n",
    "import numpy as np "
   ]
  },
  {
   "cell_type": "markdown",
   "id": "decff736-1032-4b0f-9155-7e22d446d86c",
   "metadata": {},
   "source": [
    "COVID-19 Case Surveillance Public Use Data with Geography\n",
    "https://data.cdc.gov/Case-Surveillance/COVID-19-Case-Surveillance-Public-Use-Data-with-Ge/n8mc-b4w4/about_data\n",
    "\n",
    "State data availability\n",
    "According to https://coviddatadispatch.com\n",
    "As of March 26, 2022:\n",
    "\n",
    "    28 states and the District of Columbia are reporting COVID-19 cases in K-12 schools, in some form\n",
    "    11 states are reporting incomplete data on school outbreaks or cases in school-aged children\n",
    "    24 states are separating out school case counts by students and staff\n",
    "    2 states are reporting COVID-19 tests conducted for school students and staff (New York and Massachusetts)\n",
    "    8 states are reporting in-person enrollment (Connecticut, Delaware, Hawaii, New Jersey, New York, Texas, Utah, West Virginia) \n",
    "\n",
    "https://coviddatadispatch.com/k-12-schools-data-in-the-u-s/"
   ]
  },
  {
   "cell_type": "markdown",
   "id": "4d8b622d-8e88-43b2-af1c-3d0211bfeac9",
   "metadata": {
    "jupyter": {
     "outputs_hidden": true
    },
    "tags": []
   },
   "source": [
    "url = 'https://health.data.ny.gov/resource/977p-3txa.json'\n",
    "params = {'$limit': 730492}\n",
    "\n",
    "response = requests.get(url, params = params)\n",
    "data_json = response.json()\n",
    "NYData_df = pd.DataFrame(data_json)"
   ]
  },
  {
   "cell_type": "markdown",
   "id": "503ce14e-fd4e-4aa2-9c8c-0d1461813851",
   "metadata": {
    "tags": []
   },
   "source": [
    "# Convert 'TimePeriodEnd' to datetime\n",
    "NYData_df['report_date'] = pd.to_datetime(NYData_df['report_date'])\n",
    "# Convert 'CumulativeCasesStudents' to integers\n",
    "NYData_df['positive_students'] = NYData_df['positive_students'].astype(int)\n",
    "NYData_df['number_of_students'] = NYData_df['number_of_students'].astype(int)\n",
    "NYData_df['total_tests'] = NYData_df['total_tests'].astype(int)"
   ]
  },
  {
   "cell_type": "markdown",
   "id": "bc02d7a0-d0c0-4f10-b7a0-9e6911e2562e",
   "metadata": {
    "tags": []
   },
   "source": [
    "# Sort the DataFrame by 'StateName', 'NCESDistrictID', and 'TimePeriodEnd'\n",
    "NYData_df = NYData_df.sort_values(by=['school_beds_code', 'report_date'],ascending=[True, True])\n",
    "\n",
    "# Reset the index\n",
    "NYData_df.reset_index(drop=True, inplace=True)"
   ]
  },
  {
   "cell_type": "markdown",
   "id": "079fd6ad-ed53-4591-85cd-206d628889e6",
   "metadata": {
    "tags": []
   },
   "source": [
    "# Saving as CSV\n",
    "NYData_df.to_csv('clean_data/NY_case_data.csv', index=False)"
   ]
  },
  {
   "cell_type": "markdown",
   "id": "0def0f7c-03ed-4b85-836c-c288ab4dd5f8",
   "metadata": {
    "jupyter": {
     "outputs_hidden": true
    },
    "tags": []
   },
   "source": [
    "# Path to the directory containing CDC reported case for childern between 0-17 CSV files\n",
    "schoolCDC_path = 'CDC_data/'\n",
    "\n",
    "# Use glob to get a list of file paths matching a specific pattern (e.g., all CSV files)\n",
    "schoolCDC_csv = glob.glob(schoolCDC_path + '*.csv')\n",
    "\n",
    "# Initialize an empty list to store individual DataFrames\n",
    "list_of_dfs = []\n",
    "\n",
    "# Loop through each CSV file, read it into a DataFrame, and append it to the list\n",
    "for file in schoolCDC_csv:\n",
    "    df = pd.read_csv(file)\n",
    "    list_of_dfs.append(df)\n",
    "\n",
    "# Concatenate all DataFrames in the list into a single DataFrame\n",
    "schoolCDC_df = pd.concat(list_of_dfs, ignore_index=True)\n",
    "schoolCDC_df.head()"
   ]
  },
  {
   "cell_type": "markdown",
   "id": "dafad40c-5fa9-40d3-89a1-ff0f38443031",
   "metadata": {
    "jupyter": {
     "outputs_hidden": true
    },
    "tags": []
   },
   "source": [
    "# Define columns to keep\n",
    "schoolCDC_df = schoolCDC_df[['case_month', 'res_state', 'age_group','current_status']]\n",
    "\n",
    "schoolCDC_df.head(20)"
   ]
  },
  {
   "cell_type": "markdown",
   "id": "769a17dd-66dd-465a-962d-1a6d730c93bc",
   "metadata": {
    "jupyter": {
     "outputs_hidden": true
    },
    "tags": []
   },
   "source": [
    "# Grouping by 'res_state' and 'case_month', and counting occurrences\n",
    "schoolCDCgrouped = schoolCDC_df.groupby(['res_state', 'case_month']).size().reset_index(name='count_of_cases')\n",
    "\n",
    "# Output the grouped DataFrame\n",
    "schoolCDCgrouped.head(50)"
   ]
  },
  {
   "cell_type": "markdown",
   "id": "b0b04a9e-38bd-4f65-8131-d49b7cc9ed79",
   "metadata": {
    "jupyter": {
     "outputs_hidden": true
    },
    "tags": []
   },
   "source": [
    "# Grouping by 'res_state' and 'case_month', and counting occurrences\n",
    "schoolCDCbyYear = schoolCDC_df.groupby(['res_state']).size().reset_index(name='Total_cases')\n",
    "\n",
    "# Output the grouped DataFrame\n",
    "schoolCDCbyYear.head(50)"
   ]
  },
  {
   "cell_type": "code",
   "execution_count": null,
   "id": "b1452a74-3766-4e06-b735-7a1a53b9287d",
   "metadata": {},
   "outputs": [],
   "source": []
  }
 ],
 "metadata": {
  "kernelspec": {
   "display_name": "Python 3 (ipykernel)",
   "language": "python",
   "name": "python3"
  },
  "language_info": {
   "codemirror_mode": {
    "name": "ipython",
    "version": 3
   },
   "file_extension": ".py",
   "mimetype": "text/x-python",
   "name": "python",
   "nbconvert_exporter": "python",
   "pygments_lexer": "ipython3",
   "version": "3.11.4"
  }
 },
 "nbformat": 4,
 "nbformat_minor": 5
}
