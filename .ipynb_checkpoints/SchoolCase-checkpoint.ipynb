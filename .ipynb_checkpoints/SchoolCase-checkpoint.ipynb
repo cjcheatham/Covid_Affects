{
 "cells": [
  {
   "cell_type": "markdown",
   "id": "92121a2c-f46c-4766-8411-3a4c1d68bc36",
   "metadata": {},
   "source": [
    "This notebook is to combine all the State that provide Covid case count during 2020 to 2021 "
   ]
  },
  {
   "cell_type": "code",
   "execution_count": 1,
   "id": "19b0d113-e05f-44e2-9174-83ee0f73ac07",
   "metadata": {},
   "outputs": [],
   "source": [
    "# Dependencies and Setup\n",
    "import pandas as pd\n",
    "import glob\n",
    "import matplotlib.pyplot as plt\n",
    "import numpy as np  "
   ]
  },
  {
   "cell_type": "code",
   "execution_count": 2,
   "id": "578bf92c-c1b2-48c9-a818-62108e3c486e",
   "metadata": {
    "tags": []
   },
   "outputs": [
    {
     "name": "stderr",
     "output_type": "stream",
     "text": [
      "C:\\Users\\vivi4\\AppData\\Local\\Temp\\ipykernel_15208\\4186341828.py:12: DtypeWarning: Columns (28) have mixed types. Specify dtype option on import or set low_memory=False.\n",
      "  df = pd.read_csv(file, encoding='utf-8')\n"
     ]
    }
   ],
   "source": [
    "# Path to the directory containing your CSV files\n",
    "school_path = 'school_case/'\n",
    "\n",
    "# Use glob to get a list of file paths matching a specific pattern (e.g., all CSV files)\n",
    "school_csv = glob.glob(school_path + '*.csv')\n",
    "\n",
    "# Initialize an empty list to store individual DataFrames\n",
    "list_of_dfs = []\n",
    "\n",
    "# Loop through each CSV file, read it into a DataFrame, and append it to the list\n",
    "for file in school_csv:\n",
    "    df = pd.read_csv(file, encoding='utf-8')\n",
    "    list_of_dfs.append(df)\n",
    "\n",
    "# Concatenate all DataFrames in the list into a single DataFrame\n",
    "combined_df = pd.concat(list_of_dfs, ignore_index=True)"
   ]
  },
  {
   "cell_type": "code",
   "execution_count": 3,
   "id": "e7ff7cd7-3551-46d6-8b44-fb892b46e180",
   "metadata": {
    "tags": []
   },
   "outputs": [],
   "source": [
    "# Define columns to keep\n",
    "schoolCase_df = combined_df[['StateName', 'StateAbbrev', 'NCESDistrictID', 'TimePeriodEnd', 'NewCasesStudents', 'CumulativeCasesStudents' ]]"
   ]
  },
  {
   "cell_type": "code",
   "execution_count": 4,
   "id": "806a36db-b008-4a21-9b17-4ad960bfb18e",
   "metadata": {
    "tags": []
   },
   "outputs": [
    {
     "data": {
      "text/plain": [
       "StateName                  60115\n",
       "StateAbbrev                60115\n",
       "NCESDistrictID             60115\n",
       "TimePeriodEnd              60115\n",
       "NewCasesStudents           20619\n",
       "CumulativeCasesStudents    45420\n",
       "dtype: int64"
      ]
     },
     "execution_count": 4,
     "metadata": {},
     "output_type": "execute_result"
    }
   ],
   "source": [
    "# Remove rows where 'NCESDistrictID' and both 'NewCasesStudents' and 'CumulativeCasesStudents' columns are empty\n",
    "schoolCase_df = schoolCase_df.dropna(subset=['NCESDistrictID'], how='all').dropna(subset=['NewCasesStudents', 'CumulativeCasesStudents'], how='all')\n",
    "\n",
    "schoolCase_df.count()"
   ]
  },
  {
   "cell_type": "code",
   "execution_count": 5,
   "id": "6b5ef6fc-6b87-49fe-8be4-2bb174035447",
   "metadata": {
    "tags": []
   },
   "outputs": [
    {
     "data": {
      "text/plain": [
       "StateName                   object\n",
       "StateAbbrev                 object\n",
       "NCESDistrictID             float64\n",
       "TimePeriodEnd               object\n",
       "NewCasesStudents           float64\n",
       "CumulativeCasesStudents     object\n",
       "dtype: object"
      ]
     },
     "execution_count": 5,
     "metadata": {},
     "output_type": "execute_result"
    }
   ],
   "source": [
    "# Verify data types\n",
    "schoolCase_df.dtypes"
   ]
  },
  {
   "cell_type": "code",
   "execution_count": 6,
   "id": "52801fd3-82bc-4197-9644-7421ddd283c9",
   "metadata": {
    "tags": []
   },
   "outputs": [
    {
     "data": {
      "text/plain": [
       "StateName                   object\n",
       "StateAbbrev                 object\n",
       "NCESDistrictID             float64\n",
       "TimePeriodEnd               object\n",
       "NewCasesStudents             Int64\n",
       "CumulativeCasesStudents      int32\n",
       "dtype: object"
      ]
     },
     "execution_count": 6,
     "metadata": {},
     "output_type": "execute_result"
    }
   ],
   "source": [
    "# Replace NaN and NA values in 'CumulativeCasesStudents' with 0\n",
    "schoolCase_df['CumulativeCasesStudents'].fillna(0, inplace=True)\n",
    "\n",
    "# Convert 'CumulativeCasesStudents' to string to handle NA values\n",
    "schoolCase_df['CumulativeCasesStudents'] = schoolCase_df['CumulativeCasesStudents'].astype(str)\n",
    "\n",
    "# Create a boolean mask for rows with numeric patterns in 'CumulativeCasesStudents'\n",
    "numeric_rows = schoolCase_df['CumulativeCasesStudents'].str.match(r'^\\d+(\\.\\d+)?$', na=False)\n",
    "\n",
    "# Filter the DataFrame using the numeric_rows mask\n",
    "schoolCase_df = schoolCase_df[numeric_rows].copy()\n",
    "\n",
    "# Convert 'CumulativeCasesStudents' to float\n",
    "schoolCase_df['CumulativeCasesStudents'] = schoolCase_df['CumulativeCasesStudents'].astype(float).astype(int)\n",
    "schoolCase_df['NewCasesStudents'] = schoolCase_df['NewCasesStudents'].astype(pd.Int64Dtype())\n",
    "schoolCase_df.dtypes"
   ]
  },
  {
   "cell_type": "code",
   "execution_count": 7,
   "id": "c7365136-f12b-41a4-98ee-0a6af0ed7a4e",
   "metadata": {
    "tags": []
   },
   "outputs": [
    {
     "data": {
      "text/plain": [
       "StateName                  59972\n",
       "StateAbbrev                59972\n",
       "NCESDistrictID             59972\n",
       "TimePeriodEnd              59972\n",
       "NewCasesStudents           20619\n",
       "CumulativeCasesStudents    59972\n",
       "dtype: int64"
      ]
     },
     "execution_count": 7,
     "metadata": {},
     "output_type": "execute_result"
    }
   ],
   "source": [
    "# Sort the DataFrame by 'StateName', 'NCESDistrictID', and 'TimePeriodEnd'\n",
    "schoolCase_df.sort_values(by=['StateName', 'NCESDistrictID', 'TimePeriodEnd'], inplace=True)\n",
    "\n",
    "schoolCase_df['NCESDistrictID'] = schoolCase_df['NCESDistrictID'].astype(str).str.replace('.', '')\n",
    "\n",
    "# Convert 'TimePeriodEnd' to datetime\n",
    "schoolCase_df['TimePeriodEnd'] = pd.to_datetime(schoolCase_df['TimePeriodEnd'])\n",
    "\n",
    "# Reset the index\n",
    "schoolCase_df.reset_index(drop=True, inplace=True)\n",
    "schoolCase_df.count()"
   ]
  },
  {
   "cell_type": "code",
   "execution_count": 8,
   "id": "9ab715fc-f41a-408d-8728-4b988d0ee9b4",
   "metadata": {
    "tags": []
   },
   "outputs": [
    {
     "name": "stdout",
     "output_type": "stream",
     "text": [
      "<class 'pandas.core.frame.DataFrame'>\n",
      "RangeIndex: 59972 entries, 0 to 59971\n",
      "Data columns (total 6 columns):\n",
      " #   Column                   Non-Null Count  Dtype         \n",
      "---  ------                   --------------  -----         \n",
      " 0   StateName                59972 non-null  object        \n",
      " 1   StateAbbrev              59972 non-null  object        \n",
      " 2   NCESDistrictID           59972 non-null  object        \n",
      " 3   TimePeriodEnd            59972 non-null  datetime64[ns]\n",
      " 4   NewCasesStudents         20619 non-null  Int64         \n",
      " 5   CumulativeCasesStudents  59972 non-null  int32         \n",
      "dtypes: Int64(1), datetime64[ns](1), int32(1), object(3)\n",
      "memory usage: 2.6+ MB\n"
     ]
    }
   ],
   "source": [
    "schoolCase_df.info()"
   ]
  },
  {
   "cell_type": "code",
   "execution_count": 9,
   "id": "674cee55-80b3-495b-b62e-84e3f0f04787",
   "metadata": {
    "tags": []
   },
   "outputs": [
    {
     "data": {
      "text/html": [
       "<div>\n",
       "<style scoped>\n",
       "    .dataframe tbody tr th:only-of-type {\n",
       "        vertical-align: middle;\n",
       "    }\n",
       "\n",
       "    .dataframe tbody tr th {\n",
       "        vertical-align: top;\n",
       "    }\n",
       "\n",
       "    .dataframe thead th {\n",
       "        text-align: right;\n",
       "    }\n",
       "</style>\n",
       "<table border=\"1\" class=\"dataframe\">\n",
       "  <thead>\n",
       "    <tr style=\"text-align: right;\">\n",
       "      <th></th>\n",
       "      <th>StateName</th>\n",
       "      <th>StateAbbrev</th>\n",
       "      <th>NCESDistrictID</th>\n",
       "      <th>TimePeriodEnd</th>\n",
       "      <th>NewCasesStudents</th>\n",
       "      <th>CumulativeCasesStudents</th>\n",
       "    </tr>\n",
       "  </thead>\n",
       "  <tbody>\n",
       "    <tr>\n",
       "      <th>0</th>\n",
       "      <td>Arkansas</td>\n",
       "      <td>AR</td>\n",
       "      <td>5000010</td>\n",
       "      <td>2021-01-14</td>\n",
       "      <td>&lt;NA&gt;</td>\n",
       "      <td>26</td>\n",
       "    </tr>\n",
       "    <tr>\n",
       "      <th>1</th>\n",
       "      <td>Arkansas</td>\n",
       "      <td>AR</td>\n",
       "      <td>5000010</td>\n",
       "      <td>2021-01-18</td>\n",
       "      <td>&lt;NA&gt;</td>\n",
       "      <td>26</td>\n",
       "    </tr>\n",
       "    <tr>\n",
       "      <th>2</th>\n",
       "      <td>Arkansas</td>\n",
       "      <td>AR</td>\n",
       "      <td>5000010</td>\n",
       "      <td>2021-01-21</td>\n",
       "      <td>&lt;NA&gt;</td>\n",
       "      <td>28</td>\n",
       "    </tr>\n",
       "    <tr>\n",
       "      <th>3</th>\n",
       "      <td>Arkansas</td>\n",
       "      <td>AR</td>\n",
       "      <td>5000010</td>\n",
       "      <td>2021-01-25</td>\n",
       "      <td>&lt;NA&gt;</td>\n",
       "      <td>29</td>\n",
       "    </tr>\n",
       "    <tr>\n",
       "      <th>4</th>\n",
       "      <td>Arkansas</td>\n",
       "      <td>AR</td>\n",
       "      <td>5000010</td>\n",
       "      <td>2021-01-28</td>\n",
       "      <td>&lt;NA&gt;</td>\n",
       "      <td>33</td>\n",
       "    </tr>\n",
       "  </tbody>\n",
       "</table>\n",
       "</div>"
      ],
      "text/plain": [
       "  StateName StateAbbrev NCESDistrictID TimePeriodEnd  NewCasesStudents  \\\n",
       "0  Arkansas          AR        5000010    2021-01-14              <NA>   \n",
       "1  Arkansas          AR        5000010    2021-01-18              <NA>   \n",
       "2  Arkansas          AR        5000010    2021-01-21              <NA>   \n",
       "3  Arkansas          AR        5000010    2021-01-25              <NA>   \n",
       "4  Arkansas          AR        5000010    2021-01-28              <NA>   \n",
       "\n",
       "   CumulativeCasesStudents  \n",
       "0                       26  \n",
       "1                       26  \n",
       "2                       28  \n",
       "3                       29  \n",
       "4                       33  "
      ]
     },
     "execution_count": 9,
     "metadata": {},
     "output_type": "execute_result"
    }
   ],
   "source": [
    "# Sort the DataFrame by 'StateName', 'NCESDistrictID', and 'TimePeriodEnd'\n",
    "schoolCase_df = schoolCase_df.sort_values(by=['StateName', 'NCESDistrictID', 'TimePeriodEnd'],ascending=[True, True, True])\n",
    "schoolCase_df.reset_index(drop=True, inplace=True)\n",
    "schoolCase_df.head()"
   ]
  },
  {
   "cell_type": "code",
   "execution_count": 10,
   "id": "85425ff7-874d-4b6a-a897-4108c373b447",
   "metadata": {},
   "outputs": [
    {
     "data": {
      "text/html": [
       "<div>\n",
       "<style scoped>\n",
       "    .dataframe tbody tr th:only-of-type {\n",
       "        vertical-align: middle;\n",
       "    }\n",
       "\n",
       "    .dataframe tbody tr th {\n",
       "        vertical-align: top;\n",
       "    }\n",
       "\n",
       "    .dataframe thead th {\n",
       "        text-align: right;\n",
       "    }\n",
       "</style>\n",
       "<table border=\"1\" class=\"dataframe\">\n",
       "  <thead>\n",
       "    <tr style=\"text-align: right;\">\n",
       "      <th></th>\n",
       "      <th>StateName</th>\n",
       "      <th>StateAbbrev</th>\n",
       "      <th>NCESDistrictID</th>\n",
       "      <th>TimePeriodEnd</th>\n",
       "      <th>NewCasesStudents</th>\n",
       "      <th>CumulativeCasesStudents</th>\n",
       "    </tr>\n",
       "  </thead>\n",
       "  <tbody>\n",
       "    <tr>\n",
       "      <th>0</th>\n",
       "      <td>Arkansas</td>\n",
       "      <td>AR</td>\n",
       "      <td>5000010</td>\n",
       "      <td>2021-01-14</td>\n",
       "      <td>26</td>\n",
       "      <td>26</td>\n",
       "    </tr>\n",
       "    <tr>\n",
       "      <th>1</th>\n",
       "      <td>Arkansas</td>\n",
       "      <td>AR</td>\n",
       "      <td>5000010</td>\n",
       "      <td>2021-01-18</td>\n",
       "      <td>0</td>\n",
       "      <td>26</td>\n",
       "    </tr>\n",
       "    <tr>\n",
       "      <th>2</th>\n",
       "      <td>Arkansas</td>\n",
       "      <td>AR</td>\n",
       "      <td>5000010</td>\n",
       "      <td>2021-01-21</td>\n",
       "      <td>2</td>\n",
       "      <td>28</td>\n",
       "    </tr>\n",
       "    <tr>\n",
       "      <th>3</th>\n",
       "      <td>Arkansas</td>\n",
       "      <td>AR</td>\n",
       "      <td>5000010</td>\n",
       "      <td>2021-01-25</td>\n",
       "      <td>1</td>\n",
       "      <td>29</td>\n",
       "    </tr>\n",
       "    <tr>\n",
       "      <th>4</th>\n",
       "      <td>Arkansas</td>\n",
       "      <td>AR</td>\n",
       "      <td>5000010</td>\n",
       "      <td>2021-01-28</td>\n",
       "      <td>4</td>\n",
       "      <td>33</td>\n",
       "    </tr>\n",
       "  </tbody>\n",
       "</table>\n",
       "</div>"
      ],
      "text/plain": [
       "  StateName StateAbbrev NCESDistrictID TimePeriodEnd  NewCasesStudents  \\\n",
       "0  Arkansas          AR        5000010    2021-01-14                26   \n",
       "1  Arkansas          AR        5000010    2021-01-18                 0   \n",
       "2  Arkansas          AR        5000010    2021-01-21                 2   \n",
       "3  Arkansas          AR        5000010    2021-01-25                 1   \n",
       "4  Arkansas          AR        5000010    2021-01-28                 4   \n",
       "\n",
       "   CumulativeCasesStudents  \n",
       "0                       26  \n",
       "1                       26  \n",
       "2                       28  \n",
       "3                       29  \n",
       "4                       33  "
      ]
     },
     "execution_count": 10,
     "metadata": {},
     "output_type": "execute_result"
    }
   ],
   "source": [
    "# Initialize variables\n",
    "prev_cumulative = schoolCase_df.iloc[0]['CumulativeCasesStudents']\n",
    "new_district = True\n",
    "\n",
    "# Iterate through the DataFrame by index\n",
    "for i in range(len(schoolCase_df)):\n",
    "    row = schoolCase_df.iloc[i]\n",
    "    # Run initial record and append existing cases to NewCasesStudents field value\n",
    "    if new_district:\n",
    "        if pd.isnull(row['NewCasesStudents']):\n",
    "            schoolCase_df.at[i, 'NewCasesStudents'] = row['CumulativeCasesStudents']\n",
    "        new_district = False\n",
    "    else:\n",
    "        # From 2nd records and on when NewCasesStudents value is null will calculate from CumulativeCaseStudents value and append.\n",
    "        if pd.isnull(row['NewCasesStudents']) and pd.notnull(row['CumulativeCasesStudents']):\n",
    "            prev_row = schoolCase_df.iloc[i - 1]\n",
    "            if row['NCESDistrictID'] == prev_row['NCESDistrictID']:\n",
    "                new_cases = row['CumulativeCasesStudents'] - prev_cumulative\n",
    "                schoolCase_df.at[i, 'NewCasesStudents'] = new_cases\n",
    "            else:\n",
    "                # If is it new NCESDistrictID will append CumulativeCasesStudents value to NewCaseStudents field.\n",
    "                schoolCase_df.at[i, 'NewCasesStudents'] = row['CumulativeCasesStudents']\n",
    "                new_district = False\n",
    "    \n",
    "    prev_cumulative = row['CumulativeCasesStudents']\n",
    "    \n",
    "schoolCase_df.head()"
   ]
  },
  {
   "cell_type": "code",
   "execution_count": 11,
   "id": "5fb46bf9-4574-44c1-b2ff-62fbd09550fb",
   "metadata": {
    "tags": []
   },
   "outputs": [],
   "source": [
    "# Define columns to keep\n",
    "schoolCase_df = schoolCase_df[['StateName', 'StateAbbrev', 'NCESDistrictID', 'TimePeriodEnd', 'NewCasesStudents']]\n",
    "\n",
    "# Rename columns in the school_enrollmentByState DataFrame\n",
    "schoolCase_df.columns = ['state_name', 'state', 'DistrictID', 'TimePeriodEnd', 'CasesStudents']"
   ]
  },
  {
   "cell_type": "code",
   "execution_count": 12,
   "id": "4d786879-555f-47ea-ad22-5b83080d033d",
   "metadata": {
    "tags": []
   },
   "outputs": [],
   "source": [
    "# Group by 'StateName' and the year and month extracted from 'TimePeriodEnd'\n",
    "school_group = schoolCase_df.groupby(['state_name', 'state', schoolCase_df['TimePeriodEnd'].dt.to_period('M')])['CasesStudents'].sum().reset_index()\n",
    "\n",
    "# Rename the columns for better representation\n",
    "school_group.rename(columns={'TimePeriodEnd': 'EndDate', 'CasesStudents': 'TotalCasesStudents'}, inplace=True)\n",
    "\n",
    "# Sort the DataFrame by 'StateName' and 'YYYY-MM'\n",
    "school_group.sort_values(by=['state_name', 'EndDate'], inplace=True)\n",
    "\n",
    "# Reset index\n",
    "school_group.reset_index(drop=True, inplace=True)"
   ]
  },
  {
   "cell_type": "code",
   "execution_count": 13,
   "id": "f0da90cb-404a-4b5c-8ffd-02092c54a9e7",
   "metadata": {
    "tags": []
   },
   "outputs": [],
   "source": [
    "# Save to CSV file \n",
    "school_group.to_csv('clean_data/school_group.csv' , index=False)"
   ]
  },
  {
   "cell_type": "code",
   "execution_count": null,
   "id": "038c7b95-95a3-4feb-89fc-3034352697f4",
   "metadata": {},
   "outputs": [],
   "source": []
  }
 ],
 "metadata": {
  "kernelspec": {
   "display_name": "Python 3 (ipykernel)",
   "language": "python",
   "name": "python3"
  },
  "language_info": {
   "codemirror_mode": {
    "name": "ipython",
    "version": 3
   },
   "file_extension": ".py",
   "mimetype": "text/x-python",
   "name": "python",
   "nbconvert_exporter": "python",
   "pygments_lexer": "ipython3",
   "version": "3.11.4"
  }
 },
 "nbformat": 4,
 "nbformat_minor": 5
}
