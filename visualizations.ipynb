{
 "cells": [
  {
   "cell_type": "code",
   "execution_count": 96,
   "id": "fb64e32e",
   "metadata": {},
   "outputs": [
    {
     "name": "stderr",
     "output_type": "stream",
     "text": [
      "C:\\Users\\cjche\\AppData\\Local\\Temp\\ipykernel_6476\\3357825559.py:6: DeprecationWarning:\n",
      "\n",
      "Importing display from IPython.core.display is deprecated since IPython 7.14, please import from IPython display\n",
      "\n"
     ]
    }
   ],
   "source": [
    "import pandas as pd\n",
    "import matplotlib.pyplot as plt\n",
    "import numpy as np\n",
    "import mpld3\n",
    "import ipywidgets as widgets\n",
    "from IPython.core.display import HTML, display\n"
   ]
  },
  {
   "cell_type": "code",
   "execution_count": 97,
   "id": "a32f911f",
   "metadata": {},
   "outputs": [],
   "source": [
    "# Load the data from the CSV file\n",
    "df = pd.read_csv('data/cleaned/confirmed_covid_cases_cleaned.csv')\n",
    "\n",
    "# Convert the 'date' column to datetime format\n",
    "df['date'] = pd.to_datetime(df['date'])\n",
    "\n",
    "# Filter the data for the years 2020, 2021, 2022, and 2023\n",
    "df_filtered = df[df['date'].dt.year.isin([2020, 2021, 2022, 2023])]\n"
   ]
  },
  {
   "cell_type": "code",
   "execution_count": 99,
   "id": "0bea9f96",
   "metadata": {},
   "outputs": [
    {
     "data": {
      "application/vnd.jupyter.widget-view+json": {
       "model_id": "7c088289614e4b4e86fd93245f9df7bc",
       "version_major": 2,
       "version_minor": 0
      },
      "text/plain": [
       "interactive(children=(Dropdown(description='Year:', options=(2020, 2021, 2022, 2023), value=2020), Output()), …"
      ]
     },
     "execution_count": 99,
     "metadata": {},
     "output_type": "execute_result"
    }
   ],
   "source": [
    "# Define a function to create an interactive bar chart for a given year\n",
    "def create_interactive_bar_chart(selected_year):\n",
    "    # Filter the data based on the selected year\n",
    "    df_year = df_filtered[df_filtered['date'].dt.year == selected_year]\n",
    "    \n",
    "    # Group the data by state and sum the cases\n",
    "    grouped_df = df_year.groupby('state')['cases'].sum().reset_index()\n",
    "    \n",
    "    # Sort the data by cases in descending order for visualization\n",
    "    grouped_df = grouped_df.sort_values(by='cases', ascending=False)\n",
    "    \n",
    "    # Generate a unique color for each bar using the viridis colormap\n",
    "    num_states = len(grouped_df)\n",
    "    colors = plt.cm.viridis(np.linspace(0, 1, num_states))\n",
    "    \n",
    "    # Create the bar chart using matplotlib\n",
    "    plt.figure(figsize=(10, 6))\n",
    "    bars = plt.bar(grouped_df['state'], grouped_df['cases'], color=colors)\n",
    "    plt.title(f'COVID-19 Cases by State in {selected_year}')\n",
    "    plt.xlabel('State')\n",
    "    plt.ylabel('Number of Cases')\n",
    "    plt.xticks(rotation=90)\n",
    "    \n",
    "    # Convert the matplotlib plot to an interactive plot using mpld3\n",
    "    interactive_plot = mpld3.fig_to_html(plt.gcf())\n",
    "    \n",
    "    # Display the interactive plot\n",
    "    display(HTML(interactive_plot))\n",
    "    \n",
    "    # Save the interactive plot as an HTML file\n",
    "    with open(f\"interactive_bar_chart_{selected_year}.html\", \"w\") as f:\n",
    "        f.write(interactive_plot)\n",
    "\n",
    "# Define the dropdown widget with years 2020, 2021, 2022, and 2023\n",
    "year_dropdown = widgets.Dropdown(\n",
    "    options=[2020, 2021, 2022, 2023],\n",
    "    value=2020,\n",
    "    description='Year:',\n",
    "    disabled=False,\n",
    ")\n",
    "\n",
    "# Call the create_interactive_bar_chart function when a different year is selected from the dropdown\n",
    "widgets.interactive(create_interactive_bar_chart, selected_year=year_dropdown)\n"
   ]
  },
  {
   "cell_type": "code",
   "execution_count": 101,
   "id": "827bef31",
   "metadata": {},
   "outputs": [],
   "source": [
    "# laod in vaccine and state data\n",
    "vaccines = pd.read_csv(\"data/reference/COVID-19_Vaccinations_in_the_United_States_Jurisdiction_20240104.csv\")\n",
    "states = pd.read_csv(\"data/cleaned/states_cleaned.csv\")\n",
    "         "
   ]
  },
  {
   "cell_type": "code",
   "execution_count": null,
   "id": "16f01ece",
   "metadata": {},
   "outputs": [],
   "source": []
  }
 ],
 "metadata": {
  "kernelspec": {
   "display_name": "Python 3 (ipykernel)",
   "language": "python",
   "name": "python3"
  },
  "language_info": {
   "codemirror_mode": {
    "name": "ipython",
    "version": 3
   },
   "file_extension": ".py",
   "mimetype": "text/x-python",
   "name": "python",
   "nbconvert_exporter": "python",
   "pygments_lexer": "ipython3",
   "version": "3.11.4"
  }
 },
 "nbformat": 4,
 "nbformat_minor": 5
}
