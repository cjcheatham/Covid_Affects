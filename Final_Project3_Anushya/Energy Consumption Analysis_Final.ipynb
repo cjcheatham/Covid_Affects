{
 "cells": [
  {
   "cell_type": "code",
   "execution_count": 149,
   "id": "cf780f34",
   "metadata": {},
   "outputs": [],
   "source": [
    "import pandas as pd \n",
    "import plotly.express as px \n",
    "import json\n",
    "import plotly\n",
    "from plotly.offline import plot\n",
    "from plotly.subplots import make_subplots"
   ]
  },
  {
   "cell_type": "code",
   "execution_count": 150,
   "id": "7c03d5b5",
   "metadata": {},
   "outputs": [
    {
     "data": {
      "text/html": [
       "<div>\n",
       "<style scoped>\n",
       "    .dataframe tbody tr th:only-of-type {\n",
       "        vertical-align: middle;\n",
       "    }\n",
       "\n",
       "    .dataframe tbody tr th {\n",
       "        vertical-align: top;\n",
       "    }\n",
       "\n",
       "    .dataframe thead th {\n",
       "        text-align: right;\n",
       "    }\n",
       "</style>\n",
       "<table border=\"1\" class=\"dataframe\">\n",
       "  <thead>\n",
       "    <tr style=\"text-align: right;\">\n",
       "      <th></th>\n",
       "      <th>st_abbreviation</th>\n",
       "      <th>2019</th>\n",
       "      <th>2020</th>\n",
       "      <th>2021</th>\n",
       "      <th>2022</th>\n",
       "      <th>2023</th>\n",
       "      <th>code</th>\n",
       "      <th>btu_2019</th>\n",
       "      <th>btu_2020</th>\n",
       "      <th>btu_2021</th>\n",
       "    </tr>\n",
       "  </thead>\n",
       "  <tbody>\n",
       "    <tr>\n",
       "      <th>0</th>\n",
       "      <td>AK</td>\n",
       "      <td>733374</td>\n",
       "      <td>732964</td>\n",
       "      <td>734923</td>\n",
       "      <td>733276</td>\n",
       "      <td>733406</td>\n",
       "      <td>ABICB</td>\n",
       "      <td>-10.0</td>\n",
       "      <td>-7.0</td>\n",
       "      <td>-8.0</td>\n",
       "    </tr>\n",
       "    <tr>\n",
       "      <th>1</th>\n",
       "      <td>AK</td>\n",
       "      <td>733374</td>\n",
       "      <td>732964</td>\n",
       "      <td>734923</td>\n",
       "      <td>733276</td>\n",
       "      <td>733406</td>\n",
       "      <td>ARICB</td>\n",
       "      <td>11973.0</td>\n",
       "      <td>12391.0</td>\n",
       "      <td>13425.0</td>\n",
       "    </tr>\n",
       "    <tr>\n",
       "      <th>2</th>\n",
       "      <td>AK</td>\n",
       "      <td>733374</td>\n",
       "      <td>732964</td>\n",
       "      <td>734923</td>\n",
       "      <td>733276</td>\n",
       "      <td>733406</td>\n",
       "      <td>ARTCB</td>\n",
       "      <td>11973.0</td>\n",
       "      <td>12391.0</td>\n",
       "      <td>13425.0</td>\n",
       "    </tr>\n",
       "    <tr>\n",
       "      <th>3</th>\n",
       "      <td>AK</td>\n",
       "      <td>733374</td>\n",
       "      <td>732964</td>\n",
       "      <td>734923</td>\n",
       "      <td>733276</td>\n",
       "      <td>733406</td>\n",
       "      <td>ARTXB</td>\n",
       "      <td>11973.0</td>\n",
       "      <td>12391.0</td>\n",
       "      <td>13425.0</td>\n",
       "    </tr>\n",
       "    <tr>\n",
       "      <th>4</th>\n",
       "      <td>AK</td>\n",
       "      <td>733374</td>\n",
       "      <td>732964</td>\n",
       "      <td>734923</td>\n",
       "      <td>733276</td>\n",
       "      <td>733406</td>\n",
       "      <td>AVACB</td>\n",
       "      <td>1245.0</td>\n",
       "      <td>915.0</td>\n",
       "      <td>1037.0</td>\n",
       "    </tr>\n",
       "    <tr>\n",
       "      <th>...</th>\n",
       "      <td>...</td>\n",
       "      <td>...</td>\n",
       "      <td>...</td>\n",
       "      <td>...</td>\n",
       "      <td>...</td>\n",
       "      <td>...</td>\n",
       "      <td>...</td>\n",
       "      <td>...</td>\n",
       "      <td>...</td>\n",
       "      <td>...</td>\n",
       "    </tr>\n",
       "    <tr>\n",
       "      <th>12286</th>\n",
       "      <td>WY</td>\n",
       "      <td>576850</td>\n",
       "      <td>577664</td>\n",
       "      <td>579548</td>\n",
       "      <td>581629</td>\n",
       "      <td>584057</td>\n",
       "      <td>WYICB</td>\n",
       "      <td>0.0</td>\n",
       "      <td>0.0</td>\n",
       "      <td>0.0</td>\n",
       "    </tr>\n",
       "    <tr>\n",
       "      <th>12287</th>\n",
       "      <td>WY</td>\n",
       "      <td>576850</td>\n",
       "      <td>577664</td>\n",
       "      <td>579548</td>\n",
       "      <td>581629</td>\n",
       "      <td>584057</td>\n",
       "      <td>WYTCB</td>\n",
       "      <td>37045.0</td>\n",
       "      <td>48329.0</td>\n",
       "      <td>74713.0</td>\n",
       "    </tr>\n",
       "    <tr>\n",
       "      <th>12288</th>\n",
       "      <td>WY</td>\n",
       "      <td>576850</td>\n",
       "      <td>577664</td>\n",
       "      <td>579548</td>\n",
       "      <td>581629</td>\n",
       "      <td>584057</td>\n",
       "      <td>WYTXB</td>\n",
       "      <td>0.0</td>\n",
       "      <td>0.0</td>\n",
       "      <td>0.0</td>\n",
       "    </tr>\n",
       "    <tr>\n",
       "      <th>12289</th>\n",
       "      <td>WY</td>\n",
       "      <td>576850</td>\n",
       "      <td>577664</td>\n",
       "      <td>579548</td>\n",
       "      <td>581629</td>\n",
       "      <td>584057</td>\n",
       "      <td>ZWCDP</td>\n",
       "      <td>243.0</td>\n",
       "      <td>352.0</td>\n",
       "      <td>411.0</td>\n",
       "    </tr>\n",
       "    <tr>\n",
       "      <th>12290</th>\n",
       "      <td>WY</td>\n",
       "      <td>576850</td>\n",
       "      <td>577664</td>\n",
       "      <td>579548</td>\n",
       "      <td>581629</td>\n",
       "      <td>584057</td>\n",
       "      <td>ZWHDP</td>\n",
       "      <td>8915.0</td>\n",
       "      <td>8079.0</td>\n",
       "      <td>7874.0</td>\n",
       "    </tr>\n",
       "  </tbody>\n",
       "</table>\n",
       "<p>12291 rows × 10 columns</p>\n",
       "</div>"
      ],
      "text/plain": [
       "      st_abbreviation    2019    2020    2021    2022    2023   code  \\\n",
       "0                  AK  733374  732964  734923  733276  733406  ABICB   \n",
       "1                  AK  733374  732964  734923  733276  733406  ARICB   \n",
       "2                  AK  733374  732964  734923  733276  733406  ARTCB   \n",
       "3                  AK  733374  732964  734923  733276  733406  ARTXB   \n",
       "4                  AK  733374  732964  734923  733276  733406  AVACB   \n",
       "...               ...     ...     ...     ...     ...     ...    ...   \n",
       "12286              WY  576850  577664  579548  581629  584057  WYICB   \n",
       "12287              WY  576850  577664  579548  581629  584057  WYTCB   \n",
       "12288              WY  576850  577664  579548  581629  584057  WYTXB   \n",
       "12289              WY  576850  577664  579548  581629  584057  ZWCDP   \n",
       "12290              WY  576850  577664  579548  581629  584057  ZWHDP   \n",
       "\n",
       "       btu_2019  btu_2020  btu_2021  \n",
       "0         -10.0      -7.0      -8.0  \n",
       "1       11973.0   12391.0   13425.0  \n",
       "2       11973.0   12391.0   13425.0  \n",
       "3       11973.0   12391.0   13425.0  \n",
       "4        1245.0     915.0    1037.0  \n",
       "...         ...       ...       ...  \n",
       "12286       0.0       0.0       0.0  \n",
       "12287   37045.0   48329.0   74713.0  \n",
       "12288       0.0       0.0       0.0  \n",
       "12289     243.0     352.0     411.0  \n",
       "12290    8915.0    8079.0    7874.0  \n",
       "\n",
       "[12291 rows x 10 columns]"
      ]
     },
     "execution_count": 150,
     "metadata": {},
     "output_type": "execute_result"
    }
   ],
   "source": [
    "#import local csv with 2019 to 2021 population data (per state)\n",
    "#dataset was joined and cleaned with SQL postgres and exported for visuals to be created here\n",
    "df_pop = pd.read_csv(\"btu2019to2021export.csv\")\n",
    "df_pop"
   ]
  },
  {
   "cell_type": "code",
   "execution_count": 151,
   "id": "0c6685c2",
   "metadata": {},
   "outputs": [
    {
     "data": {
      "text/plain": [
       "array(['CLRCB', 'DFRCB', 'ESRCB', 'GERCB', 'HLRCB', 'KSRCB', 'LORCB',\n",
       "       'NGRCB', 'PARCB', 'PQRCB', 'RERCB', 'SFRCB', 'SORCB', 'TERCB',\n",
       "       'TNRCB', 'WDRCB'], dtype=object)"
      ]
     },
     "execution_count": 151,
     "metadata": {},
     "output_type": "execute_result"
    }
   ],
   "source": [
    "#RC is residential sector consumption\n",
    "#filter energy use codes by RC, to get residential use (btu per state)\n",
    "total_df_pop = df_pop[df_pop[\"code\"].str.match(\"[A-Z]{2}RC[A-Z]\")]\n",
    "total_df_pop[\"code\"].unique()"
   ]
  },
  {
   "cell_type": "code",
   "execution_count": 152,
   "id": "a8a1a8b7",
   "metadata": {},
   "outputs": [
    {
     "name": "stderr",
     "output_type": "stream",
     "text": [
      "/var/folders/sh/lh8_sldj2tj11k741sl2jpnm0000gn/T/ipykernel_49812/2846017607.py:2: SettingWithCopyWarning:\n",
      "\n",
      "\n",
      "A value is trying to be set on a copy of a slice from a DataFrame.\n",
      "Try using .loc[row_indexer,col_indexer] = value instead\n",
      "\n",
      "See the caveats in the documentation: https://pandas.pydata.org/pandas-docs/stable/user_guide/indexing.html#returning-a-view-versus-a-copy\n",
      "\n",
      "/var/folders/sh/lh8_sldj2tj11k741sl2jpnm0000gn/T/ipykernel_49812/2846017607.py:3: SettingWithCopyWarning:\n",
      "\n",
      "\n",
      "A value is trying to be set on a copy of a slice from a DataFrame.\n",
      "Try using .loc[row_indexer,col_indexer] = value instead\n",
      "\n",
      "See the caveats in the documentation: https://pandas.pydata.org/pandas-docs/stable/user_guide/indexing.html#returning-a-view-versus-a-copy\n",
      "\n",
      "/var/folders/sh/lh8_sldj2tj11k741sl2jpnm0000gn/T/ipykernel_49812/2846017607.py:4: SettingWithCopyWarning:\n",
      "\n",
      "\n",
      "A value is trying to be set on a copy of a slice from a DataFrame.\n",
      "Try using .loc[row_indexer,col_indexer] = value instead\n",
      "\n",
      "See the caveats in the documentation: https://pandas.pydata.org/pandas-docs/stable/user_guide/indexing.html#returning-a-view-versus-a-copy\n",
      "\n"
     ]
    },
    {
     "data": {
      "text/html": [
       "<div>\n",
       "<style scoped>\n",
       "    .dataframe tbody tr th:only-of-type {\n",
       "        vertical-align: middle;\n",
       "    }\n",
       "\n",
       "    .dataframe tbody tr th {\n",
       "        vertical-align: top;\n",
       "    }\n",
       "\n",
       "    .dataframe thead th {\n",
       "        text-align: right;\n",
       "    }\n",
       "</style>\n",
       "<table border=\"1\" class=\"dataframe\">\n",
       "  <thead>\n",
       "    <tr style=\"text-align: right;\">\n",
       "      <th></th>\n",
       "      <th>state</th>\n",
       "      <th>code</th>\n",
       "      <th>2019</th>\n",
       "      <th>2020</th>\n",
       "      <th>2021</th>\n",
       "    </tr>\n",
       "  </thead>\n",
       "  <tbody>\n",
       "    <tr>\n",
       "      <th>27</th>\n",
       "      <td>AK</td>\n",
       "      <td>CLRCB</td>\n",
       "      <td>0.000000</td>\n",
       "      <td>0.000000</td>\n",
       "      <td>0.000000</td>\n",
       "    </tr>\n",
       "    <tr>\n",
       "      <th>35</th>\n",
       "      <td>AK</td>\n",
       "      <td>DFRCB</td>\n",
       "      <td>0.008964</td>\n",
       "      <td>0.009728</td>\n",
       "      <td>0.009702</td>\n",
       "    </tr>\n",
       "    <tr>\n",
       "      <th>55</th>\n",
       "      <td>AK</td>\n",
       "      <td>ESRCB</td>\n",
       "      <td>0.008971</td>\n",
       "      <td>0.009725</td>\n",
       "      <td>0.009699</td>\n",
       "    </tr>\n",
       "    <tr>\n",
       "      <th>71</th>\n",
       "      <td>AK</td>\n",
       "      <td>GERCB</td>\n",
       "      <td>0.000138</td>\n",
       "      <td>0.000138</td>\n",
       "      <td>0.000137</td>\n",
       "    </tr>\n",
       "    <tr>\n",
       "      <th>77</th>\n",
       "      <td>AK</td>\n",
       "      <td>HLRCB</td>\n",
       "      <td>0.000543</td>\n",
       "      <td>0.000595</td>\n",
       "      <td>0.000593</td>\n",
       "    </tr>\n",
       "    <tr>\n",
       "      <th>...</th>\n",
       "      <td>...</td>\n",
       "      <td>...</td>\n",
       "      <td>...</td>\n",
       "      <td>...</td>\n",
       "      <td>...</td>\n",
       "    </tr>\n",
       "    <tr>\n",
       "      <th>12234</th>\n",
       "      <td>WY</td>\n",
       "      <td>SFRCB</td>\n",
       "      <td>0.000000</td>\n",
       "      <td>0.000000</td>\n",
       "      <td>0.000000</td>\n",
       "    </tr>\n",
       "    <tr>\n",
       "      <th>12242</th>\n",
       "      <td>WY</td>\n",
       "      <td>SORCB</td>\n",
       "      <td>0.000106</td>\n",
       "      <td>0.000158</td>\n",
       "      <td>0.000157</td>\n",
       "    </tr>\n",
       "    <tr>\n",
       "      <th>12252</th>\n",
       "      <td>WY</td>\n",
       "      <td>TERCB</td>\n",
       "      <td>0.093494</td>\n",
       "      <td>0.090598</td>\n",
       "      <td>0.090303</td>\n",
       "    </tr>\n",
       "    <tr>\n",
       "      <th>12261</th>\n",
       "      <td>WY</td>\n",
       "      <td>TNRCB</td>\n",
       "      <td>0.056933</td>\n",
       "      <td>0.053580</td>\n",
       "      <td>0.053405</td>\n",
       "    </tr>\n",
       "    <tr>\n",
       "      <th>12270</th>\n",
       "      <td>WY</td>\n",
       "      <td>WDRCB</td>\n",
       "      <td>0.007395</td>\n",
       "      <td>0.006850</td>\n",
       "      <td>0.006828</td>\n",
       "    </tr>\n",
       "  </tbody>\n",
       "</table>\n",
       "<p>816 rows × 5 columns</p>\n",
       "</div>"
      ],
      "text/plain": [
       "      state   code      2019      2020      2021\n",
       "27       AK  CLRCB  0.000000  0.000000  0.000000\n",
       "35       AK  DFRCB  0.008964  0.009728  0.009702\n",
       "55       AK  ESRCB  0.008971  0.009725  0.009699\n",
       "71       AK  GERCB  0.000138  0.000138  0.000137\n",
       "77       AK  HLRCB  0.000543  0.000595  0.000593\n",
       "...     ...    ...       ...       ...       ...\n",
       "12234    WY  SFRCB  0.000000  0.000000  0.000000\n",
       "12242    WY  SORCB  0.000106  0.000158  0.000157\n",
       "12252    WY  TERCB  0.093494  0.090598  0.090303\n",
       "12261    WY  TNRCB  0.056933  0.053580  0.053405\n",
       "12270    WY  WDRCB  0.007395  0.006850  0.006828\n",
       "\n",
       "[816 rows x 5 columns]"
      ]
     },
     "execution_count": 152,
     "metadata": {},
     "output_type": "execute_result"
    }
   ],
   "source": [
    "#calculating use per person, per year\n",
    "total_df_pop['2019pp']=total_df_pop['btu_2019']/total_df_pop['2019']\n",
    "total_df_pop['2020pp']=total_df_pop['btu_2020']/total_df_pop['2020']\n",
    "total_df_pop['2021pp']=total_df_pop['btu_2020']/total_df_pop['2021']\n",
    "\n",
    "#create new dataframe with only 2019 to 2021 BTU/person data\n",
    "df_covid = total_df_pop[['st_abbreviation','code','2019pp','2020pp','2021pp']]\n",
    "#rename columns for simplification \n",
    "df_covid.columns=['state','code','2019','2020','2021']\n",
    "df_covid"
   ]
  },
  {
   "cell_type": "code",
   "execution_count": 153,
   "id": "a212616d",
   "metadata": {},
   "outputs": [
    {
     "data": {
      "text/html": [
       "<div>\n",
       "<style scoped>\n",
       "    .dataframe tbody tr th:only-of-type {\n",
       "        vertical-align: middle;\n",
       "    }\n",
       "\n",
       "    .dataframe tbody tr th {\n",
       "        vertical-align: top;\n",
       "    }\n",
       "\n",
       "    .dataframe thead th {\n",
       "        text-align: right;\n",
       "    }\n",
       "</style>\n",
       "<table border=\"1\" class=\"dataframe\">\n",
       "  <thead>\n",
       "    <tr style=\"text-align: right;\">\n",
       "      <th></th>\n",
       "      <th>state</th>\n",
       "      <th>code</th>\n",
       "      <th>year</th>\n",
       "      <th>btu_per_person</th>\n",
       "    </tr>\n",
       "  </thead>\n",
       "  <tbody>\n",
       "    <tr>\n",
       "      <th>0</th>\n",
       "      <td>AK</td>\n",
       "      <td>CLRCB</td>\n",
       "      <td>2019</td>\n",
       "      <td>0.000000</td>\n",
       "    </tr>\n",
       "    <tr>\n",
       "      <th>1</th>\n",
       "      <td>AK</td>\n",
       "      <td>DFRCB</td>\n",
       "      <td>2019</td>\n",
       "      <td>0.008964</td>\n",
       "    </tr>\n",
       "    <tr>\n",
       "      <th>2</th>\n",
       "      <td>AK</td>\n",
       "      <td>ESRCB</td>\n",
       "      <td>2019</td>\n",
       "      <td>0.008971</td>\n",
       "    </tr>\n",
       "    <tr>\n",
       "      <th>3</th>\n",
       "      <td>AK</td>\n",
       "      <td>GERCB</td>\n",
       "      <td>2019</td>\n",
       "      <td>0.000138</td>\n",
       "    </tr>\n",
       "    <tr>\n",
       "      <th>4</th>\n",
       "      <td>AK</td>\n",
       "      <td>HLRCB</td>\n",
       "      <td>2019</td>\n",
       "      <td>0.000543</td>\n",
       "    </tr>\n",
       "    <tr>\n",
       "      <th>...</th>\n",
       "      <td>...</td>\n",
       "      <td>...</td>\n",
       "      <td>...</td>\n",
       "      <td>...</td>\n",
       "    </tr>\n",
       "    <tr>\n",
       "      <th>2443</th>\n",
       "      <td>WY</td>\n",
       "      <td>SFRCB</td>\n",
       "      <td>2021</td>\n",
       "      <td>0.000000</td>\n",
       "    </tr>\n",
       "    <tr>\n",
       "      <th>2444</th>\n",
       "      <td>WY</td>\n",
       "      <td>SORCB</td>\n",
       "      <td>2021</td>\n",
       "      <td>0.000157</td>\n",
       "    </tr>\n",
       "    <tr>\n",
       "      <th>2445</th>\n",
       "      <td>WY</td>\n",
       "      <td>TERCB</td>\n",
       "      <td>2021</td>\n",
       "      <td>0.090303</td>\n",
       "    </tr>\n",
       "    <tr>\n",
       "      <th>2446</th>\n",
       "      <td>WY</td>\n",
       "      <td>TNRCB</td>\n",
       "      <td>2021</td>\n",
       "      <td>0.053405</td>\n",
       "    </tr>\n",
       "    <tr>\n",
       "      <th>2447</th>\n",
       "      <td>WY</td>\n",
       "      <td>WDRCB</td>\n",
       "      <td>2021</td>\n",
       "      <td>0.006828</td>\n",
       "    </tr>\n",
       "  </tbody>\n",
       "</table>\n",
       "<p>2448 rows × 4 columns</p>\n",
       "</div>"
      ],
      "text/plain": [
       "     state   code  year  btu_per_person\n",
       "0       AK  CLRCB  2019        0.000000\n",
       "1       AK  DFRCB  2019        0.008964\n",
       "2       AK  ESRCB  2019        0.008971\n",
       "3       AK  GERCB  2019        0.000138\n",
       "4       AK  HLRCB  2019        0.000543\n",
       "...    ...    ...   ...             ...\n",
       "2443    WY  SFRCB  2021        0.000000\n",
       "2444    WY  SORCB  2021        0.000157\n",
       "2445    WY  TERCB  2021        0.090303\n",
       "2446    WY  TNRCB  2021        0.053405\n",
       "2447    WY  WDRCB  2021        0.006828\n",
       "\n",
       "[2448 rows x 4 columns]"
      ]
     },
     "execution_count": 153,
     "metadata": {},
     "output_type": "execute_result"
    }
   ],
   "source": [
    "#use melt method to assign years per column of btu entry\n",
    "#rearranging table will allow for plotting\n",
    "df_covid_new= df_covid.melt(id_vars=[\"state\", \"code\"], var_name=\"year\", value_name=\"btu_per_person\")\n",
    "df_covid_new"
   ]
  },
  {
   "cell_type": "code",
   "execution_count": 154,
   "id": "5ab4594d",
   "metadata": {},
   "outputs": [
    {
     "data": {
      "text/html": [
       "<div>\n",
       "<style scoped>\n",
       "    .dataframe tbody tr th:only-of-type {\n",
       "        vertical-align: middle;\n",
       "    }\n",
       "\n",
       "    .dataframe tbody tr th {\n",
       "        vertical-align: top;\n",
       "    }\n",
       "\n",
       "    .dataframe thead th {\n",
       "        text-align: right;\n",
       "    }\n",
       "</style>\n",
       "<table border=\"1\" class=\"dataframe\">\n",
       "  <thead>\n",
       "    <tr style=\"text-align: right;\">\n",
       "      <th></th>\n",
       "      <th>state</th>\n",
       "      <th>year</th>\n",
       "      <th>code</th>\n",
       "      <th>btu_per_person</th>\n",
       "    </tr>\n",
       "  </thead>\n",
       "  <tbody>\n",
       "    <tr>\n",
       "      <th>0</th>\n",
       "      <td>AK</td>\n",
       "      <td>2019</td>\n",
       "      <td>CLRCBDFRCBESRCBGERCBHLRCBKSRCBLORCBNGRCBPARCBP...</td>\n",
       "      <td>0.200405</td>\n",
       "    </tr>\n",
       "    <tr>\n",
       "      <th>1</th>\n",
       "      <td>AK</td>\n",
       "      <td>2020</td>\n",
       "      <td>CLRCBDFRCBESRCBGERCBHLRCBKSRCBLORCBNGRCBPARCBP...</td>\n",
       "      <td>0.224464</td>\n",
       "    </tr>\n",
       "    <tr>\n",
       "      <th>2</th>\n",
       "      <td>AK</td>\n",
       "      <td>2021</td>\n",
       "      <td>CLRCBDFRCBESRCBGERCBHLRCBKSRCBLORCBNGRCBPARCBP...</td>\n",
       "      <td>0.223866</td>\n",
       "    </tr>\n",
       "    <tr>\n",
       "      <th>3</th>\n",
       "      <td>AL</td>\n",
       "      <td>2019</td>\n",
       "      <td>CLRCBDFRCBESRCBGERCBHLRCBKSRCBLORCBNGRCBPARCBP...</td>\n",
       "      <td>0.171314</td>\n",
       "    </tr>\n",
       "    <tr>\n",
       "      <th>4</th>\n",
       "      <td>AL</td>\n",
       "      <td>2020</td>\n",
       "      <td>CLRCBDFRCBESRCBGERCBHLRCBKSRCBLORCBNGRCBPARCBP...</td>\n",
       "      <td>0.163031</td>\n",
       "    </tr>\n",
       "    <tr>\n",
       "      <th>...</th>\n",
       "      <td>...</td>\n",
       "      <td>...</td>\n",
       "      <td>...</td>\n",
       "      <td>...</td>\n",
       "    </tr>\n",
       "    <tr>\n",
       "      <th>148</th>\n",
       "      <td>WV</td>\n",
       "      <td>2020</td>\n",
       "      <td>CLRCBDFRCBESRCBGERCBHLRCBKSRCBLORCBNGRCBPARCBP...</td>\n",
       "      <td>0.220460</td>\n",
       "    </tr>\n",
       "    <tr>\n",
       "      <th>149</th>\n",
       "      <td>WV</td>\n",
       "      <td>2021</td>\n",
       "      <td>CLRCBDFRCBESRCBGERCBHLRCBKSRCBLORCBNGRCBPARCBP...</td>\n",
       "      <td>0.221240</td>\n",
       "    </tr>\n",
       "    <tr>\n",
       "      <th>150</th>\n",
       "      <td>WY</td>\n",
       "      <td>2019</td>\n",
       "      <td>CLRCBDFRCBESRCBGERCBHLRCBKSRCBLORCBNGRCBPARCBP...</td>\n",
       "      <td>0.263909</td>\n",
       "    </tr>\n",
       "    <tr>\n",
       "      <th>151</th>\n",
       "      <td>WY</td>\n",
       "      <td>2020</td>\n",
       "      <td>CLRCBDFRCBESRCBGERCBHLRCBKSRCBLORCBNGRCBPARCBP...</td>\n",
       "      <td>0.252394</td>\n",
       "    </tr>\n",
       "    <tr>\n",
       "      <th>152</th>\n",
       "      <td>WY</td>\n",
       "      <td>2021</td>\n",
       "      <td>CLRCBDFRCBESRCBGERCBHLRCBKSRCBLORCBNGRCBPARCBP...</td>\n",
       "      <td>0.251574</td>\n",
       "    </tr>\n",
       "  </tbody>\n",
       "</table>\n",
       "<p>153 rows × 4 columns</p>\n",
       "</div>"
      ],
      "text/plain": [
       "    state  year                                               code  \\\n",
       "0      AK  2019  CLRCBDFRCBESRCBGERCBHLRCBKSRCBLORCBNGRCBPARCBP...   \n",
       "1      AK  2020  CLRCBDFRCBESRCBGERCBHLRCBKSRCBLORCBNGRCBPARCBP...   \n",
       "2      AK  2021  CLRCBDFRCBESRCBGERCBHLRCBKSRCBLORCBNGRCBPARCBP...   \n",
       "3      AL  2019  CLRCBDFRCBESRCBGERCBHLRCBKSRCBLORCBNGRCBPARCBP...   \n",
       "4      AL  2020  CLRCBDFRCBESRCBGERCBHLRCBKSRCBLORCBNGRCBPARCBP...   \n",
       "..    ...   ...                                                ...   \n",
       "148    WV  2020  CLRCBDFRCBESRCBGERCBHLRCBKSRCBLORCBNGRCBPARCBP...   \n",
       "149    WV  2021  CLRCBDFRCBESRCBGERCBHLRCBKSRCBLORCBNGRCBPARCBP...   \n",
       "150    WY  2019  CLRCBDFRCBESRCBGERCBHLRCBKSRCBLORCBNGRCBPARCBP...   \n",
       "151    WY  2020  CLRCBDFRCBESRCBGERCBHLRCBKSRCBLORCBNGRCBPARCBP...   \n",
       "152    WY  2021  CLRCBDFRCBESRCBGERCBHLRCBKSRCBLORCBNGRCBPARCBP...   \n",
       "\n",
       "     btu_per_person  \n",
       "0          0.200405  \n",
       "1          0.224464  \n",
       "2          0.223866  \n",
       "3          0.171314  \n",
       "4          0.163031  \n",
       "..              ...  \n",
       "148        0.220460  \n",
       "149        0.221240  \n",
       "150        0.263909  \n",
       "151        0.252394  \n",
       "152        0.251574  \n",
       "\n",
       "[153 rows x 4 columns]"
      ]
     },
     "execution_count": 154,
     "metadata": {},
     "output_type": "execute_result"
    }
   ],
   "source": [
    "#sum residential energy use by state and year\n",
    "df_covid_grouped = df_covid_new.groupby([\"state\", \"year\"], as_index=False).sum()\n",
    "df_covid_grouped\n"
   ]
  },
  {
   "cell_type": "code",
   "execution_count": 155,
   "id": "03ecde1d",
   "metadata": {},
   "outputs": [],
   "source": [
    "df_covid_grouped.to_csv('covid_grouped.csv')"
   ]
  },
  {
   "cell_type": "code",
   "execution_count": 156,
   "id": "e5e03b42",
   "metadata": {
    "scrolled": true
   },
   "outputs": [
    {
     "data": {
      "application/vnd.plotly.v1+json": {
       "config": {
        "plotlyServerURL": "https://plot.ly"
       },
       "data": [
        {
         "alignmentgroup": "True",
         "hovertemplate": "state=%{x}<br>year=2019<br>btu_per_person=%{y}<extra></extra>",
         "legendgroup": "AK",
         "marker": {
          "color": "#636efa",
          "pattern": {
           "shape": ""
          }
         },
         "name": "AK",
         "offsetgroup": "AK",
         "orientation": "v",
         "showlegend": true,
         "textposition": "auto",
         "type": "bar",
         "x": [
          "AK"
         ],
         "xaxis": "x",
         "y": [
          0.20040525025430408
         ],
         "yaxis": "y"
        },
        {
         "alignmentgroup": "True",
         "hovertemplate": "state=%{x}<br>year=2019<br>btu_per_person=%{y}<extra></extra>",
         "legendgroup": "AL",
         "marker": {
          "color": "#EF553B",
          "pattern": {
           "shape": ""
          }
         },
         "name": "AL",
         "offsetgroup": "AL",
         "orientation": "v",
         "showlegend": true,
         "textposition": "auto",
         "type": "bar",
         "x": [
          "AL"
         ],
         "xaxis": "x",
         "y": [
          0.1713136213764561
         ],
         "yaxis": "y"
        },
        {
         "alignmentgroup": "True",
         "hovertemplate": "state=%{x}<br>year=2019<br>btu_per_person=%{y}<extra></extra>",
         "legendgroup": "AR",
         "marker": {
          "color": "#00cc96",
          "pattern": {
           "shape": ""
          }
         },
         "name": "AR",
         "offsetgroup": "AR",
         "orientation": "v",
         "showlegend": true,
         "textposition": "auto",
         "type": "bar",
         "x": [
          "AR"
         ],
         "xaxis": "x",
         "y": [
          0.19271921872561423
         ],
         "yaxis": "y"
        },
        {
         "alignmentgroup": "True",
         "hovertemplate": "state=%{x}<br>year=2019<br>btu_per_person=%{y}<extra></extra>",
         "legendgroup": "AZ",
         "marker": {
          "color": "#ab63fa",
          "pattern": {
           "shape": ""
          }
         },
         "name": "AZ",
         "offsetgroup": "AZ",
         "orientation": "v",
         "showlegend": true,
         "textposition": "auto",
         "type": "bar",
         "x": [
          "AZ"
         ],
         "xaxis": "x",
         "y": [
          0.14728421819689624
         ],
         "yaxis": "y"
        },
        {
         "alignmentgroup": "True",
         "hovertemplate": "state=%{x}<br>year=2019<br>btu_per_person=%{y}<extra></extra>",
         "legendgroup": "CA",
         "marker": {
          "color": "#FFA15A",
          "pattern": {
           "shape": ""
          }
         },
         "name": "CA",
         "offsetgroup": "CA",
         "orientation": "v",
         "showlegend": true,
         "textposition": "auto",
         "type": "bar",
         "x": [
          "CA"
         ],
         "xaxis": "x",
         "y": [
          0.10191315682155784
         ],
         "yaxis": "y"
        },
        {
         "alignmentgroup": "True",
         "hovertemplate": "state=%{x}<br>year=2019<br>btu_per_person=%{y}<extra></extra>",
         "legendgroup": "CO",
         "marker": {
          "color": "#19d3f3",
          "pattern": {
           "shape": ""
          }
         },
         "name": "CO",
         "offsetgroup": "CO",
         "orientation": "v",
         "showlegend": true,
         "textposition": "auto",
         "type": "bar",
         "x": [
          "CO"
         ],
         "xaxis": "x",
         "y": [
          0.18301552191685516
         ],
         "yaxis": "y"
        },
        {
         "alignmentgroup": "True",
         "hovertemplate": "state=%{x}<br>year=2019<br>btu_per_person=%{y}<extra></extra>",
         "legendgroup": "CT",
         "marker": {
          "color": "#FF6692",
          "pattern": {
           "shape": ""
          }
         },
         "name": "CT",
         "offsetgroup": "CT",
         "orientation": "v",
         "showlegend": true,
         "textposition": "auto",
         "type": "bar",
         "x": [
          "CT"
         ],
         "xaxis": "x",
         "y": [
          0.20233632989379663
         ],
         "yaxis": "y"
        },
        {
         "alignmentgroup": "True",
         "hovertemplate": "state=%{x}<br>year=2019<br>btu_per_person=%{y}<extra></extra>",
         "legendgroup": "DC",
         "marker": {
          "color": "#B6E880",
          "pattern": {
           "shape": ""
          }
         },
         "name": "DC",
         "offsetgroup": "DC",
         "orientation": "v",
         "showlegend": true,
         "textposition": "auto",
         "type": "bar",
         "x": [
          "DC"
         ],
         "xaxis": "x",
         "y": [
          0.14628423256974132
         ],
         "yaxis": "y"
        },
        {
         "alignmentgroup": "True",
         "hovertemplate": "state=%{x}<br>year=2019<br>btu_per_person=%{y}<extra></extra>",
         "legendgroup": "DE",
         "marker": {
          "color": "#FF97FF",
          "pattern": {
           "shape": ""
          }
         },
         "name": "DE",
         "offsetgroup": "DE",
         "orientation": "v",
         "showlegend": true,
         "textposition": "auto",
         "type": "bar",
         "x": [
          "DE"
         ],
         "xaxis": "x",
         "y": [
          0.1788875352797021
         ],
         "yaxis": "y"
        },
        {
         "alignmentgroup": "True",
         "hovertemplate": "state=%{x}<br>year=2019<br>btu_per_person=%{y}<extra></extra>",
         "legendgroup": "FL",
         "marker": {
          "color": "#FECB52",
          "pattern": {
           "shape": ""
          }
         },
         "name": "FL",
         "offsetgroup": "FL",
         "orientation": "v",
         "showlegend": true,
         "textposition": "auto",
         "type": "bar",
         "x": [
          "FL"
         ],
         "xaxis": "x",
         "y": [
          0.13532123551922778
         ],
         "yaxis": "y"
        },
        {
         "alignmentgroup": "True",
         "hovertemplate": "state=%{x}<br>year=2019<br>btu_per_person=%{y}<extra></extra>",
         "legendgroup": "GA",
         "marker": {
          "color": "#636efa",
          "pattern": {
           "shape": ""
          }
         },
         "name": "GA",
         "offsetgroup": "GA",
         "orientation": "v",
         "showlegend": true,
         "textposition": "auto",
         "type": "bar",
         "x": [
          "GA"
         ],
         "xaxis": "x",
         "y": [
          0.1675446488449305
         ],
         "yaxis": "y"
        },
        {
         "alignmentgroup": "True",
         "hovertemplate": "state=%{x}<br>year=2019<br>btu_per_person=%{y}<extra></extra>",
         "legendgroup": "HI",
         "marker": {
          "color": "#EF553B",
          "pattern": {
           "shape": ""
          }
         },
         "name": "HI",
         "offsetgroup": "HI",
         "orientation": "v",
         "showlegend": true,
         "textposition": "auto",
         "type": "bar",
         "x": [
          "HI"
         ],
         "xaxis": "x",
         "y": [
          0.0667262659815265
         ],
         "yaxis": "y"
        },
        {
         "alignmentgroup": "True",
         "hovertemplate": "state=%{x}<br>year=2019<br>btu_per_person=%{y}<extra></extra>",
         "legendgroup": "IA",
         "marker": {
          "color": "#00cc96",
          "pattern": {
           "shape": ""
          }
         },
         "name": "IA",
         "offsetgroup": "IA",
         "orientation": "v",
         "showlegend": true,
         "textposition": "auto",
         "type": "bar",
         "x": [
          "IA"
         ],
         "xaxis": "x",
         "y": [
          0.22379606240794728
         ],
         "yaxis": "y"
        },
        {
         "alignmentgroup": "True",
         "hovertemplate": "state=%{x}<br>year=2019<br>btu_per_person=%{y}<extra></extra>",
         "legendgroup": "ID",
         "marker": {
          "color": "#ab63fa",
          "pattern": {
           "shape": ""
          }
         },
         "name": "ID",
         "offsetgroup": "ID",
         "orientation": "v",
         "showlegend": true,
         "textposition": "auto",
         "type": "bar",
         "x": [
          "ID"
         ],
         "xaxis": "x",
         "y": [
          0.20939178964687946
         ],
         "yaxis": "y"
        },
        {
         "alignmentgroup": "True",
         "hovertemplate": "state=%{x}<br>year=2019<br>btu_per_person=%{y}<extra></extra>",
         "legendgroup": "IL",
         "marker": {
          "color": "#FFA15A",
          "pattern": {
           "shape": ""
          }
         },
         "name": "IL",
         "offsetgroup": "IL",
         "orientation": "v",
         "showlegend": true,
         "textposition": "auto",
         "type": "bar",
         "x": [
          "IL"
         ],
         "xaxis": "x",
         "y": [
          0.2074648169047742
         ],
         "yaxis": "y"
        },
        {
         "alignmentgroup": "True",
         "hovertemplate": "state=%{x}<br>year=2019<br>btu_per_person=%{y}<extra></extra>",
         "legendgroup": "IN",
         "marker": {
          "color": "#19d3f3",
          "pattern": {
           "shape": ""
          }
         },
         "name": "IN",
         "offsetgroup": "IN",
         "orientation": "v",
         "showlegend": true,
         "textposition": "auto",
         "type": "bar",
         "x": [
          "IN"
         ],
         "xaxis": "x",
         "y": [
          0.20907112609613346
         ],
         "yaxis": "y"
        },
        {
         "alignmentgroup": "True",
         "hovertemplate": "state=%{x}<br>year=2019<br>btu_per_person=%{y}<extra></extra>",
         "legendgroup": "KS",
         "marker": {
          "color": "#FF6692",
          "pattern": {
           "shape": ""
          }
         },
         "name": "KS",
         "offsetgroup": "KS",
         "orientation": "v",
         "showlegend": true,
         "textposition": "auto",
         "type": "bar",
         "x": [
          "KS"
         ],
         "xaxis": "x",
         "y": [
          0.20860361456650903
         ],
         "yaxis": "y"
        },
        {
         "alignmentgroup": "True",
         "hovertemplate": "state=%{x}<br>year=2019<br>btu_per_person=%{y}<extra></extra>",
         "legendgroup": "KY",
         "marker": {
          "color": "#B6E880",
          "pattern": {
           "shape": ""
          }
         },
         "name": "KY",
         "offsetgroup": "KY",
         "orientation": "v",
         "showlegend": true,
         "textposition": "auto",
         "type": "bar",
         "x": [
          "KY"
         ],
         "xaxis": "x",
         "y": [
          0.19913401180614593
         ],
         "yaxis": "y"
        },
        {
         "alignmentgroup": "True",
         "hovertemplate": "state=%{x}<br>year=2019<br>btu_per_person=%{y}<extra></extra>",
         "legendgroup": "LA",
         "marker": {
          "color": "#FF97FF",
          "pattern": {
           "shape": ""
          }
         },
         "name": "LA",
         "offsetgroup": "LA",
         "orientation": "v",
         "showlegend": true,
         "textposition": "auto",
         "type": "bar",
         "x": [
          "LA"
         ],
         "xaxis": "x",
         "y": [
          0.17014117225247624
         ],
         "yaxis": "y"
        },
        {
         "alignmentgroup": "True",
         "hovertemplate": "state=%{x}<br>year=2019<br>btu_per_person=%{y}<extra></extra>",
         "legendgroup": "MA",
         "marker": {
          "color": "#FECB52",
          "pattern": {
           "shape": ""
          }
         },
         "name": "MA",
         "offsetgroup": "MA",
         "orientation": "v",
         "showlegend": true,
         "textposition": "auto",
         "type": "bar",
         "x": [
          "MA"
         ],
         "xaxis": "x",
         "y": [
          0.1833174011468615
         ],
         "yaxis": "y"
        },
        {
         "alignmentgroup": "True",
         "hovertemplate": "state=%{x}<br>year=2019<br>btu_per_person=%{y}<extra></extra>",
         "legendgroup": "MD",
         "marker": {
          "color": "#636efa",
          "pattern": {
           "shape": ""
          }
         },
         "name": "MD",
         "offsetgroup": "MD",
         "orientation": "v",
         "showlegend": true,
         "textposition": "auto",
         "type": "bar",
         "x": [
          "MD"
         ],
         "xaxis": "x",
         "y": [
          0.16747800357213796
         ],
         "yaxis": "y"
        },
        {
         "alignmentgroup": "True",
         "hovertemplate": "state=%{x}<br>year=2019<br>btu_per_person=%{y}<extra></extra>",
         "legendgroup": "ME",
         "marker": {
          "color": "#EF553B",
          "pattern": {
           "shape": ""
          }
         },
         "name": "ME",
         "offsetgroup": "ME",
         "orientation": "v",
         "showlegend": true,
         "textposition": "auto",
         "type": "bar",
         "x": [
          "ME"
         ],
         "xaxis": "x",
         "y": [
          0.2682417617081274
         ],
         "yaxis": "y"
        },
        {
         "alignmentgroup": "True",
         "hovertemplate": "state=%{x}<br>year=2019<br>btu_per_person=%{y}<extra></extra>",
         "legendgroup": "MI",
         "marker": {
          "color": "#00cc96",
          "pattern": {
           "shape": ""
          }
         },
         "name": "MI",
         "offsetgroup": "MI",
         "orientation": "v",
         "showlegend": true,
         "textposition": "auto",
         "type": "bar",
         "x": [
          "MI"
         ],
         "xaxis": "x",
         "y": [
          0.22383498414415867
         ],
         "yaxis": "y"
        },
        {
         "alignmentgroup": "True",
         "hovertemplate": "state=%{x}<br>year=2019<br>btu_per_person=%{y}<extra></extra>",
         "legendgroup": "MN",
         "marker": {
          "color": "#ab63fa",
          "pattern": {
           "shape": ""
          }
         },
         "name": "MN",
         "offsetgroup": "MN",
         "orientation": "v",
         "showlegend": true,
         "textposition": "auto",
         "type": "bar",
         "x": [
          "MN"
         ],
         "xaxis": "x",
         "y": [
          0.21200237470920677
         ],
         "yaxis": "y"
        },
        {
         "alignmentgroup": "True",
         "hovertemplate": "state=%{x}<br>year=2019<br>btu_per_person=%{y}<extra></extra>",
         "legendgroup": "MO",
         "marker": {
          "color": "#FFA15A",
          "pattern": {
           "shape": ""
          }
         },
         "name": "MO",
         "offsetgroup": "MO",
         "orientation": "v",
         "showlegend": true,
         "textposition": "auto",
         "type": "bar",
         "x": [
          "MO"
         ],
         "xaxis": "x",
         "y": [
          0.2271618545842175
         ],
         "yaxis": "y"
        },
        {
         "alignmentgroup": "True",
         "hovertemplate": "state=%{x}<br>year=2019<br>btu_per_person=%{y}<extra></extra>",
         "legendgroup": "MS",
         "marker": {
          "color": "#19d3f3",
          "pattern": {
           "shape": ""
          }
         },
         "name": "MS",
         "offsetgroup": "MS",
         "orientation": "v",
         "showlegend": true,
         "textposition": "auto",
         "type": "bar",
         "x": [
          "MS"
         ],
         "xaxis": "x",
         "y": [
          0.16943605287666996
         ],
         "yaxis": "y"
        },
        {
         "alignmentgroup": "True",
         "hovertemplate": "state=%{x}<br>year=2019<br>btu_per_person=%{y}<extra></extra>",
         "legendgroup": "MT",
         "marker": {
          "color": "#FF6692",
          "pattern": {
           "shape": ""
          }
         },
         "name": "MT",
         "offsetgroup": "MT",
         "orientation": "v",
         "showlegend": true,
         "textposition": "auto",
         "type": "bar",
         "x": [
          "MT"
         ],
         "xaxis": "x",
         "y": [
          0.2884692006596301
         ],
         "yaxis": "y"
        },
        {
         "alignmentgroup": "True",
         "hovertemplate": "state=%{x}<br>year=2019<br>btu_per_person=%{y}<extra></extra>",
         "legendgroup": "NC",
         "marker": {
          "color": "#B6E880",
          "pattern": {
           "shape": ""
          }
         },
         "name": "NC",
         "offsetgroup": "NC",
         "orientation": "v",
         "showlegend": true,
         "textposition": "auto",
         "type": "bar",
         "x": [
          "NC"
         ],
         "xaxis": "x",
         "y": [
          0.16797776589763896
         ],
         "yaxis": "y"
        },
        {
         "alignmentgroup": "True",
         "hovertemplate": "state=%{x}<br>year=2019<br>btu_per_person=%{y}<extra></extra>",
         "legendgroup": "ND",
         "marker": {
          "color": "#FF97FF",
          "pattern": {
           "shape": ""
          }
         },
         "name": "ND",
         "offsetgroup": "ND",
         "orientation": "v",
         "showlegend": true,
         "textposition": "auto",
         "type": "bar",
         "x": [
          "ND"
         ],
         "xaxis": "x",
         "y": [
          0.2814361573088223
         ],
         "yaxis": "y"
        },
        {
         "alignmentgroup": "True",
         "hovertemplate": "state=%{x}<br>year=2019<br>btu_per_person=%{y}<extra></extra>",
         "legendgroup": "NE",
         "marker": {
          "color": "#FECB52",
          "pattern": {
           "shape": ""
          }
         },
         "name": "NE",
         "offsetgroup": "NE",
         "orientation": "v",
         "showlegend": true,
         "textposition": "auto",
         "type": "bar",
         "x": [
          "NE"
         ],
         "xaxis": "x",
         "y": [
          0.2290438412509907
         ],
         "yaxis": "y"
        },
        {
         "alignmentgroup": "True",
         "hovertemplate": "state=%{x}<br>year=2019<br>btu_per_person=%{y}<extra></extra>",
         "legendgroup": "NH",
         "marker": {
          "color": "#636efa",
          "pattern": {
           "shape": ""
          }
         },
         "name": "NH",
         "offsetgroup": "NH",
         "orientation": "v",
         "showlegend": true,
         "textposition": "auto",
         "type": "bar",
         "x": [
          "NH"
         ],
         "xaxis": "x",
         "y": [
          0.2504871058507874
         ],
         "yaxis": "y"
        },
        {
         "alignmentgroup": "True",
         "hovertemplate": "state=%{x}<br>year=2019<br>btu_per_person=%{y}<extra></extra>",
         "legendgroup": "NJ",
         "marker": {
          "color": "#EF553B",
          "pattern": {
           "shape": ""
          }
         },
         "name": "NJ",
         "offsetgroup": "NJ",
         "orientation": "v",
         "showlegend": true,
         "textposition": "auto",
         "type": "bar",
         "x": [
          "NJ"
         ],
         "xaxis": "x",
         "y": [
          0.16834766222856853
         ],
         "yaxis": "y"
        },
        {
         "alignmentgroup": "True",
         "hovertemplate": "state=%{x}<br>year=2019<br>btu_per_person=%{y}<extra></extra>",
         "legendgroup": "NM",
         "marker": {
          "color": "#00cc96",
          "pattern": {
           "shape": ""
          }
         },
         "name": "NM",
         "offsetgroup": "NM",
         "orientation": "v",
         "showlegend": true,
         "textposition": "auto",
         "type": "bar",
         "x": [
          "NM"
         ],
         "xaxis": "x",
         "y": [
          0.17807818089514882
         ],
         "yaxis": "y"
        },
        {
         "alignmentgroup": "True",
         "hovertemplate": "state=%{x}<br>year=2019<br>btu_per_person=%{y}<extra></extra>",
         "legendgroup": "NV",
         "marker": {
          "color": "#ab63fa",
          "pattern": {
           "shape": ""
          }
         },
         "name": "NV",
         "offsetgroup": "NV",
         "orientation": "v",
         "showlegend": true,
         "textposition": "auto",
         "type": "bar",
         "x": [
          "NV"
         ],
         "xaxis": "x",
         "y": [
          0.15074484227845172
         ],
         "yaxis": "y"
        },
        {
         "alignmentgroup": "True",
         "hovertemplate": "state=%{x}<br>year=2019<br>btu_per_person=%{y}<extra></extra>",
         "legendgroup": "NY",
         "marker": {
          "color": "#FFA15A",
          "pattern": {
           "shape": ""
          }
         },
         "name": "NY",
         "offsetgroup": "NY",
         "orientation": "v",
         "showlegend": true,
         "textposition": "auto",
         "type": "bar",
         "x": [
          "NY"
         ],
         "xaxis": "x",
         "y": [
          0.16502589801567344
         ],
         "yaxis": "y"
        },
        {
         "alignmentgroup": "True",
         "hovertemplate": "state=%{x}<br>year=2019<br>btu_per_person=%{y}<extra></extra>",
         "legendgroup": "OH",
         "marker": {
          "color": "#19d3f3",
          "pattern": {
           "shape": ""
          }
         },
         "name": "OH",
         "offsetgroup": "OH",
         "orientation": "v",
         "showlegend": true,
         "textposition": "auto",
         "type": "bar",
         "x": [
          "OH"
         ],
         "xaxis": "x",
         "y": [
          0.20008871689420357
         ],
         "yaxis": "y"
        },
        {
         "alignmentgroup": "True",
         "hovertemplate": "state=%{x}<br>year=2019<br>btu_per_person=%{y}<extra></extra>",
         "legendgroup": "OK",
         "marker": {
          "color": "#FF6692",
          "pattern": {
           "shape": ""
          }
         },
         "name": "OK",
         "offsetgroup": "OK",
         "orientation": "v",
         "showlegend": true,
         "textposition": "auto",
         "type": "bar",
         "x": [
          "OK"
         ],
         "xaxis": "x",
         "y": [
          0.19804334533596032
         ],
         "yaxis": "y"
        },
        {
         "alignmentgroup": "True",
         "hovertemplate": "state=%{x}<br>year=2019<br>btu_per_person=%{y}<extra></extra>",
         "legendgroup": "OR",
         "marker": {
          "color": "#B6E880",
          "pattern": {
           "shape": ""
          }
         },
         "name": "OR",
         "offsetgroup": "OR",
         "orientation": "v",
         "showlegend": true,
         "textposition": "auto",
         "type": "bar",
         "x": [
          "OR"
         ],
         "xaxis": "x",
         "y": [
          0.16521876421165566
         ],
         "yaxis": "y"
        },
        {
         "alignmentgroup": "True",
         "hovertemplate": "state=%{x}<br>year=2019<br>btu_per_person=%{y}<extra></extra>",
         "legendgroup": "PA",
         "marker": {
          "color": "#FF97FF",
          "pattern": {
           "shape": ""
          }
         },
         "name": "PA",
         "offsetgroup": "PA",
         "orientation": "v",
         "showlegend": true,
         "textposition": "auto",
         "type": "bar",
         "x": [
          "PA"
         ],
         "xaxis": "x",
         "y": [
          0.19214102390964152
         ],
         "yaxis": "y"
        },
        {
         "alignmentgroup": "True",
         "hovertemplate": "state=%{x}<br>year=2019<br>btu_per_person=%{y}<extra></extra>",
         "legendgroup": "RI",
         "marker": {
          "color": "#FECB52",
          "pattern": {
           "shape": ""
          }
         },
         "name": "RI",
         "offsetgroup": "RI",
         "orientation": "v",
         "showlegend": true,
         "textposition": "auto",
         "type": "bar",
         "x": [
          "RI"
         ],
         "xaxis": "x",
         "y": [
          0.16947231155188172
         ],
         "yaxis": "y"
        },
        {
         "alignmentgroup": "True",
         "hovertemplate": "state=%{x}<br>year=2019<br>btu_per_person=%{y}<extra></extra>",
         "legendgroup": "SC",
         "marker": {
          "color": "#636efa",
          "pattern": {
           "shape": ""
          }
         },
         "name": "SC",
         "offsetgroup": "SC",
         "orientation": "v",
         "showlegend": true,
         "textposition": "auto",
         "type": "bar",
         "x": [
          "SC"
         ],
         "xaxis": "x",
         "y": [
          0.17449694456611822
         ],
         "yaxis": "y"
        },
        {
         "alignmentgroup": "True",
         "hovertemplate": "state=%{x}<br>year=2019<br>btu_per_person=%{y}<extra></extra>",
         "legendgroup": "SD",
         "marker": {
          "color": "#EF553B",
          "pattern": {
           "shape": ""
          }
         },
         "name": "SD",
         "offsetgroup": "SD",
         "orientation": "v",
         "showlegend": true,
         "textposition": "auto",
         "type": "bar",
         "x": [
          "SD"
         ],
         "xaxis": "x",
         "y": [
          0.23235077841988208
         ],
         "yaxis": "y"
        },
        {
         "alignmentgroup": "True",
         "hovertemplate": "state=%{x}<br>year=2019<br>btu_per_person=%{y}<extra></extra>",
         "legendgroup": "TN",
         "marker": {
          "color": "#00cc96",
          "pattern": {
           "shape": ""
          }
         },
         "name": "TN",
         "offsetgroup": "TN",
         "orientation": "v",
         "showlegend": true,
         "textposition": "auto",
         "type": "bar",
         "x": [
          "TN"
         ],
         "xaxis": "x",
         "y": [
          0.1891369520051699
         ],
         "yaxis": "y"
        },
        {
         "alignmentgroup": "True",
         "hovertemplate": "state=%{x}<br>year=2019<br>btu_per_person=%{y}<extra></extra>",
         "legendgroup": "TX",
         "marker": {
          "color": "#ab63fa",
          "pattern": {
           "shape": ""
          }
         },
         "name": "TX",
         "offsetgroup": "TX",
         "orientation": "v",
         "showlegend": true,
         "textposition": "auto",
         "type": "bar",
         "x": [
          "TX"
         ],
         "xaxis": "x",
         "y": [
          0.15061965570691477
         ],
         "yaxis": "y"
        },
        {
         "alignmentgroup": "True",
         "hovertemplate": "state=%{x}<br>year=2019<br>btu_per_person=%{y}<extra></extra>",
         "legendgroup": "UT",
         "marker": {
          "color": "#FFA15A",
          "pattern": {
           "shape": ""
          }
         },
         "name": "UT",
         "offsetgroup": "UT",
         "orientation": "v",
         "showlegend": true,
         "textposition": "auto",
         "type": "bar",
         "x": [
          "UT"
         ],
         "xaxis": "x",
         "y": [
          0.15685407875134413
         ],
         "yaxis": "y"
        },
        {
         "alignmentgroup": "True",
         "hovertemplate": "state=%{x}<br>year=2019<br>btu_per_person=%{y}<extra></extra>",
         "legendgroup": "VA",
         "marker": {
          "color": "#19d3f3",
          "pattern": {
           "shape": ""
          }
         },
         "name": "VA",
         "offsetgroup": "VA",
         "orientation": "v",
         "showlegend": true,
         "textposition": "auto",
         "type": "bar",
         "x": [
          "VA"
         ],
         "xaxis": "x",
         "y": [
          0.1711092777475843
         ],
         "yaxis": "y"
        },
        {
         "alignmentgroup": "True",
         "hovertemplate": "state=%{x}<br>year=2019<br>btu_per_person=%{y}<extra></extra>",
         "legendgroup": "VT",
         "marker": {
          "color": "#FF6692",
          "pattern": {
           "shape": ""
          }
         },
         "name": "VT",
         "offsetgroup": "VT",
         "orientation": "v",
         "showlegend": true,
         "textposition": "auto",
         "type": "bar",
         "x": [
          "VT"
         ],
         "xaxis": "x",
         "y": [
          0.2847575018232653
         ],
         "yaxis": "y"
        },
        {
         "alignmentgroup": "True",
         "hovertemplate": "state=%{x}<br>year=2019<br>btu_per_person=%{y}<extra></extra>",
         "legendgroup": "WA",
         "marker": {
          "color": "#B6E880",
          "pattern": {
           "shape": ""
          }
         },
         "name": "WA",
         "offsetgroup": "WA",
         "orientation": "v",
         "showlegend": true,
         "textposition": "auto",
         "type": "bar",
         "x": [
          "WA"
         ],
         "xaxis": "x",
         "y": [
          0.17173486655296955
         ],
         "yaxis": "y"
        },
        {
         "alignmentgroup": "True",
         "hovertemplate": "state=%{x}<br>year=2019<br>btu_per_person=%{y}<extra></extra>",
         "legendgroup": "WI",
         "marker": {
          "color": "#FF97FF",
          "pattern": {
           "shape": ""
          }
         },
         "name": "WI",
         "offsetgroup": "WI",
         "orientation": "v",
         "showlegend": true,
         "textposition": "auto",
         "type": "bar",
         "x": [
          "WI"
         ],
         "xaxis": "x",
         "y": [
          0.22016681165167018
         ],
         "yaxis": "y"
        },
        {
         "alignmentgroup": "True",
         "hovertemplate": "state=%{x}<br>year=2019<br>btu_per_person=%{y}<extra></extra>",
         "legendgroup": "WV",
         "marker": {
          "color": "#FECB52",
          "pattern": {
           "shape": ""
          }
         },
         "name": "WV",
         "offsetgroup": "WV",
         "orientation": "v",
         "showlegend": true,
         "textposition": "auto",
         "type": "bar",
         "x": [
          "WV"
         ],
         "xaxis": "x",
         "y": [
          0.22738587499783966
         ],
         "yaxis": "y"
        },
        {
         "alignmentgroup": "True",
         "hovertemplate": "state=%{x}<br>year=2019<br>btu_per_person=%{y}<extra></extra>",
         "legendgroup": "WY",
         "marker": {
          "color": "#636efa",
          "pattern": {
           "shape": ""
          }
         },
         "name": "WY",
         "offsetgroup": "WY",
         "orientation": "v",
         "showlegend": true,
         "textposition": "auto",
         "type": "bar",
         "x": [
          "WY"
         ],
         "xaxis": "x",
         "y": [
          0.2639091618271648
         ],
         "yaxis": "y"
        }
       ],
       "frames": [
        {
         "data": [
          {
           "alignmentgroup": "True",
           "hovertemplate": "state=%{x}<br>year=2019<br>btu_per_person=%{y}<extra></extra>",
           "legendgroup": "AK",
           "marker": {
            "color": "#636efa",
            "pattern": {
             "shape": ""
            }
           },
           "name": "AK",
           "offsetgroup": "AK",
           "orientation": "v",
           "showlegend": true,
           "textposition": "auto",
           "type": "bar",
           "x": [
            "AK"
           ],
           "xaxis": "x",
           "y": [
            0.20040525025430408
           ],
           "yaxis": "y"
          },
          {
           "alignmentgroup": "True",
           "hovertemplate": "state=%{x}<br>year=2019<br>btu_per_person=%{y}<extra></extra>",
           "legendgroup": "AL",
           "marker": {
            "color": "#EF553B",
            "pattern": {
             "shape": ""
            }
           },
           "name": "AL",
           "offsetgroup": "AL",
           "orientation": "v",
           "showlegend": true,
           "textposition": "auto",
           "type": "bar",
           "x": [
            "AL"
           ],
           "xaxis": "x",
           "y": [
            0.1713136213764561
           ],
           "yaxis": "y"
          },
          {
           "alignmentgroup": "True",
           "hovertemplate": "state=%{x}<br>year=2019<br>btu_per_person=%{y}<extra></extra>",
           "legendgroup": "AR",
           "marker": {
            "color": "#00cc96",
            "pattern": {
             "shape": ""
            }
           },
           "name": "AR",
           "offsetgroup": "AR",
           "orientation": "v",
           "showlegend": true,
           "textposition": "auto",
           "type": "bar",
           "x": [
            "AR"
           ],
           "xaxis": "x",
           "y": [
            0.19271921872561423
           ],
           "yaxis": "y"
          },
          {
           "alignmentgroup": "True",
           "hovertemplate": "state=%{x}<br>year=2019<br>btu_per_person=%{y}<extra></extra>",
           "legendgroup": "AZ",
           "marker": {
            "color": "#ab63fa",
            "pattern": {
             "shape": ""
            }
           },
           "name": "AZ",
           "offsetgroup": "AZ",
           "orientation": "v",
           "showlegend": true,
           "textposition": "auto",
           "type": "bar",
           "x": [
            "AZ"
           ],
           "xaxis": "x",
           "y": [
            0.14728421819689624
           ],
           "yaxis": "y"
          },
          {
           "alignmentgroup": "True",
           "hovertemplate": "state=%{x}<br>year=2019<br>btu_per_person=%{y}<extra></extra>",
           "legendgroup": "CA",
           "marker": {
            "color": "#FFA15A",
            "pattern": {
             "shape": ""
            }
           },
           "name": "CA",
           "offsetgroup": "CA",
           "orientation": "v",
           "showlegend": true,
           "textposition": "auto",
           "type": "bar",
           "x": [
            "CA"
           ],
           "xaxis": "x",
           "y": [
            0.10191315682155784
           ],
           "yaxis": "y"
          },
          {
           "alignmentgroup": "True",
           "hovertemplate": "state=%{x}<br>year=2019<br>btu_per_person=%{y}<extra></extra>",
           "legendgroup": "CO",
           "marker": {
            "color": "#19d3f3",
            "pattern": {
             "shape": ""
            }
           },
           "name": "CO",
           "offsetgroup": "CO",
           "orientation": "v",
           "showlegend": true,
           "textposition": "auto",
           "type": "bar",
           "x": [
            "CO"
           ],
           "xaxis": "x",
           "y": [
            0.18301552191685516
           ],
           "yaxis": "y"
          },
          {
           "alignmentgroup": "True",
           "hovertemplate": "state=%{x}<br>year=2019<br>btu_per_person=%{y}<extra></extra>",
           "legendgroup": "CT",
           "marker": {
            "color": "#FF6692",
            "pattern": {
             "shape": ""
            }
           },
           "name": "CT",
           "offsetgroup": "CT",
           "orientation": "v",
           "showlegend": true,
           "textposition": "auto",
           "type": "bar",
           "x": [
            "CT"
           ],
           "xaxis": "x",
           "y": [
            0.20233632989379663
           ],
           "yaxis": "y"
          },
          {
           "alignmentgroup": "True",
           "hovertemplate": "state=%{x}<br>year=2019<br>btu_per_person=%{y}<extra></extra>",
           "legendgroup": "DC",
           "marker": {
            "color": "#B6E880",
            "pattern": {
             "shape": ""
            }
           },
           "name": "DC",
           "offsetgroup": "DC",
           "orientation": "v",
           "showlegend": true,
           "textposition": "auto",
           "type": "bar",
           "x": [
            "DC"
           ],
           "xaxis": "x",
           "y": [
            0.14628423256974132
           ],
           "yaxis": "y"
          },
          {
           "alignmentgroup": "True",
           "hovertemplate": "state=%{x}<br>year=2019<br>btu_per_person=%{y}<extra></extra>",
           "legendgroup": "DE",
           "marker": {
            "color": "#FF97FF",
            "pattern": {
             "shape": ""
            }
           },
           "name": "DE",
           "offsetgroup": "DE",
           "orientation": "v",
           "showlegend": true,
           "textposition": "auto",
           "type": "bar",
           "x": [
            "DE"
           ],
           "xaxis": "x",
           "y": [
            0.1788875352797021
           ],
           "yaxis": "y"
          },
          {
           "alignmentgroup": "True",
           "hovertemplate": "state=%{x}<br>year=2019<br>btu_per_person=%{y}<extra></extra>",
           "legendgroup": "FL",
           "marker": {
            "color": "#FECB52",
            "pattern": {
             "shape": ""
            }
           },
           "name": "FL",
           "offsetgroup": "FL",
           "orientation": "v",
           "showlegend": true,
           "textposition": "auto",
           "type": "bar",
           "x": [
            "FL"
           ],
           "xaxis": "x",
           "y": [
            0.13532123551922778
           ],
           "yaxis": "y"
          },
          {
           "alignmentgroup": "True",
           "hovertemplate": "state=%{x}<br>year=2019<br>btu_per_person=%{y}<extra></extra>",
           "legendgroup": "GA",
           "marker": {
            "color": "#636efa",
            "pattern": {
             "shape": ""
            }
           },
           "name": "GA",
           "offsetgroup": "GA",
           "orientation": "v",
           "showlegend": true,
           "textposition": "auto",
           "type": "bar",
           "x": [
            "GA"
           ],
           "xaxis": "x",
           "y": [
            0.1675446488449305
           ],
           "yaxis": "y"
          },
          {
           "alignmentgroup": "True",
           "hovertemplate": "state=%{x}<br>year=2019<br>btu_per_person=%{y}<extra></extra>",
           "legendgroup": "HI",
           "marker": {
            "color": "#EF553B",
            "pattern": {
             "shape": ""
            }
           },
           "name": "HI",
           "offsetgroup": "HI",
           "orientation": "v",
           "showlegend": true,
           "textposition": "auto",
           "type": "bar",
           "x": [
            "HI"
           ],
           "xaxis": "x",
           "y": [
            0.0667262659815265
           ],
           "yaxis": "y"
          },
          {
           "alignmentgroup": "True",
           "hovertemplate": "state=%{x}<br>year=2019<br>btu_per_person=%{y}<extra></extra>",
           "legendgroup": "IA",
           "marker": {
            "color": "#00cc96",
            "pattern": {
             "shape": ""
            }
           },
           "name": "IA",
           "offsetgroup": "IA",
           "orientation": "v",
           "showlegend": true,
           "textposition": "auto",
           "type": "bar",
           "x": [
            "IA"
           ],
           "xaxis": "x",
           "y": [
            0.22379606240794728
           ],
           "yaxis": "y"
          },
          {
           "alignmentgroup": "True",
           "hovertemplate": "state=%{x}<br>year=2019<br>btu_per_person=%{y}<extra></extra>",
           "legendgroup": "ID",
           "marker": {
            "color": "#ab63fa",
            "pattern": {
             "shape": ""
            }
           },
           "name": "ID",
           "offsetgroup": "ID",
           "orientation": "v",
           "showlegend": true,
           "textposition": "auto",
           "type": "bar",
           "x": [
            "ID"
           ],
           "xaxis": "x",
           "y": [
            0.20939178964687946
           ],
           "yaxis": "y"
          },
          {
           "alignmentgroup": "True",
           "hovertemplate": "state=%{x}<br>year=2019<br>btu_per_person=%{y}<extra></extra>",
           "legendgroup": "IL",
           "marker": {
            "color": "#FFA15A",
            "pattern": {
             "shape": ""
            }
           },
           "name": "IL",
           "offsetgroup": "IL",
           "orientation": "v",
           "showlegend": true,
           "textposition": "auto",
           "type": "bar",
           "x": [
            "IL"
           ],
           "xaxis": "x",
           "y": [
            0.2074648169047742
           ],
           "yaxis": "y"
          },
          {
           "alignmentgroup": "True",
           "hovertemplate": "state=%{x}<br>year=2019<br>btu_per_person=%{y}<extra></extra>",
           "legendgroup": "IN",
           "marker": {
            "color": "#19d3f3",
            "pattern": {
             "shape": ""
            }
           },
           "name": "IN",
           "offsetgroup": "IN",
           "orientation": "v",
           "showlegend": true,
           "textposition": "auto",
           "type": "bar",
           "x": [
            "IN"
           ],
           "xaxis": "x",
           "y": [
            0.20907112609613346
           ],
           "yaxis": "y"
          },
          {
           "alignmentgroup": "True",
           "hovertemplate": "state=%{x}<br>year=2019<br>btu_per_person=%{y}<extra></extra>",
           "legendgroup": "KS",
           "marker": {
            "color": "#FF6692",
            "pattern": {
             "shape": ""
            }
           },
           "name": "KS",
           "offsetgroup": "KS",
           "orientation": "v",
           "showlegend": true,
           "textposition": "auto",
           "type": "bar",
           "x": [
            "KS"
           ],
           "xaxis": "x",
           "y": [
            0.20860361456650903
           ],
           "yaxis": "y"
          },
          {
           "alignmentgroup": "True",
           "hovertemplate": "state=%{x}<br>year=2019<br>btu_per_person=%{y}<extra></extra>",
           "legendgroup": "KY",
           "marker": {
            "color": "#B6E880",
            "pattern": {
             "shape": ""
            }
           },
           "name": "KY",
           "offsetgroup": "KY",
           "orientation": "v",
           "showlegend": true,
           "textposition": "auto",
           "type": "bar",
           "x": [
            "KY"
           ],
           "xaxis": "x",
           "y": [
            0.19913401180614593
           ],
           "yaxis": "y"
          },
          {
           "alignmentgroup": "True",
           "hovertemplate": "state=%{x}<br>year=2019<br>btu_per_person=%{y}<extra></extra>",
           "legendgroup": "LA",
           "marker": {
            "color": "#FF97FF",
            "pattern": {
             "shape": ""
            }
           },
           "name": "LA",
           "offsetgroup": "LA",
           "orientation": "v",
           "showlegend": true,
           "textposition": "auto",
           "type": "bar",
           "x": [
            "LA"
           ],
           "xaxis": "x",
           "y": [
            0.17014117225247624
           ],
           "yaxis": "y"
          },
          {
           "alignmentgroup": "True",
           "hovertemplate": "state=%{x}<br>year=2019<br>btu_per_person=%{y}<extra></extra>",
           "legendgroup": "MA",
           "marker": {
            "color": "#FECB52",
            "pattern": {
             "shape": ""
            }
           },
           "name": "MA",
           "offsetgroup": "MA",
           "orientation": "v",
           "showlegend": true,
           "textposition": "auto",
           "type": "bar",
           "x": [
            "MA"
           ],
           "xaxis": "x",
           "y": [
            0.1833174011468615
           ],
           "yaxis": "y"
          },
          {
           "alignmentgroup": "True",
           "hovertemplate": "state=%{x}<br>year=2019<br>btu_per_person=%{y}<extra></extra>",
           "legendgroup": "MD",
           "marker": {
            "color": "#636efa",
            "pattern": {
             "shape": ""
            }
           },
           "name": "MD",
           "offsetgroup": "MD",
           "orientation": "v",
           "showlegend": true,
           "textposition": "auto",
           "type": "bar",
           "x": [
            "MD"
           ],
           "xaxis": "x",
           "y": [
            0.16747800357213796
           ],
           "yaxis": "y"
          },
          {
           "alignmentgroup": "True",
           "hovertemplate": "state=%{x}<br>year=2019<br>btu_per_person=%{y}<extra></extra>",
           "legendgroup": "ME",
           "marker": {
            "color": "#EF553B",
            "pattern": {
             "shape": ""
            }
           },
           "name": "ME",
           "offsetgroup": "ME",
           "orientation": "v",
           "showlegend": true,
           "textposition": "auto",
           "type": "bar",
           "x": [
            "ME"
           ],
           "xaxis": "x",
           "y": [
            0.2682417617081274
           ],
           "yaxis": "y"
          },
          {
           "alignmentgroup": "True",
           "hovertemplate": "state=%{x}<br>year=2019<br>btu_per_person=%{y}<extra></extra>",
           "legendgroup": "MI",
           "marker": {
            "color": "#00cc96",
            "pattern": {
             "shape": ""
            }
           },
           "name": "MI",
           "offsetgroup": "MI",
           "orientation": "v",
           "showlegend": true,
           "textposition": "auto",
           "type": "bar",
           "x": [
            "MI"
           ],
           "xaxis": "x",
           "y": [
            0.22383498414415867
           ],
           "yaxis": "y"
          },
          {
           "alignmentgroup": "True",
           "hovertemplate": "state=%{x}<br>year=2019<br>btu_per_person=%{y}<extra></extra>",
           "legendgroup": "MN",
           "marker": {
            "color": "#ab63fa",
            "pattern": {
             "shape": ""
            }
           },
           "name": "MN",
           "offsetgroup": "MN",
           "orientation": "v",
           "showlegend": true,
           "textposition": "auto",
           "type": "bar",
           "x": [
            "MN"
           ],
           "xaxis": "x",
           "y": [
            0.21200237470920677
           ],
           "yaxis": "y"
          },
          {
           "alignmentgroup": "True",
           "hovertemplate": "state=%{x}<br>year=2019<br>btu_per_person=%{y}<extra></extra>",
           "legendgroup": "MO",
           "marker": {
            "color": "#FFA15A",
            "pattern": {
             "shape": ""
            }
           },
           "name": "MO",
           "offsetgroup": "MO",
           "orientation": "v",
           "showlegend": true,
           "textposition": "auto",
           "type": "bar",
           "x": [
            "MO"
           ],
           "xaxis": "x",
           "y": [
            0.2271618545842175
           ],
           "yaxis": "y"
          },
          {
           "alignmentgroup": "True",
           "hovertemplate": "state=%{x}<br>year=2019<br>btu_per_person=%{y}<extra></extra>",
           "legendgroup": "MS",
           "marker": {
            "color": "#19d3f3",
            "pattern": {
             "shape": ""
            }
           },
           "name": "MS",
           "offsetgroup": "MS",
           "orientation": "v",
           "showlegend": true,
           "textposition": "auto",
           "type": "bar",
           "x": [
            "MS"
           ],
           "xaxis": "x",
           "y": [
            0.16943605287666996
           ],
           "yaxis": "y"
          },
          {
           "alignmentgroup": "True",
           "hovertemplate": "state=%{x}<br>year=2019<br>btu_per_person=%{y}<extra></extra>",
           "legendgroup": "MT",
           "marker": {
            "color": "#FF6692",
            "pattern": {
             "shape": ""
            }
           },
           "name": "MT",
           "offsetgroup": "MT",
           "orientation": "v",
           "showlegend": true,
           "textposition": "auto",
           "type": "bar",
           "x": [
            "MT"
           ],
           "xaxis": "x",
           "y": [
            0.2884692006596301
           ],
           "yaxis": "y"
          },
          {
           "alignmentgroup": "True",
           "hovertemplate": "state=%{x}<br>year=2019<br>btu_per_person=%{y}<extra></extra>",
           "legendgroup": "NC",
           "marker": {
            "color": "#B6E880",
            "pattern": {
             "shape": ""
            }
           },
           "name": "NC",
           "offsetgroup": "NC",
           "orientation": "v",
           "showlegend": true,
           "textposition": "auto",
           "type": "bar",
           "x": [
            "NC"
           ],
           "xaxis": "x",
           "y": [
            0.16797776589763896
           ],
           "yaxis": "y"
          },
          {
           "alignmentgroup": "True",
           "hovertemplate": "state=%{x}<br>year=2019<br>btu_per_person=%{y}<extra></extra>",
           "legendgroup": "ND",
           "marker": {
            "color": "#FF97FF",
            "pattern": {
             "shape": ""
            }
           },
           "name": "ND",
           "offsetgroup": "ND",
           "orientation": "v",
           "showlegend": true,
           "textposition": "auto",
           "type": "bar",
           "x": [
            "ND"
           ],
           "xaxis": "x",
           "y": [
            0.2814361573088223
           ],
           "yaxis": "y"
          },
          {
           "alignmentgroup": "True",
           "hovertemplate": "state=%{x}<br>year=2019<br>btu_per_person=%{y}<extra></extra>",
           "legendgroup": "NE",
           "marker": {
            "color": "#FECB52",
            "pattern": {
             "shape": ""
            }
           },
           "name": "NE",
           "offsetgroup": "NE",
           "orientation": "v",
           "showlegend": true,
           "textposition": "auto",
           "type": "bar",
           "x": [
            "NE"
           ],
           "xaxis": "x",
           "y": [
            0.2290438412509907
           ],
           "yaxis": "y"
          },
          {
           "alignmentgroup": "True",
           "hovertemplate": "state=%{x}<br>year=2019<br>btu_per_person=%{y}<extra></extra>",
           "legendgroup": "NH",
           "marker": {
            "color": "#636efa",
            "pattern": {
             "shape": ""
            }
           },
           "name": "NH",
           "offsetgroup": "NH",
           "orientation": "v",
           "showlegend": true,
           "textposition": "auto",
           "type": "bar",
           "x": [
            "NH"
           ],
           "xaxis": "x",
           "y": [
            0.2504871058507874
           ],
           "yaxis": "y"
          },
          {
           "alignmentgroup": "True",
           "hovertemplate": "state=%{x}<br>year=2019<br>btu_per_person=%{y}<extra></extra>",
           "legendgroup": "NJ",
           "marker": {
            "color": "#EF553B",
            "pattern": {
             "shape": ""
            }
           },
           "name": "NJ",
           "offsetgroup": "NJ",
           "orientation": "v",
           "showlegend": true,
           "textposition": "auto",
           "type": "bar",
           "x": [
            "NJ"
           ],
           "xaxis": "x",
           "y": [
            0.16834766222856853
           ],
           "yaxis": "y"
          },
          {
           "alignmentgroup": "True",
           "hovertemplate": "state=%{x}<br>year=2019<br>btu_per_person=%{y}<extra></extra>",
           "legendgroup": "NM",
           "marker": {
            "color": "#00cc96",
            "pattern": {
             "shape": ""
            }
           },
           "name": "NM",
           "offsetgroup": "NM",
           "orientation": "v",
           "showlegend": true,
           "textposition": "auto",
           "type": "bar",
           "x": [
            "NM"
           ],
           "xaxis": "x",
           "y": [
            0.17807818089514882
           ],
           "yaxis": "y"
          },
          {
           "alignmentgroup": "True",
           "hovertemplate": "state=%{x}<br>year=2019<br>btu_per_person=%{y}<extra></extra>",
           "legendgroup": "NV",
           "marker": {
            "color": "#ab63fa",
            "pattern": {
             "shape": ""
            }
           },
           "name": "NV",
           "offsetgroup": "NV",
           "orientation": "v",
           "showlegend": true,
           "textposition": "auto",
           "type": "bar",
           "x": [
            "NV"
           ],
           "xaxis": "x",
           "y": [
            0.15074484227845172
           ],
           "yaxis": "y"
          },
          {
           "alignmentgroup": "True",
           "hovertemplate": "state=%{x}<br>year=2019<br>btu_per_person=%{y}<extra></extra>",
           "legendgroup": "NY",
           "marker": {
            "color": "#FFA15A",
            "pattern": {
             "shape": ""
            }
           },
           "name": "NY",
           "offsetgroup": "NY",
           "orientation": "v",
           "showlegend": true,
           "textposition": "auto",
           "type": "bar",
           "x": [
            "NY"
           ],
           "xaxis": "x",
           "y": [
            0.16502589801567344
           ],
           "yaxis": "y"
          },
          {
           "alignmentgroup": "True",
           "hovertemplate": "state=%{x}<br>year=2019<br>btu_per_person=%{y}<extra></extra>",
           "legendgroup": "OH",
           "marker": {
            "color": "#19d3f3",
            "pattern": {
             "shape": ""
            }
           },
           "name": "OH",
           "offsetgroup": "OH",
           "orientation": "v",
           "showlegend": true,
           "textposition": "auto",
           "type": "bar",
           "x": [
            "OH"
           ],
           "xaxis": "x",
           "y": [
            0.20008871689420357
           ],
           "yaxis": "y"
          },
          {
           "alignmentgroup": "True",
           "hovertemplate": "state=%{x}<br>year=2019<br>btu_per_person=%{y}<extra></extra>",
           "legendgroup": "OK",
           "marker": {
            "color": "#FF6692",
            "pattern": {
             "shape": ""
            }
           },
           "name": "OK",
           "offsetgroup": "OK",
           "orientation": "v",
           "showlegend": true,
           "textposition": "auto",
           "type": "bar",
           "x": [
            "OK"
           ],
           "xaxis": "x",
           "y": [
            0.19804334533596032
           ],
           "yaxis": "y"
          },
          {
           "alignmentgroup": "True",
           "hovertemplate": "state=%{x}<br>year=2019<br>btu_per_person=%{y}<extra></extra>",
           "legendgroup": "OR",
           "marker": {
            "color": "#B6E880",
            "pattern": {
             "shape": ""
            }
           },
           "name": "OR",
           "offsetgroup": "OR",
           "orientation": "v",
           "showlegend": true,
           "textposition": "auto",
           "type": "bar",
           "x": [
            "OR"
           ],
           "xaxis": "x",
           "y": [
            0.16521876421165566
           ],
           "yaxis": "y"
          },
          {
           "alignmentgroup": "True",
           "hovertemplate": "state=%{x}<br>year=2019<br>btu_per_person=%{y}<extra></extra>",
           "legendgroup": "PA",
           "marker": {
            "color": "#FF97FF",
            "pattern": {
             "shape": ""
            }
           },
           "name": "PA",
           "offsetgroup": "PA",
           "orientation": "v",
           "showlegend": true,
           "textposition": "auto",
           "type": "bar",
           "x": [
            "PA"
           ],
           "xaxis": "x",
           "y": [
            0.19214102390964152
           ],
           "yaxis": "y"
          },
          {
           "alignmentgroup": "True",
           "hovertemplate": "state=%{x}<br>year=2019<br>btu_per_person=%{y}<extra></extra>",
           "legendgroup": "RI",
           "marker": {
            "color": "#FECB52",
            "pattern": {
             "shape": ""
            }
           },
           "name": "RI",
           "offsetgroup": "RI",
           "orientation": "v",
           "showlegend": true,
           "textposition": "auto",
           "type": "bar",
           "x": [
            "RI"
           ],
           "xaxis": "x",
           "y": [
            0.16947231155188172
           ],
           "yaxis": "y"
          },
          {
           "alignmentgroup": "True",
           "hovertemplate": "state=%{x}<br>year=2019<br>btu_per_person=%{y}<extra></extra>",
           "legendgroup": "SC",
           "marker": {
            "color": "#636efa",
            "pattern": {
             "shape": ""
            }
           },
           "name": "SC",
           "offsetgroup": "SC",
           "orientation": "v",
           "showlegend": true,
           "textposition": "auto",
           "type": "bar",
           "x": [
            "SC"
           ],
           "xaxis": "x",
           "y": [
            0.17449694456611822
           ],
           "yaxis": "y"
          },
          {
           "alignmentgroup": "True",
           "hovertemplate": "state=%{x}<br>year=2019<br>btu_per_person=%{y}<extra></extra>",
           "legendgroup": "SD",
           "marker": {
            "color": "#EF553B",
            "pattern": {
             "shape": ""
            }
           },
           "name": "SD",
           "offsetgroup": "SD",
           "orientation": "v",
           "showlegend": true,
           "textposition": "auto",
           "type": "bar",
           "x": [
            "SD"
           ],
           "xaxis": "x",
           "y": [
            0.23235077841988208
           ],
           "yaxis": "y"
          },
          {
           "alignmentgroup": "True",
           "hovertemplate": "state=%{x}<br>year=2019<br>btu_per_person=%{y}<extra></extra>",
           "legendgroup": "TN",
           "marker": {
            "color": "#00cc96",
            "pattern": {
             "shape": ""
            }
           },
           "name": "TN",
           "offsetgroup": "TN",
           "orientation": "v",
           "showlegend": true,
           "textposition": "auto",
           "type": "bar",
           "x": [
            "TN"
           ],
           "xaxis": "x",
           "y": [
            0.1891369520051699
           ],
           "yaxis": "y"
          },
          {
           "alignmentgroup": "True",
           "hovertemplate": "state=%{x}<br>year=2019<br>btu_per_person=%{y}<extra></extra>",
           "legendgroup": "TX",
           "marker": {
            "color": "#ab63fa",
            "pattern": {
             "shape": ""
            }
           },
           "name": "TX",
           "offsetgroup": "TX",
           "orientation": "v",
           "showlegend": true,
           "textposition": "auto",
           "type": "bar",
           "x": [
            "TX"
           ],
           "xaxis": "x",
           "y": [
            0.15061965570691477
           ],
           "yaxis": "y"
          },
          {
           "alignmentgroup": "True",
           "hovertemplate": "state=%{x}<br>year=2019<br>btu_per_person=%{y}<extra></extra>",
           "legendgroup": "UT",
           "marker": {
            "color": "#FFA15A",
            "pattern": {
             "shape": ""
            }
           },
           "name": "UT",
           "offsetgroup": "UT",
           "orientation": "v",
           "showlegend": true,
           "textposition": "auto",
           "type": "bar",
           "x": [
            "UT"
           ],
           "xaxis": "x",
           "y": [
            0.15685407875134413
           ],
           "yaxis": "y"
          },
          {
           "alignmentgroup": "True",
           "hovertemplate": "state=%{x}<br>year=2019<br>btu_per_person=%{y}<extra></extra>",
           "legendgroup": "VA",
           "marker": {
            "color": "#19d3f3",
            "pattern": {
             "shape": ""
            }
           },
           "name": "VA",
           "offsetgroup": "VA",
           "orientation": "v",
           "showlegend": true,
           "textposition": "auto",
           "type": "bar",
           "x": [
            "VA"
           ],
           "xaxis": "x",
           "y": [
            0.1711092777475843
           ],
           "yaxis": "y"
          },
          {
           "alignmentgroup": "True",
           "hovertemplate": "state=%{x}<br>year=2019<br>btu_per_person=%{y}<extra></extra>",
           "legendgroup": "VT",
           "marker": {
            "color": "#FF6692",
            "pattern": {
             "shape": ""
            }
           },
           "name": "VT",
           "offsetgroup": "VT",
           "orientation": "v",
           "showlegend": true,
           "textposition": "auto",
           "type": "bar",
           "x": [
            "VT"
           ],
           "xaxis": "x",
           "y": [
            0.2847575018232653
           ],
           "yaxis": "y"
          },
          {
           "alignmentgroup": "True",
           "hovertemplate": "state=%{x}<br>year=2019<br>btu_per_person=%{y}<extra></extra>",
           "legendgroup": "WA",
           "marker": {
            "color": "#B6E880",
            "pattern": {
             "shape": ""
            }
           },
           "name": "WA",
           "offsetgroup": "WA",
           "orientation": "v",
           "showlegend": true,
           "textposition": "auto",
           "type": "bar",
           "x": [
            "WA"
           ],
           "xaxis": "x",
           "y": [
            0.17173486655296955
           ],
           "yaxis": "y"
          },
          {
           "alignmentgroup": "True",
           "hovertemplate": "state=%{x}<br>year=2019<br>btu_per_person=%{y}<extra></extra>",
           "legendgroup": "WI",
           "marker": {
            "color": "#FF97FF",
            "pattern": {
             "shape": ""
            }
           },
           "name": "WI",
           "offsetgroup": "WI",
           "orientation": "v",
           "showlegend": true,
           "textposition": "auto",
           "type": "bar",
           "x": [
            "WI"
           ],
           "xaxis": "x",
           "y": [
            0.22016681165167018
           ],
           "yaxis": "y"
          },
          {
           "alignmentgroup": "True",
           "hovertemplate": "state=%{x}<br>year=2019<br>btu_per_person=%{y}<extra></extra>",
           "legendgroup": "WV",
           "marker": {
            "color": "#FECB52",
            "pattern": {
             "shape": ""
            }
           },
           "name": "WV",
           "offsetgroup": "WV",
           "orientation": "v",
           "showlegend": true,
           "textposition": "auto",
           "type": "bar",
           "x": [
            "WV"
           ],
           "xaxis": "x",
           "y": [
            0.22738587499783966
           ],
           "yaxis": "y"
          },
          {
           "alignmentgroup": "True",
           "hovertemplate": "state=%{x}<br>year=2019<br>btu_per_person=%{y}<extra></extra>",
           "legendgroup": "WY",
           "marker": {
            "color": "#636efa",
            "pattern": {
             "shape": ""
            }
           },
           "name": "WY",
           "offsetgroup": "WY",
           "orientation": "v",
           "showlegend": true,
           "textposition": "auto",
           "type": "bar",
           "x": [
            "WY"
           ],
           "xaxis": "x",
           "y": [
            0.2639091618271648
           ],
           "yaxis": "y"
          }
         ],
         "name": "2019"
        },
        {
         "data": [
          {
           "alignmentgroup": "True",
           "hovertemplate": "state=%{x}<br>year=2020<br>btu_per_person=%{y}<extra></extra>",
           "legendgroup": "AK",
           "marker": {
            "color": "#636efa",
            "pattern": {
             "shape": ""
            }
           },
           "name": "AK",
           "offsetgroup": "AK",
           "orientation": "v",
           "showlegend": true,
           "textposition": "auto",
           "type": "bar",
           "x": [
            "AK"
           ],
           "xaxis": "x",
           "y": [
            0.22446395730213217
           ],
           "yaxis": "y"
          },
          {
           "alignmentgroup": "True",
           "hovertemplate": "state=%{x}<br>year=2020<br>btu_per_person=%{y}<extra></extra>",
           "legendgroup": "AL",
           "marker": {
            "color": "#EF553B",
            "pattern": {
             "shape": ""
            }
           },
           "name": "AL",
           "offsetgroup": "AL",
           "orientation": "v",
           "showlegend": true,
           "textposition": "auto",
           "type": "bar",
           "x": [
            "AL"
           ],
           "xaxis": "x",
           "y": [
            0.16303103581495842
           ],
           "yaxis": "y"
          },
          {
           "alignmentgroup": "True",
           "hovertemplate": "state=%{x}<br>year=2020<br>btu_per_person=%{y}<extra></extra>",
           "legendgroup": "AR",
           "marker": {
            "color": "#00cc96",
            "pattern": {
             "shape": ""
            }
           },
           "name": "AR",
           "offsetgroup": "AR",
           "orientation": "v",
           "showlegend": true,
           "textposition": "auto",
           "type": "bar",
           "x": [
            "AR"
           ],
           "xaxis": "x",
           "y": [
            0.18270418677604577
           ],
           "yaxis": "y"
          },
          {
           "alignmentgroup": "True",
           "hovertemplate": "state=%{x}<br>year=2020<br>btu_per_person=%{y}<extra></extra>",
           "legendgroup": "AZ",
           "marker": {
            "color": "#ab63fa",
            "pattern": {
             "shape": ""
            }
           },
           "name": "AZ",
           "offsetgroup": "AZ",
           "orientation": "v",
           "showlegend": true,
           "textposition": "auto",
           "type": "bar",
           "x": [
            "AZ"
           ],
           "xaxis": "x",
           "y": [
            0.15640998775095546
           ],
           "yaxis": "y"
          },
          {
           "alignmentgroup": "True",
           "hovertemplate": "state=%{x}<br>year=2020<br>btu_per_person=%{y}<extra></extra>",
           "legendgroup": "CA",
           "marker": {
            "color": "#FFA15A",
            "pattern": {
             "shape": ""
            }
           },
           "name": "CA",
           "offsetgroup": "CA",
           "orientation": "v",
           "showlegend": true,
           "textposition": "auto",
           "type": "bar",
           "x": [
            "CA"
           ],
           "xaxis": "x",
           "y": [
            0.10522699426881874
           ],
           "yaxis": "y"
          },
          {
           "alignmentgroup": "True",
           "hovertemplate": "state=%{x}<br>year=2020<br>btu_per_person=%{y}<extra></extra>",
           "legendgroup": "CO",
           "marker": {
            "color": "#19d3f3",
            "pattern": {
             "shape": ""
            }
           },
           "name": "CO",
           "offsetgroup": "CO",
           "orientation": "v",
           "showlegend": true,
           "textposition": "auto",
           "type": "bar",
           "x": [
            "CO"
           ],
           "xaxis": "x",
           "y": [
            0.1794486950277941
           ],
           "yaxis": "y"
          },
          {
           "alignmentgroup": "True",
           "hovertemplate": "state=%{x}<br>year=2020<br>btu_per_person=%{y}<extra></extra>",
           "legendgroup": "CT",
           "marker": {
            "color": "#FF6692",
            "pattern": {
             "shape": ""
            }
           },
           "name": "CT",
           "offsetgroup": "CT",
           "orientation": "v",
           "showlegend": true,
           "textposition": "auto",
           "type": "bar",
           "x": [
            "CT"
           ],
           "xaxis": "x",
           "y": [
            0.19282834850091654
           ],
           "yaxis": "y"
          },
          {
           "alignmentgroup": "True",
           "hovertemplate": "state=%{x}<br>year=2020<br>btu_per_person=%{y}<extra></extra>",
           "legendgroup": "DC",
           "marker": {
            "color": "#B6E880",
            "pattern": {
             "shape": ""
            }
           },
           "name": "DC",
           "offsetgroup": "DC",
           "orientation": "v",
           "showlegend": true,
           "textposition": "auto",
           "type": "bar",
           "x": [
            "DC"
           ],
           "xaxis": "x",
           "y": [
            0.14097570355927427
           ],
           "yaxis": "y"
          },
          {
           "alignmentgroup": "True",
           "hovertemplate": "state=%{x}<br>year=2020<br>btu_per_person=%{y}<extra></extra>",
           "legendgroup": "DE",
           "marker": {
            "color": "#FF97FF",
            "pattern": {
             "shape": ""
            }
           },
           "name": "DE",
           "offsetgroup": "DE",
           "orientation": "v",
           "showlegend": true,
           "textposition": "auto",
           "type": "bar",
           "x": [
            "DE"
           ],
           "xaxis": "x",
           "y": [
            0.1694429265361512
           ],
           "yaxis": "y"
          },
          {
           "alignmentgroup": "True",
           "hovertemplate": "state=%{x}<br>year=2020<br>btu_per_person=%{y}<extra></extra>",
           "legendgroup": "FL",
           "marker": {
            "color": "#FECB52",
            "pattern": {
             "shape": ""
            }
           },
           "name": "FL",
           "offsetgroup": "FL",
           "orientation": "v",
           "showlegend": true,
           "textposition": "auto",
           "type": "bar",
           "x": [
            "FL"
           ],
           "xaxis": "x",
           "y": [
            0.1396272174267977
           ],
           "yaxis": "y"
          },
          {
           "alignmentgroup": "True",
           "hovertemplate": "state=%{x}<br>year=2020<br>btu_per_person=%{y}<extra></extra>",
           "legendgroup": "GA",
           "marker": {
            "color": "#636efa",
            "pattern": {
             "shape": ""
            }
           },
           "name": "GA",
           "offsetgroup": "GA",
           "orientation": "v",
           "showlegend": true,
           "textposition": "auto",
           "type": "bar",
           "x": [
            "GA"
           ],
           "xaxis": "x",
           "y": [
            0.16154202372444534
           ],
           "yaxis": "y"
          },
          {
           "alignmentgroup": "True",
           "hovertemplate": "state=%{x}<br>year=2020<br>btu_per_person=%{y}<extra></extra>",
           "legendgroup": "HI",
           "marker": {
            "color": "#EF553B",
            "pattern": {
             "shape": ""
            }
           },
           "name": "HI",
           "offsetgroup": "HI",
           "orientation": "v",
           "showlegend": true,
           "textposition": "auto",
           "type": "bar",
           "x": [
            "HI"
           ],
           "xaxis": "x",
           "y": [
            0.07093257147109837
           ],
           "yaxis": "y"
          },
          {
           "alignmentgroup": "True",
           "hovertemplate": "state=%{x}<br>year=2020<br>btu_per_person=%{y}<extra></extra>",
           "legendgroup": "IA",
           "marker": {
            "color": "#00cc96",
            "pattern": {
             "shape": ""
            }
           },
           "name": "IA",
           "offsetgroup": "IA",
           "orientation": "v",
           "showlegend": true,
           "textposition": "auto",
           "type": "bar",
           "x": [
            "IA"
           ],
           "xaxis": "x",
           "y": [
            0.21128495247741708
           ],
           "yaxis": "y"
          },
          {
           "alignmentgroup": "True",
           "hovertemplate": "state=%{x}<br>year=2020<br>btu_per_person=%{y}<extra></extra>",
           "legendgroup": "ID",
           "marker": {
            "color": "#ab63fa",
            "pattern": {
             "shape": ""
            }
           },
           "name": "ID",
           "offsetgroup": "ID",
           "orientation": "v",
           "showlegend": true,
           "textposition": "auto",
           "type": "bar",
           "x": [
            "ID"
           ],
           "xaxis": "x",
           "y": [
            0.19970108238673384
           ],
           "yaxis": "y"
          },
          {
           "alignmentgroup": "True",
           "hovertemplate": "state=%{x}<br>year=2020<br>btu_per_person=%{y}<extra></extra>",
           "legendgroup": "IL",
           "marker": {
            "color": "#FFA15A",
            "pattern": {
             "shape": ""
            }
           },
           "name": "IL",
           "offsetgroup": "IL",
           "orientation": "v",
           "showlegend": true,
           "textposition": "auto",
           "type": "bar",
           "x": [
            "IL"
           ],
           "xaxis": "x",
           "y": [
            0.19973992907312907
           ],
           "yaxis": "y"
          },
          {
           "alignmentgroup": "True",
           "hovertemplate": "state=%{x}<br>year=2020<br>btu_per_person=%{y}<extra></extra>",
           "legendgroup": "IN",
           "marker": {
            "color": "#19d3f3",
            "pattern": {
             "shape": ""
            }
           },
           "name": "IN",
           "offsetgroup": "IN",
           "orientation": "v",
           "showlegend": true,
           "textposition": "auto",
           "type": "bar",
           "x": [
            "IN"
           ],
           "xaxis": "x",
           "y": [
            0.19967438973483664
           ],
           "yaxis": "y"
          },
          {
           "alignmentgroup": "True",
           "hovertemplate": "state=%{x}<br>year=2020<br>btu_per_person=%{y}<extra></extra>",
           "legendgroup": "KS",
           "marker": {
            "color": "#FF6692",
            "pattern": {
             "shape": ""
            }
           },
           "name": "KS",
           "offsetgroup": "KS",
           "orientation": "v",
           "showlegend": true,
           "textposition": "auto",
           "type": "bar",
           "x": [
            "KS"
           ],
           "xaxis": "x",
           "y": [
            0.19735756557585726
           ],
           "yaxis": "y"
          },
          {
           "alignmentgroup": "True",
           "hovertemplate": "state=%{x}<br>year=2020<br>btu_per_person=%{y}<extra></extra>",
           "legendgroup": "KY",
           "marker": {
            "color": "#B6E880",
            "pattern": {
             "shape": ""
            }
           },
           "name": "KY",
           "offsetgroup": "KY",
           "orientation": "v",
           "showlegend": true,
           "textposition": "auto",
           "type": "bar",
           "x": [
            "KY"
           ],
           "xaxis": "x",
           "y": [
            0.1860774529713375
           ],
           "yaxis": "y"
          },
          {
           "alignmentgroup": "True",
           "hovertemplate": "state=%{x}<br>year=2020<br>btu_per_person=%{y}<extra></extra>",
           "legendgroup": "LA",
           "marker": {
            "color": "#FF97FF",
            "pattern": {
             "shape": ""
            }
           },
           "name": "LA",
           "offsetgroup": "LA",
           "orientation": "v",
           "showlegend": true,
           "textposition": "auto",
           "type": "bar",
           "x": [
            "LA"
           ],
           "xaxis": "x",
           "y": [
            0.16172408470983154
           ],
           "yaxis": "y"
          },
          {
           "alignmentgroup": "True",
           "hovertemplate": "state=%{x}<br>year=2020<br>btu_per_person=%{y}<extra></extra>",
           "legendgroup": "MA",
           "marker": {
            "color": "#FECB52",
            "pattern": {
             "shape": ""
            }
           },
           "name": "MA",
           "offsetgroup": "MA",
           "orientation": "v",
           "showlegend": true,
           "textposition": "auto",
           "type": "bar",
           "x": [
            "MA"
           ],
           "xaxis": "x",
           "y": [
            0.17303453285380524
           ],
           "yaxis": "y"
          },
          {
           "alignmentgroup": "True",
           "hovertemplate": "state=%{x}<br>year=2020<br>btu_per_person=%{y}<extra></extra>",
           "legendgroup": "MD",
           "marker": {
            "color": "#636efa",
            "pattern": {
             "shape": ""
            }
           },
           "name": "MD",
           "offsetgroup": "MD",
           "orientation": "v",
           "showlegend": true,
           "textposition": "auto",
           "type": "bar",
           "x": [
            "MD"
           ],
           "xaxis": "x",
           "y": [
            0.1623622440327007
           ],
           "yaxis": "y"
          },
          {
           "alignmentgroup": "True",
           "hovertemplate": "state=%{x}<br>year=2020<br>btu_per_person=%{y}<extra></extra>",
           "legendgroup": "ME",
           "marker": {
            "color": "#EF553B",
            "pattern": {
             "shape": ""
            }
           },
           "name": "ME",
           "offsetgroup": "ME",
           "orientation": "v",
           "showlegend": true,
           "textposition": "auto",
           "type": "bar",
           "x": [
            "ME"
           ],
           "xaxis": "x",
           "y": [
            0.2515534800958874
           ],
           "yaxis": "y"
          },
          {
           "alignmentgroup": "True",
           "hovertemplate": "state=%{x}<br>year=2020<br>btu_per_person=%{y}<extra></extra>",
           "legendgroup": "MI",
           "marker": {
            "color": "#00cc96",
            "pattern": {
             "shape": ""
            }
           },
           "name": "MI",
           "offsetgroup": "MI",
           "orientation": "v",
           "showlegend": true,
           "textposition": "auto",
           "type": "bar",
           "x": [
            "MI"
           ],
           "xaxis": "x",
           "y": [
            0.21573463102148457
           ],
           "yaxis": "y"
          },
          {
           "alignmentgroup": "True",
           "hovertemplate": "state=%{x}<br>year=2020<br>btu_per_person=%{y}<extra></extra>",
           "legendgroup": "MN",
           "marker": {
            "color": "#ab63fa",
            "pattern": {
             "shape": ""
            }
           },
           "name": "MN",
           "offsetgroup": "MN",
           "orientation": "v",
           "showlegend": true,
           "textposition": "auto",
           "type": "bar",
           "x": [
            "MN"
           ],
           "xaxis": "x",
           "y": [
            0.20368043304898384
           ],
           "yaxis": "y"
          },
          {
           "alignmentgroup": "True",
           "hovertemplate": "state=%{x}<br>year=2020<br>btu_per_person=%{y}<extra></extra>",
           "legendgroup": "MO",
           "marker": {
            "color": "#FFA15A",
            "pattern": {
             "shape": ""
            }
           },
           "name": "MO",
           "offsetgroup": "MO",
           "orientation": "v",
           "showlegend": true,
           "textposition": "auto",
           "type": "bar",
           "x": [
            "MO"
           ],
           "xaxis": "x",
           "y": [
            0.21412784880344649
           ],
           "yaxis": "y"
          },
          {
           "alignmentgroup": "True",
           "hovertemplate": "state=%{x}<br>year=2020<br>btu_per_person=%{y}<extra></extra>",
           "legendgroup": "MS",
           "marker": {
            "color": "#19d3f3",
            "pattern": {
             "shape": ""
            }
           },
           "name": "MS",
           "offsetgroup": "MS",
           "orientation": "v",
           "showlegend": true,
           "textposition": "auto",
           "type": "bar",
           "x": [
            "MS"
           ],
           "xaxis": "x",
           "y": [
            0.15552616288011561
           ],
           "yaxis": "y"
          },
          {
           "alignmentgroup": "True",
           "hovertemplate": "state=%{x}<br>year=2020<br>btu_per_person=%{y}<extra></extra>",
           "legendgroup": "MT",
           "marker": {
            "color": "#FF6692",
            "pattern": {
             "shape": ""
            }
           },
           "name": "MT",
           "offsetgroup": "MT",
           "orientation": "v",
           "showlegend": true,
           "textposition": "auto",
           "type": "bar",
           "x": [
            "MT"
           ],
           "xaxis": "x",
           "y": [
            0.2690701253022642
           ],
           "yaxis": "y"
          },
          {
           "alignmentgroup": "True",
           "hovertemplate": "state=%{x}<br>year=2020<br>btu_per_person=%{y}<extra></extra>",
           "legendgroup": "NC",
           "marker": {
            "color": "#B6E880",
            "pattern": {
             "shape": ""
            }
           },
           "name": "NC",
           "offsetgroup": "NC",
           "orientation": "v",
           "showlegend": true,
           "textposition": "auto",
           "type": "bar",
           "x": [
            "NC"
           ],
           "xaxis": "x",
           "y": [
            0.16130460352644566
           ],
           "yaxis": "y"
          },
          {
           "alignmentgroup": "True",
           "hovertemplate": "state=%{x}<br>year=2020<br>btu_per_person=%{y}<extra></extra>",
           "legendgroup": "ND",
           "marker": {
            "color": "#FF97FF",
            "pattern": {
             "shape": ""
            }
           },
           "name": "ND",
           "offsetgroup": "ND",
           "orientation": "v",
           "showlegend": true,
           "textposition": "auto",
           "type": "bar",
           "x": [
            "ND"
           ],
           "xaxis": "x",
           "y": [
            0.23203256183271911
           ],
           "yaxis": "y"
          },
          {
           "alignmentgroup": "True",
           "hovertemplate": "state=%{x}<br>year=2020<br>btu_per_person=%{y}<extra></extra>",
           "legendgroup": "NE",
           "marker": {
            "color": "#FECB52",
            "pattern": {
             "shape": ""
            }
           },
           "name": "NE",
           "offsetgroup": "NE",
           "orientation": "v",
           "showlegend": true,
           "textposition": "auto",
           "type": "bar",
           "x": [
            "NE"
           ],
           "xaxis": "x",
           "y": [
            0.21428451366671877
           ],
           "yaxis": "y"
          },
          {
           "alignmentgroup": "True",
           "hovertemplate": "state=%{x}<br>year=2020<br>btu_per_person=%{y}<extra></extra>",
           "legendgroup": "NH",
           "marker": {
            "color": "#636efa",
            "pattern": {
             "shape": ""
            }
           },
           "name": "NH",
           "offsetgroup": "NH",
           "orientation": "v",
           "showlegend": true,
           "textposition": "auto",
           "type": "bar",
           "x": [
            "NH"
           ],
           "xaxis": "x",
           "y": [
            0.23645428816379463
           ],
           "yaxis": "y"
          },
          {
           "alignmentgroup": "True",
           "hovertemplate": "state=%{x}<br>year=2020<br>btu_per_person=%{y}<extra></extra>",
           "legendgroup": "NJ",
           "marker": {
            "color": "#EF553B",
            "pattern": {
             "shape": ""
            }
           },
           "name": "NJ",
           "offsetgroup": "NJ",
           "orientation": "v",
           "showlegend": true,
           "textposition": "auto",
           "type": "bar",
           "x": [
            "NJ"
           ],
           "xaxis": "x",
           "y": [
            0.1654000391700437
           ],
           "yaxis": "y"
          },
          {
           "alignmentgroup": "True",
           "hovertemplate": "state=%{x}<br>year=2020<br>btu_per_person=%{y}<extra></extra>",
           "legendgroup": "NM",
           "marker": {
            "color": "#00cc96",
            "pattern": {
             "shape": ""
            }
           },
           "name": "NM",
           "offsetgroup": "NM",
           "orientation": "v",
           "showlegend": true,
           "textposition": "auto",
           "type": "bar",
           "x": [
            "NM"
           ],
           "xaxis": "x",
           "y": [
            0.16725891296056433
           ],
           "yaxis": "y"
          },
          {
           "alignmentgroup": "True",
           "hovertemplate": "state=%{x}<br>year=2020<br>btu_per_person=%{y}<extra></extra>",
           "legendgroup": "NV",
           "marker": {
            "color": "#ab63fa",
            "pattern": {
             "shape": ""
            }
           },
           "name": "NV",
           "offsetgroup": "NV",
           "orientation": "v",
           "showlegend": true,
           "textposition": "auto",
           "type": "bar",
           "x": [
            "NV"
           ],
           "xaxis": "x",
           "y": [
            0.15872541593920098
           ],
           "yaxis": "y"
          },
          {
           "alignmentgroup": "True",
           "hovertemplate": "state=%{x}<br>year=2020<br>btu_per_person=%{y}<extra></extra>",
           "legendgroup": "NY",
           "marker": {
            "color": "#FFA15A",
            "pattern": {
             "shape": ""
            }
           },
           "name": "NY",
           "offsetgroup": "NY",
           "orientation": "v",
           "showlegend": true,
           "textposition": "auto",
           "type": "bar",
           "x": [
            "NY"
           ],
           "xaxis": "x",
           "y": [
            0.15423569899789652
           ],
           "yaxis": "y"
          },
          {
           "alignmentgroup": "True",
           "hovertemplate": "state=%{x}<br>year=2020<br>btu_per_person=%{y}<extra></extra>",
           "legendgroup": "OH",
           "marker": {
            "color": "#19d3f3",
            "pattern": {
             "shape": ""
            }
           },
           "name": "OH",
           "offsetgroup": "OH",
           "orientation": "v",
           "showlegend": true,
           "textposition": "auto",
           "type": "bar",
           "x": [
            "OH"
           ],
           "xaxis": "x",
           "y": [
            0.19265619125208971
           ],
           "yaxis": "y"
          },
          {
           "alignmentgroup": "True",
           "hovertemplate": "state=%{x}<br>year=2020<br>btu_per_person=%{y}<extra></extra>",
           "legendgroup": "OK",
           "marker": {
            "color": "#FF6692",
            "pattern": {
             "shape": ""
            }
           },
           "name": "OK",
           "offsetgroup": "OK",
           "orientation": "v",
           "showlegend": true,
           "textposition": "auto",
           "type": "bar",
           "x": [
            "OK"
           ],
           "xaxis": "x",
           "y": [
            0.1859411071326434
           ],
           "yaxis": "y"
          },
          {
           "alignmentgroup": "True",
           "hovertemplate": "state=%{x}<br>year=2020<br>btu_per_person=%{y}<extra></extra>",
           "legendgroup": "OR",
           "marker": {
            "color": "#B6E880",
            "pattern": {
             "shape": ""
            }
           },
           "name": "OR",
           "offsetgroup": "OR",
           "orientation": "v",
           "showlegend": true,
           "textposition": "auto",
           "type": "bar",
           "x": [
            "OR"
           ],
           "xaxis": "x",
           "y": [
            0.15827138658633455
           ],
           "yaxis": "y"
          },
          {
           "alignmentgroup": "True",
           "hovertemplate": "state=%{x}<br>year=2020<br>btu_per_person=%{y}<extra></extra>",
           "legendgroup": "PA",
           "marker": {
            "color": "#FF97FF",
            "pattern": {
             "shape": ""
            }
           },
           "name": "PA",
           "offsetgroup": "PA",
           "orientation": "v",
           "showlegend": true,
           "textposition": "auto",
           "type": "bar",
           "x": [
            "PA"
           ],
           "xaxis": "x",
           "y": [
            0.18174069331968346
           ],
           "yaxis": "y"
          },
          {
           "alignmentgroup": "True",
           "hovertemplate": "state=%{x}<br>year=2020<br>btu_per_person=%{y}<extra></extra>",
           "legendgroup": "RI",
           "marker": {
            "color": "#FECB52",
            "pattern": {
             "shape": ""
            }
           },
           "name": "RI",
           "offsetgroup": "RI",
           "orientation": "v",
           "showlegend": true,
           "textposition": "auto",
           "type": "bar",
           "x": [
            "RI"
           ],
           "xaxis": "x",
           "y": [
            0.16123577674737608
           ],
           "yaxis": "y"
          },
          {
           "alignmentgroup": "True",
           "hovertemplate": "state=%{x}<br>year=2020<br>btu_per_person=%{y}<extra></extra>",
           "legendgroup": "SC",
           "marker": {
            "color": "#636efa",
            "pattern": {
             "shape": ""
            }
           },
           "name": "SC",
           "offsetgroup": "SC",
           "orientation": "v",
           "showlegend": true,
           "textposition": "auto",
           "type": "bar",
           "x": [
            "SC"
           ],
           "xaxis": "x",
           "y": [
            0.17081843460958185
           ],
           "yaxis": "y"
          },
          {
           "alignmentgroup": "True",
           "hovertemplate": "state=%{x}<br>year=2020<br>btu_per_person=%{y}<extra></extra>",
           "legendgroup": "SD",
           "marker": {
            "color": "#EF553B",
            "pattern": {
             "shape": ""
            }
           },
           "name": "SD",
           "offsetgroup": "SD",
           "orientation": "v",
           "showlegend": true,
           "textposition": "auto",
           "type": "bar",
           "x": [
            "SD"
           ],
           "xaxis": "x",
           "y": [
            0.21295103237927043
           ],
           "yaxis": "y"
          },
          {
           "alignmentgroup": "True",
           "hovertemplate": "state=%{x}<br>year=2020<br>btu_per_person=%{y}<extra></extra>",
           "legendgroup": "TN",
           "marker": {
            "color": "#00cc96",
            "pattern": {
             "shape": ""
            }
           },
           "name": "TN",
           "offsetgroup": "TN",
           "orientation": "v",
           "showlegend": true,
           "textposition": "auto",
           "type": "bar",
           "x": [
            "TN"
           ],
           "xaxis": "x",
           "y": [
            0.17904442780206037
           ],
           "yaxis": "y"
          },
          {
           "alignmentgroup": "True",
           "hovertemplate": "state=%{x}<br>year=2020<br>btu_per_person=%{y}<extra></extra>",
           "legendgroup": "TX",
           "marker": {
            "color": "#ab63fa",
            "pattern": {
             "shape": ""
            }
           },
           "name": "TX",
           "offsetgroup": "TX",
           "orientation": "v",
           "showlegend": true,
           "textposition": "auto",
           "type": "bar",
           "x": [
            "TX"
           ],
           "xaxis": "x",
           "y": [
            0.14752184937443988
           ],
           "yaxis": "y"
          },
          {
           "alignmentgroup": "True",
           "hovertemplate": "state=%{x}<br>year=2020<br>btu_per_person=%{y}<extra></extra>",
           "legendgroup": "UT",
           "marker": {
            "color": "#FFA15A",
            "pattern": {
             "shape": ""
            }
           },
           "name": "UT",
           "offsetgroup": "UT",
           "orientation": "v",
           "showlegend": true,
           "textposition": "auto",
           "type": "bar",
           "x": [
            "UT"
           ],
           "xaxis": "x",
           "y": [
            0.15782516469335095
           ],
           "yaxis": "y"
          },
          {
           "alignmentgroup": "True",
           "hovertemplate": "state=%{x}<br>year=2020<br>btu_per_person=%{y}<extra></extra>",
           "legendgroup": "VA",
           "marker": {
            "color": "#19d3f3",
            "pattern": {
             "shape": ""
            }
           },
           "name": "VA",
           "offsetgroup": "VA",
           "orientation": "v",
           "showlegend": true,
           "textposition": "auto",
           "type": "bar",
           "x": [
            "VA"
           ],
           "xaxis": "x",
           "y": [
            0.16475699917785788
           ],
           "yaxis": "y"
          },
          {
           "alignmentgroup": "True",
           "hovertemplate": "state=%{x}<br>year=2020<br>btu_per_person=%{y}<extra></extra>",
           "legendgroup": "VT",
           "marker": {
            "color": "#FF6692",
            "pattern": {
             "shape": ""
            }
           },
           "name": "VT",
           "offsetgroup": "VT",
           "orientation": "v",
           "showlegend": true,
           "textposition": "auto",
           "type": "bar",
           "x": [
            "VT"
           ],
           "xaxis": "x",
           "y": [
            0.2573973148182712
           ],
           "yaxis": "y"
          },
          {
           "alignmentgroup": "True",
           "hovertemplate": "state=%{x}<br>year=2020<br>btu_per_person=%{y}<extra></extra>",
           "legendgroup": "WA",
           "marker": {
            "color": "#B6E880",
            "pattern": {
             "shape": ""
            }
           },
           "name": "WA",
           "offsetgroup": "WA",
           "orientation": "v",
           "showlegend": true,
           "textposition": "auto",
           "type": "bar",
           "x": [
            "WA"
           ],
           "xaxis": "x",
           "y": [
            0.16045432196449613
           ],
           "yaxis": "y"
          },
          {
           "alignmentgroup": "True",
           "hovertemplate": "state=%{x}<br>year=2020<br>btu_per_person=%{y}<extra></extra>",
           "legendgroup": "WI",
           "marker": {
            "color": "#FF97FF",
            "pattern": {
             "shape": ""
            }
           },
           "name": "WI",
           "offsetgroup": "WI",
           "orientation": "v",
           "showlegend": true,
           "textposition": "auto",
           "type": "bar",
           "x": [
            "WI"
           ],
           "xaxis": "x",
           "y": [
            0.20781877999559076
           ],
           "yaxis": "y"
          },
          {
           "alignmentgroup": "True",
           "hovertemplate": "state=%{x}<br>year=2020<br>btu_per_person=%{y}<extra></extra>",
           "legendgroup": "WV",
           "marker": {
            "color": "#FECB52",
            "pattern": {
             "shape": ""
            }
           },
           "name": "WV",
           "offsetgroup": "WV",
           "orientation": "v",
           "showlegend": true,
           "textposition": "auto",
           "type": "bar",
           "x": [
            "WV"
           ],
           "xaxis": "x",
           "y": [
            0.220460134787409
           ],
           "yaxis": "y"
          },
          {
           "alignmentgroup": "True",
           "hovertemplate": "state=%{x}<br>year=2020<br>btu_per_person=%{y}<extra></extra>",
           "legendgroup": "WY",
           "marker": {
            "color": "#636efa",
            "pattern": {
             "shape": ""
            }
           },
           "name": "WY",
           "offsetgroup": "WY",
           "orientation": "v",
           "showlegend": true,
           "textposition": "auto",
           "type": "bar",
           "x": [
            "WY"
           ],
           "xaxis": "x",
           "y": [
            0.25239412530467537
           ],
           "yaxis": "y"
          }
         ],
         "name": "2020"
        },
        {
         "data": [
          {
           "alignmentgroup": "True",
           "hovertemplate": "state=%{x}<br>year=2021<br>btu_per_person=%{y}<extra></extra>",
           "legendgroup": "AK",
           "marker": {
            "color": "#636efa",
            "pattern": {
             "shape": ""
            }
           },
           "name": "AK",
           "offsetgroup": "AK",
           "orientation": "v",
           "showlegend": true,
           "textposition": "auto",
           "type": "bar",
           "x": [
            "AK"
           ],
           "xaxis": "x",
           "y": [
            0.22386562946050131
           ],
           "yaxis": "y"
          },
          {
           "alignmentgroup": "True",
           "hovertemplate": "state=%{x}<br>year=2021<br>btu_per_person=%{y}<extra></extra>",
           "legendgroup": "AL",
           "marker": {
            "color": "#EF553B",
            "pattern": {
             "shape": ""
            }
           },
           "name": "AL",
           "offsetgroup": "AL",
           "orientation": "v",
           "showlegend": true,
           "textposition": "auto",
           "type": "bar",
           "x": [
            "AL"
           ],
           "xaxis": "x",
           "y": [
            0.162433321849049
           ],
           "yaxis": "y"
          },
          {
           "alignmentgroup": "True",
           "hovertemplate": "state=%{x}<br>year=2021<br>btu_per_person=%{y}<extra></extra>",
           "legendgroup": "AR",
           "marker": {
            "color": "#00cc96",
            "pattern": {
             "shape": ""
            }
           },
           "name": "AR",
           "offsetgroup": "AR",
           "orientation": "v",
           "showlegend": true,
           "textposition": "auto",
           "type": "bar",
           "x": [
            "AR"
           ],
           "xaxis": "x",
           "y": [
            0.1818538437078063
           ],
           "yaxis": "y"
          },
          {
           "alignmentgroup": "True",
           "hovertemplate": "state=%{x}<br>year=2021<br>btu_per_person=%{y}<extra></extra>",
           "legendgroup": "AZ",
           "marker": {
            "color": "#ab63fa",
            "pattern": {
             "shape": ""
            }
           },
           "name": "AZ",
           "offsetgroup": "AZ",
           "orientation": "v",
           "showlegend": true,
           "textposition": "auto",
           "type": "bar",
           "x": [
            "AZ"
           ],
           "xaxis": "x",
           "y": [
            0.1545645939277719
           ],
           "yaxis": "y"
          },
          {
           "alignmentgroup": "True",
           "hovertemplate": "state=%{x}<br>year=2021<br>btu_per_person=%{y}<extra></extra>",
           "legendgroup": "CA",
           "marker": {
            "color": "#FFA15A",
            "pattern": {
             "shape": ""
            }
           },
           "name": "CA",
           "offsetgroup": "CA",
           "orientation": "v",
           "showlegend": true,
           "textposition": "auto",
           "type": "bar",
           "x": [
            "CA"
           ],
           "xaxis": "x",
           "y": [
            0.10618972100183267
           ],
           "yaxis": "y"
          },
          {
           "alignmentgroup": "True",
           "hovertemplate": "state=%{x}<br>year=2021<br>btu_per_person=%{y}<extra></extra>",
           "legendgroup": "CO",
           "marker": {
            "color": "#19d3f3",
            "pattern": {
             "shape": ""
            }
           },
           "name": "CO",
           "offsetgroup": "CO",
           "orientation": "v",
           "showlegend": true,
           "textposition": "auto",
           "type": "bar",
           "x": [
            "CO"
           ],
           "xaxis": "x",
           "y": [
            0.17863423403829173
           ],
           "yaxis": "y"
          },
          {
           "alignmentgroup": "True",
           "hovertemplate": "state=%{x}<br>year=2021<br>btu_per_person=%{y}<extra></extra>",
           "legendgroup": "CT",
           "marker": {
            "color": "#FF6692",
            "pattern": {
             "shape": ""
            }
           },
           "name": "CT",
           "offsetgroup": "CT",
           "orientation": "v",
           "showlegend": true,
           "textposition": "auto",
           "type": "bar",
           "x": [
            "CT"
           ],
           "xaxis": "x",
           "y": [
            0.19143150730736902
           ],
           "yaxis": "y"
          },
          {
           "alignmentgroup": "True",
           "hovertemplate": "state=%{x}<br>year=2021<br>btu_per_person=%{y}<extra></extra>",
           "legendgroup": "DC",
           "marker": {
            "color": "#B6E880",
            "pattern": {
             "shape": ""
            }
           },
           "name": "DC",
           "offsetgroup": "DC",
           "orientation": "v",
           "showlegend": true,
           "textposition": "auto",
           "type": "bar",
           "x": [
            "DC"
           ],
           "xaxis": "x",
           "y": [
            0.14135541083676986
           ],
           "yaxis": "y"
          },
          {
           "alignmentgroup": "True",
           "hovertemplate": "state=%{x}<br>year=2021<br>btu_per_person=%{y}<extra></extra>",
           "legendgroup": "DE",
           "marker": {
            "color": "#FF97FF",
            "pattern": {
             "shape": ""
            }
           },
           "name": "DE",
           "offsetgroup": "DE",
           "orientation": "v",
           "showlegend": true,
           "textposition": "auto",
           "type": "bar",
           "x": [
            "DE"
           ],
           "xaxis": "x",
           "y": [
            0.16724766415127762
           ],
           "yaxis": "y"
          },
          {
           "alignmentgroup": "True",
           "hovertemplate": "state=%{x}<br>year=2021<br>btu_per_person=%{y}<extra></extra>",
           "legendgroup": "FL",
           "marker": {
            "color": "#FECB52",
            "pattern": {
             "shape": ""
            }
           },
           "name": "FL",
           "offsetgroup": "FL",
           "orientation": "v",
           "showlegend": true,
           "textposition": "auto",
           "type": "bar",
           "x": [
            "FL"
           ],
           "xaxis": "x",
           "y": [
            0.13809597929668613
           ],
           "yaxis": "y"
          },
          {
           "alignmentgroup": "True",
           "hovertemplate": "state=%{x}<br>year=2021<br>btu_per_person=%{y}<extra></extra>",
           "legendgroup": "GA",
           "marker": {
            "color": "#636efa",
            "pattern": {
             "shape": ""
            }
           },
           "name": "GA",
           "offsetgroup": "GA",
           "orientation": "v",
           "showlegend": true,
           "textposition": "auto",
           "type": "bar",
           "x": [
            "GA"
           ],
           "xaxis": "x",
           "y": [
            0.16067378504103422
           ],
           "yaxis": "y"
          },
          {
           "alignmentgroup": "True",
           "hovertemplate": "state=%{x}<br>year=2021<br>btu_per_person=%{y}<extra></extra>",
           "legendgroup": "HI",
           "marker": {
            "color": "#EF553B",
            "pattern": {
             "shape": ""
            }
           },
           "name": "HI",
           "offsetgroup": "HI",
           "orientation": "v",
           "showlegend": true,
           "textposition": "auto",
           "type": "bar",
           "x": [
            "HI"
           ],
           "xaxis": "x",
           "y": [
            0.07115006445503527
           ],
           "yaxis": "y"
          },
          {
           "alignmentgroup": "True",
           "hovertemplate": "state=%{x}<br>year=2021<br>btu_per_person=%{y}<extra></extra>",
           "legendgroup": "IA",
           "marker": {
            "color": "#00cc96",
            "pattern": {
             "shape": ""
            }
           },
           "name": "IA",
           "offsetgroup": "IA",
           "orientation": "v",
           "showlegend": true,
           "textposition": "auto",
           "type": "bar",
           "x": [
            "IA"
           ],
           "xaxis": "x",
           "y": [
            0.2108198267386796
           ],
           "yaxis": "y"
          },
          {
           "alignmentgroup": "True",
           "hovertemplate": "state=%{x}<br>year=2021<br>btu_per_person=%{y}<extra></extra>",
           "legendgroup": "ID",
           "marker": {
            "color": "#ab63fa",
            "pattern": {
             "shape": ""
            }
           },
           "name": "ID",
           "offsetgroup": "ID",
           "orientation": "v",
           "showlegend": true,
           "textposition": "auto",
           "type": "bar",
           "x": [
            "ID"
           ],
           "xaxis": "x",
           "y": [
            0.1939132713095099
           ],
           "yaxis": "y"
          },
          {
           "alignmentgroup": "True",
           "hovertemplate": "state=%{x}<br>year=2021<br>btu_per_person=%{y}<extra></extra>",
           "legendgroup": "IL",
           "marker": {
            "color": "#FFA15A",
            "pattern": {
             "shape": ""
            }
           },
           "name": "IL",
           "offsetgroup": "IL",
           "orientation": "v",
           "showlegend": true,
           "textposition": "auto",
           "type": "bar",
           "x": [
            "IL"
           ],
           "xaxis": "x",
           "y": [
            0.20131413332391934
           ],
           "yaxis": "y"
          },
          {
           "alignmentgroup": "True",
           "hovertemplate": "state=%{x}<br>year=2021<br>btu_per_person=%{y}<extra></extra>",
           "legendgroup": "IN",
           "marker": {
            "color": "#19d3f3",
            "pattern": {
             "shape": ""
            }
           },
           "name": "IN",
           "offsetgroup": "IN",
           "orientation": "v",
           "showlegend": true,
           "textposition": "auto",
           "type": "bar",
           "x": [
            "IN"
           ],
           "xaxis": "x",
           "y": [
            0.1989505705922013
           ],
           "yaxis": "y"
          },
          {
           "alignmentgroup": "True",
           "hovertemplate": "state=%{x}<br>year=2021<br>btu_per_person=%{y}<extra></extra>",
           "legendgroup": "KS",
           "marker": {
            "color": "#FF6692",
            "pattern": {
             "shape": ""
            }
           },
           "name": "KS",
           "offsetgroup": "KS",
           "orientation": "v",
           "showlegend": true,
           "textposition": "auto",
           "type": "bar",
           "x": [
            "KS"
           ],
           "xaxis": "x",
           "y": [
            0.19736952278905057
           ],
           "yaxis": "y"
          },
          {
           "alignmentgroup": "True",
           "hovertemplate": "state=%{x}<br>year=2021<br>btu_per_person=%{y}<extra></extra>",
           "legendgroup": "KY",
           "marker": {
            "color": "#B6E880",
            "pattern": {
             "shape": ""
            }
           },
           "name": "KY",
           "offsetgroup": "KY",
           "orientation": "v",
           "showlegend": true,
           "textposition": "auto",
           "type": "bar",
           "x": [
            "KY"
           ],
           "xaxis": "x",
           "y": [
            0.18610036382997602
           ],
           "yaxis": "y"
          },
          {
           "alignmentgroup": "True",
           "hovertemplate": "state=%{x}<br>year=2021<br>btu_per_person=%{y}<extra></extra>",
           "legendgroup": "LA",
           "marker": {
            "color": "#FF97FF",
            "pattern": {
             "shape": ""
            }
           },
           "name": "LA",
           "offsetgroup": "LA",
           "orientation": "v",
           "showlegend": true,
           "textposition": "auto",
           "type": "bar",
           "x": [
            "LA"
           ],
           "xaxis": "x",
           "y": [
            0.16259700841595082
           ],
           "yaxis": "y"
          },
          {
           "alignmentgroup": "True",
           "hovertemplate": "state=%{x}<br>year=2021<br>btu_per_person=%{y}<extra></extra>",
           "legendgroup": "MA",
           "marker": {
            "color": "#FECB52",
            "pattern": {
             "shape": ""
            }
           },
           "name": "MA",
           "offsetgroup": "MA",
           "orientation": "v",
           "showlegend": true,
           "textposition": "auto",
           "type": "bar",
           "x": [
            "MA"
           ],
           "xaxis": "x",
           "y": [
            0.17317712895871265
           ],
           "yaxis": "y"
          },
          {
           "alignmentgroup": "True",
           "hovertemplate": "state=%{x}<br>year=2021<br>btu_per_person=%{y}<extra></extra>",
           "legendgroup": "MD",
           "marker": {
            "color": "#636efa",
            "pattern": {
             "shape": ""
            }
           },
           "name": "MD",
           "offsetgroup": "MD",
           "orientation": "v",
           "showlegend": true,
           "textposition": "auto",
           "type": "bar",
           "x": [
            "MD"
           ],
           "xaxis": "x",
           "y": [
            0.1623265903325401
           ],
           "yaxis": "y"
          },
          {
           "alignmentgroup": "True",
           "hovertemplate": "state=%{x}<br>year=2021<br>btu_per_person=%{y}<extra></extra>",
           "legendgroup": "ME",
           "marker": {
            "color": "#EF553B",
            "pattern": {
             "shape": ""
            }
           },
           "name": "ME",
           "offsetgroup": "ME",
           "orientation": "v",
           "showlegend": true,
           "textposition": "auto",
           "type": "bar",
           "x": [
            "ME"
           ],
           "xaxis": "x",
           "y": [
            0.24894998284724182
           ],
           "yaxis": "y"
          },
          {
           "alignmentgroup": "True",
           "hovertemplate": "state=%{x}<br>year=2021<br>btu_per_person=%{y}<extra></extra>",
           "legendgroup": "MI",
           "marker": {
            "color": "#00cc96",
            "pattern": {
             "shape": ""
            }
           },
           "name": "MI",
           "offsetgroup": "MI",
           "orientation": "v",
           "showlegend": true,
           "textposition": "auto",
           "type": "bar",
           "x": [
            "MI"
           ],
           "xaxis": "x",
           "y": [
            0.2164333211099253
           ],
           "yaxis": "y"
          },
          {
           "alignmentgroup": "True",
           "hovertemplate": "state=%{x}<br>year=2021<br>btu_per_person=%{y}<extra></extra>",
           "legendgroup": "MN",
           "marker": {
            "color": "#ab63fa",
            "pattern": {
             "shape": ""
            }
           },
           "name": "MN",
           "offsetgroup": "MN",
           "orientation": "v",
           "showlegend": true,
           "textposition": "auto",
           "type": "bar",
           "x": [
            "MN"
           ],
           "xaxis": "x",
           "y": [
            0.20341719296085603
           ],
           "yaxis": "y"
          },
          {
           "alignmentgroup": "True",
           "hovertemplate": "state=%{x}<br>year=2021<br>btu_per_person=%{y}<extra></extra>",
           "legendgroup": "MO",
           "marker": {
            "color": "#FFA15A",
            "pattern": {
             "shape": ""
            }
           },
           "name": "MO",
           "offsetgroup": "MO",
           "orientation": "v",
           "showlegend": true,
           "textposition": "auto",
           "type": "bar",
           "x": [
            "MO"
           ],
           "xaxis": "x",
           "y": [
            0.21357375454043204
           ],
           "yaxis": "y"
          },
          {
           "alignmentgroup": "True",
           "hovertemplate": "state=%{x}<br>year=2021<br>btu_per_person=%{y}<extra></extra>",
           "legendgroup": "MS",
           "marker": {
            "color": "#19d3f3",
            "pattern": {
             "shape": ""
            }
           },
           "name": "MS",
           "offsetgroup": "MS",
           "orientation": "v",
           "showlegend": true,
           "textposition": "auto",
           "type": "bar",
           "x": [
            "MS"
           ],
           "xaxis": "x",
           "y": [
            0.15599159474122096
           ],
           "yaxis": "y"
          },
          {
           "alignmentgroup": "True",
           "hovertemplate": "state=%{x}<br>year=2021<br>btu_per_person=%{y}<extra></extra>",
           "legendgroup": "MT",
           "marker": {
            "color": "#FF6692",
            "pattern": {
             "shape": ""
            }
           },
           "name": "MT",
           "offsetgroup": "MT",
           "orientation": "v",
           "showlegend": true,
           "textposition": "auto",
           "type": "bar",
           "x": [
            "MT"
           ],
           "xaxis": "x",
           "y": [
            0.26441159616257187
           ],
           "yaxis": "y"
          },
          {
           "alignmentgroup": "True",
           "hovertemplate": "state=%{x}<br>year=2021<br>btu_per_person=%{y}<extra></extra>",
           "legendgroup": "NC",
           "marker": {
            "color": "#B6E880",
            "pattern": {
             "shape": ""
            }
           },
           "name": "NC",
           "offsetgroup": "NC",
           "orientation": "v",
           "showlegend": true,
           "textposition": "auto",
           "type": "bar",
           "x": [
            "NC"
           ],
           "xaxis": "x",
           "y": [
            0.15957528555611283
           ],
           "yaxis": "y"
          },
          {
           "alignmentgroup": "True",
           "hovertemplate": "state=%{x}<br>year=2021<br>btu_per_person=%{y}<extra></extra>",
           "legendgroup": "ND",
           "marker": {
            "color": "#FF97FF",
            "pattern": {
             "shape": ""
            }
           },
           "name": "ND",
           "offsetgroup": "ND",
           "orientation": "v",
           "showlegend": true,
           "textposition": "auto",
           "type": "bar",
           "x": [
            "ND"
           ],
           "xaxis": "x",
           "y": [
            0.23250409392505225
           ],
           "yaxis": "y"
          },
          {
           "alignmentgroup": "True",
           "hovertemplate": "state=%{x}<br>year=2021<br>btu_per_person=%{y}<extra></extra>",
           "legendgroup": "NE",
           "marker": {
            "color": "#FECB52",
            "pattern": {
             "shape": ""
            }
           },
           "name": "NE",
           "offsetgroup": "NE",
           "orientation": "v",
           "showlegend": true,
           "textposition": "auto",
           "type": "bar",
           "x": [
            "NE"
           ],
           "xaxis": "x",
           "y": [
            0.21417760339426745
           ],
           "yaxis": "y"
          },
          {
           "alignmentgroup": "True",
           "hovertemplate": "state=%{x}<br>year=2021<br>btu_per_person=%{y}<extra></extra>",
           "legendgroup": "NH",
           "marker": {
            "color": "#636efa",
            "pattern": {
             "shape": ""
            }
           },
           "name": "NH",
           "offsetgroup": "NH",
           "orientation": "v",
           "showlegend": true,
           "textposition": "auto",
           "type": "bar",
           "x": [
            "NH"
           ],
           "xaxis": "x",
           "y": [
            0.23495597098077542
           ],
           "yaxis": "y"
          },
          {
           "alignmentgroup": "True",
           "hovertemplate": "state=%{x}<br>year=2021<br>btu_per_person=%{y}<extra></extra>",
           "legendgroup": "NJ",
           "marker": {
            "color": "#EF553B",
            "pattern": {
             "shape": ""
            }
           },
           "name": "NJ",
           "offsetgroup": "NJ",
           "orientation": "v",
           "showlegend": true,
           "textposition": "auto",
           "type": "bar",
           "x": [
            "NJ"
           ],
           "xaxis": "x",
           "y": [
            0.16545744362362347
           ],
           "yaxis": "y"
          },
          {
           "alignmentgroup": "True",
           "hovertemplate": "state=%{x}<br>year=2021<br>btu_per_person=%{y}<extra></extra>",
           "legendgroup": "NM",
           "marker": {
            "color": "#00cc96",
            "pattern": {
             "shape": ""
            }
           },
           "name": "NM",
           "offsetgroup": "NM",
           "orientation": "v",
           "showlegend": true,
           "textposition": "auto",
           "type": "bar",
           "x": [
            "NM"
           ],
           "xaxis": "x",
           "y": [
            0.16738042939134132
           ],
           "yaxis": "y"
          },
          {
           "alignmentgroup": "True",
           "hovertemplate": "state=%{x}<br>year=2021<br>btu_per_person=%{y}<extra></extra>",
           "legendgroup": "NV",
           "marker": {
            "color": "#ab63fa",
            "pattern": {
             "shape": ""
            }
           },
           "name": "NV",
           "offsetgroup": "NV",
           "orientation": "v",
           "showlegend": true,
           "textposition": "auto",
           "type": "bar",
           "x": [
            "NV"
           ],
           "xaxis": "x",
           "y": [
            0.15717217647313064
           ],
           "yaxis": "y"
          },
          {
           "alignmentgroup": "True",
           "hovertemplate": "state=%{x}<br>year=2021<br>btu_per_person=%{y}<extra></extra>",
           "legendgroup": "NY",
           "marker": {
            "color": "#FFA15A",
            "pattern": {
             "shape": ""
            }
           },
           "name": "NY",
           "offsetgroup": "NY",
           "orientation": "v",
           "showlegend": true,
           "textposition": "auto",
           "type": "bar",
           "x": [
            "NY"
           ],
           "xaxis": "x",
           "y": [
            0.15617920065178087
           ],
           "yaxis": "y"
          },
          {
           "alignmentgroup": "True",
           "hovertemplate": "state=%{x}<br>year=2021<br>btu_per_person=%{y}<extra></extra>",
           "legendgroup": "OH",
           "marker": {
            "color": "#19d3f3",
            "pattern": {
             "shape": ""
            }
           },
           "name": "OH",
           "offsetgroup": "OH",
           "orientation": "v",
           "showlegend": true,
           "textposition": "auto",
           "type": "bar",
           "x": [
            "OH"
           ],
           "xaxis": "x",
           "y": [
            0.1931976323108768
           ],
           "yaxis": "y"
          },
          {
           "alignmentgroup": "True",
           "hovertemplate": "state=%{x}<br>year=2021<br>btu_per_person=%{y}<extra></extra>",
           "legendgroup": "OK",
           "marker": {
            "color": "#FF6692",
            "pattern": {
             "shape": ""
            }
           },
           "name": "OK",
           "offsetgroup": "OK",
           "orientation": "v",
           "showlegend": true,
           "textposition": "auto",
           "type": "bar",
           "x": [
            "OK"
           ],
           "xaxis": "x",
           "y": [
            0.1847113237335888
           ],
           "yaxis": "y"
          },
          {
           "alignmentgroup": "True",
           "hovertemplate": "state=%{x}<br>year=2021<br>btu_per_person=%{y}<extra></extra>",
           "legendgroup": "OR",
           "marker": {
            "color": "#B6E880",
            "pattern": {
             "shape": ""
            }
           },
           "name": "OR",
           "offsetgroup": "OR",
           "orientation": "v",
           "showlegend": true,
           "textposition": "auto",
           "type": "bar",
           "x": [
            "OR"
           ],
           "xaxis": "x",
           "y": [
            0.15784671082694207
           ],
           "yaxis": "y"
          },
          {
           "alignmentgroup": "True",
           "hovertemplate": "state=%{x}<br>year=2021<br>btu_per_person=%{y}<extra></extra>",
           "legendgroup": "PA",
           "marker": {
            "color": "#FF97FF",
            "pattern": {
             "shape": ""
            }
           },
           "name": "PA",
           "offsetgroup": "PA",
           "orientation": "v",
           "showlegend": true,
           "textposition": "auto",
           "type": "bar",
           "x": [
            "PA"
           ],
           "xaxis": "x",
           "y": [
            0.18148740234649655
           ],
           "yaxis": "y"
          },
          {
           "alignmentgroup": "True",
           "hovertemplate": "state=%{x}<br>year=2021<br>btu_per_person=%{y}<extra></extra>",
           "legendgroup": "RI",
           "marker": {
            "color": "#FECB52",
            "pattern": {
             "shape": ""
            }
           },
           "name": "RI",
           "offsetgroup": "RI",
           "orientation": "v",
           "showlegend": true,
           "textposition": "auto",
           "type": "bar",
           "x": [
            "RI"
           ],
           "xaxis": "x",
           "y": [
            0.16114054245222825
           ],
           "yaxis": "y"
          },
          {
           "alignmentgroup": "True",
           "hovertemplate": "state=%{x}<br>year=2021<br>btu_per_person=%{y}<extra></extra>",
           "legendgroup": "SC",
           "marker": {
            "color": "#636efa",
            "pattern": {
             "shape": ""
            }
           },
           "name": "SC",
           "offsetgroup": "SC",
           "orientation": "v",
           "showlegend": true,
           "textposition": "auto",
           "type": "bar",
           "x": [
            "SC"
           ],
           "xaxis": "x",
           "y": [
            0.1687893061175452
           ],
           "yaxis": "y"
          },
          {
           "alignmentgroup": "True",
           "hovertemplate": "state=%{x}<br>year=2021<br>btu_per_person=%{y}<extra></extra>",
           "legendgroup": "SD",
           "marker": {
            "color": "#EF553B",
            "pattern": {
             "shape": ""
            }
           },
           "name": "SD",
           "offsetgroup": "SD",
           "orientation": "v",
           "showlegend": true,
           "textposition": "auto",
           "type": "bar",
           "x": [
            "SD"
           ],
           "xaxis": "x",
           "y": [
            0.21094411574708885
           ],
           "yaxis": "y"
          },
          {
           "alignmentgroup": "True",
           "hovertemplate": "state=%{x}<br>year=2021<br>btu_per_person=%{y}<extra></extra>",
           "legendgroup": "TN",
           "marker": {
            "color": "#00cc96",
            "pattern": {
             "shape": ""
            }
           },
           "name": "TN",
           "offsetgroup": "TN",
           "orientation": "v",
           "showlegend": true,
           "textposition": "auto",
           "type": "bar",
           "x": [
            "TN"
           ],
           "xaxis": "x",
           "y": [
            0.17807722867224923
           ],
           "yaxis": "y"
          },
          {
           "alignmentgroup": "True",
           "hovertemplate": "state=%{x}<br>year=2021<br>btu_per_person=%{y}<extra></extra>",
           "legendgroup": "TX",
           "marker": {
            "color": "#ab63fa",
            "pattern": {
             "shape": ""
            }
           },
           "name": "TX",
           "offsetgroup": "TX",
           "orientation": "v",
           "showlegend": true,
           "textposition": "auto",
           "type": "bar",
           "x": [
            "TX"
           ],
           "xaxis": "x",
           "y": [
            0.14589037161644455
           ],
           "yaxis": "y"
          },
          {
           "alignmentgroup": "True",
           "hovertemplate": "state=%{x}<br>year=2021<br>btu_per_person=%{y}<extra></extra>",
           "legendgroup": "UT",
           "marker": {
            "color": "#FFA15A",
            "pattern": {
             "shape": ""
            }
           },
           "name": "UT",
           "offsetgroup": "UT",
           "orientation": "v",
           "showlegend": true,
           "textposition": "auto",
           "type": "bar",
           "x": [
            "UT"
           ],
           "xaxis": "x",
           "y": [
            0.15521141657912296
           ],
           "yaxis": "y"
          },
          {
           "alignmentgroup": "True",
           "hovertemplate": "state=%{x}<br>year=2021<br>btu_per_person=%{y}<extra></extra>",
           "legendgroup": "VA",
           "marker": {
            "color": "#19d3f3",
            "pattern": {
             "shape": ""
            }
           },
           "name": "VA",
           "offsetgroup": "VA",
           "orientation": "v",
           "showlegend": true,
           "textposition": "auto",
           "type": "bar",
           "x": [
            "VA"
           ],
           "xaxis": "x",
           "y": [
            0.1643734316790777
           ],
           "yaxis": "y"
          },
          {
           "alignmentgroup": "True",
           "hovertemplate": "state=%{x}<br>year=2021<br>btu_per_person=%{y}<extra></extra>",
           "legendgroup": "VT",
           "marker": {
            "color": "#FF6692",
            "pattern": {
             "shape": ""
            }
           },
           "name": "VT",
           "offsetgroup": "VT",
           "orientation": "v",
           "showlegend": true,
           "textposition": "auto",
           "type": "bar",
           "x": [
            "VT"
           ],
           "xaxis": "x",
           "y": [
            0.2557437648066043
           ],
           "yaxis": "y"
          },
          {
           "alignmentgroup": "True",
           "hovertemplate": "state=%{x}<br>year=2021<br>btu_per_person=%{y}<extra></extra>",
           "legendgroup": "WA",
           "marker": {
            "color": "#B6E880",
            "pattern": {
             "shape": ""
            }
           },
           "name": "WA",
           "offsetgroup": "WA",
           "orientation": "v",
           "showlegend": true,
           "textposition": "auto",
           "type": "bar",
           "x": [
            "WA"
           ],
           "xaxis": "x",
           "y": [
            0.1601047247970757
           ],
           "yaxis": "y"
          },
          {
           "alignmentgroup": "True",
           "hovertemplate": "state=%{x}<br>year=2021<br>btu_per_person=%{y}<extra></extra>",
           "legendgroup": "WI",
           "marker": {
            "color": "#FF97FF",
            "pattern": {
             "shape": ""
            }
           },
           "name": "WI",
           "offsetgroup": "WI",
           "orientation": "v",
           "showlegend": true,
           "textposition": "auto",
           "type": "bar",
           "x": [
            "WI"
           ],
           "xaxis": "x",
           "y": [
            0.2084097933699752
           ],
           "yaxis": "y"
          },
          {
           "alignmentgroup": "True",
           "hovertemplate": "state=%{x}<br>year=2021<br>btu_per_person=%{y}<extra></extra>",
           "legendgroup": "WV",
           "marker": {
            "color": "#FECB52",
            "pattern": {
             "shape": ""
            }
           },
           "name": "WV",
           "offsetgroup": "WV",
           "orientation": "v",
           "showlegend": true,
           "textposition": "auto",
           "type": "bar",
           "x": [
            "WV"
           ],
           "xaxis": "x",
           "y": [
            0.22123972622306468
           ],
           "yaxis": "y"
          },
          {
           "alignmentgroup": "True",
           "hovertemplate": "state=%{x}<br>year=2021<br>btu_per_person=%{y}<extra></extra>",
           "legendgroup": "WY",
           "marker": {
            "color": "#636efa",
            "pattern": {
             "shape": ""
            }
           },
           "name": "WY",
           "offsetgroup": "WY",
           "orientation": "v",
           "showlegend": true,
           "textposition": "auto",
           "type": "bar",
           "x": [
            "WY"
           ],
           "xaxis": "x",
           "y": [
            0.25157364014714917
           ],
           "yaxis": "y"
          }
         ],
         "name": "2021"
        }
       ],
       "layout": {
        "barmode": "relative",
        "legend": {
         "title": {
          "text": "state"
         },
         "tracegroupgap": 0
        },
        "sliders": [
         {
          "active": 0,
          "currentvalue": {
           "prefix": "year="
          },
          "len": 0.9,
          "pad": {
           "b": 10,
           "t": 60
          },
          "steps": [
           {
            "args": [
             [
              "2019"
             ],
             {
              "frame": {
               "duration": 0,
               "redraw": true
              },
              "fromcurrent": true,
              "mode": "immediate",
              "transition": {
               "duration": 0,
               "easing": "linear"
              }
             }
            ],
            "label": "2019",
            "method": "animate"
           },
           {
            "args": [
             [
              "2020"
             ],
             {
              "frame": {
               "duration": 0,
               "redraw": true
              },
              "fromcurrent": true,
              "mode": "immediate",
              "transition": {
               "duration": 0,
               "easing": "linear"
              }
             }
            ],
            "label": "2020",
            "method": "animate"
           },
           {
            "args": [
             [
              "2021"
             ],
             {
              "frame": {
               "duration": 0,
               "redraw": true
              },
              "fromcurrent": true,
              "mode": "immediate",
              "transition": {
               "duration": 0,
               "easing": "linear"
              }
             }
            ],
            "label": "2021",
            "method": "animate"
           }
          ],
          "x": 0.1,
          "xanchor": "left",
          "y": 0,
          "yanchor": "top"
         }
        ],
        "template": {
         "data": {
          "bar": [
           {
            "error_x": {
             "color": "#2a3f5f"
            },
            "error_y": {
             "color": "#2a3f5f"
            },
            "marker": {
             "line": {
              "color": "#E5ECF6",
              "width": 0.5
             },
             "pattern": {
              "fillmode": "overlay",
              "size": 10,
              "solidity": 0.2
             }
            },
            "type": "bar"
           }
          ],
          "barpolar": [
           {
            "marker": {
             "line": {
              "color": "#E5ECF6",
              "width": 0.5
             },
             "pattern": {
              "fillmode": "overlay",
              "size": 10,
              "solidity": 0.2
             }
            },
            "type": "barpolar"
           }
          ],
          "carpet": [
           {
            "aaxis": {
             "endlinecolor": "#2a3f5f",
             "gridcolor": "white",
             "linecolor": "white",
             "minorgridcolor": "white",
             "startlinecolor": "#2a3f5f"
            },
            "baxis": {
             "endlinecolor": "#2a3f5f",
             "gridcolor": "white",
             "linecolor": "white",
             "minorgridcolor": "white",
             "startlinecolor": "#2a3f5f"
            },
            "type": "carpet"
           }
          ],
          "choropleth": [
           {
            "colorbar": {
             "outlinewidth": 0,
             "ticks": ""
            },
            "type": "choropleth"
           }
          ],
          "contour": [
           {
            "colorbar": {
             "outlinewidth": 0,
             "ticks": ""
            },
            "colorscale": [
             [
              0,
              "#0d0887"
             ],
             [
              0.1111111111111111,
              "#46039f"
             ],
             [
              0.2222222222222222,
              "#7201a8"
             ],
             [
              0.3333333333333333,
              "#9c179e"
             ],
             [
              0.4444444444444444,
              "#bd3786"
             ],
             [
              0.5555555555555556,
              "#d8576b"
             ],
             [
              0.6666666666666666,
              "#ed7953"
             ],
             [
              0.7777777777777778,
              "#fb9f3a"
             ],
             [
              0.8888888888888888,
              "#fdca26"
             ],
             [
              1,
              "#f0f921"
             ]
            ],
            "type": "contour"
           }
          ],
          "contourcarpet": [
           {
            "colorbar": {
             "outlinewidth": 0,
             "ticks": ""
            },
            "type": "contourcarpet"
           }
          ],
          "heatmap": [
           {
            "colorbar": {
             "outlinewidth": 0,
             "ticks": ""
            },
            "colorscale": [
             [
              0,
              "#0d0887"
             ],
             [
              0.1111111111111111,
              "#46039f"
             ],
             [
              0.2222222222222222,
              "#7201a8"
             ],
             [
              0.3333333333333333,
              "#9c179e"
             ],
             [
              0.4444444444444444,
              "#bd3786"
             ],
             [
              0.5555555555555556,
              "#d8576b"
             ],
             [
              0.6666666666666666,
              "#ed7953"
             ],
             [
              0.7777777777777778,
              "#fb9f3a"
             ],
             [
              0.8888888888888888,
              "#fdca26"
             ],
             [
              1,
              "#f0f921"
             ]
            ],
            "type": "heatmap"
           }
          ],
          "heatmapgl": [
           {
            "colorbar": {
             "outlinewidth": 0,
             "ticks": ""
            },
            "colorscale": [
             [
              0,
              "#0d0887"
             ],
             [
              0.1111111111111111,
              "#46039f"
             ],
             [
              0.2222222222222222,
              "#7201a8"
             ],
             [
              0.3333333333333333,
              "#9c179e"
             ],
             [
              0.4444444444444444,
              "#bd3786"
             ],
             [
              0.5555555555555556,
              "#d8576b"
             ],
             [
              0.6666666666666666,
              "#ed7953"
             ],
             [
              0.7777777777777778,
              "#fb9f3a"
             ],
             [
              0.8888888888888888,
              "#fdca26"
             ],
             [
              1,
              "#f0f921"
             ]
            ],
            "type": "heatmapgl"
           }
          ],
          "histogram": [
           {
            "marker": {
             "pattern": {
              "fillmode": "overlay",
              "size": 10,
              "solidity": 0.2
             }
            },
            "type": "histogram"
           }
          ],
          "histogram2d": [
           {
            "colorbar": {
             "outlinewidth": 0,
             "ticks": ""
            },
            "colorscale": [
             [
              0,
              "#0d0887"
             ],
             [
              0.1111111111111111,
              "#46039f"
             ],
             [
              0.2222222222222222,
              "#7201a8"
             ],
             [
              0.3333333333333333,
              "#9c179e"
             ],
             [
              0.4444444444444444,
              "#bd3786"
             ],
             [
              0.5555555555555556,
              "#d8576b"
             ],
             [
              0.6666666666666666,
              "#ed7953"
             ],
             [
              0.7777777777777778,
              "#fb9f3a"
             ],
             [
              0.8888888888888888,
              "#fdca26"
             ],
             [
              1,
              "#f0f921"
             ]
            ],
            "type": "histogram2d"
           }
          ],
          "histogram2dcontour": [
           {
            "colorbar": {
             "outlinewidth": 0,
             "ticks": ""
            },
            "colorscale": [
             [
              0,
              "#0d0887"
             ],
             [
              0.1111111111111111,
              "#46039f"
             ],
             [
              0.2222222222222222,
              "#7201a8"
             ],
             [
              0.3333333333333333,
              "#9c179e"
             ],
             [
              0.4444444444444444,
              "#bd3786"
             ],
             [
              0.5555555555555556,
              "#d8576b"
             ],
             [
              0.6666666666666666,
              "#ed7953"
             ],
             [
              0.7777777777777778,
              "#fb9f3a"
             ],
             [
              0.8888888888888888,
              "#fdca26"
             ],
             [
              1,
              "#f0f921"
             ]
            ],
            "type": "histogram2dcontour"
           }
          ],
          "mesh3d": [
           {
            "colorbar": {
             "outlinewidth": 0,
             "ticks": ""
            },
            "type": "mesh3d"
           }
          ],
          "parcoords": [
           {
            "line": {
             "colorbar": {
              "outlinewidth": 0,
              "ticks": ""
             }
            },
            "type": "parcoords"
           }
          ],
          "pie": [
           {
            "automargin": true,
            "type": "pie"
           }
          ],
          "scatter": [
           {
            "fillpattern": {
             "fillmode": "overlay",
             "size": 10,
             "solidity": 0.2
            },
            "type": "scatter"
           }
          ],
          "scatter3d": [
           {
            "line": {
             "colorbar": {
              "outlinewidth": 0,
              "ticks": ""
             }
            },
            "marker": {
             "colorbar": {
              "outlinewidth": 0,
              "ticks": ""
             }
            },
            "type": "scatter3d"
           }
          ],
          "scattercarpet": [
           {
            "marker": {
             "colorbar": {
              "outlinewidth": 0,
              "ticks": ""
             }
            },
            "type": "scattercarpet"
           }
          ],
          "scattergeo": [
           {
            "marker": {
             "colorbar": {
              "outlinewidth": 0,
              "ticks": ""
             }
            },
            "type": "scattergeo"
           }
          ],
          "scattergl": [
           {
            "marker": {
             "colorbar": {
              "outlinewidth": 0,
              "ticks": ""
             }
            },
            "type": "scattergl"
           }
          ],
          "scattermapbox": [
           {
            "marker": {
             "colorbar": {
              "outlinewidth": 0,
              "ticks": ""
             }
            },
            "type": "scattermapbox"
           }
          ],
          "scatterpolar": [
           {
            "marker": {
             "colorbar": {
              "outlinewidth": 0,
              "ticks": ""
             }
            },
            "type": "scatterpolar"
           }
          ],
          "scatterpolargl": [
           {
            "marker": {
             "colorbar": {
              "outlinewidth": 0,
              "ticks": ""
             }
            },
            "type": "scatterpolargl"
           }
          ],
          "scatterternary": [
           {
            "marker": {
             "colorbar": {
              "outlinewidth": 0,
              "ticks": ""
             }
            },
            "type": "scatterternary"
           }
          ],
          "surface": [
           {
            "colorbar": {
             "outlinewidth": 0,
             "ticks": ""
            },
            "colorscale": [
             [
              0,
              "#0d0887"
             ],
             [
              0.1111111111111111,
              "#46039f"
             ],
             [
              0.2222222222222222,
              "#7201a8"
             ],
             [
              0.3333333333333333,
              "#9c179e"
             ],
             [
              0.4444444444444444,
              "#bd3786"
             ],
             [
              0.5555555555555556,
              "#d8576b"
             ],
             [
              0.6666666666666666,
              "#ed7953"
             ],
             [
              0.7777777777777778,
              "#fb9f3a"
             ],
             [
              0.8888888888888888,
              "#fdca26"
             ],
             [
              1,
              "#f0f921"
             ]
            ],
            "type": "surface"
           }
          ],
          "table": [
           {
            "cells": {
             "fill": {
              "color": "#EBF0F8"
             },
             "line": {
              "color": "white"
             }
            },
            "header": {
             "fill": {
              "color": "#C8D4E3"
             },
             "line": {
              "color": "white"
             }
            },
            "type": "table"
           }
          ]
         },
         "layout": {
          "annotationdefaults": {
           "arrowcolor": "#2a3f5f",
           "arrowhead": 0,
           "arrowwidth": 1
          },
          "autotypenumbers": "strict",
          "coloraxis": {
           "colorbar": {
            "outlinewidth": 0,
            "ticks": ""
           }
          },
          "colorscale": {
           "diverging": [
            [
             0,
             "#8e0152"
            ],
            [
             0.1,
             "#c51b7d"
            ],
            [
             0.2,
             "#de77ae"
            ],
            [
             0.3,
             "#f1b6da"
            ],
            [
             0.4,
             "#fde0ef"
            ],
            [
             0.5,
             "#f7f7f7"
            ],
            [
             0.6,
             "#e6f5d0"
            ],
            [
             0.7,
             "#b8e186"
            ],
            [
             0.8,
             "#7fbc41"
            ],
            [
             0.9,
             "#4d9221"
            ],
            [
             1,
             "#276419"
            ]
           ],
           "sequential": [
            [
             0,
             "#0d0887"
            ],
            [
             0.1111111111111111,
             "#46039f"
            ],
            [
             0.2222222222222222,
             "#7201a8"
            ],
            [
             0.3333333333333333,
             "#9c179e"
            ],
            [
             0.4444444444444444,
             "#bd3786"
            ],
            [
             0.5555555555555556,
             "#d8576b"
            ],
            [
             0.6666666666666666,
             "#ed7953"
            ],
            [
             0.7777777777777778,
             "#fb9f3a"
            ],
            [
             0.8888888888888888,
             "#fdca26"
            ],
            [
             1,
             "#f0f921"
            ]
           ],
           "sequentialminus": [
            [
             0,
             "#0d0887"
            ],
            [
             0.1111111111111111,
             "#46039f"
            ],
            [
             0.2222222222222222,
             "#7201a8"
            ],
            [
             0.3333333333333333,
             "#9c179e"
            ],
            [
             0.4444444444444444,
             "#bd3786"
            ],
            [
             0.5555555555555556,
             "#d8576b"
            ],
            [
             0.6666666666666666,
             "#ed7953"
            ],
            [
             0.7777777777777778,
             "#fb9f3a"
            ],
            [
             0.8888888888888888,
             "#fdca26"
            ],
            [
             1,
             "#f0f921"
            ]
           ]
          },
          "colorway": [
           "#636efa",
           "#EF553B",
           "#00cc96",
           "#ab63fa",
           "#FFA15A",
           "#19d3f3",
           "#FF6692",
           "#B6E880",
           "#FF97FF",
           "#FECB52"
          ],
          "font": {
           "color": "#2a3f5f"
          },
          "geo": {
           "bgcolor": "white",
           "lakecolor": "white",
           "landcolor": "#E5ECF6",
           "showlakes": true,
           "showland": true,
           "subunitcolor": "white"
          },
          "hoverlabel": {
           "align": "left"
          },
          "hovermode": "closest",
          "mapbox": {
           "style": "light"
          },
          "paper_bgcolor": "white",
          "plot_bgcolor": "#E5ECF6",
          "polar": {
           "angularaxis": {
            "gridcolor": "white",
            "linecolor": "white",
            "ticks": ""
           },
           "bgcolor": "#E5ECF6",
           "radialaxis": {
            "gridcolor": "white",
            "linecolor": "white",
            "ticks": ""
           }
          },
          "scene": {
           "xaxis": {
            "backgroundcolor": "#E5ECF6",
            "gridcolor": "white",
            "gridwidth": 2,
            "linecolor": "white",
            "showbackground": true,
            "ticks": "",
            "zerolinecolor": "white"
           },
           "yaxis": {
            "backgroundcolor": "#E5ECF6",
            "gridcolor": "white",
            "gridwidth": 2,
            "linecolor": "white",
            "showbackground": true,
            "ticks": "",
            "zerolinecolor": "white"
           },
           "zaxis": {
            "backgroundcolor": "#E5ECF6",
            "gridcolor": "white",
            "gridwidth": 2,
            "linecolor": "white",
            "showbackground": true,
            "ticks": "",
            "zerolinecolor": "white"
           }
          },
          "shapedefaults": {
           "line": {
            "color": "#2a3f5f"
           }
          },
          "ternary": {
           "aaxis": {
            "gridcolor": "white",
            "linecolor": "white",
            "ticks": ""
           },
           "baxis": {
            "gridcolor": "white",
            "linecolor": "white",
            "ticks": ""
           },
           "bgcolor": "#E5ECF6",
           "caxis": {
            "gridcolor": "white",
            "linecolor": "white",
            "ticks": ""
           }
          },
          "title": {
           "x": 0.05
          },
          "xaxis": {
           "automargin": true,
           "gridcolor": "white",
           "linecolor": "white",
           "ticks": "",
           "title": {
            "standoff": 15
           },
           "zerolinecolor": "white",
           "zerolinewidth": 2
          },
          "yaxis": {
           "automargin": true,
           "gridcolor": "white",
           "linecolor": "white",
           "ticks": "",
           "title": {
            "standoff": 15
           },
           "zerolinecolor": "white",
           "zerolinewidth": 2
          }
         }
        },
        "title": {
         "text": "United States residential energy consumption PER CAPITA (BTU)"
        },
        "updatemenus": [
         {
          "buttons": [
           {
            "args": [
             null,
             {
              "frame": {
               "duration": 500,
               "redraw": true
              },
              "fromcurrent": true,
              "mode": "immediate",
              "transition": {
               "duration": 500,
               "easing": "linear"
              }
             }
            ],
            "label": "&#9654;",
            "method": "animate"
           },
           {
            "args": [
             [
              null
             ],
             {
              "frame": {
               "duration": 0,
               "redraw": true
              },
              "fromcurrent": true,
              "mode": "immediate",
              "transition": {
               "duration": 0,
               "easing": "linear"
              }
             }
            ],
            "label": "&#9724;",
            "method": "animate"
           }
          ],
          "direction": "left",
          "pad": {
           "r": 10,
           "t": 70
          },
          "showactive": false,
          "type": "buttons",
          "x": 0.1,
          "xanchor": "right",
          "y": 0,
          "yanchor": "top"
         }
        ],
        "xaxis": {
         "anchor": "y",
         "categoryarray": [
          "AK",
          "AL",
          "AR",
          "AZ",
          "CA",
          "CO",
          "CT",
          "DC",
          "DE",
          "FL",
          "GA",
          "HI",
          "IA",
          "ID",
          "IL",
          "IN",
          "KS",
          "KY",
          "LA",
          "MA",
          "MD",
          "ME",
          "MI",
          "MN",
          "MO",
          "MS",
          "MT",
          "NC",
          "ND",
          "NE",
          "NH",
          "NJ",
          "NM",
          "NV",
          "NY",
          "OH",
          "OK",
          "OR",
          "PA",
          "RI",
          "SC",
          "SD",
          "TN",
          "TX",
          "UT",
          "VA",
          "VT",
          "WA",
          "WI",
          "WV",
          "WY"
         ],
         "categoryorder": "total ascending",
         "domain": [
          0,
          1
         ],
         "title": {
          "text": "state"
         }
        },
        "yaxis": {
         "anchor": "x",
         "domain": [
          0,
          1
         ],
         "range": [
          0,
          0.2884692006596301
         ],
         "title": {
          "text": "btu_per_person"
         }
        }
       }
      },
      "text/html": [
       "<div>                            <div id=\"be8c52ae-a3af-44a7-8ee4-b4dc4ffcb7a6\" class=\"plotly-graph-div\" style=\"height:525px; width:100%;\"></div>            <script type=\"text/javascript\">                require([\"plotly\"], function(Plotly) {                    window.PLOTLYENV=window.PLOTLYENV || {};                                    if (document.getElementById(\"be8c52ae-a3af-44a7-8ee4-b4dc4ffcb7a6\")) {                    Plotly.newPlot(                        \"be8c52ae-a3af-44a7-8ee4-b4dc4ffcb7a6\",                        [{\"alignmentgroup\":\"True\",\"hovertemplate\":\"state=%{x}<br>year=2019<br>btu_per_person=%{y}<extra></extra>\",\"legendgroup\":\"AK\",\"marker\":{\"color\":\"#636efa\",\"pattern\":{\"shape\":\"\"}},\"name\":\"AK\",\"offsetgroup\":\"AK\",\"orientation\":\"v\",\"showlegend\":true,\"textposition\":\"auto\",\"x\":[\"AK\"],\"xaxis\":\"x\",\"y\":[0.20040525025430408],\"yaxis\":\"y\",\"type\":\"bar\"},{\"alignmentgroup\":\"True\",\"hovertemplate\":\"state=%{x}<br>year=2019<br>btu_per_person=%{y}<extra></extra>\",\"legendgroup\":\"AL\",\"marker\":{\"color\":\"#EF553B\",\"pattern\":{\"shape\":\"\"}},\"name\":\"AL\",\"offsetgroup\":\"AL\",\"orientation\":\"v\",\"showlegend\":true,\"textposition\":\"auto\",\"x\":[\"AL\"],\"xaxis\":\"x\",\"y\":[0.1713136213764561],\"yaxis\":\"y\",\"type\":\"bar\"},{\"alignmentgroup\":\"True\",\"hovertemplate\":\"state=%{x}<br>year=2019<br>btu_per_person=%{y}<extra></extra>\",\"legendgroup\":\"AR\",\"marker\":{\"color\":\"#00cc96\",\"pattern\":{\"shape\":\"\"}},\"name\":\"AR\",\"offsetgroup\":\"AR\",\"orientation\":\"v\",\"showlegend\":true,\"textposition\":\"auto\",\"x\":[\"AR\"],\"xaxis\":\"x\",\"y\":[0.19271921872561423],\"yaxis\":\"y\",\"type\":\"bar\"},{\"alignmentgroup\":\"True\",\"hovertemplate\":\"state=%{x}<br>year=2019<br>btu_per_person=%{y}<extra></extra>\",\"legendgroup\":\"AZ\",\"marker\":{\"color\":\"#ab63fa\",\"pattern\":{\"shape\":\"\"}},\"name\":\"AZ\",\"offsetgroup\":\"AZ\",\"orientation\":\"v\",\"showlegend\":true,\"textposition\":\"auto\",\"x\":[\"AZ\"],\"xaxis\":\"x\",\"y\":[0.14728421819689624],\"yaxis\":\"y\",\"type\":\"bar\"},{\"alignmentgroup\":\"True\",\"hovertemplate\":\"state=%{x}<br>year=2019<br>btu_per_person=%{y}<extra></extra>\",\"legendgroup\":\"CA\",\"marker\":{\"color\":\"#FFA15A\",\"pattern\":{\"shape\":\"\"}},\"name\":\"CA\",\"offsetgroup\":\"CA\",\"orientation\":\"v\",\"showlegend\":true,\"textposition\":\"auto\",\"x\":[\"CA\"],\"xaxis\":\"x\",\"y\":[0.10191315682155784],\"yaxis\":\"y\",\"type\":\"bar\"},{\"alignmentgroup\":\"True\",\"hovertemplate\":\"state=%{x}<br>year=2019<br>btu_per_person=%{y}<extra></extra>\",\"legendgroup\":\"CO\",\"marker\":{\"color\":\"#19d3f3\",\"pattern\":{\"shape\":\"\"}},\"name\":\"CO\",\"offsetgroup\":\"CO\",\"orientation\":\"v\",\"showlegend\":true,\"textposition\":\"auto\",\"x\":[\"CO\"],\"xaxis\":\"x\",\"y\":[0.18301552191685516],\"yaxis\":\"y\",\"type\":\"bar\"},{\"alignmentgroup\":\"True\",\"hovertemplate\":\"state=%{x}<br>year=2019<br>btu_per_person=%{y}<extra></extra>\",\"legendgroup\":\"CT\",\"marker\":{\"color\":\"#FF6692\",\"pattern\":{\"shape\":\"\"}},\"name\":\"CT\",\"offsetgroup\":\"CT\",\"orientation\":\"v\",\"showlegend\":true,\"textposition\":\"auto\",\"x\":[\"CT\"],\"xaxis\":\"x\",\"y\":[0.20233632989379663],\"yaxis\":\"y\",\"type\":\"bar\"},{\"alignmentgroup\":\"True\",\"hovertemplate\":\"state=%{x}<br>year=2019<br>btu_per_person=%{y}<extra></extra>\",\"legendgroup\":\"DC\",\"marker\":{\"color\":\"#B6E880\",\"pattern\":{\"shape\":\"\"}},\"name\":\"DC\",\"offsetgroup\":\"DC\",\"orientation\":\"v\",\"showlegend\":true,\"textposition\":\"auto\",\"x\":[\"DC\"],\"xaxis\":\"x\",\"y\":[0.14628423256974132],\"yaxis\":\"y\",\"type\":\"bar\"},{\"alignmentgroup\":\"True\",\"hovertemplate\":\"state=%{x}<br>year=2019<br>btu_per_person=%{y}<extra></extra>\",\"legendgroup\":\"DE\",\"marker\":{\"color\":\"#FF97FF\",\"pattern\":{\"shape\":\"\"}},\"name\":\"DE\",\"offsetgroup\":\"DE\",\"orientation\":\"v\",\"showlegend\":true,\"textposition\":\"auto\",\"x\":[\"DE\"],\"xaxis\":\"x\",\"y\":[0.1788875352797021],\"yaxis\":\"y\",\"type\":\"bar\"},{\"alignmentgroup\":\"True\",\"hovertemplate\":\"state=%{x}<br>year=2019<br>btu_per_person=%{y}<extra></extra>\",\"legendgroup\":\"FL\",\"marker\":{\"color\":\"#FECB52\",\"pattern\":{\"shape\":\"\"}},\"name\":\"FL\",\"offsetgroup\":\"FL\",\"orientation\":\"v\",\"showlegend\":true,\"textposition\":\"auto\",\"x\":[\"FL\"],\"xaxis\":\"x\",\"y\":[0.13532123551922778],\"yaxis\":\"y\",\"type\":\"bar\"},{\"alignmentgroup\":\"True\",\"hovertemplate\":\"state=%{x}<br>year=2019<br>btu_per_person=%{y}<extra></extra>\",\"legendgroup\":\"GA\",\"marker\":{\"color\":\"#636efa\",\"pattern\":{\"shape\":\"\"}},\"name\":\"GA\",\"offsetgroup\":\"GA\",\"orientation\":\"v\",\"showlegend\":true,\"textposition\":\"auto\",\"x\":[\"GA\"],\"xaxis\":\"x\",\"y\":[0.1675446488449305],\"yaxis\":\"y\",\"type\":\"bar\"},{\"alignmentgroup\":\"True\",\"hovertemplate\":\"state=%{x}<br>year=2019<br>btu_per_person=%{y}<extra></extra>\",\"legendgroup\":\"HI\",\"marker\":{\"color\":\"#EF553B\",\"pattern\":{\"shape\":\"\"}},\"name\":\"HI\",\"offsetgroup\":\"HI\",\"orientation\":\"v\",\"showlegend\":true,\"textposition\":\"auto\",\"x\":[\"HI\"],\"xaxis\":\"x\",\"y\":[0.0667262659815265],\"yaxis\":\"y\",\"type\":\"bar\"},{\"alignmentgroup\":\"True\",\"hovertemplate\":\"state=%{x}<br>year=2019<br>btu_per_person=%{y}<extra></extra>\",\"legendgroup\":\"IA\",\"marker\":{\"color\":\"#00cc96\",\"pattern\":{\"shape\":\"\"}},\"name\":\"IA\",\"offsetgroup\":\"IA\",\"orientation\":\"v\",\"showlegend\":true,\"textposition\":\"auto\",\"x\":[\"IA\"],\"xaxis\":\"x\",\"y\":[0.22379606240794728],\"yaxis\":\"y\",\"type\":\"bar\"},{\"alignmentgroup\":\"True\",\"hovertemplate\":\"state=%{x}<br>year=2019<br>btu_per_person=%{y}<extra></extra>\",\"legendgroup\":\"ID\",\"marker\":{\"color\":\"#ab63fa\",\"pattern\":{\"shape\":\"\"}},\"name\":\"ID\",\"offsetgroup\":\"ID\",\"orientation\":\"v\",\"showlegend\":true,\"textposition\":\"auto\",\"x\":[\"ID\"],\"xaxis\":\"x\",\"y\":[0.20939178964687946],\"yaxis\":\"y\",\"type\":\"bar\"},{\"alignmentgroup\":\"True\",\"hovertemplate\":\"state=%{x}<br>year=2019<br>btu_per_person=%{y}<extra></extra>\",\"legendgroup\":\"IL\",\"marker\":{\"color\":\"#FFA15A\",\"pattern\":{\"shape\":\"\"}},\"name\":\"IL\",\"offsetgroup\":\"IL\",\"orientation\":\"v\",\"showlegend\":true,\"textposition\":\"auto\",\"x\":[\"IL\"],\"xaxis\":\"x\",\"y\":[0.2074648169047742],\"yaxis\":\"y\",\"type\":\"bar\"},{\"alignmentgroup\":\"True\",\"hovertemplate\":\"state=%{x}<br>year=2019<br>btu_per_person=%{y}<extra></extra>\",\"legendgroup\":\"IN\",\"marker\":{\"color\":\"#19d3f3\",\"pattern\":{\"shape\":\"\"}},\"name\":\"IN\",\"offsetgroup\":\"IN\",\"orientation\":\"v\",\"showlegend\":true,\"textposition\":\"auto\",\"x\":[\"IN\"],\"xaxis\":\"x\",\"y\":[0.20907112609613346],\"yaxis\":\"y\",\"type\":\"bar\"},{\"alignmentgroup\":\"True\",\"hovertemplate\":\"state=%{x}<br>year=2019<br>btu_per_person=%{y}<extra></extra>\",\"legendgroup\":\"KS\",\"marker\":{\"color\":\"#FF6692\",\"pattern\":{\"shape\":\"\"}},\"name\":\"KS\",\"offsetgroup\":\"KS\",\"orientation\":\"v\",\"showlegend\":true,\"textposition\":\"auto\",\"x\":[\"KS\"],\"xaxis\":\"x\",\"y\":[0.20860361456650903],\"yaxis\":\"y\",\"type\":\"bar\"},{\"alignmentgroup\":\"True\",\"hovertemplate\":\"state=%{x}<br>year=2019<br>btu_per_person=%{y}<extra></extra>\",\"legendgroup\":\"KY\",\"marker\":{\"color\":\"#B6E880\",\"pattern\":{\"shape\":\"\"}},\"name\":\"KY\",\"offsetgroup\":\"KY\",\"orientation\":\"v\",\"showlegend\":true,\"textposition\":\"auto\",\"x\":[\"KY\"],\"xaxis\":\"x\",\"y\":[0.19913401180614593],\"yaxis\":\"y\",\"type\":\"bar\"},{\"alignmentgroup\":\"True\",\"hovertemplate\":\"state=%{x}<br>year=2019<br>btu_per_person=%{y}<extra></extra>\",\"legendgroup\":\"LA\",\"marker\":{\"color\":\"#FF97FF\",\"pattern\":{\"shape\":\"\"}},\"name\":\"LA\",\"offsetgroup\":\"LA\",\"orientation\":\"v\",\"showlegend\":true,\"textposition\":\"auto\",\"x\":[\"LA\"],\"xaxis\":\"x\",\"y\":[0.17014117225247624],\"yaxis\":\"y\",\"type\":\"bar\"},{\"alignmentgroup\":\"True\",\"hovertemplate\":\"state=%{x}<br>year=2019<br>btu_per_person=%{y}<extra></extra>\",\"legendgroup\":\"MA\",\"marker\":{\"color\":\"#FECB52\",\"pattern\":{\"shape\":\"\"}},\"name\":\"MA\",\"offsetgroup\":\"MA\",\"orientation\":\"v\",\"showlegend\":true,\"textposition\":\"auto\",\"x\":[\"MA\"],\"xaxis\":\"x\",\"y\":[0.1833174011468615],\"yaxis\":\"y\",\"type\":\"bar\"},{\"alignmentgroup\":\"True\",\"hovertemplate\":\"state=%{x}<br>year=2019<br>btu_per_person=%{y}<extra></extra>\",\"legendgroup\":\"MD\",\"marker\":{\"color\":\"#636efa\",\"pattern\":{\"shape\":\"\"}},\"name\":\"MD\",\"offsetgroup\":\"MD\",\"orientation\":\"v\",\"showlegend\":true,\"textposition\":\"auto\",\"x\":[\"MD\"],\"xaxis\":\"x\",\"y\":[0.16747800357213796],\"yaxis\":\"y\",\"type\":\"bar\"},{\"alignmentgroup\":\"True\",\"hovertemplate\":\"state=%{x}<br>year=2019<br>btu_per_person=%{y}<extra></extra>\",\"legendgroup\":\"ME\",\"marker\":{\"color\":\"#EF553B\",\"pattern\":{\"shape\":\"\"}},\"name\":\"ME\",\"offsetgroup\":\"ME\",\"orientation\":\"v\",\"showlegend\":true,\"textposition\":\"auto\",\"x\":[\"ME\"],\"xaxis\":\"x\",\"y\":[0.2682417617081274],\"yaxis\":\"y\",\"type\":\"bar\"},{\"alignmentgroup\":\"True\",\"hovertemplate\":\"state=%{x}<br>year=2019<br>btu_per_person=%{y}<extra></extra>\",\"legendgroup\":\"MI\",\"marker\":{\"color\":\"#00cc96\",\"pattern\":{\"shape\":\"\"}},\"name\":\"MI\",\"offsetgroup\":\"MI\",\"orientation\":\"v\",\"showlegend\":true,\"textposition\":\"auto\",\"x\":[\"MI\"],\"xaxis\":\"x\",\"y\":[0.22383498414415867],\"yaxis\":\"y\",\"type\":\"bar\"},{\"alignmentgroup\":\"True\",\"hovertemplate\":\"state=%{x}<br>year=2019<br>btu_per_person=%{y}<extra></extra>\",\"legendgroup\":\"MN\",\"marker\":{\"color\":\"#ab63fa\",\"pattern\":{\"shape\":\"\"}},\"name\":\"MN\",\"offsetgroup\":\"MN\",\"orientation\":\"v\",\"showlegend\":true,\"textposition\":\"auto\",\"x\":[\"MN\"],\"xaxis\":\"x\",\"y\":[0.21200237470920677],\"yaxis\":\"y\",\"type\":\"bar\"},{\"alignmentgroup\":\"True\",\"hovertemplate\":\"state=%{x}<br>year=2019<br>btu_per_person=%{y}<extra></extra>\",\"legendgroup\":\"MO\",\"marker\":{\"color\":\"#FFA15A\",\"pattern\":{\"shape\":\"\"}},\"name\":\"MO\",\"offsetgroup\":\"MO\",\"orientation\":\"v\",\"showlegend\":true,\"textposition\":\"auto\",\"x\":[\"MO\"],\"xaxis\":\"x\",\"y\":[0.2271618545842175],\"yaxis\":\"y\",\"type\":\"bar\"},{\"alignmentgroup\":\"True\",\"hovertemplate\":\"state=%{x}<br>year=2019<br>btu_per_person=%{y}<extra></extra>\",\"legendgroup\":\"MS\",\"marker\":{\"color\":\"#19d3f3\",\"pattern\":{\"shape\":\"\"}},\"name\":\"MS\",\"offsetgroup\":\"MS\",\"orientation\":\"v\",\"showlegend\":true,\"textposition\":\"auto\",\"x\":[\"MS\"],\"xaxis\":\"x\",\"y\":[0.16943605287666996],\"yaxis\":\"y\",\"type\":\"bar\"},{\"alignmentgroup\":\"True\",\"hovertemplate\":\"state=%{x}<br>year=2019<br>btu_per_person=%{y}<extra></extra>\",\"legendgroup\":\"MT\",\"marker\":{\"color\":\"#FF6692\",\"pattern\":{\"shape\":\"\"}},\"name\":\"MT\",\"offsetgroup\":\"MT\",\"orientation\":\"v\",\"showlegend\":true,\"textposition\":\"auto\",\"x\":[\"MT\"],\"xaxis\":\"x\",\"y\":[0.2884692006596301],\"yaxis\":\"y\",\"type\":\"bar\"},{\"alignmentgroup\":\"True\",\"hovertemplate\":\"state=%{x}<br>year=2019<br>btu_per_person=%{y}<extra></extra>\",\"legendgroup\":\"NC\",\"marker\":{\"color\":\"#B6E880\",\"pattern\":{\"shape\":\"\"}},\"name\":\"NC\",\"offsetgroup\":\"NC\",\"orientation\":\"v\",\"showlegend\":true,\"textposition\":\"auto\",\"x\":[\"NC\"],\"xaxis\":\"x\",\"y\":[0.16797776589763896],\"yaxis\":\"y\",\"type\":\"bar\"},{\"alignmentgroup\":\"True\",\"hovertemplate\":\"state=%{x}<br>year=2019<br>btu_per_person=%{y}<extra></extra>\",\"legendgroup\":\"ND\",\"marker\":{\"color\":\"#FF97FF\",\"pattern\":{\"shape\":\"\"}},\"name\":\"ND\",\"offsetgroup\":\"ND\",\"orientation\":\"v\",\"showlegend\":true,\"textposition\":\"auto\",\"x\":[\"ND\"],\"xaxis\":\"x\",\"y\":[0.2814361573088223],\"yaxis\":\"y\",\"type\":\"bar\"},{\"alignmentgroup\":\"True\",\"hovertemplate\":\"state=%{x}<br>year=2019<br>btu_per_person=%{y}<extra></extra>\",\"legendgroup\":\"NE\",\"marker\":{\"color\":\"#FECB52\",\"pattern\":{\"shape\":\"\"}},\"name\":\"NE\",\"offsetgroup\":\"NE\",\"orientation\":\"v\",\"showlegend\":true,\"textposition\":\"auto\",\"x\":[\"NE\"],\"xaxis\":\"x\",\"y\":[0.2290438412509907],\"yaxis\":\"y\",\"type\":\"bar\"},{\"alignmentgroup\":\"True\",\"hovertemplate\":\"state=%{x}<br>year=2019<br>btu_per_person=%{y}<extra></extra>\",\"legendgroup\":\"NH\",\"marker\":{\"color\":\"#636efa\",\"pattern\":{\"shape\":\"\"}},\"name\":\"NH\",\"offsetgroup\":\"NH\",\"orientation\":\"v\",\"showlegend\":true,\"textposition\":\"auto\",\"x\":[\"NH\"],\"xaxis\":\"x\",\"y\":[0.2504871058507874],\"yaxis\":\"y\",\"type\":\"bar\"},{\"alignmentgroup\":\"True\",\"hovertemplate\":\"state=%{x}<br>year=2019<br>btu_per_person=%{y}<extra></extra>\",\"legendgroup\":\"NJ\",\"marker\":{\"color\":\"#EF553B\",\"pattern\":{\"shape\":\"\"}},\"name\":\"NJ\",\"offsetgroup\":\"NJ\",\"orientation\":\"v\",\"showlegend\":true,\"textposition\":\"auto\",\"x\":[\"NJ\"],\"xaxis\":\"x\",\"y\":[0.16834766222856853],\"yaxis\":\"y\",\"type\":\"bar\"},{\"alignmentgroup\":\"True\",\"hovertemplate\":\"state=%{x}<br>year=2019<br>btu_per_person=%{y}<extra></extra>\",\"legendgroup\":\"NM\",\"marker\":{\"color\":\"#00cc96\",\"pattern\":{\"shape\":\"\"}},\"name\":\"NM\",\"offsetgroup\":\"NM\",\"orientation\":\"v\",\"showlegend\":true,\"textposition\":\"auto\",\"x\":[\"NM\"],\"xaxis\":\"x\",\"y\":[0.17807818089514882],\"yaxis\":\"y\",\"type\":\"bar\"},{\"alignmentgroup\":\"True\",\"hovertemplate\":\"state=%{x}<br>year=2019<br>btu_per_person=%{y}<extra></extra>\",\"legendgroup\":\"NV\",\"marker\":{\"color\":\"#ab63fa\",\"pattern\":{\"shape\":\"\"}},\"name\":\"NV\",\"offsetgroup\":\"NV\",\"orientation\":\"v\",\"showlegend\":true,\"textposition\":\"auto\",\"x\":[\"NV\"],\"xaxis\":\"x\",\"y\":[0.15074484227845172],\"yaxis\":\"y\",\"type\":\"bar\"},{\"alignmentgroup\":\"True\",\"hovertemplate\":\"state=%{x}<br>year=2019<br>btu_per_person=%{y}<extra></extra>\",\"legendgroup\":\"NY\",\"marker\":{\"color\":\"#FFA15A\",\"pattern\":{\"shape\":\"\"}},\"name\":\"NY\",\"offsetgroup\":\"NY\",\"orientation\":\"v\",\"showlegend\":true,\"textposition\":\"auto\",\"x\":[\"NY\"],\"xaxis\":\"x\",\"y\":[0.16502589801567344],\"yaxis\":\"y\",\"type\":\"bar\"},{\"alignmentgroup\":\"True\",\"hovertemplate\":\"state=%{x}<br>year=2019<br>btu_per_person=%{y}<extra></extra>\",\"legendgroup\":\"OH\",\"marker\":{\"color\":\"#19d3f3\",\"pattern\":{\"shape\":\"\"}},\"name\":\"OH\",\"offsetgroup\":\"OH\",\"orientation\":\"v\",\"showlegend\":true,\"textposition\":\"auto\",\"x\":[\"OH\"],\"xaxis\":\"x\",\"y\":[0.20008871689420357],\"yaxis\":\"y\",\"type\":\"bar\"},{\"alignmentgroup\":\"True\",\"hovertemplate\":\"state=%{x}<br>year=2019<br>btu_per_person=%{y}<extra></extra>\",\"legendgroup\":\"OK\",\"marker\":{\"color\":\"#FF6692\",\"pattern\":{\"shape\":\"\"}},\"name\":\"OK\",\"offsetgroup\":\"OK\",\"orientation\":\"v\",\"showlegend\":true,\"textposition\":\"auto\",\"x\":[\"OK\"],\"xaxis\":\"x\",\"y\":[0.19804334533596032],\"yaxis\":\"y\",\"type\":\"bar\"},{\"alignmentgroup\":\"True\",\"hovertemplate\":\"state=%{x}<br>year=2019<br>btu_per_person=%{y}<extra></extra>\",\"legendgroup\":\"OR\",\"marker\":{\"color\":\"#B6E880\",\"pattern\":{\"shape\":\"\"}},\"name\":\"OR\",\"offsetgroup\":\"OR\",\"orientation\":\"v\",\"showlegend\":true,\"textposition\":\"auto\",\"x\":[\"OR\"],\"xaxis\":\"x\",\"y\":[0.16521876421165566],\"yaxis\":\"y\",\"type\":\"bar\"},{\"alignmentgroup\":\"True\",\"hovertemplate\":\"state=%{x}<br>year=2019<br>btu_per_person=%{y}<extra></extra>\",\"legendgroup\":\"PA\",\"marker\":{\"color\":\"#FF97FF\",\"pattern\":{\"shape\":\"\"}},\"name\":\"PA\",\"offsetgroup\":\"PA\",\"orientation\":\"v\",\"showlegend\":true,\"textposition\":\"auto\",\"x\":[\"PA\"],\"xaxis\":\"x\",\"y\":[0.19214102390964152],\"yaxis\":\"y\",\"type\":\"bar\"},{\"alignmentgroup\":\"True\",\"hovertemplate\":\"state=%{x}<br>year=2019<br>btu_per_person=%{y}<extra></extra>\",\"legendgroup\":\"RI\",\"marker\":{\"color\":\"#FECB52\",\"pattern\":{\"shape\":\"\"}},\"name\":\"RI\",\"offsetgroup\":\"RI\",\"orientation\":\"v\",\"showlegend\":true,\"textposition\":\"auto\",\"x\":[\"RI\"],\"xaxis\":\"x\",\"y\":[0.16947231155188172],\"yaxis\":\"y\",\"type\":\"bar\"},{\"alignmentgroup\":\"True\",\"hovertemplate\":\"state=%{x}<br>year=2019<br>btu_per_person=%{y}<extra></extra>\",\"legendgroup\":\"SC\",\"marker\":{\"color\":\"#636efa\",\"pattern\":{\"shape\":\"\"}},\"name\":\"SC\",\"offsetgroup\":\"SC\",\"orientation\":\"v\",\"showlegend\":true,\"textposition\":\"auto\",\"x\":[\"SC\"],\"xaxis\":\"x\",\"y\":[0.17449694456611822],\"yaxis\":\"y\",\"type\":\"bar\"},{\"alignmentgroup\":\"True\",\"hovertemplate\":\"state=%{x}<br>year=2019<br>btu_per_person=%{y}<extra></extra>\",\"legendgroup\":\"SD\",\"marker\":{\"color\":\"#EF553B\",\"pattern\":{\"shape\":\"\"}},\"name\":\"SD\",\"offsetgroup\":\"SD\",\"orientation\":\"v\",\"showlegend\":true,\"textposition\":\"auto\",\"x\":[\"SD\"],\"xaxis\":\"x\",\"y\":[0.23235077841988208],\"yaxis\":\"y\",\"type\":\"bar\"},{\"alignmentgroup\":\"True\",\"hovertemplate\":\"state=%{x}<br>year=2019<br>btu_per_person=%{y}<extra></extra>\",\"legendgroup\":\"TN\",\"marker\":{\"color\":\"#00cc96\",\"pattern\":{\"shape\":\"\"}},\"name\":\"TN\",\"offsetgroup\":\"TN\",\"orientation\":\"v\",\"showlegend\":true,\"textposition\":\"auto\",\"x\":[\"TN\"],\"xaxis\":\"x\",\"y\":[0.1891369520051699],\"yaxis\":\"y\",\"type\":\"bar\"},{\"alignmentgroup\":\"True\",\"hovertemplate\":\"state=%{x}<br>year=2019<br>btu_per_person=%{y}<extra></extra>\",\"legendgroup\":\"TX\",\"marker\":{\"color\":\"#ab63fa\",\"pattern\":{\"shape\":\"\"}},\"name\":\"TX\",\"offsetgroup\":\"TX\",\"orientation\":\"v\",\"showlegend\":true,\"textposition\":\"auto\",\"x\":[\"TX\"],\"xaxis\":\"x\",\"y\":[0.15061965570691477],\"yaxis\":\"y\",\"type\":\"bar\"},{\"alignmentgroup\":\"True\",\"hovertemplate\":\"state=%{x}<br>year=2019<br>btu_per_person=%{y}<extra></extra>\",\"legendgroup\":\"UT\",\"marker\":{\"color\":\"#FFA15A\",\"pattern\":{\"shape\":\"\"}},\"name\":\"UT\",\"offsetgroup\":\"UT\",\"orientation\":\"v\",\"showlegend\":true,\"textposition\":\"auto\",\"x\":[\"UT\"],\"xaxis\":\"x\",\"y\":[0.15685407875134413],\"yaxis\":\"y\",\"type\":\"bar\"},{\"alignmentgroup\":\"True\",\"hovertemplate\":\"state=%{x}<br>year=2019<br>btu_per_person=%{y}<extra></extra>\",\"legendgroup\":\"VA\",\"marker\":{\"color\":\"#19d3f3\",\"pattern\":{\"shape\":\"\"}},\"name\":\"VA\",\"offsetgroup\":\"VA\",\"orientation\":\"v\",\"showlegend\":true,\"textposition\":\"auto\",\"x\":[\"VA\"],\"xaxis\":\"x\",\"y\":[0.1711092777475843],\"yaxis\":\"y\",\"type\":\"bar\"},{\"alignmentgroup\":\"True\",\"hovertemplate\":\"state=%{x}<br>year=2019<br>btu_per_person=%{y}<extra></extra>\",\"legendgroup\":\"VT\",\"marker\":{\"color\":\"#FF6692\",\"pattern\":{\"shape\":\"\"}},\"name\":\"VT\",\"offsetgroup\":\"VT\",\"orientation\":\"v\",\"showlegend\":true,\"textposition\":\"auto\",\"x\":[\"VT\"],\"xaxis\":\"x\",\"y\":[0.2847575018232653],\"yaxis\":\"y\",\"type\":\"bar\"},{\"alignmentgroup\":\"True\",\"hovertemplate\":\"state=%{x}<br>year=2019<br>btu_per_person=%{y}<extra></extra>\",\"legendgroup\":\"WA\",\"marker\":{\"color\":\"#B6E880\",\"pattern\":{\"shape\":\"\"}},\"name\":\"WA\",\"offsetgroup\":\"WA\",\"orientation\":\"v\",\"showlegend\":true,\"textposition\":\"auto\",\"x\":[\"WA\"],\"xaxis\":\"x\",\"y\":[0.17173486655296955],\"yaxis\":\"y\",\"type\":\"bar\"},{\"alignmentgroup\":\"True\",\"hovertemplate\":\"state=%{x}<br>year=2019<br>btu_per_person=%{y}<extra></extra>\",\"legendgroup\":\"WI\",\"marker\":{\"color\":\"#FF97FF\",\"pattern\":{\"shape\":\"\"}},\"name\":\"WI\",\"offsetgroup\":\"WI\",\"orientation\":\"v\",\"showlegend\":true,\"textposition\":\"auto\",\"x\":[\"WI\"],\"xaxis\":\"x\",\"y\":[0.22016681165167018],\"yaxis\":\"y\",\"type\":\"bar\"},{\"alignmentgroup\":\"True\",\"hovertemplate\":\"state=%{x}<br>year=2019<br>btu_per_person=%{y}<extra></extra>\",\"legendgroup\":\"WV\",\"marker\":{\"color\":\"#FECB52\",\"pattern\":{\"shape\":\"\"}},\"name\":\"WV\",\"offsetgroup\":\"WV\",\"orientation\":\"v\",\"showlegend\":true,\"textposition\":\"auto\",\"x\":[\"WV\"],\"xaxis\":\"x\",\"y\":[0.22738587499783966],\"yaxis\":\"y\",\"type\":\"bar\"},{\"alignmentgroup\":\"True\",\"hovertemplate\":\"state=%{x}<br>year=2019<br>btu_per_person=%{y}<extra></extra>\",\"legendgroup\":\"WY\",\"marker\":{\"color\":\"#636efa\",\"pattern\":{\"shape\":\"\"}},\"name\":\"WY\",\"offsetgroup\":\"WY\",\"orientation\":\"v\",\"showlegend\":true,\"textposition\":\"auto\",\"x\":[\"WY\"],\"xaxis\":\"x\",\"y\":[0.2639091618271648],\"yaxis\":\"y\",\"type\":\"bar\"}],                        {\"template\":{\"data\":{\"histogram2dcontour\":[{\"type\":\"histogram2dcontour\",\"colorbar\":{\"outlinewidth\":0,\"ticks\":\"\"},\"colorscale\":[[0.0,\"#0d0887\"],[0.1111111111111111,\"#46039f\"],[0.2222222222222222,\"#7201a8\"],[0.3333333333333333,\"#9c179e\"],[0.4444444444444444,\"#bd3786\"],[0.5555555555555556,\"#d8576b\"],[0.6666666666666666,\"#ed7953\"],[0.7777777777777778,\"#fb9f3a\"],[0.8888888888888888,\"#fdca26\"],[1.0,\"#f0f921\"]]}],\"choropleth\":[{\"type\":\"choropleth\",\"colorbar\":{\"outlinewidth\":0,\"ticks\":\"\"}}],\"histogram2d\":[{\"type\":\"histogram2d\",\"colorbar\":{\"outlinewidth\":0,\"ticks\":\"\"},\"colorscale\":[[0.0,\"#0d0887\"],[0.1111111111111111,\"#46039f\"],[0.2222222222222222,\"#7201a8\"],[0.3333333333333333,\"#9c179e\"],[0.4444444444444444,\"#bd3786\"],[0.5555555555555556,\"#d8576b\"],[0.6666666666666666,\"#ed7953\"],[0.7777777777777778,\"#fb9f3a\"],[0.8888888888888888,\"#fdca26\"],[1.0,\"#f0f921\"]]}],\"heatmap\":[{\"type\":\"heatmap\",\"colorbar\":{\"outlinewidth\":0,\"ticks\":\"\"},\"colorscale\":[[0.0,\"#0d0887\"],[0.1111111111111111,\"#46039f\"],[0.2222222222222222,\"#7201a8\"],[0.3333333333333333,\"#9c179e\"],[0.4444444444444444,\"#bd3786\"],[0.5555555555555556,\"#d8576b\"],[0.6666666666666666,\"#ed7953\"],[0.7777777777777778,\"#fb9f3a\"],[0.8888888888888888,\"#fdca26\"],[1.0,\"#f0f921\"]]}],\"heatmapgl\":[{\"type\":\"heatmapgl\",\"colorbar\":{\"outlinewidth\":0,\"ticks\":\"\"},\"colorscale\":[[0.0,\"#0d0887\"],[0.1111111111111111,\"#46039f\"],[0.2222222222222222,\"#7201a8\"],[0.3333333333333333,\"#9c179e\"],[0.4444444444444444,\"#bd3786\"],[0.5555555555555556,\"#d8576b\"],[0.6666666666666666,\"#ed7953\"],[0.7777777777777778,\"#fb9f3a\"],[0.8888888888888888,\"#fdca26\"],[1.0,\"#f0f921\"]]}],\"contourcarpet\":[{\"type\":\"contourcarpet\",\"colorbar\":{\"outlinewidth\":0,\"ticks\":\"\"}}],\"contour\":[{\"type\":\"contour\",\"colorbar\":{\"outlinewidth\":0,\"ticks\":\"\"},\"colorscale\":[[0.0,\"#0d0887\"],[0.1111111111111111,\"#46039f\"],[0.2222222222222222,\"#7201a8\"],[0.3333333333333333,\"#9c179e\"],[0.4444444444444444,\"#bd3786\"],[0.5555555555555556,\"#d8576b\"],[0.6666666666666666,\"#ed7953\"],[0.7777777777777778,\"#fb9f3a\"],[0.8888888888888888,\"#fdca26\"],[1.0,\"#f0f921\"]]}],\"surface\":[{\"type\":\"surface\",\"colorbar\":{\"outlinewidth\":0,\"ticks\":\"\"},\"colorscale\":[[0.0,\"#0d0887\"],[0.1111111111111111,\"#46039f\"],[0.2222222222222222,\"#7201a8\"],[0.3333333333333333,\"#9c179e\"],[0.4444444444444444,\"#bd3786\"],[0.5555555555555556,\"#d8576b\"],[0.6666666666666666,\"#ed7953\"],[0.7777777777777778,\"#fb9f3a\"],[0.8888888888888888,\"#fdca26\"],[1.0,\"#f0f921\"]]}],\"mesh3d\":[{\"type\":\"mesh3d\",\"colorbar\":{\"outlinewidth\":0,\"ticks\":\"\"}}],\"scatter\":[{\"fillpattern\":{\"fillmode\":\"overlay\",\"size\":10,\"solidity\":0.2},\"type\":\"scatter\"}],\"parcoords\":[{\"type\":\"parcoords\",\"line\":{\"colorbar\":{\"outlinewidth\":0,\"ticks\":\"\"}}}],\"scatterpolargl\":[{\"type\":\"scatterpolargl\",\"marker\":{\"colorbar\":{\"outlinewidth\":0,\"ticks\":\"\"}}}],\"bar\":[{\"error_x\":{\"color\":\"#2a3f5f\"},\"error_y\":{\"color\":\"#2a3f5f\"},\"marker\":{\"line\":{\"color\":\"#E5ECF6\",\"width\":0.5},\"pattern\":{\"fillmode\":\"overlay\",\"size\":10,\"solidity\":0.2}},\"type\":\"bar\"}],\"scattergeo\":[{\"type\":\"scattergeo\",\"marker\":{\"colorbar\":{\"outlinewidth\":0,\"ticks\":\"\"}}}],\"scatterpolar\":[{\"type\":\"scatterpolar\",\"marker\":{\"colorbar\":{\"outlinewidth\":0,\"ticks\":\"\"}}}],\"histogram\":[{\"marker\":{\"pattern\":{\"fillmode\":\"overlay\",\"size\":10,\"solidity\":0.2}},\"type\":\"histogram\"}],\"scattergl\":[{\"type\":\"scattergl\",\"marker\":{\"colorbar\":{\"outlinewidth\":0,\"ticks\":\"\"}}}],\"scatter3d\":[{\"type\":\"scatter3d\",\"line\":{\"colorbar\":{\"outlinewidth\":0,\"ticks\":\"\"}},\"marker\":{\"colorbar\":{\"outlinewidth\":0,\"ticks\":\"\"}}}],\"scattermapbox\":[{\"type\":\"scattermapbox\",\"marker\":{\"colorbar\":{\"outlinewidth\":0,\"ticks\":\"\"}}}],\"scatterternary\":[{\"type\":\"scatterternary\",\"marker\":{\"colorbar\":{\"outlinewidth\":0,\"ticks\":\"\"}}}],\"scattercarpet\":[{\"type\":\"scattercarpet\",\"marker\":{\"colorbar\":{\"outlinewidth\":0,\"ticks\":\"\"}}}],\"carpet\":[{\"aaxis\":{\"endlinecolor\":\"#2a3f5f\",\"gridcolor\":\"white\",\"linecolor\":\"white\",\"minorgridcolor\":\"white\",\"startlinecolor\":\"#2a3f5f\"},\"baxis\":{\"endlinecolor\":\"#2a3f5f\",\"gridcolor\":\"white\",\"linecolor\":\"white\",\"minorgridcolor\":\"white\",\"startlinecolor\":\"#2a3f5f\"},\"type\":\"carpet\"}],\"table\":[{\"cells\":{\"fill\":{\"color\":\"#EBF0F8\"},\"line\":{\"color\":\"white\"}},\"header\":{\"fill\":{\"color\":\"#C8D4E3\"},\"line\":{\"color\":\"white\"}},\"type\":\"table\"}],\"barpolar\":[{\"marker\":{\"line\":{\"color\":\"#E5ECF6\",\"width\":0.5},\"pattern\":{\"fillmode\":\"overlay\",\"size\":10,\"solidity\":0.2}},\"type\":\"barpolar\"}],\"pie\":[{\"automargin\":true,\"type\":\"pie\"}]},\"layout\":{\"autotypenumbers\":\"strict\",\"colorway\":[\"#636efa\",\"#EF553B\",\"#00cc96\",\"#ab63fa\",\"#FFA15A\",\"#19d3f3\",\"#FF6692\",\"#B6E880\",\"#FF97FF\",\"#FECB52\"],\"font\":{\"color\":\"#2a3f5f\"},\"hovermode\":\"closest\",\"hoverlabel\":{\"align\":\"left\"},\"paper_bgcolor\":\"white\",\"plot_bgcolor\":\"#E5ECF6\",\"polar\":{\"bgcolor\":\"#E5ECF6\",\"angularaxis\":{\"gridcolor\":\"white\",\"linecolor\":\"white\",\"ticks\":\"\"},\"radialaxis\":{\"gridcolor\":\"white\",\"linecolor\":\"white\",\"ticks\":\"\"}},\"ternary\":{\"bgcolor\":\"#E5ECF6\",\"aaxis\":{\"gridcolor\":\"white\",\"linecolor\":\"white\",\"ticks\":\"\"},\"baxis\":{\"gridcolor\":\"white\",\"linecolor\":\"white\",\"ticks\":\"\"},\"caxis\":{\"gridcolor\":\"white\",\"linecolor\":\"white\",\"ticks\":\"\"}},\"coloraxis\":{\"colorbar\":{\"outlinewidth\":0,\"ticks\":\"\"}},\"colorscale\":{\"sequential\":[[0.0,\"#0d0887\"],[0.1111111111111111,\"#46039f\"],[0.2222222222222222,\"#7201a8\"],[0.3333333333333333,\"#9c179e\"],[0.4444444444444444,\"#bd3786\"],[0.5555555555555556,\"#d8576b\"],[0.6666666666666666,\"#ed7953\"],[0.7777777777777778,\"#fb9f3a\"],[0.8888888888888888,\"#fdca26\"],[1.0,\"#f0f921\"]],\"sequentialminus\":[[0.0,\"#0d0887\"],[0.1111111111111111,\"#46039f\"],[0.2222222222222222,\"#7201a8\"],[0.3333333333333333,\"#9c179e\"],[0.4444444444444444,\"#bd3786\"],[0.5555555555555556,\"#d8576b\"],[0.6666666666666666,\"#ed7953\"],[0.7777777777777778,\"#fb9f3a\"],[0.8888888888888888,\"#fdca26\"],[1.0,\"#f0f921\"]],\"diverging\":[[0,\"#8e0152\"],[0.1,\"#c51b7d\"],[0.2,\"#de77ae\"],[0.3,\"#f1b6da\"],[0.4,\"#fde0ef\"],[0.5,\"#f7f7f7\"],[0.6,\"#e6f5d0\"],[0.7,\"#b8e186\"],[0.8,\"#7fbc41\"],[0.9,\"#4d9221\"],[1,\"#276419\"]]},\"xaxis\":{\"gridcolor\":\"white\",\"linecolor\":\"white\",\"ticks\":\"\",\"title\":{\"standoff\":15},\"zerolinecolor\":\"white\",\"automargin\":true,\"zerolinewidth\":2},\"yaxis\":{\"gridcolor\":\"white\",\"linecolor\":\"white\",\"ticks\":\"\",\"title\":{\"standoff\":15},\"zerolinecolor\":\"white\",\"automargin\":true,\"zerolinewidth\":2},\"scene\":{\"xaxis\":{\"backgroundcolor\":\"#E5ECF6\",\"gridcolor\":\"white\",\"linecolor\":\"white\",\"showbackground\":true,\"ticks\":\"\",\"zerolinecolor\":\"white\",\"gridwidth\":2},\"yaxis\":{\"backgroundcolor\":\"#E5ECF6\",\"gridcolor\":\"white\",\"linecolor\":\"white\",\"showbackground\":true,\"ticks\":\"\",\"zerolinecolor\":\"white\",\"gridwidth\":2},\"zaxis\":{\"backgroundcolor\":\"#E5ECF6\",\"gridcolor\":\"white\",\"linecolor\":\"white\",\"showbackground\":true,\"ticks\":\"\",\"zerolinecolor\":\"white\",\"gridwidth\":2}},\"shapedefaults\":{\"line\":{\"color\":\"#2a3f5f\"}},\"annotationdefaults\":{\"arrowcolor\":\"#2a3f5f\",\"arrowhead\":0,\"arrowwidth\":1},\"geo\":{\"bgcolor\":\"white\",\"landcolor\":\"#E5ECF6\",\"subunitcolor\":\"white\",\"showland\":true,\"showlakes\":true,\"lakecolor\":\"white\"},\"title\":{\"x\":0.05},\"mapbox\":{\"style\":\"light\"}}},\"xaxis\":{\"anchor\":\"y\",\"domain\":[0.0,1.0],\"title\":{\"text\":\"state\"},\"categoryorder\":\"total ascending\",\"categoryarray\":[\"AK\",\"AL\",\"AR\",\"AZ\",\"CA\",\"CO\",\"CT\",\"DC\",\"DE\",\"FL\",\"GA\",\"HI\",\"IA\",\"ID\",\"IL\",\"IN\",\"KS\",\"KY\",\"LA\",\"MA\",\"MD\",\"ME\",\"MI\",\"MN\",\"MO\",\"MS\",\"MT\",\"NC\",\"ND\",\"NE\",\"NH\",\"NJ\",\"NM\",\"NV\",\"NY\",\"OH\",\"OK\",\"OR\",\"PA\",\"RI\",\"SC\",\"SD\",\"TN\",\"TX\",\"UT\",\"VA\",\"VT\",\"WA\",\"WI\",\"WV\",\"WY\"]},\"yaxis\":{\"anchor\":\"x\",\"domain\":[0.0,1.0],\"title\":{\"text\":\"btu_per_person\"},\"range\":[0,0.2884692006596301]},\"legend\":{\"title\":{\"text\":\"state\"},\"tracegroupgap\":0},\"title\":{\"text\":\"United States residential energy consumption PER CAPITA (BTU)\"},\"barmode\":\"relative\",\"updatemenus\":[{\"buttons\":[{\"args\":[null,{\"frame\":{\"duration\":500,\"redraw\":true},\"mode\":\"immediate\",\"fromcurrent\":true,\"transition\":{\"duration\":500,\"easing\":\"linear\"}}],\"label\":\"&#9654;\",\"method\":\"animate\"},{\"args\":[[null],{\"frame\":{\"duration\":0,\"redraw\":true},\"mode\":\"immediate\",\"fromcurrent\":true,\"transition\":{\"duration\":0,\"easing\":\"linear\"}}],\"label\":\"&#9724;\",\"method\":\"animate\"}],\"direction\":\"left\",\"pad\":{\"r\":10,\"t\":70},\"showactive\":false,\"type\":\"buttons\",\"x\":0.1,\"xanchor\":\"right\",\"y\":0,\"yanchor\":\"top\"}],\"sliders\":[{\"active\":0,\"currentvalue\":{\"prefix\":\"year=\"},\"len\":0.9,\"pad\":{\"b\":10,\"t\":60},\"steps\":[{\"args\":[[\"2019\"],{\"frame\":{\"duration\":0,\"redraw\":true},\"mode\":\"immediate\",\"fromcurrent\":true,\"transition\":{\"duration\":0,\"easing\":\"linear\"}}],\"label\":\"2019\",\"method\":\"animate\"},{\"args\":[[\"2020\"],{\"frame\":{\"duration\":0,\"redraw\":true},\"mode\":\"immediate\",\"fromcurrent\":true,\"transition\":{\"duration\":0,\"easing\":\"linear\"}}],\"label\":\"2020\",\"method\":\"animate\"},{\"args\":[[\"2021\"],{\"frame\":{\"duration\":0,\"redraw\":true},\"mode\":\"immediate\",\"fromcurrent\":true,\"transition\":{\"duration\":0,\"easing\":\"linear\"}}],\"label\":\"2021\",\"method\":\"animate\"}],\"x\":0.1,\"xanchor\":\"left\",\"y\":0,\"yanchor\":\"top\"}]},                        {\"responsive\": true}                    ).then(function(){\n",
       "                            Plotly.addFrames('be8c52ae-a3af-44a7-8ee4-b4dc4ffcb7a6', [{\"data\":[{\"alignmentgroup\":\"True\",\"hovertemplate\":\"state=%{x}<br>year=2019<br>btu_per_person=%{y}<extra></extra>\",\"legendgroup\":\"AK\",\"marker\":{\"color\":\"#636efa\",\"pattern\":{\"shape\":\"\"}},\"name\":\"AK\",\"offsetgroup\":\"AK\",\"orientation\":\"v\",\"showlegend\":true,\"textposition\":\"auto\",\"x\":[\"AK\"],\"xaxis\":\"x\",\"y\":[0.20040525025430408],\"yaxis\":\"y\",\"type\":\"bar\"},{\"alignmentgroup\":\"True\",\"hovertemplate\":\"state=%{x}<br>year=2019<br>btu_per_person=%{y}<extra></extra>\",\"legendgroup\":\"AL\",\"marker\":{\"color\":\"#EF553B\",\"pattern\":{\"shape\":\"\"}},\"name\":\"AL\",\"offsetgroup\":\"AL\",\"orientation\":\"v\",\"showlegend\":true,\"textposition\":\"auto\",\"x\":[\"AL\"],\"xaxis\":\"x\",\"y\":[0.1713136213764561],\"yaxis\":\"y\",\"type\":\"bar\"},{\"alignmentgroup\":\"True\",\"hovertemplate\":\"state=%{x}<br>year=2019<br>btu_per_person=%{y}<extra></extra>\",\"legendgroup\":\"AR\",\"marker\":{\"color\":\"#00cc96\",\"pattern\":{\"shape\":\"\"}},\"name\":\"AR\",\"offsetgroup\":\"AR\",\"orientation\":\"v\",\"showlegend\":true,\"textposition\":\"auto\",\"x\":[\"AR\"],\"xaxis\":\"x\",\"y\":[0.19271921872561423],\"yaxis\":\"y\",\"type\":\"bar\"},{\"alignmentgroup\":\"True\",\"hovertemplate\":\"state=%{x}<br>year=2019<br>btu_per_person=%{y}<extra></extra>\",\"legendgroup\":\"AZ\",\"marker\":{\"color\":\"#ab63fa\",\"pattern\":{\"shape\":\"\"}},\"name\":\"AZ\",\"offsetgroup\":\"AZ\",\"orientation\":\"v\",\"showlegend\":true,\"textposition\":\"auto\",\"x\":[\"AZ\"],\"xaxis\":\"x\",\"y\":[0.14728421819689624],\"yaxis\":\"y\",\"type\":\"bar\"},{\"alignmentgroup\":\"True\",\"hovertemplate\":\"state=%{x}<br>year=2019<br>btu_per_person=%{y}<extra></extra>\",\"legendgroup\":\"CA\",\"marker\":{\"color\":\"#FFA15A\",\"pattern\":{\"shape\":\"\"}},\"name\":\"CA\",\"offsetgroup\":\"CA\",\"orientation\":\"v\",\"showlegend\":true,\"textposition\":\"auto\",\"x\":[\"CA\"],\"xaxis\":\"x\",\"y\":[0.10191315682155784],\"yaxis\":\"y\",\"type\":\"bar\"},{\"alignmentgroup\":\"True\",\"hovertemplate\":\"state=%{x}<br>year=2019<br>btu_per_person=%{y}<extra></extra>\",\"legendgroup\":\"CO\",\"marker\":{\"color\":\"#19d3f3\",\"pattern\":{\"shape\":\"\"}},\"name\":\"CO\",\"offsetgroup\":\"CO\",\"orientation\":\"v\",\"showlegend\":true,\"textposition\":\"auto\",\"x\":[\"CO\"],\"xaxis\":\"x\",\"y\":[0.18301552191685516],\"yaxis\":\"y\",\"type\":\"bar\"},{\"alignmentgroup\":\"True\",\"hovertemplate\":\"state=%{x}<br>year=2019<br>btu_per_person=%{y}<extra></extra>\",\"legendgroup\":\"CT\",\"marker\":{\"color\":\"#FF6692\",\"pattern\":{\"shape\":\"\"}},\"name\":\"CT\",\"offsetgroup\":\"CT\",\"orientation\":\"v\",\"showlegend\":true,\"textposition\":\"auto\",\"x\":[\"CT\"],\"xaxis\":\"x\",\"y\":[0.20233632989379663],\"yaxis\":\"y\",\"type\":\"bar\"},{\"alignmentgroup\":\"True\",\"hovertemplate\":\"state=%{x}<br>year=2019<br>btu_per_person=%{y}<extra></extra>\",\"legendgroup\":\"DC\",\"marker\":{\"color\":\"#B6E880\",\"pattern\":{\"shape\":\"\"}},\"name\":\"DC\",\"offsetgroup\":\"DC\",\"orientation\":\"v\",\"showlegend\":true,\"textposition\":\"auto\",\"x\":[\"DC\"],\"xaxis\":\"x\",\"y\":[0.14628423256974132],\"yaxis\":\"y\",\"type\":\"bar\"},{\"alignmentgroup\":\"True\",\"hovertemplate\":\"state=%{x}<br>year=2019<br>btu_per_person=%{y}<extra></extra>\",\"legendgroup\":\"DE\",\"marker\":{\"color\":\"#FF97FF\",\"pattern\":{\"shape\":\"\"}},\"name\":\"DE\",\"offsetgroup\":\"DE\",\"orientation\":\"v\",\"showlegend\":true,\"textposition\":\"auto\",\"x\":[\"DE\"],\"xaxis\":\"x\",\"y\":[0.1788875352797021],\"yaxis\":\"y\",\"type\":\"bar\"},{\"alignmentgroup\":\"True\",\"hovertemplate\":\"state=%{x}<br>year=2019<br>btu_per_person=%{y}<extra></extra>\",\"legendgroup\":\"FL\",\"marker\":{\"color\":\"#FECB52\",\"pattern\":{\"shape\":\"\"}},\"name\":\"FL\",\"offsetgroup\":\"FL\",\"orientation\":\"v\",\"showlegend\":true,\"textposition\":\"auto\",\"x\":[\"FL\"],\"xaxis\":\"x\",\"y\":[0.13532123551922778],\"yaxis\":\"y\",\"type\":\"bar\"},{\"alignmentgroup\":\"True\",\"hovertemplate\":\"state=%{x}<br>year=2019<br>btu_per_person=%{y}<extra></extra>\",\"legendgroup\":\"GA\",\"marker\":{\"color\":\"#636efa\",\"pattern\":{\"shape\":\"\"}},\"name\":\"GA\",\"offsetgroup\":\"GA\",\"orientation\":\"v\",\"showlegend\":true,\"textposition\":\"auto\",\"x\":[\"GA\"],\"xaxis\":\"x\",\"y\":[0.1675446488449305],\"yaxis\":\"y\",\"type\":\"bar\"},{\"alignmentgroup\":\"True\",\"hovertemplate\":\"state=%{x}<br>year=2019<br>btu_per_person=%{y}<extra></extra>\",\"legendgroup\":\"HI\",\"marker\":{\"color\":\"#EF553B\",\"pattern\":{\"shape\":\"\"}},\"name\":\"HI\",\"offsetgroup\":\"HI\",\"orientation\":\"v\",\"showlegend\":true,\"textposition\":\"auto\",\"x\":[\"HI\"],\"xaxis\":\"x\",\"y\":[0.0667262659815265],\"yaxis\":\"y\",\"type\":\"bar\"},{\"alignmentgroup\":\"True\",\"hovertemplate\":\"state=%{x}<br>year=2019<br>btu_per_person=%{y}<extra></extra>\",\"legendgroup\":\"IA\",\"marker\":{\"color\":\"#00cc96\",\"pattern\":{\"shape\":\"\"}},\"name\":\"IA\",\"offsetgroup\":\"IA\",\"orientation\":\"v\",\"showlegend\":true,\"textposition\":\"auto\",\"x\":[\"IA\"],\"xaxis\":\"x\",\"y\":[0.22379606240794728],\"yaxis\":\"y\",\"type\":\"bar\"},{\"alignmentgroup\":\"True\",\"hovertemplate\":\"state=%{x}<br>year=2019<br>btu_per_person=%{y}<extra></extra>\",\"legendgroup\":\"ID\",\"marker\":{\"color\":\"#ab63fa\",\"pattern\":{\"shape\":\"\"}},\"name\":\"ID\",\"offsetgroup\":\"ID\",\"orientation\":\"v\",\"showlegend\":true,\"textposition\":\"auto\",\"x\":[\"ID\"],\"xaxis\":\"x\",\"y\":[0.20939178964687946],\"yaxis\":\"y\",\"type\":\"bar\"},{\"alignmentgroup\":\"True\",\"hovertemplate\":\"state=%{x}<br>year=2019<br>btu_per_person=%{y}<extra></extra>\",\"legendgroup\":\"IL\",\"marker\":{\"color\":\"#FFA15A\",\"pattern\":{\"shape\":\"\"}},\"name\":\"IL\",\"offsetgroup\":\"IL\",\"orientation\":\"v\",\"showlegend\":true,\"textposition\":\"auto\",\"x\":[\"IL\"],\"xaxis\":\"x\",\"y\":[0.2074648169047742],\"yaxis\":\"y\",\"type\":\"bar\"},{\"alignmentgroup\":\"True\",\"hovertemplate\":\"state=%{x}<br>year=2019<br>btu_per_person=%{y}<extra></extra>\",\"legendgroup\":\"IN\",\"marker\":{\"color\":\"#19d3f3\",\"pattern\":{\"shape\":\"\"}},\"name\":\"IN\",\"offsetgroup\":\"IN\",\"orientation\":\"v\",\"showlegend\":true,\"textposition\":\"auto\",\"x\":[\"IN\"],\"xaxis\":\"x\",\"y\":[0.20907112609613346],\"yaxis\":\"y\",\"type\":\"bar\"},{\"alignmentgroup\":\"True\",\"hovertemplate\":\"state=%{x}<br>year=2019<br>btu_per_person=%{y}<extra></extra>\",\"legendgroup\":\"KS\",\"marker\":{\"color\":\"#FF6692\",\"pattern\":{\"shape\":\"\"}},\"name\":\"KS\",\"offsetgroup\":\"KS\",\"orientation\":\"v\",\"showlegend\":true,\"textposition\":\"auto\",\"x\":[\"KS\"],\"xaxis\":\"x\",\"y\":[0.20860361456650903],\"yaxis\":\"y\",\"type\":\"bar\"},{\"alignmentgroup\":\"True\",\"hovertemplate\":\"state=%{x}<br>year=2019<br>btu_per_person=%{y}<extra></extra>\",\"legendgroup\":\"KY\",\"marker\":{\"color\":\"#B6E880\",\"pattern\":{\"shape\":\"\"}},\"name\":\"KY\",\"offsetgroup\":\"KY\",\"orientation\":\"v\",\"showlegend\":true,\"textposition\":\"auto\",\"x\":[\"KY\"],\"xaxis\":\"x\",\"y\":[0.19913401180614593],\"yaxis\":\"y\",\"type\":\"bar\"},{\"alignmentgroup\":\"True\",\"hovertemplate\":\"state=%{x}<br>year=2019<br>btu_per_person=%{y}<extra></extra>\",\"legendgroup\":\"LA\",\"marker\":{\"color\":\"#FF97FF\",\"pattern\":{\"shape\":\"\"}},\"name\":\"LA\",\"offsetgroup\":\"LA\",\"orientation\":\"v\",\"showlegend\":true,\"textposition\":\"auto\",\"x\":[\"LA\"],\"xaxis\":\"x\",\"y\":[0.17014117225247624],\"yaxis\":\"y\",\"type\":\"bar\"},{\"alignmentgroup\":\"True\",\"hovertemplate\":\"state=%{x}<br>year=2019<br>btu_per_person=%{y}<extra></extra>\",\"legendgroup\":\"MA\",\"marker\":{\"color\":\"#FECB52\",\"pattern\":{\"shape\":\"\"}},\"name\":\"MA\",\"offsetgroup\":\"MA\",\"orientation\":\"v\",\"showlegend\":true,\"textposition\":\"auto\",\"x\":[\"MA\"],\"xaxis\":\"x\",\"y\":[0.1833174011468615],\"yaxis\":\"y\",\"type\":\"bar\"},{\"alignmentgroup\":\"True\",\"hovertemplate\":\"state=%{x}<br>year=2019<br>btu_per_person=%{y}<extra></extra>\",\"legendgroup\":\"MD\",\"marker\":{\"color\":\"#636efa\",\"pattern\":{\"shape\":\"\"}},\"name\":\"MD\",\"offsetgroup\":\"MD\",\"orientation\":\"v\",\"showlegend\":true,\"textposition\":\"auto\",\"x\":[\"MD\"],\"xaxis\":\"x\",\"y\":[0.16747800357213796],\"yaxis\":\"y\",\"type\":\"bar\"},{\"alignmentgroup\":\"True\",\"hovertemplate\":\"state=%{x}<br>year=2019<br>btu_per_person=%{y}<extra></extra>\",\"legendgroup\":\"ME\",\"marker\":{\"color\":\"#EF553B\",\"pattern\":{\"shape\":\"\"}},\"name\":\"ME\",\"offsetgroup\":\"ME\",\"orientation\":\"v\",\"showlegend\":true,\"textposition\":\"auto\",\"x\":[\"ME\"],\"xaxis\":\"x\",\"y\":[0.2682417617081274],\"yaxis\":\"y\",\"type\":\"bar\"},{\"alignmentgroup\":\"True\",\"hovertemplate\":\"state=%{x}<br>year=2019<br>btu_per_person=%{y}<extra></extra>\",\"legendgroup\":\"MI\",\"marker\":{\"color\":\"#00cc96\",\"pattern\":{\"shape\":\"\"}},\"name\":\"MI\",\"offsetgroup\":\"MI\",\"orientation\":\"v\",\"showlegend\":true,\"textposition\":\"auto\",\"x\":[\"MI\"],\"xaxis\":\"x\",\"y\":[0.22383498414415867],\"yaxis\":\"y\",\"type\":\"bar\"},{\"alignmentgroup\":\"True\",\"hovertemplate\":\"state=%{x}<br>year=2019<br>btu_per_person=%{y}<extra></extra>\",\"legendgroup\":\"MN\",\"marker\":{\"color\":\"#ab63fa\",\"pattern\":{\"shape\":\"\"}},\"name\":\"MN\",\"offsetgroup\":\"MN\",\"orientation\":\"v\",\"showlegend\":true,\"textposition\":\"auto\",\"x\":[\"MN\"],\"xaxis\":\"x\",\"y\":[0.21200237470920677],\"yaxis\":\"y\",\"type\":\"bar\"},{\"alignmentgroup\":\"True\",\"hovertemplate\":\"state=%{x}<br>year=2019<br>btu_per_person=%{y}<extra></extra>\",\"legendgroup\":\"MO\",\"marker\":{\"color\":\"#FFA15A\",\"pattern\":{\"shape\":\"\"}},\"name\":\"MO\",\"offsetgroup\":\"MO\",\"orientation\":\"v\",\"showlegend\":true,\"textposition\":\"auto\",\"x\":[\"MO\"],\"xaxis\":\"x\",\"y\":[0.2271618545842175],\"yaxis\":\"y\",\"type\":\"bar\"},{\"alignmentgroup\":\"True\",\"hovertemplate\":\"state=%{x}<br>year=2019<br>btu_per_person=%{y}<extra></extra>\",\"legendgroup\":\"MS\",\"marker\":{\"color\":\"#19d3f3\",\"pattern\":{\"shape\":\"\"}},\"name\":\"MS\",\"offsetgroup\":\"MS\",\"orientation\":\"v\",\"showlegend\":true,\"textposition\":\"auto\",\"x\":[\"MS\"],\"xaxis\":\"x\",\"y\":[0.16943605287666996],\"yaxis\":\"y\",\"type\":\"bar\"},{\"alignmentgroup\":\"True\",\"hovertemplate\":\"state=%{x}<br>year=2019<br>btu_per_person=%{y}<extra></extra>\",\"legendgroup\":\"MT\",\"marker\":{\"color\":\"#FF6692\",\"pattern\":{\"shape\":\"\"}},\"name\":\"MT\",\"offsetgroup\":\"MT\",\"orientation\":\"v\",\"showlegend\":true,\"textposition\":\"auto\",\"x\":[\"MT\"],\"xaxis\":\"x\",\"y\":[0.2884692006596301],\"yaxis\":\"y\",\"type\":\"bar\"},{\"alignmentgroup\":\"True\",\"hovertemplate\":\"state=%{x}<br>year=2019<br>btu_per_person=%{y}<extra></extra>\",\"legendgroup\":\"NC\",\"marker\":{\"color\":\"#B6E880\",\"pattern\":{\"shape\":\"\"}},\"name\":\"NC\",\"offsetgroup\":\"NC\",\"orientation\":\"v\",\"showlegend\":true,\"textposition\":\"auto\",\"x\":[\"NC\"],\"xaxis\":\"x\",\"y\":[0.16797776589763896],\"yaxis\":\"y\",\"type\":\"bar\"},{\"alignmentgroup\":\"True\",\"hovertemplate\":\"state=%{x}<br>year=2019<br>btu_per_person=%{y}<extra></extra>\",\"legendgroup\":\"ND\",\"marker\":{\"color\":\"#FF97FF\",\"pattern\":{\"shape\":\"\"}},\"name\":\"ND\",\"offsetgroup\":\"ND\",\"orientation\":\"v\",\"showlegend\":true,\"textposition\":\"auto\",\"x\":[\"ND\"],\"xaxis\":\"x\",\"y\":[0.2814361573088223],\"yaxis\":\"y\",\"type\":\"bar\"},{\"alignmentgroup\":\"True\",\"hovertemplate\":\"state=%{x}<br>year=2019<br>btu_per_person=%{y}<extra></extra>\",\"legendgroup\":\"NE\",\"marker\":{\"color\":\"#FECB52\",\"pattern\":{\"shape\":\"\"}},\"name\":\"NE\",\"offsetgroup\":\"NE\",\"orientation\":\"v\",\"showlegend\":true,\"textposition\":\"auto\",\"x\":[\"NE\"],\"xaxis\":\"x\",\"y\":[0.2290438412509907],\"yaxis\":\"y\",\"type\":\"bar\"},{\"alignmentgroup\":\"True\",\"hovertemplate\":\"state=%{x}<br>year=2019<br>btu_per_person=%{y}<extra></extra>\",\"legendgroup\":\"NH\",\"marker\":{\"color\":\"#636efa\",\"pattern\":{\"shape\":\"\"}},\"name\":\"NH\",\"offsetgroup\":\"NH\",\"orientation\":\"v\",\"showlegend\":true,\"textposition\":\"auto\",\"x\":[\"NH\"],\"xaxis\":\"x\",\"y\":[0.2504871058507874],\"yaxis\":\"y\",\"type\":\"bar\"},{\"alignmentgroup\":\"True\",\"hovertemplate\":\"state=%{x}<br>year=2019<br>btu_per_person=%{y}<extra></extra>\",\"legendgroup\":\"NJ\",\"marker\":{\"color\":\"#EF553B\",\"pattern\":{\"shape\":\"\"}},\"name\":\"NJ\",\"offsetgroup\":\"NJ\",\"orientation\":\"v\",\"showlegend\":true,\"textposition\":\"auto\",\"x\":[\"NJ\"],\"xaxis\":\"x\",\"y\":[0.16834766222856853],\"yaxis\":\"y\",\"type\":\"bar\"},{\"alignmentgroup\":\"True\",\"hovertemplate\":\"state=%{x}<br>year=2019<br>btu_per_person=%{y}<extra></extra>\",\"legendgroup\":\"NM\",\"marker\":{\"color\":\"#00cc96\",\"pattern\":{\"shape\":\"\"}},\"name\":\"NM\",\"offsetgroup\":\"NM\",\"orientation\":\"v\",\"showlegend\":true,\"textposition\":\"auto\",\"x\":[\"NM\"],\"xaxis\":\"x\",\"y\":[0.17807818089514882],\"yaxis\":\"y\",\"type\":\"bar\"},{\"alignmentgroup\":\"True\",\"hovertemplate\":\"state=%{x}<br>year=2019<br>btu_per_person=%{y}<extra></extra>\",\"legendgroup\":\"NV\",\"marker\":{\"color\":\"#ab63fa\",\"pattern\":{\"shape\":\"\"}},\"name\":\"NV\",\"offsetgroup\":\"NV\",\"orientation\":\"v\",\"showlegend\":true,\"textposition\":\"auto\",\"x\":[\"NV\"],\"xaxis\":\"x\",\"y\":[0.15074484227845172],\"yaxis\":\"y\",\"type\":\"bar\"},{\"alignmentgroup\":\"True\",\"hovertemplate\":\"state=%{x}<br>year=2019<br>btu_per_person=%{y}<extra></extra>\",\"legendgroup\":\"NY\",\"marker\":{\"color\":\"#FFA15A\",\"pattern\":{\"shape\":\"\"}},\"name\":\"NY\",\"offsetgroup\":\"NY\",\"orientation\":\"v\",\"showlegend\":true,\"textposition\":\"auto\",\"x\":[\"NY\"],\"xaxis\":\"x\",\"y\":[0.16502589801567344],\"yaxis\":\"y\",\"type\":\"bar\"},{\"alignmentgroup\":\"True\",\"hovertemplate\":\"state=%{x}<br>year=2019<br>btu_per_person=%{y}<extra></extra>\",\"legendgroup\":\"OH\",\"marker\":{\"color\":\"#19d3f3\",\"pattern\":{\"shape\":\"\"}},\"name\":\"OH\",\"offsetgroup\":\"OH\",\"orientation\":\"v\",\"showlegend\":true,\"textposition\":\"auto\",\"x\":[\"OH\"],\"xaxis\":\"x\",\"y\":[0.20008871689420357],\"yaxis\":\"y\",\"type\":\"bar\"},{\"alignmentgroup\":\"True\",\"hovertemplate\":\"state=%{x}<br>year=2019<br>btu_per_person=%{y}<extra></extra>\",\"legendgroup\":\"OK\",\"marker\":{\"color\":\"#FF6692\",\"pattern\":{\"shape\":\"\"}},\"name\":\"OK\",\"offsetgroup\":\"OK\",\"orientation\":\"v\",\"showlegend\":true,\"textposition\":\"auto\",\"x\":[\"OK\"],\"xaxis\":\"x\",\"y\":[0.19804334533596032],\"yaxis\":\"y\",\"type\":\"bar\"},{\"alignmentgroup\":\"True\",\"hovertemplate\":\"state=%{x}<br>year=2019<br>btu_per_person=%{y}<extra></extra>\",\"legendgroup\":\"OR\",\"marker\":{\"color\":\"#B6E880\",\"pattern\":{\"shape\":\"\"}},\"name\":\"OR\",\"offsetgroup\":\"OR\",\"orientation\":\"v\",\"showlegend\":true,\"textposition\":\"auto\",\"x\":[\"OR\"],\"xaxis\":\"x\",\"y\":[0.16521876421165566],\"yaxis\":\"y\",\"type\":\"bar\"},{\"alignmentgroup\":\"True\",\"hovertemplate\":\"state=%{x}<br>year=2019<br>btu_per_person=%{y}<extra></extra>\",\"legendgroup\":\"PA\",\"marker\":{\"color\":\"#FF97FF\",\"pattern\":{\"shape\":\"\"}},\"name\":\"PA\",\"offsetgroup\":\"PA\",\"orientation\":\"v\",\"showlegend\":true,\"textposition\":\"auto\",\"x\":[\"PA\"],\"xaxis\":\"x\",\"y\":[0.19214102390964152],\"yaxis\":\"y\",\"type\":\"bar\"},{\"alignmentgroup\":\"True\",\"hovertemplate\":\"state=%{x}<br>year=2019<br>btu_per_person=%{y}<extra></extra>\",\"legendgroup\":\"RI\",\"marker\":{\"color\":\"#FECB52\",\"pattern\":{\"shape\":\"\"}},\"name\":\"RI\",\"offsetgroup\":\"RI\",\"orientation\":\"v\",\"showlegend\":true,\"textposition\":\"auto\",\"x\":[\"RI\"],\"xaxis\":\"x\",\"y\":[0.16947231155188172],\"yaxis\":\"y\",\"type\":\"bar\"},{\"alignmentgroup\":\"True\",\"hovertemplate\":\"state=%{x}<br>year=2019<br>btu_per_person=%{y}<extra></extra>\",\"legendgroup\":\"SC\",\"marker\":{\"color\":\"#636efa\",\"pattern\":{\"shape\":\"\"}},\"name\":\"SC\",\"offsetgroup\":\"SC\",\"orientation\":\"v\",\"showlegend\":true,\"textposition\":\"auto\",\"x\":[\"SC\"],\"xaxis\":\"x\",\"y\":[0.17449694456611822],\"yaxis\":\"y\",\"type\":\"bar\"},{\"alignmentgroup\":\"True\",\"hovertemplate\":\"state=%{x}<br>year=2019<br>btu_per_person=%{y}<extra></extra>\",\"legendgroup\":\"SD\",\"marker\":{\"color\":\"#EF553B\",\"pattern\":{\"shape\":\"\"}},\"name\":\"SD\",\"offsetgroup\":\"SD\",\"orientation\":\"v\",\"showlegend\":true,\"textposition\":\"auto\",\"x\":[\"SD\"],\"xaxis\":\"x\",\"y\":[0.23235077841988208],\"yaxis\":\"y\",\"type\":\"bar\"},{\"alignmentgroup\":\"True\",\"hovertemplate\":\"state=%{x}<br>year=2019<br>btu_per_person=%{y}<extra></extra>\",\"legendgroup\":\"TN\",\"marker\":{\"color\":\"#00cc96\",\"pattern\":{\"shape\":\"\"}},\"name\":\"TN\",\"offsetgroup\":\"TN\",\"orientation\":\"v\",\"showlegend\":true,\"textposition\":\"auto\",\"x\":[\"TN\"],\"xaxis\":\"x\",\"y\":[0.1891369520051699],\"yaxis\":\"y\",\"type\":\"bar\"},{\"alignmentgroup\":\"True\",\"hovertemplate\":\"state=%{x}<br>year=2019<br>btu_per_person=%{y}<extra></extra>\",\"legendgroup\":\"TX\",\"marker\":{\"color\":\"#ab63fa\",\"pattern\":{\"shape\":\"\"}},\"name\":\"TX\",\"offsetgroup\":\"TX\",\"orientation\":\"v\",\"showlegend\":true,\"textposition\":\"auto\",\"x\":[\"TX\"],\"xaxis\":\"x\",\"y\":[0.15061965570691477],\"yaxis\":\"y\",\"type\":\"bar\"},{\"alignmentgroup\":\"True\",\"hovertemplate\":\"state=%{x}<br>year=2019<br>btu_per_person=%{y}<extra></extra>\",\"legendgroup\":\"UT\",\"marker\":{\"color\":\"#FFA15A\",\"pattern\":{\"shape\":\"\"}},\"name\":\"UT\",\"offsetgroup\":\"UT\",\"orientation\":\"v\",\"showlegend\":true,\"textposition\":\"auto\",\"x\":[\"UT\"],\"xaxis\":\"x\",\"y\":[0.15685407875134413],\"yaxis\":\"y\",\"type\":\"bar\"},{\"alignmentgroup\":\"True\",\"hovertemplate\":\"state=%{x}<br>year=2019<br>btu_per_person=%{y}<extra></extra>\",\"legendgroup\":\"VA\",\"marker\":{\"color\":\"#19d3f3\",\"pattern\":{\"shape\":\"\"}},\"name\":\"VA\",\"offsetgroup\":\"VA\",\"orientation\":\"v\",\"showlegend\":true,\"textposition\":\"auto\",\"x\":[\"VA\"],\"xaxis\":\"x\",\"y\":[0.1711092777475843],\"yaxis\":\"y\",\"type\":\"bar\"},{\"alignmentgroup\":\"True\",\"hovertemplate\":\"state=%{x}<br>year=2019<br>btu_per_person=%{y}<extra></extra>\",\"legendgroup\":\"VT\",\"marker\":{\"color\":\"#FF6692\",\"pattern\":{\"shape\":\"\"}},\"name\":\"VT\",\"offsetgroup\":\"VT\",\"orientation\":\"v\",\"showlegend\":true,\"textposition\":\"auto\",\"x\":[\"VT\"],\"xaxis\":\"x\",\"y\":[0.2847575018232653],\"yaxis\":\"y\",\"type\":\"bar\"},{\"alignmentgroup\":\"True\",\"hovertemplate\":\"state=%{x}<br>year=2019<br>btu_per_person=%{y}<extra></extra>\",\"legendgroup\":\"WA\",\"marker\":{\"color\":\"#B6E880\",\"pattern\":{\"shape\":\"\"}},\"name\":\"WA\",\"offsetgroup\":\"WA\",\"orientation\":\"v\",\"showlegend\":true,\"textposition\":\"auto\",\"x\":[\"WA\"],\"xaxis\":\"x\",\"y\":[0.17173486655296955],\"yaxis\":\"y\",\"type\":\"bar\"},{\"alignmentgroup\":\"True\",\"hovertemplate\":\"state=%{x}<br>year=2019<br>btu_per_person=%{y}<extra></extra>\",\"legendgroup\":\"WI\",\"marker\":{\"color\":\"#FF97FF\",\"pattern\":{\"shape\":\"\"}},\"name\":\"WI\",\"offsetgroup\":\"WI\",\"orientation\":\"v\",\"showlegend\":true,\"textposition\":\"auto\",\"x\":[\"WI\"],\"xaxis\":\"x\",\"y\":[0.22016681165167018],\"yaxis\":\"y\",\"type\":\"bar\"},{\"alignmentgroup\":\"True\",\"hovertemplate\":\"state=%{x}<br>year=2019<br>btu_per_person=%{y}<extra></extra>\",\"legendgroup\":\"WV\",\"marker\":{\"color\":\"#FECB52\",\"pattern\":{\"shape\":\"\"}},\"name\":\"WV\",\"offsetgroup\":\"WV\",\"orientation\":\"v\",\"showlegend\":true,\"textposition\":\"auto\",\"x\":[\"WV\"],\"xaxis\":\"x\",\"y\":[0.22738587499783966],\"yaxis\":\"y\",\"type\":\"bar\"},{\"alignmentgroup\":\"True\",\"hovertemplate\":\"state=%{x}<br>year=2019<br>btu_per_person=%{y}<extra></extra>\",\"legendgroup\":\"WY\",\"marker\":{\"color\":\"#636efa\",\"pattern\":{\"shape\":\"\"}},\"name\":\"WY\",\"offsetgroup\":\"WY\",\"orientation\":\"v\",\"showlegend\":true,\"textposition\":\"auto\",\"x\":[\"WY\"],\"xaxis\":\"x\",\"y\":[0.2639091618271648],\"yaxis\":\"y\",\"type\":\"bar\"}],\"name\":\"2019\"},{\"data\":[{\"alignmentgroup\":\"True\",\"hovertemplate\":\"state=%{x}<br>year=2020<br>btu_per_person=%{y}<extra></extra>\",\"legendgroup\":\"AK\",\"marker\":{\"color\":\"#636efa\",\"pattern\":{\"shape\":\"\"}},\"name\":\"AK\",\"offsetgroup\":\"AK\",\"orientation\":\"v\",\"showlegend\":true,\"textposition\":\"auto\",\"x\":[\"AK\"],\"xaxis\":\"x\",\"y\":[0.22446395730213217],\"yaxis\":\"y\",\"type\":\"bar\"},{\"alignmentgroup\":\"True\",\"hovertemplate\":\"state=%{x}<br>year=2020<br>btu_per_person=%{y}<extra></extra>\",\"legendgroup\":\"AL\",\"marker\":{\"color\":\"#EF553B\",\"pattern\":{\"shape\":\"\"}},\"name\":\"AL\",\"offsetgroup\":\"AL\",\"orientation\":\"v\",\"showlegend\":true,\"textposition\":\"auto\",\"x\":[\"AL\"],\"xaxis\":\"x\",\"y\":[0.16303103581495842],\"yaxis\":\"y\",\"type\":\"bar\"},{\"alignmentgroup\":\"True\",\"hovertemplate\":\"state=%{x}<br>year=2020<br>btu_per_person=%{y}<extra></extra>\",\"legendgroup\":\"AR\",\"marker\":{\"color\":\"#00cc96\",\"pattern\":{\"shape\":\"\"}},\"name\":\"AR\",\"offsetgroup\":\"AR\",\"orientation\":\"v\",\"showlegend\":true,\"textposition\":\"auto\",\"x\":[\"AR\"],\"xaxis\":\"x\",\"y\":[0.18270418677604577],\"yaxis\":\"y\",\"type\":\"bar\"},{\"alignmentgroup\":\"True\",\"hovertemplate\":\"state=%{x}<br>year=2020<br>btu_per_person=%{y}<extra></extra>\",\"legendgroup\":\"AZ\",\"marker\":{\"color\":\"#ab63fa\",\"pattern\":{\"shape\":\"\"}},\"name\":\"AZ\",\"offsetgroup\":\"AZ\",\"orientation\":\"v\",\"showlegend\":true,\"textposition\":\"auto\",\"x\":[\"AZ\"],\"xaxis\":\"x\",\"y\":[0.15640998775095546],\"yaxis\":\"y\",\"type\":\"bar\"},{\"alignmentgroup\":\"True\",\"hovertemplate\":\"state=%{x}<br>year=2020<br>btu_per_person=%{y}<extra></extra>\",\"legendgroup\":\"CA\",\"marker\":{\"color\":\"#FFA15A\",\"pattern\":{\"shape\":\"\"}},\"name\":\"CA\",\"offsetgroup\":\"CA\",\"orientation\":\"v\",\"showlegend\":true,\"textposition\":\"auto\",\"x\":[\"CA\"],\"xaxis\":\"x\",\"y\":[0.10522699426881874],\"yaxis\":\"y\",\"type\":\"bar\"},{\"alignmentgroup\":\"True\",\"hovertemplate\":\"state=%{x}<br>year=2020<br>btu_per_person=%{y}<extra></extra>\",\"legendgroup\":\"CO\",\"marker\":{\"color\":\"#19d3f3\",\"pattern\":{\"shape\":\"\"}},\"name\":\"CO\",\"offsetgroup\":\"CO\",\"orientation\":\"v\",\"showlegend\":true,\"textposition\":\"auto\",\"x\":[\"CO\"],\"xaxis\":\"x\",\"y\":[0.1794486950277941],\"yaxis\":\"y\",\"type\":\"bar\"},{\"alignmentgroup\":\"True\",\"hovertemplate\":\"state=%{x}<br>year=2020<br>btu_per_person=%{y}<extra></extra>\",\"legendgroup\":\"CT\",\"marker\":{\"color\":\"#FF6692\",\"pattern\":{\"shape\":\"\"}},\"name\":\"CT\",\"offsetgroup\":\"CT\",\"orientation\":\"v\",\"showlegend\":true,\"textposition\":\"auto\",\"x\":[\"CT\"],\"xaxis\":\"x\",\"y\":[0.19282834850091654],\"yaxis\":\"y\",\"type\":\"bar\"},{\"alignmentgroup\":\"True\",\"hovertemplate\":\"state=%{x}<br>year=2020<br>btu_per_person=%{y}<extra></extra>\",\"legendgroup\":\"DC\",\"marker\":{\"color\":\"#B6E880\",\"pattern\":{\"shape\":\"\"}},\"name\":\"DC\",\"offsetgroup\":\"DC\",\"orientation\":\"v\",\"showlegend\":true,\"textposition\":\"auto\",\"x\":[\"DC\"],\"xaxis\":\"x\",\"y\":[0.14097570355927427],\"yaxis\":\"y\",\"type\":\"bar\"},{\"alignmentgroup\":\"True\",\"hovertemplate\":\"state=%{x}<br>year=2020<br>btu_per_person=%{y}<extra></extra>\",\"legendgroup\":\"DE\",\"marker\":{\"color\":\"#FF97FF\",\"pattern\":{\"shape\":\"\"}},\"name\":\"DE\",\"offsetgroup\":\"DE\",\"orientation\":\"v\",\"showlegend\":true,\"textposition\":\"auto\",\"x\":[\"DE\"],\"xaxis\":\"x\",\"y\":[0.1694429265361512],\"yaxis\":\"y\",\"type\":\"bar\"},{\"alignmentgroup\":\"True\",\"hovertemplate\":\"state=%{x}<br>year=2020<br>btu_per_person=%{y}<extra></extra>\",\"legendgroup\":\"FL\",\"marker\":{\"color\":\"#FECB52\",\"pattern\":{\"shape\":\"\"}},\"name\":\"FL\",\"offsetgroup\":\"FL\",\"orientation\":\"v\",\"showlegend\":true,\"textposition\":\"auto\",\"x\":[\"FL\"],\"xaxis\":\"x\",\"y\":[0.1396272174267977],\"yaxis\":\"y\",\"type\":\"bar\"},{\"alignmentgroup\":\"True\",\"hovertemplate\":\"state=%{x}<br>year=2020<br>btu_per_person=%{y}<extra></extra>\",\"legendgroup\":\"GA\",\"marker\":{\"color\":\"#636efa\",\"pattern\":{\"shape\":\"\"}},\"name\":\"GA\",\"offsetgroup\":\"GA\",\"orientation\":\"v\",\"showlegend\":true,\"textposition\":\"auto\",\"x\":[\"GA\"],\"xaxis\":\"x\",\"y\":[0.16154202372444534],\"yaxis\":\"y\",\"type\":\"bar\"},{\"alignmentgroup\":\"True\",\"hovertemplate\":\"state=%{x}<br>year=2020<br>btu_per_person=%{y}<extra></extra>\",\"legendgroup\":\"HI\",\"marker\":{\"color\":\"#EF553B\",\"pattern\":{\"shape\":\"\"}},\"name\":\"HI\",\"offsetgroup\":\"HI\",\"orientation\":\"v\",\"showlegend\":true,\"textposition\":\"auto\",\"x\":[\"HI\"],\"xaxis\":\"x\",\"y\":[0.07093257147109837],\"yaxis\":\"y\",\"type\":\"bar\"},{\"alignmentgroup\":\"True\",\"hovertemplate\":\"state=%{x}<br>year=2020<br>btu_per_person=%{y}<extra></extra>\",\"legendgroup\":\"IA\",\"marker\":{\"color\":\"#00cc96\",\"pattern\":{\"shape\":\"\"}},\"name\":\"IA\",\"offsetgroup\":\"IA\",\"orientation\":\"v\",\"showlegend\":true,\"textposition\":\"auto\",\"x\":[\"IA\"],\"xaxis\":\"x\",\"y\":[0.21128495247741708],\"yaxis\":\"y\",\"type\":\"bar\"},{\"alignmentgroup\":\"True\",\"hovertemplate\":\"state=%{x}<br>year=2020<br>btu_per_person=%{y}<extra></extra>\",\"legendgroup\":\"ID\",\"marker\":{\"color\":\"#ab63fa\",\"pattern\":{\"shape\":\"\"}},\"name\":\"ID\",\"offsetgroup\":\"ID\",\"orientation\":\"v\",\"showlegend\":true,\"textposition\":\"auto\",\"x\":[\"ID\"],\"xaxis\":\"x\",\"y\":[0.19970108238673384],\"yaxis\":\"y\",\"type\":\"bar\"},{\"alignmentgroup\":\"True\",\"hovertemplate\":\"state=%{x}<br>year=2020<br>btu_per_person=%{y}<extra></extra>\",\"legendgroup\":\"IL\",\"marker\":{\"color\":\"#FFA15A\",\"pattern\":{\"shape\":\"\"}},\"name\":\"IL\",\"offsetgroup\":\"IL\",\"orientation\":\"v\",\"showlegend\":true,\"textposition\":\"auto\",\"x\":[\"IL\"],\"xaxis\":\"x\",\"y\":[0.19973992907312907],\"yaxis\":\"y\",\"type\":\"bar\"},{\"alignmentgroup\":\"True\",\"hovertemplate\":\"state=%{x}<br>year=2020<br>btu_per_person=%{y}<extra></extra>\",\"legendgroup\":\"IN\",\"marker\":{\"color\":\"#19d3f3\",\"pattern\":{\"shape\":\"\"}},\"name\":\"IN\",\"offsetgroup\":\"IN\",\"orientation\":\"v\",\"showlegend\":true,\"textposition\":\"auto\",\"x\":[\"IN\"],\"xaxis\":\"x\",\"y\":[0.19967438973483664],\"yaxis\":\"y\",\"type\":\"bar\"},{\"alignmentgroup\":\"True\",\"hovertemplate\":\"state=%{x}<br>year=2020<br>btu_per_person=%{y}<extra></extra>\",\"legendgroup\":\"KS\",\"marker\":{\"color\":\"#FF6692\",\"pattern\":{\"shape\":\"\"}},\"name\":\"KS\",\"offsetgroup\":\"KS\",\"orientation\":\"v\",\"showlegend\":true,\"textposition\":\"auto\",\"x\":[\"KS\"],\"xaxis\":\"x\",\"y\":[0.19735756557585726],\"yaxis\":\"y\",\"type\":\"bar\"},{\"alignmentgroup\":\"True\",\"hovertemplate\":\"state=%{x}<br>year=2020<br>btu_per_person=%{y}<extra></extra>\",\"legendgroup\":\"KY\",\"marker\":{\"color\":\"#B6E880\",\"pattern\":{\"shape\":\"\"}},\"name\":\"KY\",\"offsetgroup\":\"KY\",\"orientation\":\"v\",\"showlegend\":true,\"textposition\":\"auto\",\"x\":[\"KY\"],\"xaxis\":\"x\",\"y\":[0.1860774529713375],\"yaxis\":\"y\",\"type\":\"bar\"},{\"alignmentgroup\":\"True\",\"hovertemplate\":\"state=%{x}<br>year=2020<br>btu_per_person=%{y}<extra></extra>\",\"legendgroup\":\"LA\",\"marker\":{\"color\":\"#FF97FF\",\"pattern\":{\"shape\":\"\"}},\"name\":\"LA\",\"offsetgroup\":\"LA\",\"orientation\":\"v\",\"showlegend\":true,\"textposition\":\"auto\",\"x\":[\"LA\"],\"xaxis\":\"x\",\"y\":[0.16172408470983154],\"yaxis\":\"y\",\"type\":\"bar\"},{\"alignmentgroup\":\"True\",\"hovertemplate\":\"state=%{x}<br>year=2020<br>btu_per_person=%{y}<extra></extra>\",\"legendgroup\":\"MA\",\"marker\":{\"color\":\"#FECB52\",\"pattern\":{\"shape\":\"\"}},\"name\":\"MA\",\"offsetgroup\":\"MA\",\"orientation\":\"v\",\"showlegend\":true,\"textposition\":\"auto\",\"x\":[\"MA\"],\"xaxis\":\"x\",\"y\":[0.17303453285380524],\"yaxis\":\"y\",\"type\":\"bar\"},{\"alignmentgroup\":\"True\",\"hovertemplate\":\"state=%{x}<br>year=2020<br>btu_per_person=%{y}<extra></extra>\",\"legendgroup\":\"MD\",\"marker\":{\"color\":\"#636efa\",\"pattern\":{\"shape\":\"\"}},\"name\":\"MD\",\"offsetgroup\":\"MD\",\"orientation\":\"v\",\"showlegend\":true,\"textposition\":\"auto\",\"x\":[\"MD\"],\"xaxis\":\"x\",\"y\":[0.1623622440327007],\"yaxis\":\"y\",\"type\":\"bar\"},{\"alignmentgroup\":\"True\",\"hovertemplate\":\"state=%{x}<br>year=2020<br>btu_per_person=%{y}<extra></extra>\",\"legendgroup\":\"ME\",\"marker\":{\"color\":\"#EF553B\",\"pattern\":{\"shape\":\"\"}},\"name\":\"ME\",\"offsetgroup\":\"ME\",\"orientation\":\"v\",\"showlegend\":true,\"textposition\":\"auto\",\"x\":[\"ME\"],\"xaxis\":\"x\",\"y\":[0.2515534800958874],\"yaxis\":\"y\",\"type\":\"bar\"},{\"alignmentgroup\":\"True\",\"hovertemplate\":\"state=%{x}<br>year=2020<br>btu_per_person=%{y}<extra></extra>\",\"legendgroup\":\"MI\",\"marker\":{\"color\":\"#00cc96\",\"pattern\":{\"shape\":\"\"}},\"name\":\"MI\",\"offsetgroup\":\"MI\",\"orientation\":\"v\",\"showlegend\":true,\"textposition\":\"auto\",\"x\":[\"MI\"],\"xaxis\":\"x\",\"y\":[0.21573463102148457],\"yaxis\":\"y\",\"type\":\"bar\"},{\"alignmentgroup\":\"True\",\"hovertemplate\":\"state=%{x}<br>year=2020<br>btu_per_person=%{y}<extra></extra>\",\"legendgroup\":\"MN\",\"marker\":{\"color\":\"#ab63fa\",\"pattern\":{\"shape\":\"\"}},\"name\":\"MN\",\"offsetgroup\":\"MN\",\"orientation\":\"v\",\"showlegend\":true,\"textposition\":\"auto\",\"x\":[\"MN\"],\"xaxis\":\"x\",\"y\":[0.20368043304898384],\"yaxis\":\"y\",\"type\":\"bar\"},{\"alignmentgroup\":\"True\",\"hovertemplate\":\"state=%{x}<br>year=2020<br>btu_per_person=%{y}<extra></extra>\",\"legendgroup\":\"MO\",\"marker\":{\"color\":\"#FFA15A\",\"pattern\":{\"shape\":\"\"}},\"name\":\"MO\",\"offsetgroup\":\"MO\",\"orientation\":\"v\",\"showlegend\":true,\"textposition\":\"auto\",\"x\":[\"MO\"],\"xaxis\":\"x\",\"y\":[0.21412784880344649],\"yaxis\":\"y\",\"type\":\"bar\"},{\"alignmentgroup\":\"True\",\"hovertemplate\":\"state=%{x}<br>year=2020<br>btu_per_person=%{y}<extra></extra>\",\"legendgroup\":\"MS\",\"marker\":{\"color\":\"#19d3f3\",\"pattern\":{\"shape\":\"\"}},\"name\":\"MS\",\"offsetgroup\":\"MS\",\"orientation\":\"v\",\"showlegend\":true,\"textposition\":\"auto\",\"x\":[\"MS\"],\"xaxis\":\"x\",\"y\":[0.15552616288011561],\"yaxis\":\"y\",\"type\":\"bar\"},{\"alignmentgroup\":\"True\",\"hovertemplate\":\"state=%{x}<br>year=2020<br>btu_per_person=%{y}<extra></extra>\",\"legendgroup\":\"MT\",\"marker\":{\"color\":\"#FF6692\",\"pattern\":{\"shape\":\"\"}},\"name\":\"MT\",\"offsetgroup\":\"MT\",\"orientation\":\"v\",\"showlegend\":true,\"textposition\":\"auto\",\"x\":[\"MT\"],\"xaxis\":\"x\",\"y\":[0.2690701253022642],\"yaxis\":\"y\",\"type\":\"bar\"},{\"alignmentgroup\":\"True\",\"hovertemplate\":\"state=%{x}<br>year=2020<br>btu_per_person=%{y}<extra></extra>\",\"legendgroup\":\"NC\",\"marker\":{\"color\":\"#B6E880\",\"pattern\":{\"shape\":\"\"}},\"name\":\"NC\",\"offsetgroup\":\"NC\",\"orientation\":\"v\",\"showlegend\":true,\"textposition\":\"auto\",\"x\":[\"NC\"],\"xaxis\":\"x\",\"y\":[0.16130460352644566],\"yaxis\":\"y\",\"type\":\"bar\"},{\"alignmentgroup\":\"True\",\"hovertemplate\":\"state=%{x}<br>year=2020<br>btu_per_person=%{y}<extra></extra>\",\"legendgroup\":\"ND\",\"marker\":{\"color\":\"#FF97FF\",\"pattern\":{\"shape\":\"\"}},\"name\":\"ND\",\"offsetgroup\":\"ND\",\"orientation\":\"v\",\"showlegend\":true,\"textposition\":\"auto\",\"x\":[\"ND\"],\"xaxis\":\"x\",\"y\":[0.23203256183271911],\"yaxis\":\"y\",\"type\":\"bar\"},{\"alignmentgroup\":\"True\",\"hovertemplate\":\"state=%{x}<br>year=2020<br>btu_per_person=%{y}<extra></extra>\",\"legendgroup\":\"NE\",\"marker\":{\"color\":\"#FECB52\",\"pattern\":{\"shape\":\"\"}},\"name\":\"NE\",\"offsetgroup\":\"NE\",\"orientation\":\"v\",\"showlegend\":true,\"textposition\":\"auto\",\"x\":[\"NE\"],\"xaxis\":\"x\",\"y\":[0.21428451366671877],\"yaxis\":\"y\",\"type\":\"bar\"},{\"alignmentgroup\":\"True\",\"hovertemplate\":\"state=%{x}<br>year=2020<br>btu_per_person=%{y}<extra></extra>\",\"legendgroup\":\"NH\",\"marker\":{\"color\":\"#636efa\",\"pattern\":{\"shape\":\"\"}},\"name\":\"NH\",\"offsetgroup\":\"NH\",\"orientation\":\"v\",\"showlegend\":true,\"textposition\":\"auto\",\"x\":[\"NH\"],\"xaxis\":\"x\",\"y\":[0.23645428816379463],\"yaxis\":\"y\",\"type\":\"bar\"},{\"alignmentgroup\":\"True\",\"hovertemplate\":\"state=%{x}<br>year=2020<br>btu_per_person=%{y}<extra></extra>\",\"legendgroup\":\"NJ\",\"marker\":{\"color\":\"#EF553B\",\"pattern\":{\"shape\":\"\"}},\"name\":\"NJ\",\"offsetgroup\":\"NJ\",\"orientation\":\"v\",\"showlegend\":true,\"textposition\":\"auto\",\"x\":[\"NJ\"],\"xaxis\":\"x\",\"y\":[0.1654000391700437],\"yaxis\":\"y\",\"type\":\"bar\"},{\"alignmentgroup\":\"True\",\"hovertemplate\":\"state=%{x}<br>year=2020<br>btu_per_person=%{y}<extra></extra>\",\"legendgroup\":\"NM\",\"marker\":{\"color\":\"#00cc96\",\"pattern\":{\"shape\":\"\"}},\"name\":\"NM\",\"offsetgroup\":\"NM\",\"orientation\":\"v\",\"showlegend\":true,\"textposition\":\"auto\",\"x\":[\"NM\"],\"xaxis\":\"x\",\"y\":[0.16725891296056433],\"yaxis\":\"y\",\"type\":\"bar\"},{\"alignmentgroup\":\"True\",\"hovertemplate\":\"state=%{x}<br>year=2020<br>btu_per_person=%{y}<extra></extra>\",\"legendgroup\":\"NV\",\"marker\":{\"color\":\"#ab63fa\",\"pattern\":{\"shape\":\"\"}},\"name\":\"NV\",\"offsetgroup\":\"NV\",\"orientation\":\"v\",\"showlegend\":true,\"textposition\":\"auto\",\"x\":[\"NV\"],\"xaxis\":\"x\",\"y\":[0.15872541593920098],\"yaxis\":\"y\",\"type\":\"bar\"},{\"alignmentgroup\":\"True\",\"hovertemplate\":\"state=%{x}<br>year=2020<br>btu_per_person=%{y}<extra></extra>\",\"legendgroup\":\"NY\",\"marker\":{\"color\":\"#FFA15A\",\"pattern\":{\"shape\":\"\"}},\"name\":\"NY\",\"offsetgroup\":\"NY\",\"orientation\":\"v\",\"showlegend\":true,\"textposition\":\"auto\",\"x\":[\"NY\"],\"xaxis\":\"x\",\"y\":[0.15423569899789652],\"yaxis\":\"y\",\"type\":\"bar\"},{\"alignmentgroup\":\"True\",\"hovertemplate\":\"state=%{x}<br>year=2020<br>btu_per_person=%{y}<extra></extra>\",\"legendgroup\":\"OH\",\"marker\":{\"color\":\"#19d3f3\",\"pattern\":{\"shape\":\"\"}},\"name\":\"OH\",\"offsetgroup\":\"OH\",\"orientation\":\"v\",\"showlegend\":true,\"textposition\":\"auto\",\"x\":[\"OH\"],\"xaxis\":\"x\",\"y\":[0.19265619125208971],\"yaxis\":\"y\",\"type\":\"bar\"},{\"alignmentgroup\":\"True\",\"hovertemplate\":\"state=%{x}<br>year=2020<br>btu_per_person=%{y}<extra></extra>\",\"legendgroup\":\"OK\",\"marker\":{\"color\":\"#FF6692\",\"pattern\":{\"shape\":\"\"}},\"name\":\"OK\",\"offsetgroup\":\"OK\",\"orientation\":\"v\",\"showlegend\":true,\"textposition\":\"auto\",\"x\":[\"OK\"],\"xaxis\":\"x\",\"y\":[0.1859411071326434],\"yaxis\":\"y\",\"type\":\"bar\"},{\"alignmentgroup\":\"True\",\"hovertemplate\":\"state=%{x}<br>year=2020<br>btu_per_person=%{y}<extra></extra>\",\"legendgroup\":\"OR\",\"marker\":{\"color\":\"#B6E880\",\"pattern\":{\"shape\":\"\"}},\"name\":\"OR\",\"offsetgroup\":\"OR\",\"orientation\":\"v\",\"showlegend\":true,\"textposition\":\"auto\",\"x\":[\"OR\"],\"xaxis\":\"x\",\"y\":[0.15827138658633455],\"yaxis\":\"y\",\"type\":\"bar\"},{\"alignmentgroup\":\"True\",\"hovertemplate\":\"state=%{x}<br>year=2020<br>btu_per_person=%{y}<extra></extra>\",\"legendgroup\":\"PA\",\"marker\":{\"color\":\"#FF97FF\",\"pattern\":{\"shape\":\"\"}},\"name\":\"PA\",\"offsetgroup\":\"PA\",\"orientation\":\"v\",\"showlegend\":true,\"textposition\":\"auto\",\"x\":[\"PA\"],\"xaxis\":\"x\",\"y\":[0.18174069331968346],\"yaxis\":\"y\",\"type\":\"bar\"},{\"alignmentgroup\":\"True\",\"hovertemplate\":\"state=%{x}<br>year=2020<br>btu_per_person=%{y}<extra></extra>\",\"legendgroup\":\"RI\",\"marker\":{\"color\":\"#FECB52\",\"pattern\":{\"shape\":\"\"}},\"name\":\"RI\",\"offsetgroup\":\"RI\",\"orientation\":\"v\",\"showlegend\":true,\"textposition\":\"auto\",\"x\":[\"RI\"],\"xaxis\":\"x\",\"y\":[0.16123577674737608],\"yaxis\":\"y\",\"type\":\"bar\"},{\"alignmentgroup\":\"True\",\"hovertemplate\":\"state=%{x}<br>year=2020<br>btu_per_person=%{y}<extra></extra>\",\"legendgroup\":\"SC\",\"marker\":{\"color\":\"#636efa\",\"pattern\":{\"shape\":\"\"}},\"name\":\"SC\",\"offsetgroup\":\"SC\",\"orientation\":\"v\",\"showlegend\":true,\"textposition\":\"auto\",\"x\":[\"SC\"],\"xaxis\":\"x\",\"y\":[0.17081843460958185],\"yaxis\":\"y\",\"type\":\"bar\"},{\"alignmentgroup\":\"True\",\"hovertemplate\":\"state=%{x}<br>year=2020<br>btu_per_person=%{y}<extra></extra>\",\"legendgroup\":\"SD\",\"marker\":{\"color\":\"#EF553B\",\"pattern\":{\"shape\":\"\"}},\"name\":\"SD\",\"offsetgroup\":\"SD\",\"orientation\":\"v\",\"showlegend\":true,\"textposition\":\"auto\",\"x\":[\"SD\"],\"xaxis\":\"x\",\"y\":[0.21295103237927043],\"yaxis\":\"y\",\"type\":\"bar\"},{\"alignmentgroup\":\"True\",\"hovertemplate\":\"state=%{x}<br>year=2020<br>btu_per_person=%{y}<extra></extra>\",\"legendgroup\":\"TN\",\"marker\":{\"color\":\"#00cc96\",\"pattern\":{\"shape\":\"\"}},\"name\":\"TN\",\"offsetgroup\":\"TN\",\"orientation\":\"v\",\"showlegend\":true,\"textposition\":\"auto\",\"x\":[\"TN\"],\"xaxis\":\"x\",\"y\":[0.17904442780206037],\"yaxis\":\"y\",\"type\":\"bar\"},{\"alignmentgroup\":\"True\",\"hovertemplate\":\"state=%{x}<br>year=2020<br>btu_per_person=%{y}<extra></extra>\",\"legendgroup\":\"TX\",\"marker\":{\"color\":\"#ab63fa\",\"pattern\":{\"shape\":\"\"}},\"name\":\"TX\",\"offsetgroup\":\"TX\",\"orientation\":\"v\",\"showlegend\":true,\"textposition\":\"auto\",\"x\":[\"TX\"],\"xaxis\":\"x\",\"y\":[0.14752184937443988],\"yaxis\":\"y\",\"type\":\"bar\"},{\"alignmentgroup\":\"True\",\"hovertemplate\":\"state=%{x}<br>year=2020<br>btu_per_person=%{y}<extra></extra>\",\"legendgroup\":\"UT\",\"marker\":{\"color\":\"#FFA15A\",\"pattern\":{\"shape\":\"\"}},\"name\":\"UT\",\"offsetgroup\":\"UT\",\"orientation\":\"v\",\"showlegend\":true,\"textposition\":\"auto\",\"x\":[\"UT\"],\"xaxis\":\"x\",\"y\":[0.15782516469335095],\"yaxis\":\"y\",\"type\":\"bar\"},{\"alignmentgroup\":\"True\",\"hovertemplate\":\"state=%{x}<br>year=2020<br>btu_per_person=%{y}<extra></extra>\",\"legendgroup\":\"VA\",\"marker\":{\"color\":\"#19d3f3\",\"pattern\":{\"shape\":\"\"}},\"name\":\"VA\",\"offsetgroup\":\"VA\",\"orientation\":\"v\",\"showlegend\":true,\"textposition\":\"auto\",\"x\":[\"VA\"],\"xaxis\":\"x\",\"y\":[0.16475699917785788],\"yaxis\":\"y\",\"type\":\"bar\"},{\"alignmentgroup\":\"True\",\"hovertemplate\":\"state=%{x}<br>year=2020<br>btu_per_person=%{y}<extra></extra>\",\"legendgroup\":\"VT\",\"marker\":{\"color\":\"#FF6692\",\"pattern\":{\"shape\":\"\"}},\"name\":\"VT\",\"offsetgroup\":\"VT\",\"orientation\":\"v\",\"showlegend\":true,\"textposition\":\"auto\",\"x\":[\"VT\"],\"xaxis\":\"x\",\"y\":[0.2573973148182712],\"yaxis\":\"y\",\"type\":\"bar\"},{\"alignmentgroup\":\"True\",\"hovertemplate\":\"state=%{x}<br>year=2020<br>btu_per_person=%{y}<extra></extra>\",\"legendgroup\":\"WA\",\"marker\":{\"color\":\"#B6E880\",\"pattern\":{\"shape\":\"\"}},\"name\":\"WA\",\"offsetgroup\":\"WA\",\"orientation\":\"v\",\"showlegend\":true,\"textposition\":\"auto\",\"x\":[\"WA\"],\"xaxis\":\"x\",\"y\":[0.16045432196449613],\"yaxis\":\"y\",\"type\":\"bar\"},{\"alignmentgroup\":\"True\",\"hovertemplate\":\"state=%{x}<br>year=2020<br>btu_per_person=%{y}<extra></extra>\",\"legendgroup\":\"WI\",\"marker\":{\"color\":\"#FF97FF\",\"pattern\":{\"shape\":\"\"}},\"name\":\"WI\",\"offsetgroup\":\"WI\",\"orientation\":\"v\",\"showlegend\":true,\"textposition\":\"auto\",\"x\":[\"WI\"],\"xaxis\":\"x\",\"y\":[0.20781877999559076],\"yaxis\":\"y\",\"type\":\"bar\"},{\"alignmentgroup\":\"True\",\"hovertemplate\":\"state=%{x}<br>year=2020<br>btu_per_person=%{y}<extra></extra>\",\"legendgroup\":\"WV\",\"marker\":{\"color\":\"#FECB52\",\"pattern\":{\"shape\":\"\"}},\"name\":\"WV\",\"offsetgroup\":\"WV\",\"orientation\":\"v\",\"showlegend\":true,\"textposition\":\"auto\",\"x\":[\"WV\"],\"xaxis\":\"x\",\"y\":[0.220460134787409],\"yaxis\":\"y\",\"type\":\"bar\"},{\"alignmentgroup\":\"True\",\"hovertemplate\":\"state=%{x}<br>year=2020<br>btu_per_person=%{y}<extra></extra>\",\"legendgroup\":\"WY\",\"marker\":{\"color\":\"#636efa\",\"pattern\":{\"shape\":\"\"}},\"name\":\"WY\",\"offsetgroup\":\"WY\",\"orientation\":\"v\",\"showlegend\":true,\"textposition\":\"auto\",\"x\":[\"WY\"],\"xaxis\":\"x\",\"y\":[0.25239412530467537],\"yaxis\":\"y\",\"type\":\"bar\"}],\"name\":\"2020\"},{\"data\":[{\"alignmentgroup\":\"True\",\"hovertemplate\":\"state=%{x}<br>year=2021<br>btu_per_person=%{y}<extra></extra>\",\"legendgroup\":\"AK\",\"marker\":{\"color\":\"#636efa\",\"pattern\":{\"shape\":\"\"}},\"name\":\"AK\",\"offsetgroup\":\"AK\",\"orientation\":\"v\",\"showlegend\":true,\"textposition\":\"auto\",\"x\":[\"AK\"],\"xaxis\":\"x\",\"y\":[0.22386562946050131],\"yaxis\":\"y\",\"type\":\"bar\"},{\"alignmentgroup\":\"True\",\"hovertemplate\":\"state=%{x}<br>year=2021<br>btu_per_person=%{y}<extra></extra>\",\"legendgroup\":\"AL\",\"marker\":{\"color\":\"#EF553B\",\"pattern\":{\"shape\":\"\"}},\"name\":\"AL\",\"offsetgroup\":\"AL\",\"orientation\":\"v\",\"showlegend\":true,\"textposition\":\"auto\",\"x\":[\"AL\"],\"xaxis\":\"x\",\"y\":[0.162433321849049],\"yaxis\":\"y\",\"type\":\"bar\"},{\"alignmentgroup\":\"True\",\"hovertemplate\":\"state=%{x}<br>year=2021<br>btu_per_person=%{y}<extra></extra>\",\"legendgroup\":\"AR\",\"marker\":{\"color\":\"#00cc96\",\"pattern\":{\"shape\":\"\"}},\"name\":\"AR\",\"offsetgroup\":\"AR\",\"orientation\":\"v\",\"showlegend\":true,\"textposition\":\"auto\",\"x\":[\"AR\"],\"xaxis\":\"x\",\"y\":[0.1818538437078063],\"yaxis\":\"y\",\"type\":\"bar\"},{\"alignmentgroup\":\"True\",\"hovertemplate\":\"state=%{x}<br>year=2021<br>btu_per_person=%{y}<extra></extra>\",\"legendgroup\":\"AZ\",\"marker\":{\"color\":\"#ab63fa\",\"pattern\":{\"shape\":\"\"}},\"name\":\"AZ\",\"offsetgroup\":\"AZ\",\"orientation\":\"v\",\"showlegend\":true,\"textposition\":\"auto\",\"x\":[\"AZ\"],\"xaxis\":\"x\",\"y\":[0.1545645939277719],\"yaxis\":\"y\",\"type\":\"bar\"},{\"alignmentgroup\":\"True\",\"hovertemplate\":\"state=%{x}<br>year=2021<br>btu_per_person=%{y}<extra></extra>\",\"legendgroup\":\"CA\",\"marker\":{\"color\":\"#FFA15A\",\"pattern\":{\"shape\":\"\"}},\"name\":\"CA\",\"offsetgroup\":\"CA\",\"orientation\":\"v\",\"showlegend\":true,\"textposition\":\"auto\",\"x\":[\"CA\"],\"xaxis\":\"x\",\"y\":[0.10618972100183267],\"yaxis\":\"y\",\"type\":\"bar\"},{\"alignmentgroup\":\"True\",\"hovertemplate\":\"state=%{x}<br>year=2021<br>btu_per_person=%{y}<extra></extra>\",\"legendgroup\":\"CO\",\"marker\":{\"color\":\"#19d3f3\",\"pattern\":{\"shape\":\"\"}},\"name\":\"CO\",\"offsetgroup\":\"CO\",\"orientation\":\"v\",\"showlegend\":true,\"textposition\":\"auto\",\"x\":[\"CO\"],\"xaxis\":\"x\",\"y\":[0.17863423403829173],\"yaxis\":\"y\",\"type\":\"bar\"},{\"alignmentgroup\":\"True\",\"hovertemplate\":\"state=%{x}<br>year=2021<br>btu_per_person=%{y}<extra></extra>\",\"legendgroup\":\"CT\",\"marker\":{\"color\":\"#FF6692\",\"pattern\":{\"shape\":\"\"}},\"name\":\"CT\",\"offsetgroup\":\"CT\",\"orientation\":\"v\",\"showlegend\":true,\"textposition\":\"auto\",\"x\":[\"CT\"],\"xaxis\":\"x\",\"y\":[0.19143150730736902],\"yaxis\":\"y\",\"type\":\"bar\"},{\"alignmentgroup\":\"True\",\"hovertemplate\":\"state=%{x}<br>year=2021<br>btu_per_person=%{y}<extra></extra>\",\"legendgroup\":\"DC\",\"marker\":{\"color\":\"#B6E880\",\"pattern\":{\"shape\":\"\"}},\"name\":\"DC\",\"offsetgroup\":\"DC\",\"orientation\":\"v\",\"showlegend\":true,\"textposition\":\"auto\",\"x\":[\"DC\"],\"xaxis\":\"x\",\"y\":[0.14135541083676986],\"yaxis\":\"y\",\"type\":\"bar\"},{\"alignmentgroup\":\"True\",\"hovertemplate\":\"state=%{x}<br>year=2021<br>btu_per_person=%{y}<extra></extra>\",\"legendgroup\":\"DE\",\"marker\":{\"color\":\"#FF97FF\",\"pattern\":{\"shape\":\"\"}},\"name\":\"DE\",\"offsetgroup\":\"DE\",\"orientation\":\"v\",\"showlegend\":true,\"textposition\":\"auto\",\"x\":[\"DE\"],\"xaxis\":\"x\",\"y\":[0.16724766415127762],\"yaxis\":\"y\",\"type\":\"bar\"},{\"alignmentgroup\":\"True\",\"hovertemplate\":\"state=%{x}<br>year=2021<br>btu_per_person=%{y}<extra></extra>\",\"legendgroup\":\"FL\",\"marker\":{\"color\":\"#FECB52\",\"pattern\":{\"shape\":\"\"}},\"name\":\"FL\",\"offsetgroup\":\"FL\",\"orientation\":\"v\",\"showlegend\":true,\"textposition\":\"auto\",\"x\":[\"FL\"],\"xaxis\":\"x\",\"y\":[0.13809597929668613],\"yaxis\":\"y\",\"type\":\"bar\"},{\"alignmentgroup\":\"True\",\"hovertemplate\":\"state=%{x}<br>year=2021<br>btu_per_person=%{y}<extra></extra>\",\"legendgroup\":\"GA\",\"marker\":{\"color\":\"#636efa\",\"pattern\":{\"shape\":\"\"}},\"name\":\"GA\",\"offsetgroup\":\"GA\",\"orientation\":\"v\",\"showlegend\":true,\"textposition\":\"auto\",\"x\":[\"GA\"],\"xaxis\":\"x\",\"y\":[0.16067378504103422],\"yaxis\":\"y\",\"type\":\"bar\"},{\"alignmentgroup\":\"True\",\"hovertemplate\":\"state=%{x}<br>year=2021<br>btu_per_person=%{y}<extra></extra>\",\"legendgroup\":\"HI\",\"marker\":{\"color\":\"#EF553B\",\"pattern\":{\"shape\":\"\"}},\"name\":\"HI\",\"offsetgroup\":\"HI\",\"orientation\":\"v\",\"showlegend\":true,\"textposition\":\"auto\",\"x\":[\"HI\"],\"xaxis\":\"x\",\"y\":[0.07115006445503527],\"yaxis\":\"y\",\"type\":\"bar\"},{\"alignmentgroup\":\"True\",\"hovertemplate\":\"state=%{x}<br>year=2021<br>btu_per_person=%{y}<extra></extra>\",\"legendgroup\":\"IA\",\"marker\":{\"color\":\"#00cc96\",\"pattern\":{\"shape\":\"\"}},\"name\":\"IA\",\"offsetgroup\":\"IA\",\"orientation\":\"v\",\"showlegend\":true,\"textposition\":\"auto\",\"x\":[\"IA\"],\"xaxis\":\"x\",\"y\":[0.2108198267386796],\"yaxis\":\"y\",\"type\":\"bar\"},{\"alignmentgroup\":\"True\",\"hovertemplate\":\"state=%{x}<br>year=2021<br>btu_per_person=%{y}<extra></extra>\",\"legendgroup\":\"ID\",\"marker\":{\"color\":\"#ab63fa\",\"pattern\":{\"shape\":\"\"}},\"name\":\"ID\",\"offsetgroup\":\"ID\",\"orientation\":\"v\",\"showlegend\":true,\"textposition\":\"auto\",\"x\":[\"ID\"],\"xaxis\":\"x\",\"y\":[0.1939132713095099],\"yaxis\":\"y\",\"type\":\"bar\"},{\"alignmentgroup\":\"True\",\"hovertemplate\":\"state=%{x}<br>year=2021<br>btu_per_person=%{y}<extra></extra>\",\"legendgroup\":\"IL\",\"marker\":{\"color\":\"#FFA15A\",\"pattern\":{\"shape\":\"\"}},\"name\":\"IL\",\"offsetgroup\":\"IL\",\"orientation\":\"v\",\"showlegend\":true,\"textposition\":\"auto\",\"x\":[\"IL\"],\"xaxis\":\"x\",\"y\":[0.20131413332391934],\"yaxis\":\"y\",\"type\":\"bar\"},{\"alignmentgroup\":\"True\",\"hovertemplate\":\"state=%{x}<br>year=2021<br>btu_per_person=%{y}<extra></extra>\",\"legendgroup\":\"IN\",\"marker\":{\"color\":\"#19d3f3\",\"pattern\":{\"shape\":\"\"}},\"name\":\"IN\",\"offsetgroup\":\"IN\",\"orientation\":\"v\",\"showlegend\":true,\"textposition\":\"auto\",\"x\":[\"IN\"],\"xaxis\":\"x\",\"y\":[0.1989505705922013],\"yaxis\":\"y\",\"type\":\"bar\"},{\"alignmentgroup\":\"True\",\"hovertemplate\":\"state=%{x}<br>year=2021<br>btu_per_person=%{y}<extra></extra>\",\"legendgroup\":\"KS\",\"marker\":{\"color\":\"#FF6692\",\"pattern\":{\"shape\":\"\"}},\"name\":\"KS\",\"offsetgroup\":\"KS\",\"orientation\":\"v\",\"showlegend\":true,\"textposition\":\"auto\",\"x\":[\"KS\"],\"xaxis\":\"x\",\"y\":[0.19736952278905057],\"yaxis\":\"y\",\"type\":\"bar\"},{\"alignmentgroup\":\"True\",\"hovertemplate\":\"state=%{x}<br>year=2021<br>btu_per_person=%{y}<extra></extra>\",\"legendgroup\":\"KY\",\"marker\":{\"color\":\"#B6E880\",\"pattern\":{\"shape\":\"\"}},\"name\":\"KY\",\"offsetgroup\":\"KY\",\"orientation\":\"v\",\"showlegend\":true,\"textposition\":\"auto\",\"x\":[\"KY\"],\"xaxis\":\"x\",\"y\":[0.18610036382997602],\"yaxis\":\"y\",\"type\":\"bar\"},{\"alignmentgroup\":\"True\",\"hovertemplate\":\"state=%{x}<br>year=2021<br>btu_per_person=%{y}<extra></extra>\",\"legendgroup\":\"LA\",\"marker\":{\"color\":\"#FF97FF\",\"pattern\":{\"shape\":\"\"}},\"name\":\"LA\",\"offsetgroup\":\"LA\",\"orientation\":\"v\",\"showlegend\":true,\"textposition\":\"auto\",\"x\":[\"LA\"],\"xaxis\":\"x\",\"y\":[0.16259700841595082],\"yaxis\":\"y\",\"type\":\"bar\"},{\"alignmentgroup\":\"True\",\"hovertemplate\":\"state=%{x}<br>year=2021<br>btu_per_person=%{y}<extra></extra>\",\"legendgroup\":\"MA\",\"marker\":{\"color\":\"#FECB52\",\"pattern\":{\"shape\":\"\"}},\"name\":\"MA\",\"offsetgroup\":\"MA\",\"orientation\":\"v\",\"showlegend\":true,\"textposition\":\"auto\",\"x\":[\"MA\"],\"xaxis\":\"x\",\"y\":[0.17317712895871265],\"yaxis\":\"y\",\"type\":\"bar\"},{\"alignmentgroup\":\"True\",\"hovertemplate\":\"state=%{x}<br>year=2021<br>btu_per_person=%{y}<extra></extra>\",\"legendgroup\":\"MD\",\"marker\":{\"color\":\"#636efa\",\"pattern\":{\"shape\":\"\"}},\"name\":\"MD\",\"offsetgroup\":\"MD\",\"orientation\":\"v\",\"showlegend\":true,\"textposition\":\"auto\",\"x\":[\"MD\"],\"xaxis\":\"x\",\"y\":[0.1623265903325401],\"yaxis\":\"y\",\"type\":\"bar\"},{\"alignmentgroup\":\"True\",\"hovertemplate\":\"state=%{x}<br>year=2021<br>btu_per_person=%{y}<extra></extra>\",\"legendgroup\":\"ME\",\"marker\":{\"color\":\"#EF553B\",\"pattern\":{\"shape\":\"\"}},\"name\":\"ME\",\"offsetgroup\":\"ME\",\"orientation\":\"v\",\"showlegend\":true,\"textposition\":\"auto\",\"x\":[\"ME\"],\"xaxis\":\"x\",\"y\":[0.24894998284724182],\"yaxis\":\"y\",\"type\":\"bar\"},{\"alignmentgroup\":\"True\",\"hovertemplate\":\"state=%{x}<br>year=2021<br>btu_per_person=%{y}<extra></extra>\",\"legendgroup\":\"MI\",\"marker\":{\"color\":\"#00cc96\",\"pattern\":{\"shape\":\"\"}},\"name\":\"MI\",\"offsetgroup\":\"MI\",\"orientation\":\"v\",\"showlegend\":true,\"textposition\":\"auto\",\"x\":[\"MI\"],\"xaxis\":\"x\",\"y\":[0.2164333211099253],\"yaxis\":\"y\",\"type\":\"bar\"},{\"alignmentgroup\":\"True\",\"hovertemplate\":\"state=%{x}<br>year=2021<br>btu_per_person=%{y}<extra></extra>\",\"legendgroup\":\"MN\",\"marker\":{\"color\":\"#ab63fa\",\"pattern\":{\"shape\":\"\"}},\"name\":\"MN\",\"offsetgroup\":\"MN\",\"orientation\":\"v\",\"showlegend\":true,\"textposition\":\"auto\",\"x\":[\"MN\"],\"xaxis\":\"x\",\"y\":[0.20341719296085603],\"yaxis\":\"y\",\"type\":\"bar\"},{\"alignmentgroup\":\"True\",\"hovertemplate\":\"state=%{x}<br>year=2021<br>btu_per_person=%{y}<extra></extra>\",\"legendgroup\":\"MO\",\"marker\":{\"color\":\"#FFA15A\",\"pattern\":{\"shape\":\"\"}},\"name\":\"MO\",\"offsetgroup\":\"MO\",\"orientation\":\"v\",\"showlegend\":true,\"textposition\":\"auto\",\"x\":[\"MO\"],\"xaxis\":\"x\",\"y\":[0.21357375454043204],\"yaxis\":\"y\",\"type\":\"bar\"},{\"alignmentgroup\":\"True\",\"hovertemplate\":\"state=%{x}<br>year=2021<br>btu_per_person=%{y}<extra></extra>\",\"legendgroup\":\"MS\",\"marker\":{\"color\":\"#19d3f3\",\"pattern\":{\"shape\":\"\"}},\"name\":\"MS\",\"offsetgroup\":\"MS\",\"orientation\":\"v\",\"showlegend\":true,\"textposition\":\"auto\",\"x\":[\"MS\"],\"xaxis\":\"x\",\"y\":[0.15599159474122096],\"yaxis\":\"y\",\"type\":\"bar\"},{\"alignmentgroup\":\"True\",\"hovertemplate\":\"state=%{x}<br>year=2021<br>btu_per_person=%{y}<extra></extra>\",\"legendgroup\":\"MT\",\"marker\":{\"color\":\"#FF6692\",\"pattern\":{\"shape\":\"\"}},\"name\":\"MT\",\"offsetgroup\":\"MT\",\"orientation\":\"v\",\"showlegend\":true,\"textposition\":\"auto\",\"x\":[\"MT\"],\"xaxis\":\"x\",\"y\":[0.26441159616257187],\"yaxis\":\"y\",\"type\":\"bar\"},{\"alignmentgroup\":\"True\",\"hovertemplate\":\"state=%{x}<br>year=2021<br>btu_per_person=%{y}<extra></extra>\",\"legendgroup\":\"NC\",\"marker\":{\"color\":\"#B6E880\",\"pattern\":{\"shape\":\"\"}},\"name\":\"NC\",\"offsetgroup\":\"NC\",\"orientation\":\"v\",\"showlegend\":true,\"textposition\":\"auto\",\"x\":[\"NC\"],\"xaxis\":\"x\",\"y\":[0.15957528555611283],\"yaxis\":\"y\",\"type\":\"bar\"},{\"alignmentgroup\":\"True\",\"hovertemplate\":\"state=%{x}<br>year=2021<br>btu_per_person=%{y}<extra></extra>\",\"legendgroup\":\"ND\",\"marker\":{\"color\":\"#FF97FF\",\"pattern\":{\"shape\":\"\"}},\"name\":\"ND\",\"offsetgroup\":\"ND\",\"orientation\":\"v\",\"showlegend\":true,\"textposition\":\"auto\",\"x\":[\"ND\"],\"xaxis\":\"x\",\"y\":[0.23250409392505225],\"yaxis\":\"y\",\"type\":\"bar\"},{\"alignmentgroup\":\"True\",\"hovertemplate\":\"state=%{x}<br>year=2021<br>btu_per_person=%{y}<extra></extra>\",\"legendgroup\":\"NE\",\"marker\":{\"color\":\"#FECB52\",\"pattern\":{\"shape\":\"\"}},\"name\":\"NE\",\"offsetgroup\":\"NE\",\"orientation\":\"v\",\"showlegend\":true,\"textposition\":\"auto\",\"x\":[\"NE\"],\"xaxis\":\"x\",\"y\":[0.21417760339426745],\"yaxis\":\"y\",\"type\":\"bar\"},{\"alignmentgroup\":\"True\",\"hovertemplate\":\"state=%{x}<br>year=2021<br>btu_per_person=%{y}<extra></extra>\",\"legendgroup\":\"NH\",\"marker\":{\"color\":\"#636efa\",\"pattern\":{\"shape\":\"\"}},\"name\":\"NH\",\"offsetgroup\":\"NH\",\"orientation\":\"v\",\"showlegend\":true,\"textposition\":\"auto\",\"x\":[\"NH\"],\"xaxis\":\"x\",\"y\":[0.23495597098077542],\"yaxis\":\"y\",\"type\":\"bar\"},{\"alignmentgroup\":\"True\",\"hovertemplate\":\"state=%{x}<br>year=2021<br>btu_per_person=%{y}<extra></extra>\",\"legendgroup\":\"NJ\",\"marker\":{\"color\":\"#EF553B\",\"pattern\":{\"shape\":\"\"}},\"name\":\"NJ\",\"offsetgroup\":\"NJ\",\"orientation\":\"v\",\"showlegend\":true,\"textposition\":\"auto\",\"x\":[\"NJ\"],\"xaxis\":\"x\",\"y\":[0.16545744362362347],\"yaxis\":\"y\",\"type\":\"bar\"},{\"alignmentgroup\":\"True\",\"hovertemplate\":\"state=%{x}<br>year=2021<br>btu_per_person=%{y}<extra></extra>\",\"legendgroup\":\"NM\",\"marker\":{\"color\":\"#00cc96\",\"pattern\":{\"shape\":\"\"}},\"name\":\"NM\",\"offsetgroup\":\"NM\",\"orientation\":\"v\",\"showlegend\":true,\"textposition\":\"auto\",\"x\":[\"NM\"],\"xaxis\":\"x\",\"y\":[0.16738042939134132],\"yaxis\":\"y\",\"type\":\"bar\"},{\"alignmentgroup\":\"True\",\"hovertemplate\":\"state=%{x}<br>year=2021<br>btu_per_person=%{y}<extra></extra>\",\"legendgroup\":\"NV\",\"marker\":{\"color\":\"#ab63fa\",\"pattern\":{\"shape\":\"\"}},\"name\":\"NV\",\"offsetgroup\":\"NV\",\"orientation\":\"v\",\"showlegend\":true,\"textposition\":\"auto\",\"x\":[\"NV\"],\"xaxis\":\"x\",\"y\":[0.15717217647313064],\"yaxis\":\"y\",\"type\":\"bar\"},{\"alignmentgroup\":\"True\",\"hovertemplate\":\"state=%{x}<br>year=2021<br>btu_per_person=%{y}<extra></extra>\",\"legendgroup\":\"NY\",\"marker\":{\"color\":\"#FFA15A\",\"pattern\":{\"shape\":\"\"}},\"name\":\"NY\",\"offsetgroup\":\"NY\",\"orientation\":\"v\",\"showlegend\":true,\"textposition\":\"auto\",\"x\":[\"NY\"],\"xaxis\":\"x\",\"y\":[0.15617920065178087],\"yaxis\":\"y\",\"type\":\"bar\"},{\"alignmentgroup\":\"True\",\"hovertemplate\":\"state=%{x}<br>year=2021<br>btu_per_person=%{y}<extra></extra>\",\"legendgroup\":\"OH\",\"marker\":{\"color\":\"#19d3f3\",\"pattern\":{\"shape\":\"\"}},\"name\":\"OH\",\"offsetgroup\":\"OH\",\"orientation\":\"v\",\"showlegend\":true,\"textposition\":\"auto\",\"x\":[\"OH\"],\"xaxis\":\"x\",\"y\":[0.1931976323108768],\"yaxis\":\"y\",\"type\":\"bar\"},{\"alignmentgroup\":\"True\",\"hovertemplate\":\"state=%{x}<br>year=2021<br>btu_per_person=%{y}<extra></extra>\",\"legendgroup\":\"OK\",\"marker\":{\"color\":\"#FF6692\",\"pattern\":{\"shape\":\"\"}},\"name\":\"OK\",\"offsetgroup\":\"OK\",\"orientation\":\"v\",\"showlegend\":true,\"textposition\":\"auto\",\"x\":[\"OK\"],\"xaxis\":\"x\",\"y\":[0.1847113237335888],\"yaxis\":\"y\",\"type\":\"bar\"},{\"alignmentgroup\":\"True\",\"hovertemplate\":\"state=%{x}<br>year=2021<br>btu_per_person=%{y}<extra></extra>\",\"legendgroup\":\"OR\",\"marker\":{\"color\":\"#B6E880\",\"pattern\":{\"shape\":\"\"}},\"name\":\"OR\",\"offsetgroup\":\"OR\",\"orientation\":\"v\",\"showlegend\":true,\"textposition\":\"auto\",\"x\":[\"OR\"],\"xaxis\":\"x\",\"y\":[0.15784671082694207],\"yaxis\":\"y\",\"type\":\"bar\"},{\"alignmentgroup\":\"True\",\"hovertemplate\":\"state=%{x}<br>year=2021<br>btu_per_person=%{y}<extra></extra>\",\"legendgroup\":\"PA\",\"marker\":{\"color\":\"#FF97FF\",\"pattern\":{\"shape\":\"\"}},\"name\":\"PA\",\"offsetgroup\":\"PA\",\"orientation\":\"v\",\"showlegend\":true,\"textposition\":\"auto\",\"x\":[\"PA\"],\"xaxis\":\"x\",\"y\":[0.18148740234649655],\"yaxis\":\"y\",\"type\":\"bar\"},{\"alignmentgroup\":\"True\",\"hovertemplate\":\"state=%{x}<br>year=2021<br>btu_per_person=%{y}<extra></extra>\",\"legendgroup\":\"RI\",\"marker\":{\"color\":\"#FECB52\",\"pattern\":{\"shape\":\"\"}},\"name\":\"RI\",\"offsetgroup\":\"RI\",\"orientation\":\"v\",\"showlegend\":true,\"textposition\":\"auto\",\"x\":[\"RI\"],\"xaxis\":\"x\",\"y\":[0.16114054245222825],\"yaxis\":\"y\",\"type\":\"bar\"},{\"alignmentgroup\":\"True\",\"hovertemplate\":\"state=%{x}<br>year=2021<br>btu_per_person=%{y}<extra></extra>\",\"legendgroup\":\"SC\",\"marker\":{\"color\":\"#636efa\",\"pattern\":{\"shape\":\"\"}},\"name\":\"SC\",\"offsetgroup\":\"SC\",\"orientation\":\"v\",\"showlegend\":true,\"textposition\":\"auto\",\"x\":[\"SC\"],\"xaxis\":\"x\",\"y\":[0.1687893061175452],\"yaxis\":\"y\",\"type\":\"bar\"},{\"alignmentgroup\":\"True\",\"hovertemplate\":\"state=%{x}<br>year=2021<br>btu_per_person=%{y}<extra></extra>\",\"legendgroup\":\"SD\",\"marker\":{\"color\":\"#EF553B\",\"pattern\":{\"shape\":\"\"}},\"name\":\"SD\",\"offsetgroup\":\"SD\",\"orientation\":\"v\",\"showlegend\":true,\"textposition\":\"auto\",\"x\":[\"SD\"],\"xaxis\":\"x\",\"y\":[0.21094411574708885],\"yaxis\":\"y\",\"type\":\"bar\"},{\"alignmentgroup\":\"True\",\"hovertemplate\":\"state=%{x}<br>year=2021<br>btu_per_person=%{y}<extra></extra>\",\"legendgroup\":\"TN\",\"marker\":{\"color\":\"#00cc96\",\"pattern\":{\"shape\":\"\"}},\"name\":\"TN\",\"offsetgroup\":\"TN\",\"orientation\":\"v\",\"showlegend\":true,\"textposition\":\"auto\",\"x\":[\"TN\"],\"xaxis\":\"x\",\"y\":[0.17807722867224923],\"yaxis\":\"y\",\"type\":\"bar\"},{\"alignmentgroup\":\"True\",\"hovertemplate\":\"state=%{x}<br>year=2021<br>btu_per_person=%{y}<extra></extra>\",\"legendgroup\":\"TX\",\"marker\":{\"color\":\"#ab63fa\",\"pattern\":{\"shape\":\"\"}},\"name\":\"TX\",\"offsetgroup\":\"TX\",\"orientation\":\"v\",\"showlegend\":true,\"textposition\":\"auto\",\"x\":[\"TX\"],\"xaxis\":\"x\",\"y\":[0.14589037161644455],\"yaxis\":\"y\",\"type\":\"bar\"},{\"alignmentgroup\":\"True\",\"hovertemplate\":\"state=%{x}<br>year=2021<br>btu_per_person=%{y}<extra></extra>\",\"legendgroup\":\"UT\",\"marker\":{\"color\":\"#FFA15A\",\"pattern\":{\"shape\":\"\"}},\"name\":\"UT\",\"offsetgroup\":\"UT\",\"orientation\":\"v\",\"showlegend\":true,\"textposition\":\"auto\",\"x\":[\"UT\"],\"xaxis\":\"x\",\"y\":[0.15521141657912296],\"yaxis\":\"y\",\"type\":\"bar\"},{\"alignmentgroup\":\"True\",\"hovertemplate\":\"state=%{x}<br>year=2021<br>btu_per_person=%{y}<extra></extra>\",\"legendgroup\":\"VA\",\"marker\":{\"color\":\"#19d3f3\",\"pattern\":{\"shape\":\"\"}},\"name\":\"VA\",\"offsetgroup\":\"VA\",\"orientation\":\"v\",\"showlegend\":true,\"textposition\":\"auto\",\"x\":[\"VA\"],\"xaxis\":\"x\",\"y\":[0.1643734316790777],\"yaxis\":\"y\",\"type\":\"bar\"},{\"alignmentgroup\":\"True\",\"hovertemplate\":\"state=%{x}<br>year=2021<br>btu_per_person=%{y}<extra></extra>\",\"legendgroup\":\"VT\",\"marker\":{\"color\":\"#FF6692\",\"pattern\":{\"shape\":\"\"}},\"name\":\"VT\",\"offsetgroup\":\"VT\",\"orientation\":\"v\",\"showlegend\":true,\"textposition\":\"auto\",\"x\":[\"VT\"],\"xaxis\":\"x\",\"y\":[0.2557437648066043],\"yaxis\":\"y\",\"type\":\"bar\"},{\"alignmentgroup\":\"True\",\"hovertemplate\":\"state=%{x}<br>year=2021<br>btu_per_person=%{y}<extra></extra>\",\"legendgroup\":\"WA\",\"marker\":{\"color\":\"#B6E880\",\"pattern\":{\"shape\":\"\"}},\"name\":\"WA\",\"offsetgroup\":\"WA\",\"orientation\":\"v\",\"showlegend\":true,\"textposition\":\"auto\",\"x\":[\"WA\"],\"xaxis\":\"x\",\"y\":[0.1601047247970757],\"yaxis\":\"y\",\"type\":\"bar\"},{\"alignmentgroup\":\"True\",\"hovertemplate\":\"state=%{x}<br>year=2021<br>btu_per_person=%{y}<extra></extra>\",\"legendgroup\":\"WI\",\"marker\":{\"color\":\"#FF97FF\",\"pattern\":{\"shape\":\"\"}},\"name\":\"WI\",\"offsetgroup\":\"WI\",\"orientation\":\"v\",\"showlegend\":true,\"textposition\":\"auto\",\"x\":[\"WI\"],\"xaxis\":\"x\",\"y\":[0.2084097933699752],\"yaxis\":\"y\",\"type\":\"bar\"},{\"alignmentgroup\":\"True\",\"hovertemplate\":\"state=%{x}<br>year=2021<br>btu_per_person=%{y}<extra></extra>\",\"legendgroup\":\"WV\",\"marker\":{\"color\":\"#FECB52\",\"pattern\":{\"shape\":\"\"}},\"name\":\"WV\",\"offsetgroup\":\"WV\",\"orientation\":\"v\",\"showlegend\":true,\"textposition\":\"auto\",\"x\":[\"WV\"],\"xaxis\":\"x\",\"y\":[0.22123972622306468],\"yaxis\":\"y\",\"type\":\"bar\"},{\"alignmentgroup\":\"True\",\"hovertemplate\":\"state=%{x}<br>year=2021<br>btu_per_person=%{y}<extra></extra>\",\"legendgroup\":\"WY\",\"marker\":{\"color\":\"#636efa\",\"pattern\":{\"shape\":\"\"}},\"name\":\"WY\",\"offsetgroup\":\"WY\",\"orientation\":\"v\",\"showlegend\":true,\"textposition\":\"auto\",\"x\":[\"WY\"],\"xaxis\":\"x\",\"y\":[0.25157364014714917],\"yaxis\":\"y\",\"type\":\"bar\"}],\"name\":\"2021\"}]);\n",
       "                        }).then(function(){\n",
       "                            \n",
       "var gd = document.getElementById('be8c52ae-a3af-44a7-8ee4-b4dc4ffcb7a6');\n",
       "var x = new MutationObserver(function (mutations, observer) {{\n",
       "        var display = window.getComputedStyle(gd).display;\n",
       "        if (!display || display === 'none') {{\n",
       "            console.log([gd, 'removed!']);\n",
       "            Plotly.purge(gd);\n",
       "            observer.disconnect();\n",
       "        }}\n",
       "}});\n",
       "\n",
       "// Listen for the removal of the full notebook cells\n",
       "var notebookContainer = gd.closest('#notebook-container');\n",
       "if (notebookContainer) {{\n",
       "    x.observe(notebookContainer, {childList: true});\n",
       "}}\n",
       "\n",
       "// Listen for the clearing of the current output cell\n",
       "var outputEl = gd.closest('.output');\n",
       "if (outputEl) {{\n",
       "    x.observe(outputEl, {childList: true});\n",
       "}}\n",
       "\n",
       "                        })                };                });            </script>        </div>"
      ]
     },
     "metadata": {},
     "output_type": "display_data"
    }
   ],
   "source": [
    "#Use animation frame to create interactive visual that demonstrates stage energy usage per person (in ascending order)\n",
    "figa = px.bar(\n",
    "        df_covid_grouped, \n",
    "        x=\"state\", \n",
    "        y=\"btu_per_person\", \n",
    "        animation_frame=\"year\", \n",
    "        range_y=(\n",
    "            0, \n",
    "            df_covid_grouped[\"btu_per_person\"].max()\n",
    "        ), \n",
    "        color=\"state\",\n",
    "        title=\"United States residential energy consumption PER CAPITA (BTU)\"\n",
    ").update_xaxes(categoryorder=\"total ascending\")\n",
    "\n",
    "figa.show()"
   ]
  },
  {
   "cell_type": "code",
   "execution_count": 157,
   "id": "617833ca",
   "metadata": {},
   "outputs": [
    {
     "data": {
      "text/plain": [
       "'interactive_plot_FINAL.html'"
      ]
     },
     "execution_count": 157,
     "metadata": {},
     "output_type": "execute_result"
    }
   ],
   "source": [
    "# Testing-save the interactive HTML file\n",
    "html_file_path = \"interactive_plot_FINAL.html\"\n",
    "plot(figa, filename=html_file_path, auto_open=False)"
   ]
  },
  {
   "cell_type": "code",
   "execution_count": 39,
   "id": "13612770",
   "metadata": {},
   "outputs": [],
   "source": [
    "#code below to convert figure to json did not work, output was not dynamic\n",
    "#plotly_json_2 = fig.to_json()"
   ]
  },
  {
   "cell_type": "code",
   "execution_count": 35,
   "id": "fdeb51d3",
   "metadata": {},
   "outputs": [],
   "source": [
    "#code below to convert figure to json did not work, output was not dynamic\n",
    "# plotly_json = json.dumps(fig, cls=plotly.utils.PlotlyJSONEncoder)"
   ]
  },
  {
   "cell_type": "code",
   "execution_count": 47,
   "id": "7ae72ac0",
   "metadata": {
    "scrolled": false
   },
   "outputs": [],
   "source": [
    "# #code below to convert figure to json did not work, output was not dynamic\n",
    "# print(plotly_json_2)"
   ]
  },
  {
   "cell_type": "code",
   "execution_count": 158,
   "id": "9dd15a5e",
   "metadata": {},
   "outputs": [
    {
     "data": {
      "text/html": [
       "<div>\n",
       "<style scoped>\n",
       "    .dataframe tbody tr th:only-of-type {\n",
       "        vertical-align: middle;\n",
       "    }\n",
       "\n",
       "    .dataframe tbody tr th {\n",
       "        vertical-align: top;\n",
       "    }\n",
       "\n",
       "    .dataframe thead th {\n",
       "        text-align: right;\n",
       "    }\n",
       "</style>\n",
       "<table border=\"1\" class=\"dataframe\">\n",
       "  <thead>\n",
       "    <tr style=\"text-align: right;\">\n",
       "      <th></th>\n",
       "      <th>state</th>\n",
       "      <th>code</th>\n",
       "      <th>2019</th>\n",
       "      <th>2020</th>\n",
       "      <th>2021</th>\n",
       "    </tr>\n",
       "  </thead>\n",
       "  <tbody>\n",
       "    <tr>\n",
       "      <th>27</th>\n",
       "      <td>AK</td>\n",
       "      <td>CLRCB</td>\n",
       "      <td>0.0</td>\n",
       "      <td>0.0</td>\n",
       "      <td>0.0</td>\n",
       "    </tr>\n",
       "    <tr>\n",
       "      <th>35</th>\n",
       "      <td>AK</td>\n",
       "      <td>DFRCB</td>\n",
       "      <td>6574.0</td>\n",
       "      <td>7130.0</td>\n",
       "      <td>7955.0</td>\n",
       "    </tr>\n",
       "    <tr>\n",
       "      <th>55</th>\n",
       "      <td>AK</td>\n",
       "      <td>ESRCB</td>\n",
       "      <td>6579.0</td>\n",
       "      <td>7128.0</td>\n",
       "      <td>7110.0</td>\n",
       "    </tr>\n",
       "    <tr>\n",
       "      <th>71</th>\n",
       "      <td>AK</td>\n",
       "      <td>GERCB</td>\n",
       "      <td>101.0</td>\n",
       "      <td>101.0</td>\n",
       "      <td>101.0</td>\n",
       "    </tr>\n",
       "    <tr>\n",
       "      <th>77</th>\n",
       "      <td>AK</td>\n",
       "      <td>HLRCB</td>\n",
       "      <td>398.0</td>\n",
       "      <td>436.0</td>\n",
       "      <td>419.0</td>\n",
       "    </tr>\n",
       "    <tr>\n",
       "      <th>...</th>\n",
       "      <td>...</td>\n",
       "      <td>...</td>\n",
       "      <td>...</td>\n",
       "      <td>...</td>\n",
       "      <td>...</td>\n",
       "    </tr>\n",
       "    <tr>\n",
       "      <th>12234</th>\n",
       "      <td>WY</td>\n",
       "      <td>SFRCB</td>\n",
       "      <td>0.0</td>\n",
       "      <td>0.0</td>\n",
       "      <td>0.0</td>\n",
       "    </tr>\n",
       "    <tr>\n",
       "      <th>12242</th>\n",
       "      <td>WY</td>\n",
       "      <td>SORCB</td>\n",
       "      <td>61.0</td>\n",
       "      <td>91.0</td>\n",
       "      <td>132.0</td>\n",
       "    </tr>\n",
       "    <tr>\n",
       "      <th>12252</th>\n",
       "      <td>WY</td>\n",
       "      <td>TERCB</td>\n",
       "      <td>53932.0</td>\n",
       "      <td>52335.0</td>\n",
       "      <td>52210.0</td>\n",
       "    </tr>\n",
       "    <tr>\n",
       "      <th>12261</th>\n",
       "      <td>WY</td>\n",
       "      <td>TNRCB</td>\n",
       "      <td>32842.0</td>\n",
       "      <td>30951.0</td>\n",
       "      <td>30903.0</td>\n",
       "    </tr>\n",
       "    <tr>\n",
       "      <th>12270</th>\n",
       "      <td>WY</td>\n",
       "      <td>WDRCB</td>\n",
       "      <td>4266.0</td>\n",
       "      <td>3957.0</td>\n",
       "      <td>3769.0</td>\n",
       "    </tr>\n",
       "  </tbody>\n",
       "</table>\n",
       "<p>816 rows × 5 columns</p>\n",
       "</div>"
      ],
      "text/plain": [
       "      state   code     2019     2020     2021\n",
       "27       AK  CLRCB      0.0      0.0      0.0\n",
       "35       AK  DFRCB   6574.0   7130.0   7955.0\n",
       "55       AK  ESRCB   6579.0   7128.0   7110.0\n",
       "71       AK  GERCB    101.0    101.0    101.0\n",
       "77       AK  HLRCB    398.0    436.0    419.0\n",
       "...     ...    ...      ...      ...      ...\n",
       "12234    WY  SFRCB      0.0      0.0      0.0\n",
       "12242    WY  SORCB     61.0     91.0    132.0\n",
       "12252    WY  TERCB  53932.0  52335.0  52210.0\n",
       "12261    WY  TNRCB  32842.0  30951.0  30903.0\n",
       "12270    WY  WDRCB   4266.0   3957.0   3769.0\n",
       "\n",
       "[816 rows x 5 columns]"
      ]
     },
     "execution_count": 158,
     "metadata": {},
     "output_type": "execute_result"
    }
   ],
   "source": [
    "#create new dataframe with only 2019 to 2021 total BTU consumption per state\n",
    "df_covid_stateuse = total_df_pop[['st_abbreviation','code','btu_2019','btu_2020','btu_2021']]\n",
    "#rename columns for simplification \n",
    "df_covid_stateuse.columns=['state','code','2019','2020','2021']\n",
    "df_covid_stateuse"
   ]
  },
  {
   "cell_type": "code",
   "execution_count": 159,
   "id": "478e3f40",
   "metadata": {},
   "outputs": [
    {
     "data": {
      "text/html": [
       "<div>\n",
       "<style scoped>\n",
       "    .dataframe tbody tr th:only-of-type {\n",
       "        vertical-align: middle;\n",
       "    }\n",
       "\n",
       "    .dataframe tbody tr th {\n",
       "        vertical-align: top;\n",
       "    }\n",
       "\n",
       "    .dataframe thead th {\n",
       "        text-align: right;\n",
       "    }\n",
       "</style>\n",
       "<table border=\"1\" class=\"dataframe\">\n",
       "  <thead>\n",
       "    <tr style=\"text-align: right;\">\n",
       "      <th></th>\n",
       "      <th>state</th>\n",
       "      <th>code</th>\n",
       "      <th>year</th>\n",
       "      <th>btu_state</th>\n",
       "    </tr>\n",
       "  </thead>\n",
       "  <tbody>\n",
       "    <tr>\n",
       "      <th>0</th>\n",
       "      <td>AK</td>\n",
       "      <td>CLRCB</td>\n",
       "      <td>2019</td>\n",
       "      <td>0.0</td>\n",
       "    </tr>\n",
       "    <tr>\n",
       "      <th>1</th>\n",
       "      <td>AK</td>\n",
       "      <td>DFRCB</td>\n",
       "      <td>2019</td>\n",
       "      <td>6574.0</td>\n",
       "    </tr>\n",
       "    <tr>\n",
       "      <th>2</th>\n",
       "      <td>AK</td>\n",
       "      <td>ESRCB</td>\n",
       "      <td>2019</td>\n",
       "      <td>6579.0</td>\n",
       "    </tr>\n",
       "    <tr>\n",
       "      <th>3</th>\n",
       "      <td>AK</td>\n",
       "      <td>GERCB</td>\n",
       "      <td>2019</td>\n",
       "      <td>101.0</td>\n",
       "    </tr>\n",
       "    <tr>\n",
       "      <th>4</th>\n",
       "      <td>AK</td>\n",
       "      <td>HLRCB</td>\n",
       "      <td>2019</td>\n",
       "      <td>398.0</td>\n",
       "    </tr>\n",
       "    <tr>\n",
       "      <th>...</th>\n",
       "      <td>...</td>\n",
       "      <td>...</td>\n",
       "      <td>...</td>\n",
       "      <td>...</td>\n",
       "    </tr>\n",
       "    <tr>\n",
       "      <th>2443</th>\n",
       "      <td>WY</td>\n",
       "      <td>SFRCB</td>\n",
       "      <td>2021</td>\n",
       "      <td>0.0</td>\n",
       "    </tr>\n",
       "    <tr>\n",
       "      <th>2444</th>\n",
       "      <td>WY</td>\n",
       "      <td>SORCB</td>\n",
       "      <td>2021</td>\n",
       "      <td>132.0</td>\n",
       "    </tr>\n",
       "    <tr>\n",
       "      <th>2445</th>\n",
       "      <td>WY</td>\n",
       "      <td>TERCB</td>\n",
       "      <td>2021</td>\n",
       "      <td>52210.0</td>\n",
       "    </tr>\n",
       "    <tr>\n",
       "      <th>2446</th>\n",
       "      <td>WY</td>\n",
       "      <td>TNRCB</td>\n",
       "      <td>2021</td>\n",
       "      <td>30903.0</td>\n",
       "    </tr>\n",
       "    <tr>\n",
       "      <th>2447</th>\n",
       "      <td>WY</td>\n",
       "      <td>WDRCB</td>\n",
       "      <td>2021</td>\n",
       "      <td>3769.0</td>\n",
       "    </tr>\n",
       "  </tbody>\n",
       "</table>\n",
       "<p>2448 rows × 4 columns</p>\n",
       "</div>"
      ],
      "text/plain": [
       "     state   code  year  btu_state\n",
       "0       AK  CLRCB  2019        0.0\n",
       "1       AK  DFRCB  2019     6574.0\n",
       "2       AK  ESRCB  2019     6579.0\n",
       "3       AK  GERCB  2019      101.0\n",
       "4       AK  HLRCB  2019      398.0\n",
       "...    ...    ...   ...        ...\n",
       "2443    WY  SFRCB  2021        0.0\n",
       "2444    WY  SORCB  2021      132.0\n",
       "2445    WY  TERCB  2021    52210.0\n",
       "2446    WY  TNRCB  2021    30903.0\n",
       "2447    WY  WDRCB  2021     3769.0\n",
       "\n",
       "[2448 rows x 4 columns]"
      ]
     },
     "execution_count": 159,
     "metadata": {},
     "output_type": "execute_result"
    }
   ],
   "source": [
    "#use melt method to assign years per column of btu entry\n",
    "#rearranging table will allow for plotting\n",
    "df_covid_stateuse_new= df_covid_stateuse.melt(id_vars=[\"state\", \"code\"], var_name=\"year\", value_name=\"btu_state\")\n",
    "df_covid_stateuse_new"
   ]
  },
  {
   "cell_type": "code",
   "execution_count": 160,
   "id": "314ebbbf",
   "metadata": {},
   "outputs": [],
   "source": [
    "#sum residential energy use by year to visualize trend of residential energy consumption by year (total sum)\n",
    "df_covid_stateuse_new.columns\n",
    "df_covidyr_grouped = df_covid_stateuse_new.groupby([\"year\"], as_index=False).sum()\n",
    "df_covidyr_grouped\n",
    "df_covidyr_grouped.columns=['year','state','code','totalBTU']"
   ]
  },
  {
   "cell_type": "code",
   "execution_count": 161,
   "id": "ef675cc3",
   "metadata": {},
   "outputs": [
    {
     "data": {
      "application/vnd.plotly.v1+json": {
       "config": {
        "plotlyServerURL": "https://plot.ly"
       },
       "data": [
        {
         "hovertemplate": "year=%{x}<br>totalBTU=%{y}<extra></extra>",
         "legendgroup": "",
         "line": {
          "color": "#636efa",
          "dash": "solid"
         },
         "marker": {
          "symbol": "circle"
         },
         "mode": "lines",
         "name": "",
         "orientation": "v",
         "showlegend": false,
         "type": "scatter",
         "x": [
          "2019",
          "2020",
          "2021"
         ],
         "xaxis": "x",
         "y": [
          56579086,
          54795141,
          55603010
         ],
         "yaxis": "y"
        }
       ],
       "layout": {
        "legend": {
         "tracegroupgap": 0
        },
        "template": {
         "data": {
          "bar": [
           {
            "error_x": {
             "color": "#2a3f5f"
            },
            "error_y": {
             "color": "#2a3f5f"
            },
            "marker": {
             "line": {
              "color": "#E5ECF6",
              "width": 0.5
             },
             "pattern": {
              "fillmode": "overlay",
              "size": 10,
              "solidity": 0.2
             }
            },
            "type": "bar"
           }
          ],
          "barpolar": [
           {
            "marker": {
             "line": {
              "color": "#E5ECF6",
              "width": 0.5
             },
             "pattern": {
              "fillmode": "overlay",
              "size": 10,
              "solidity": 0.2
             }
            },
            "type": "barpolar"
           }
          ],
          "carpet": [
           {
            "aaxis": {
             "endlinecolor": "#2a3f5f",
             "gridcolor": "white",
             "linecolor": "white",
             "minorgridcolor": "white",
             "startlinecolor": "#2a3f5f"
            },
            "baxis": {
             "endlinecolor": "#2a3f5f",
             "gridcolor": "white",
             "linecolor": "white",
             "minorgridcolor": "white",
             "startlinecolor": "#2a3f5f"
            },
            "type": "carpet"
           }
          ],
          "choropleth": [
           {
            "colorbar": {
             "outlinewidth": 0,
             "ticks": ""
            },
            "type": "choropleth"
           }
          ],
          "contour": [
           {
            "colorbar": {
             "outlinewidth": 0,
             "ticks": ""
            },
            "colorscale": [
             [
              0,
              "#0d0887"
             ],
             [
              0.1111111111111111,
              "#46039f"
             ],
             [
              0.2222222222222222,
              "#7201a8"
             ],
             [
              0.3333333333333333,
              "#9c179e"
             ],
             [
              0.4444444444444444,
              "#bd3786"
             ],
             [
              0.5555555555555556,
              "#d8576b"
             ],
             [
              0.6666666666666666,
              "#ed7953"
             ],
             [
              0.7777777777777778,
              "#fb9f3a"
             ],
             [
              0.8888888888888888,
              "#fdca26"
             ],
             [
              1,
              "#f0f921"
             ]
            ],
            "type": "contour"
           }
          ],
          "contourcarpet": [
           {
            "colorbar": {
             "outlinewidth": 0,
             "ticks": ""
            },
            "type": "contourcarpet"
           }
          ],
          "heatmap": [
           {
            "colorbar": {
             "outlinewidth": 0,
             "ticks": ""
            },
            "colorscale": [
             [
              0,
              "#0d0887"
             ],
             [
              0.1111111111111111,
              "#46039f"
             ],
             [
              0.2222222222222222,
              "#7201a8"
             ],
             [
              0.3333333333333333,
              "#9c179e"
             ],
             [
              0.4444444444444444,
              "#bd3786"
             ],
             [
              0.5555555555555556,
              "#d8576b"
             ],
             [
              0.6666666666666666,
              "#ed7953"
             ],
             [
              0.7777777777777778,
              "#fb9f3a"
             ],
             [
              0.8888888888888888,
              "#fdca26"
             ],
             [
              1,
              "#f0f921"
             ]
            ],
            "type": "heatmap"
           }
          ],
          "heatmapgl": [
           {
            "colorbar": {
             "outlinewidth": 0,
             "ticks": ""
            },
            "colorscale": [
             [
              0,
              "#0d0887"
             ],
             [
              0.1111111111111111,
              "#46039f"
             ],
             [
              0.2222222222222222,
              "#7201a8"
             ],
             [
              0.3333333333333333,
              "#9c179e"
             ],
             [
              0.4444444444444444,
              "#bd3786"
             ],
             [
              0.5555555555555556,
              "#d8576b"
             ],
             [
              0.6666666666666666,
              "#ed7953"
             ],
             [
              0.7777777777777778,
              "#fb9f3a"
             ],
             [
              0.8888888888888888,
              "#fdca26"
             ],
             [
              1,
              "#f0f921"
             ]
            ],
            "type": "heatmapgl"
           }
          ],
          "histogram": [
           {
            "marker": {
             "pattern": {
              "fillmode": "overlay",
              "size": 10,
              "solidity": 0.2
             }
            },
            "type": "histogram"
           }
          ],
          "histogram2d": [
           {
            "colorbar": {
             "outlinewidth": 0,
             "ticks": ""
            },
            "colorscale": [
             [
              0,
              "#0d0887"
             ],
             [
              0.1111111111111111,
              "#46039f"
             ],
             [
              0.2222222222222222,
              "#7201a8"
             ],
             [
              0.3333333333333333,
              "#9c179e"
             ],
             [
              0.4444444444444444,
              "#bd3786"
             ],
             [
              0.5555555555555556,
              "#d8576b"
             ],
             [
              0.6666666666666666,
              "#ed7953"
             ],
             [
              0.7777777777777778,
              "#fb9f3a"
             ],
             [
              0.8888888888888888,
              "#fdca26"
             ],
             [
              1,
              "#f0f921"
             ]
            ],
            "type": "histogram2d"
           }
          ],
          "histogram2dcontour": [
           {
            "colorbar": {
             "outlinewidth": 0,
             "ticks": ""
            },
            "colorscale": [
             [
              0,
              "#0d0887"
             ],
             [
              0.1111111111111111,
              "#46039f"
             ],
             [
              0.2222222222222222,
              "#7201a8"
             ],
             [
              0.3333333333333333,
              "#9c179e"
             ],
             [
              0.4444444444444444,
              "#bd3786"
             ],
             [
              0.5555555555555556,
              "#d8576b"
             ],
             [
              0.6666666666666666,
              "#ed7953"
             ],
             [
              0.7777777777777778,
              "#fb9f3a"
             ],
             [
              0.8888888888888888,
              "#fdca26"
             ],
             [
              1,
              "#f0f921"
             ]
            ],
            "type": "histogram2dcontour"
           }
          ],
          "mesh3d": [
           {
            "colorbar": {
             "outlinewidth": 0,
             "ticks": ""
            },
            "type": "mesh3d"
           }
          ],
          "parcoords": [
           {
            "line": {
             "colorbar": {
              "outlinewidth": 0,
              "ticks": ""
             }
            },
            "type": "parcoords"
           }
          ],
          "pie": [
           {
            "automargin": true,
            "type": "pie"
           }
          ],
          "scatter": [
           {
            "fillpattern": {
             "fillmode": "overlay",
             "size": 10,
             "solidity": 0.2
            },
            "type": "scatter"
           }
          ],
          "scatter3d": [
           {
            "line": {
             "colorbar": {
              "outlinewidth": 0,
              "ticks": ""
             }
            },
            "marker": {
             "colorbar": {
              "outlinewidth": 0,
              "ticks": ""
             }
            },
            "type": "scatter3d"
           }
          ],
          "scattercarpet": [
           {
            "marker": {
             "colorbar": {
              "outlinewidth": 0,
              "ticks": ""
             }
            },
            "type": "scattercarpet"
           }
          ],
          "scattergeo": [
           {
            "marker": {
             "colorbar": {
              "outlinewidth": 0,
              "ticks": ""
             }
            },
            "type": "scattergeo"
           }
          ],
          "scattergl": [
           {
            "marker": {
             "colorbar": {
              "outlinewidth": 0,
              "ticks": ""
             }
            },
            "type": "scattergl"
           }
          ],
          "scattermapbox": [
           {
            "marker": {
             "colorbar": {
              "outlinewidth": 0,
              "ticks": ""
             }
            },
            "type": "scattermapbox"
           }
          ],
          "scatterpolar": [
           {
            "marker": {
             "colorbar": {
              "outlinewidth": 0,
              "ticks": ""
             }
            },
            "type": "scatterpolar"
           }
          ],
          "scatterpolargl": [
           {
            "marker": {
             "colorbar": {
              "outlinewidth": 0,
              "ticks": ""
             }
            },
            "type": "scatterpolargl"
           }
          ],
          "scatterternary": [
           {
            "marker": {
             "colorbar": {
              "outlinewidth": 0,
              "ticks": ""
             }
            },
            "type": "scatterternary"
           }
          ],
          "surface": [
           {
            "colorbar": {
             "outlinewidth": 0,
             "ticks": ""
            },
            "colorscale": [
             [
              0,
              "#0d0887"
             ],
             [
              0.1111111111111111,
              "#46039f"
             ],
             [
              0.2222222222222222,
              "#7201a8"
             ],
             [
              0.3333333333333333,
              "#9c179e"
             ],
             [
              0.4444444444444444,
              "#bd3786"
             ],
             [
              0.5555555555555556,
              "#d8576b"
             ],
             [
              0.6666666666666666,
              "#ed7953"
             ],
             [
              0.7777777777777778,
              "#fb9f3a"
             ],
             [
              0.8888888888888888,
              "#fdca26"
             ],
             [
              1,
              "#f0f921"
             ]
            ],
            "type": "surface"
           }
          ],
          "table": [
           {
            "cells": {
             "fill": {
              "color": "#EBF0F8"
             },
             "line": {
              "color": "white"
             }
            },
            "header": {
             "fill": {
              "color": "#C8D4E3"
             },
             "line": {
              "color": "white"
             }
            },
            "type": "table"
           }
          ]
         },
         "layout": {
          "annotationdefaults": {
           "arrowcolor": "#2a3f5f",
           "arrowhead": 0,
           "arrowwidth": 1
          },
          "autotypenumbers": "strict",
          "coloraxis": {
           "colorbar": {
            "outlinewidth": 0,
            "ticks": ""
           }
          },
          "colorscale": {
           "diverging": [
            [
             0,
             "#8e0152"
            ],
            [
             0.1,
             "#c51b7d"
            ],
            [
             0.2,
             "#de77ae"
            ],
            [
             0.3,
             "#f1b6da"
            ],
            [
             0.4,
             "#fde0ef"
            ],
            [
             0.5,
             "#f7f7f7"
            ],
            [
             0.6,
             "#e6f5d0"
            ],
            [
             0.7,
             "#b8e186"
            ],
            [
             0.8,
             "#7fbc41"
            ],
            [
             0.9,
             "#4d9221"
            ],
            [
             1,
             "#276419"
            ]
           ],
           "sequential": [
            [
             0,
             "#0d0887"
            ],
            [
             0.1111111111111111,
             "#46039f"
            ],
            [
             0.2222222222222222,
             "#7201a8"
            ],
            [
             0.3333333333333333,
             "#9c179e"
            ],
            [
             0.4444444444444444,
             "#bd3786"
            ],
            [
             0.5555555555555556,
             "#d8576b"
            ],
            [
             0.6666666666666666,
             "#ed7953"
            ],
            [
             0.7777777777777778,
             "#fb9f3a"
            ],
            [
             0.8888888888888888,
             "#fdca26"
            ],
            [
             1,
             "#f0f921"
            ]
           ],
           "sequentialminus": [
            [
             0,
             "#0d0887"
            ],
            [
             0.1111111111111111,
             "#46039f"
            ],
            [
             0.2222222222222222,
             "#7201a8"
            ],
            [
             0.3333333333333333,
             "#9c179e"
            ],
            [
             0.4444444444444444,
             "#bd3786"
            ],
            [
             0.5555555555555556,
             "#d8576b"
            ],
            [
             0.6666666666666666,
             "#ed7953"
            ],
            [
             0.7777777777777778,
             "#fb9f3a"
            ],
            [
             0.8888888888888888,
             "#fdca26"
            ],
            [
             1,
             "#f0f921"
            ]
           ]
          },
          "colorway": [
           "#636efa",
           "#EF553B",
           "#00cc96",
           "#ab63fa",
           "#FFA15A",
           "#19d3f3",
           "#FF6692",
           "#B6E880",
           "#FF97FF",
           "#FECB52"
          ],
          "font": {
           "color": "#2a3f5f"
          },
          "geo": {
           "bgcolor": "white",
           "lakecolor": "white",
           "landcolor": "#E5ECF6",
           "showlakes": true,
           "showland": true,
           "subunitcolor": "white"
          },
          "hoverlabel": {
           "align": "left"
          },
          "hovermode": "closest",
          "mapbox": {
           "style": "light"
          },
          "paper_bgcolor": "white",
          "plot_bgcolor": "#E5ECF6",
          "polar": {
           "angularaxis": {
            "gridcolor": "white",
            "linecolor": "white",
            "ticks": ""
           },
           "bgcolor": "#E5ECF6",
           "radialaxis": {
            "gridcolor": "white",
            "linecolor": "white",
            "ticks": ""
           }
          },
          "scene": {
           "xaxis": {
            "backgroundcolor": "#E5ECF6",
            "gridcolor": "white",
            "gridwidth": 2,
            "linecolor": "white",
            "showbackground": true,
            "ticks": "",
            "zerolinecolor": "white"
           },
           "yaxis": {
            "backgroundcolor": "#E5ECF6",
            "gridcolor": "white",
            "gridwidth": 2,
            "linecolor": "white",
            "showbackground": true,
            "ticks": "",
            "zerolinecolor": "white"
           },
           "zaxis": {
            "backgroundcolor": "#E5ECF6",
            "gridcolor": "white",
            "gridwidth": 2,
            "linecolor": "white",
            "showbackground": true,
            "ticks": "",
            "zerolinecolor": "white"
           }
          },
          "shapedefaults": {
           "line": {
            "color": "#2a3f5f"
           }
          },
          "ternary": {
           "aaxis": {
            "gridcolor": "white",
            "linecolor": "white",
            "ticks": ""
           },
           "baxis": {
            "gridcolor": "white",
            "linecolor": "white",
            "ticks": ""
           },
           "bgcolor": "#E5ECF6",
           "caxis": {
            "gridcolor": "white",
            "linecolor": "white",
            "ticks": ""
           }
          },
          "title": {
           "x": 0.05
          },
          "xaxis": {
           "automargin": true,
           "gridcolor": "white",
           "linecolor": "white",
           "ticks": "",
           "title": {
            "standoff": 15
           },
           "zerolinecolor": "white",
           "zerolinewidth": 2
          },
          "yaxis": {
           "automargin": true,
           "gridcolor": "white",
           "linecolor": "white",
           "ticks": "",
           "title": {
            "standoff": 15
           },
           "zerolinecolor": "white",
           "zerolinewidth": 2
          }
         }
        },
        "title": {
         "text": "US total residential energy consumption per year"
        },
        "xaxis": {
         "anchor": "y",
         "domain": [
          0,
          1
         ],
         "title": {
          "text": "year"
         }
        },
        "yaxis": {
         "anchor": "x",
         "domain": [
          0,
          1
         ],
         "title": {
          "text": "totalBTU"
         }
        }
       }
      },
      "text/html": [
       "<div>                            <div id=\"f1f0de20-0f1e-4679-a362-6f3de924d57a\" class=\"plotly-graph-div\" style=\"height:525px; width:100%;\"></div>            <script type=\"text/javascript\">                require([\"plotly\"], function(Plotly) {                    window.PLOTLYENV=window.PLOTLYENV || {};                                    if (document.getElementById(\"f1f0de20-0f1e-4679-a362-6f3de924d57a\")) {                    Plotly.newPlot(                        \"f1f0de20-0f1e-4679-a362-6f3de924d57a\",                        [{\"hovertemplate\":\"year=%{x}<br>totalBTU=%{y}<extra></extra>\",\"legendgroup\":\"\",\"line\":{\"color\":\"#636efa\",\"dash\":\"solid\"},\"marker\":{\"symbol\":\"circle\"},\"mode\":\"lines\",\"name\":\"\",\"orientation\":\"v\",\"showlegend\":false,\"x\":[\"2019\",\"2020\",\"2021\"],\"xaxis\":\"x\",\"y\":[56579086.0,54795141.0,55603010.0],\"yaxis\":\"y\",\"type\":\"scatter\"}],                        {\"template\":{\"data\":{\"histogram2dcontour\":[{\"type\":\"histogram2dcontour\",\"colorbar\":{\"outlinewidth\":0,\"ticks\":\"\"},\"colorscale\":[[0.0,\"#0d0887\"],[0.1111111111111111,\"#46039f\"],[0.2222222222222222,\"#7201a8\"],[0.3333333333333333,\"#9c179e\"],[0.4444444444444444,\"#bd3786\"],[0.5555555555555556,\"#d8576b\"],[0.6666666666666666,\"#ed7953\"],[0.7777777777777778,\"#fb9f3a\"],[0.8888888888888888,\"#fdca26\"],[1.0,\"#f0f921\"]]}],\"choropleth\":[{\"type\":\"choropleth\",\"colorbar\":{\"outlinewidth\":0,\"ticks\":\"\"}}],\"histogram2d\":[{\"type\":\"histogram2d\",\"colorbar\":{\"outlinewidth\":0,\"ticks\":\"\"},\"colorscale\":[[0.0,\"#0d0887\"],[0.1111111111111111,\"#46039f\"],[0.2222222222222222,\"#7201a8\"],[0.3333333333333333,\"#9c179e\"],[0.4444444444444444,\"#bd3786\"],[0.5555555555555556,\"#d8576b\"],[0.6666666666666666,\"#ed7953\"],[0.7777777777777778,\"#fb9f3a\"],[0.8888888888888888,\"#fdca26\"],[1.0,\"#f0f921\"]]}],\"heatmap\":[{\"type\":\"heatmap\",\"colorbar\":{\"outlinewidth\":0,\"ticks\":\"\"},\"colorscale\":[[0.0,\"#0d0887\"],[0.1111111111111111,\"#46039f\"],[0.2222222222222222,\"#7201a8\"],[0.3333333333333333,\"#9c179e\"],[0.4444444444444444,\"#bd3786\"],[0.5555555555555556,\"#d8576b\"],[0.6666666666666666,\"#ed7953\"],[0.7777777777777778,\"#fb9f3a\"],[0.8888888888888888,\"#fdca26\"],[1.0,\"#f0f921\"]]}],\"heatmapgl\":[{\"type\":\"heatmapgl\",\"colorbar\":{\"outlinewidth\":0,\"ticks\":\"\"},\"colorscale\":[[0.0,\"#0d0887\"],[0.1111111111111111,\"#46039f\"],[0.2222222222222222,\"#7201a8\"],[0.3333333333333333,\"#9c179e\"],[0.4444444444444444,\"#bd3786\"],[0.5555555555555556,\"#d8576b\"],[0.6666666666666666,\"#ed7953\"],[0.7777777777777778,\"#fb9f3a\"],[0.8888888888888888,\"#fdca26\"],[1.0,\"#f0f921\"]]}],\"contourcarpet\":[{\"type\":\"contourcarpet\",\"colorbar\":{\"outlinewidth\":0,\"ticks\":\"\"}}],\"contour\":[{\"type\":\"contour\",\"colorbar\":{\"outlinewidth\":0,\"ticks\":\"\"},\"colorscale\":[[0.0,\"#0d0887\"],[0.1111111111111111,\"#46039f\"],[0.2222222222222222,\"#7201a8\"],[0.3333333333333333,\"#9c179e\"],[0.4444444444444444,\"#bd3786\"],[0.5555555555555556,\"#d8576b\"],[0.6666666666666666,\"#ed7953\"],[0.7777777777777778,\"#fb9f3a\"],[0.8888888888888888,\"#fdca26\"],[1.0,\"#f0f921\"]]}],\"surface\":[{\"type\":\"surface\",\"colorbar\":{\"outlinewidth\":0,\"ticks\":\"\"},\"colorscale\":[[0.0,\"#0d0887\"],[0.1111111111111111,\"#46039f\"],[0.2222222222222222,\"#7201a8\"],[0.3333333333333333,\"#9c179e\"],[0.4444444444444444,\"#bd3786\"],[0.5555555555555556,\"#d8576b\"],[0.6666666666666666,\"#ed7953\"],[0.7777777777777778,\"#fb9f3a\"],[0.8888888888888888,\"#fdca26\"],[1.0,\"#f0f921\"]]}],\"mesh3d\":[{\"type\":\"mesh3d\",\"colorbar\":{\"outlinewidth\":0,\"ticks\":\"\"}}],\"scatter\":[{\"fillpattern\":{\"fillmode\":\"overlay\",\"size\":10,\"solidity\":0.2},\"type\":\"scatter\"}],\"parcoords\":[{\"type\":\"parcoords\",\"line\":{\"colorbar\":{\"outlinewidth\":0,\"ticks\":\"\"}}}],\"scatterpolargl\":[{\"type\":\"scatterpolargl\",\"marker\":{\"colorbar\":{\"outlinewidth\":0,\"ticks\":\"\"}}}],\"bar\":[{\"error_x\":{\"color\":\"#2a3f5f\"},\"error_y\":{\"color\":\"#2a3f5f\"},\"marker\":{\"line\":{\"color\":\"#E5ECF6\",\"width\":0.5},\"pattern\":{\"fillmode\":\"overlay\",\"size\":10,\"solidity\":0.2}},\"type\":\"bar\"}],\"scattergeo\":[{\"type\":\"scattergeo\",\"marker\":{\"colorbar\":{\"outlinewidth\":0,\"ticks\":\"\"}}}],\"scatterpolar\":[{\"type\":\"scatterpolar\",\"marker\":{\"colorbar\":{\"outlinewidth\":0,\"ticks\":\"\"}}}],\"histogram\":[{\"marker\":{\"pattern\":{\"fillmode\":\"overlay\",\"size\":10,\"solidity\":0.2}},\"type\":\"histogram\"}],\"scattergl\":[{\"type\":\"scattergl\",\"marker\":{\"colorbar\":{\"outlinewidth\":0,\"ticks\":\"\"}}}],\"scatter3d\":[{\"type\":\"scatter3d\",\"line\":{\"colorbar\":{\"outlinewidth\":0,\"ticks\":\"\"}},\"marker\":{\"colorbar\":{\"outlinewidth\":0,\"ticks\":\"\"}}}],\"scattermapbox\":[{\"type\":\"scattermapbox\",\"marker\":{\"colorbar\":{\"outlinewidth\":0,\"ticks\":\"\"}}}],\"scatterternary\":[{\"type\":\"scatterternary\",\"marker\":{\"colorbar\":{\"outlinewidth\":0,\"ticks\":\"\"}}}],\"scattercarpet\":[{\"type\":\"scattercarpet\",\"marker\":{\"colorbar\":{\"outlinewidth\":0,\"ticks\":\"\"}}}],\"carpet\":[{\"aaxis\":{\"endlinecolor\":\"#2a3f5f\",\"gridcolor\":\"white\",\"linecolor\":\"white\",\"minorgridcolor\":\"white\",\"startlinecolor\":\"#2a3f5f\"},\"baxis\":{\"endlinecolor\":\"#2a3f5f\",\"gridcolor\":\"white\",\"linecolor\":\"white\",\"minorgridcolor\":\"white\",\"startlinecolor\":\"#2a3f5f\"},\"type\":\"carpet\"}],\"table\":[{\"cells\":{\"fill\":{\"color\":\"#EBF0F8\"},\"line\":{\"color\":\"white\"}},\"header\":{\"fill\":{\"color\":\"#C8D4E3\"},\"line\":{\"color\":\"white\"}},\"type\":\"table\"}],\"barpolar\":[{\"marker\":{\"line\":{\"color\":\"#E5ECF6\",\"width\":0.5},\"pattern\":{\"fillmode\":\"overlay\",\"size\":10,\"solidity\":0.2}},\"type\":\"barpolar\"}],\"pie\":[{\"automargin\":true,\"type\":\"pie\"}]},\"layout\":{\"autotypenumbers\":\"strict\",\"colorway\":[\"#636efa\",\"#EF553B\",\"#00cc96\",\"#ab63fa\",\"#FFA15A\",\"#19d3f3\",\"#FF6692\",\"#B6E880\",\"#FF97FF\",\"#FECB52\"],\"font\":{\"color\":\"#2a3f5f\"},\"hovermode\":\"closest\",\"hoverlabel\":{\"align\":\"left\"},\"paper_bgcolor\":\"white\",\"plot_bgcolor\":\"#E5ECF6\",\"polar\":{\"bgcolor\":\"#E5ECF6\",\"angularaxis\":{\"gridcolor\":\"white\",\"linecolor\":\"white\",\"ticks\":\"\"},\"radialaxis\":{\"gridcolor\":\"white\",\"linecolor\":\"white\",\"ticks\":\"\"}},\"ternary\":{\"bgcolor\":\"#E5ECF6\",\"aaxis\":{\"gridcolor\":\"white\",\"linecolor\":\"white\",\"ticks\":\"\"},\"baxis\":{\"gridcolor\":\"white\",\"linecolor\":\"white\",\"ticks\":\"\"},\"caxis\":{\"gridcolor\":\"white\",\"linecolor\":\"white\",\"ticks\":\"\"}},\"coloraxis\":{\"colorbar\":{\"outlinewidth\":0,\"ticks\":\"\"}},\"colorscale\":{\"sequential\":[[0.0,\"#0d0887\"],[0.1111111111111111,\"#46039f\"],[0.2222222222222222,\"#7201a8\"],[0.3333333333333333,\"#9c179e\"],[0.4444444444444444,\"#bd3786\"],[0.5555555555555556,\"#d8576b\"],[0.6666666666666666,\"#ed7953\"],[0.7777777777777778,\"#fb9f3a\"],[0.8888888888888888,\"#fdca26\"],[1.0,\"#f0f921\"]],\"sequentialminus\":[[0.0,\"#0d0887\"],[0.1111111111111111,\"#46039f\"],[0.2222222222222222,\"#7201a8\"],[0.3333333333333333,\"#9c179e\"],[0.4444444444444444,\"#bd3786\"],[0.5555555555555556,\"#d8576b\"],[0.6666666666666666,\"#ed7953\"],[0.7777777777777778,\"#fb9f3a\"],[0.8888888888888888,\"#fdca26\"],[1.0,\"#f0f921\"]],\"diverging\":[[0,\"#8e0152\"],[0.1,\"#c51b7d\"],[0.2,\"#de77ae\"],[0.3,\"#f1b6da\"],[0.4,\"#fde0ef\"],[0.5,\"#f7f7f7\"],[0.6,\"#e6f5d0\"],[0.7,\"#b8e186\"],[0.8,\"#7fbc41\"],[0.9,\"#4d9221\"],[1,\"#276419\"]]},\"xaxis\":{\"gridcolor\":\"white\",\"linecolor\":\"white\",\"ticks\":\"\",\"title\":{\"standoff\":15},\"zerolinecolor\":\"white\",\"automargin\":true,\"zerolinewidth\":2},\"yaxis\":{\"gridcolor\":\"white\",\"linecolor\":\"white\",\"ticks\":\"\",\"title\":{\"standoff\":15},\"zerolinecolor\":\"white\",\"automargin\":true,\"zerolinewidth\":2},\"scene\":{\"xaxis\":{\"backgroundcolor\":\"#E5ECF6\",\"gridcolor\":\"white\",\"linecolor\":\"white\",\"showbackground\":true,\"ticks\":\"\",\"zerolinecolor\":\"white\",\"gridwidth\":2},\"yaxis\":{\"backgroundcolor\":\"#E5ECF6\",\"gridcolor\":\"white\",\"linecolor\":\"white\",\"showbackground\":true,\"ticks\":\"\",\"zerolinecolor\":\"white\",\"gridwidth\":2},\"zaxis\":{\"backgroundcolor\":\"#E5ECF6\",\"gridcolor\":\"white\",\"linecolor\":\"white\",\"showbackground\":true,\"ticks\":\"\",\"zerolinecolor\":\"white\",\"gridwidth\":2}},\"shapedefaults\":{\"line\":{\"color\":\"#2a3f5f\"}},\"annotationdefaults\":{\"arrowcolor\":\"#2a3f5f\",\"arrowhead\":0,\"arrowwidth\":1},\"geo\":{\"bgcolor\":\"white\",\"landcolor\":\"#E5ECF6\",\"subunitcolor\":\"white\",\"showland\":true,\"showlakes\":true,\"lakecolor\":\"white\"},\"title\":{\"x\":0.05},\"mapbox\":{\"style\":\"light\"}}},\"xaxis\":{\"anchor\":\"y\",\"domain\":[0.0,1.0],\"title\":{\"text\":\"year\"}},\"yaxis\":{\"anchor\":\"x\",\"domain\":[0.0,1.0],\"title\":{\"text\":\"totalBTU\"}},\"legend\":{\"tracegroupgap\":0},\"title\":{\"text\":\"US total residential energy consumption per year\"}},                        {\"responsive\": true}                    ).then(function(){\n",
       "                            \n",
       "var gd = document.getElementById('f1f0de20-0f1e-4679-a362-6f3de924d57a');\n",
       "var x = new MutationObserver(function (mutations, observer) {{\n",
       "        var display = window.getComputedStyle(gd).display;\n",
       "        if (!display || display === 'none') {{\n",
       "            console.log([gd, 'removed!']);\n",
       "            Plotly.purge(gd);\n",
       "            observer.disconnect();\n",
       "        }}\n",
       "}});\n",
       "\n",
       "// Listen for the removal of the full notebook cells\n",
       "var notebookContainer = gd.closest('#notebook-container');\n",
       "if (notebookContainer) {{\n",
       "    x.observe(notebookContainer, {childList: true});\n",
       "}}\n",
       "\n",
       "// Listen for the clearing of the current output cell\n",
       "var outputEl = gd.closest('.output');\n",
       "if (outputEl) {{\n",
       "    x.observe(outputEl, {childList: true});\n",
       "}}\n",
       "\n",
       "                        })                };                });            </script>        </div>"
      ]
     },
     "metadata": {},
     "output_type": "display_data"
    }
   ],
   "source": [
    "figb = px.line(df_covidyr_grouped, x=\"year\", y=\"totalBTU\", title='US total residential energy consumption per year')\n",
    "figb.show()"
   ]
  },
  {
   "cell_type": "code",
   "execution_count": 163,
   "id": "9a10e12e",
   "metadata": {},
   "outputs": [
    {
     "data": {
      "text/html": [
       "<div>\n",
       "<style scoped>\n",
       "    .dataframe tbody tr th:only-of-type {\n",
       "        vertical-align: middle;\n",
       "    }\n",
       "\n",
       "    .dataframe tbody tr th {\n",
       "        vertical-align: top;\n",
       "    }\n",
       "\n",
       "    .dataframe thead th {\n",
       "        text-align: right;\n",
       "    }\n",
       "</style>\n",
       "<table border=\"1\" class=\"dataframe\">\n",
       "  <thead>\n",
       "    <tr style=\"text-align: right;\">\n",
       "      <th></th>\n",
       "      <th>state</th>\n",
       "      <th>year</th>\n",
       "      <th>code</th>\n",
       "      <th>btu_per_person</th>\n",
       "    </tr>\n",
       "  </thead>\n",
       "  <tbody>\n",
       "    <tr>\n",
       "      <th>0</th>\n",
       "      <td>AK</td>\n",
       "      <td>2019</td>\n",
       "      <td>CLRCBDFRCBESRCBGERCBHLRCBKSRCBLORCBNGRCBPARCBP...</td>\n",
       "      <td>0.200405</td>\n",
       "    </tr>\n",
       "    <tr>\n",
       "      <th>1</th>\n",
       "      <td>AK</td>\n",
       "      <td>2020</td>\n",
       "      <td>CLRCBDFRCBESRCBGERCBHLRCBKSRCBLORCBNGRCBPARCBP...</td>\n",
       "      <td>0.224464</td>\n",
       "    </tr>\n",
       "    <tr>\n",
       "      <th>2</th>\n",
       "      <td>AK</td>\n",
       "      <td>2021</td>\n",
       "      <td>CLRCBDFRCBESRCBGERCBHLRCBKSRCBLORCBNGRCBPARCBP...</td>\n",
       "      <td>0.223866</td>\n",
       "    </tr>\n",
       "    <tr>\n",
       "      <th>3</th>\n",
       "      <td>AL</td>\n",
       "      <td>2019</td>\n",
       "      <td>CLRCBDFRCBESRCBGERCBHLRCBKSRCBLORCBNGRCBPARCBP...</td>\n",
       "      <td>0.171314</td>\n",
       "    </tr>\n",
       "    <tr>\n",
       "      <th>4</th>\n",
       "      <td>AL</td>\n",
       "      <td>2020</td>\n",
       "      <td>CLRCBDFRCBESRCBGERCBHLRCBKSRCBLORCBNGRCBPARCBP...</td>\n",
       "      <td>0.163031</td>\n",
       "    </tr>\n",
       "    <tr>\n",
       "      <th>...</th>\n",
       "      <td>...</td>\n",
       "      <td>...</td>\n",
       "      <td>...</td>\n",
       "      <td>...</td>\n",
       "    </tr>\n",
       "    <tr>\n",
       "      <th>148</th>\n",
       "      <td>WV</td>\n",
       "      <td>2020</td>\n",
       "      <td>CLRCBDFRCBESRCBGERCBHLRCBKSRCBLORCBNGRCBPARCBP...</td>\n",
       "      <td>0.220460</td>\n",
       "    </tr>\n",
       "    <tr>\n",
       "      <th>149</th>\n",
       "      <td>WV</td>\n",
       "      <td>2021</td>\n",
       "      <td>CLRCBDFRCBESRCBGERCBHLRCBKSRCBLORCBNGRCBPARCBP...</td>\n",
       "      <td>0.221240</td>\n",
       "    </tr>\n",
       "    <tr>\n",
       "      <th>150</th>\n",
       "      <td>WY</td>\n",
       "      <td>2019</td>\n",
       "      <td>CLRCBDFRCBESRCBGERCBHLRCBKSRCBLORCBNGRCBPARCBP...</td>\n",
       "      <td>0.263909</td>\n",
       "    </tr>\n",
       "    <tr>\n",
       "      <th>151</th>\n",
       "      <td>WY</td>\n",
       "      <td>2020</td>\n",
       "      <td>CLRCBDFRCBESRCBGERCBHLRCBKSRCBLORCBNGRCBPARCBP...</td>\n",
       "      <td>0.252394</td>\n",
       "    </tr>\n",
       "    <tr>\n",
       "      <th>152</th>\n",
       "      <td>WY</td>\n",
       "      <td>2021</td>\n",
       "      <td>CLRCBDFRCBESRCBGERCBHLRCBKSRCBLORCBNGRCBPARCBP...</td>\n",
       "      <td>0.251574</td>\n",
       "    </tr>\n",
       "  </tbody>\n",
       "</table>\n",
       "<p>153 rows × 4 columns</p>\n",
       "</div>"
      ],
      "text/plain": [
       "    state  year                                               code  \\\n",
       "0      AK  2019  CLRCBDFRCBESRCBGERCBHLRCBKSRCBLORCBNGRCBPARCBP...   \n",
       "1      AK  2020  CLRCBDFRCBESRCBGERCBHLRCBKSRCBLORCBNGRCBPARCBP...   \n",
       "2      AK  2021  CLRCBDFRCBESRCBGERCBHLRCBKSRCBLORCBNGRCBPARCBP...   \n",
       "3      AL  2019  CLRCBDFRCBESRCBGERCBHLRCBKSRCBLORCBNGRCBPARCBP...   \n",
       "4      AL  2020  CLRCBDFRCBESRCBGERCBHLRCBKSRCBLORCBNGRCBPARCBP...   \n",
       "..    ...   ...                                                ...   \n",
       "148    WV  2020  CLRCBDFRCBESRCBGERCBHLRCBKSRCBLORCBNGRCBPARCBP...   \n",
       "149    WV  2021  CLRCBDFRCBESRCBGERCBHLRCBKSRCBLORCBNGRCBPARCBP...   \n",
       "150    WY  2019  CLRCBDFRCBESRCBGERCBHLRCBKSRCBLORCBNGRCBPARCBP...   \n",
       "151    WY  2020  CLRCBDFRCBESRCBGERCBHLRCBKSRCBLORCBNGRCBPARCBP...   \n",
       "152    WY  2021  CLRCBDFRCBESRCBGERCBHLRCBKSRCBLORCBNGRCBPARCBP...   \n",
       "\n",
       "     btu_per_person  \n",
       "0          0.200405  \n",
       "1          0.224464  \n",
       "2          0.223866  \n",
       "3          0.171314  \n",
       "4          0.163031  \n",
       "..              ...  \n",
       "148        0.220460  \n",
       "149        0.221240  \n",
       "150        0.263909  \n",
       "151        0.252394  \n",
       "152        0.251574  \n",
       "\n",
       "[153 rows x 4 columns]"
      ]
     },
     "execution_count": 163,
     "metadata": {},
     "output_type": "execute_result"
    }
   ],
   "source": [
    "#sum residential energy use by state and year\n",
    "df_covid_grouped = df_covid_new.groupby([\"state\", \"year\"], as_index=False).sum()\n",
    "df_covid_grouped"
   ]
  },
  {
   "cell_type": "code",
   "execution_count": 164,
   "id": "14a8e31c",
   "metadata": {},
   "outputs": [
    {
     "data": {
      "application/vnd.plotly.v1+json": {
       "config": {
        "plotlyServerURL": "https://plot.ly"
       },
       "data": [
        {
         "alignmentgroup": "True",
         "hovertemplate": "state=%{x}<br>year=2019<br>btu_state=%{y}<extra></extra>",
         "legendgroup": "AK",
         "marker": {
          "color": "#636efa",
          "pattern": {
           "shape": ""
          }
         },
         "name": "AK",
         "offsetgroup": "AK",
         "orientation": "v",
         "showlegend": true,
         "textposition": "auto",
         "type": "bar",
         "x": [
          "AK"
         ],
         "xaxis": "x",
         "y": [
          146972
         ],
         "yaxis": "y"
        },
        {
         "alignmentgroup": "True",
         "hovertemplate": "state=%{x}<br>year=2019<br>btu_state=%{y}<extra></extra>",
         "legendgroup": "AL",
         "marker": {
          "color": "#EF553B",
          "pattern": {
           "shape": ""
          }
         },
         "name": "AL",
         "offsetgroup": "AL",
         "orientation": "v",
         "showlegend": true,
         "textposition": "auto",
         "type": "bar",
         "x": [
          "AL"
         ],
         "xaxis": "x",
         "y": [
          860730
         ],
         "yaxis": "y"
        },
        {
         "alignmentgroup": "True",
         "hovertemplate": "state=%{x}<br>year=2019<br>btu_state=%{y}<extra></extra>",
         "legendgroup": "AR",
         "marker": {
          "color": "#00cc96",
          "pattern": {
           "shape": ""
          }
         },
         "name": "AR",
         "offsetgroup": "AR",
         "orientation": "v",
         "showlegend": true,
         "textposition": "auto",
         "type": "bar",
         "x": [
          "AR"
         ],
         "xaxis": "x",
         "y": [
          580372
         ],
         "yaxis": "y"
        },
        {
         "alignmentgroup": "True",
         "hovertemplate": "state=%{x}<br>year=2019<br>btu_state=%{y}<extra></extra>",
         "legendgroup": "AZ",
         "marker": {
          "color": "#ab63fa",
          "pattern": {
           "shape": ""
          }
         },
         "name": "AZ",
         "offsetgroup": "AZ",
         "orientation": "v",
         "showlegend": true,
         "textposition": "auto",
         "type": "bar",
         "x": [
          "AZ"
         ],
         "xaxis": "x",
         "y": [
          1054246
         ],
         "yaxis": "y"
        },
        {
         "alignmentgroup": "True",
         "hovertemplate": "state=%{x}<br>year=2019<br>btu_state=%{y}<extra></extra>",
         "legendgroup": "CA",
         "marker": {
          "color": "#FFA15A",
          "pattern": {
           "shape": ""
          }
         },
         "name": "CA",
         "offsetgroup": "CA",
         "orientation": "v",
         "showlegend": true,
         "textposition": "auto",
         "type": "bar",
         "x": [
          "CA"
         ],
         "xaxis": "x",
         "y": [
          4029464
         ],
         "yaxis": "y"
        },
        {
         "alignmentgroup": "True",
         "hovertemplate": "state=%{x}<br>year=2019<br>btu_state=%{y}<extra></extra>",
         "legendgroup": "CO",
         "marker": {
          "color": "#19d3f3",
          "pattern": {
           "shape": ""
          }
         },
         "name": "CO",
         "offsetgroup": "CO",
         "orientation": "v",
         "showlegend": true,
         "textposition": "auto",
         "type": "bar",
         "x": [
          "CO"
         ],
         "xaxis": "x",
         "y": [
          1056678
         ],
         "yaxis": "y"
        },
        {
         "alignmentgroup": "True",
         "hovertemplate": "state=%{x}<br>year=2019<br>btu_state=%{y}<extra></extra>",
         "legendgroup": "CT",
         "marker": {
          "color": "#FF6692",
          "pattern": {
           "shape": ""
          }
         },
         "name": "CT",
         "offsetgroup": "CT",
         "orientation": "v",
         "showlegend": true,
         "textposition": "auto",
         "type": "bar",
         "x": [
          "CT"
         ],
         "xaxis": "x",
         "y": [
          729607
         ],
         "yaxis": "y"
        },
        {
         "alignmentgroup": "True",
         "hovertemplate": "state=%{x}<br>year=2019<br>btu_state=%{y}<extra></extra>",
         "legendgroup": "DE",
         "marker": {
          "color": "#B6E880",
          "pattern": {
           "shape": ""
          }
         },
         "name": "DE",
         "offsetgroup": "DE",
         "orientation": "v",
         "showlegend": true,
         "textposition": "auto",
         "type": "bar",
         "x": [
          "DE"
         ],
         "xaxis": "x",
         "y": [
          177089
         ],
         "yaxis": "y"
        },
        {
         "alignmentgroup": "True",
         "hovertemplate": "state=%{x}<br>year=2019<br>btu_state=%{y}<extra></extra>",
         "legendgroup": "FL",
         "marker": {
          "color": "#FF97FF",
          "pattern": {
           "shape": ""
          }
         },
         "name": "FL",
         "offsetgroup": "FL",
         "orientation": "v",
         "showlegend": true,
         "textposition": "auto",
         "type": "bar",
         "x": [
          "FL"
         ],
         "xaxis": "x",
         "y": [
          2914578
         ],
         "yaxis": "y"
        },
        {
         "alignmentgroup": "True",
         "hovertemplate": "state=%{x}<br>year=2019<br>btu_state=%{y}<extra></extra>",
         "legendgroup": "GA",
         "marker": {
          "color": "#FECB52",
          "pattern": {
           "shape": ""
          }
         },
         "name": "GA",
         "offsetgroup": "GA",
         "orientation": "v",
         "showlegend": true,
         "textposition": "auto",
         "type": "bar",
         "x": [
          "GA"
         ],
         "xaxis": "x",
         "y": [
          1795035
         ],
         "yaxis": "y"
        },
        {
         "alignmentgroup": "True",
         "hovertemplate": "state=%{x}<br>year=2019<br>btu_state=%{y}<extra></extra>",
         "legendgroup": "HI",
         "marker": {
          "color": "#636efa",
          "pattern": {
           "shape": ""
          }
         },
         "name": "HI",
         "offsetgroup": "HI",
         "orientation": "v",
         "showlegend": true,
         "textposition": "auto",
         "type": "bar",
         "x": [
          "HI"
         ],
         "xaxis": "x",
         "y": [
          97105
         ],
         "yaxis": "y"
        },
        {
         "alignmentgroup": "True",
         "hovertemplate": "state=%{x}<br>year=2019<br>btu_state=%{y}<extra></extra>",
         "legendgroup": "IA",
         "marker": {
          "color": "#EF553B",
          "pattern": {
           "shape": ""
          }
         },
         "name": "IA",
         "offsetgroup": "IA",
         "orientation": "v",
         "showlegend": true,
         "textposition": "auto",
         "type": "bar",
         "x": [
          "IA"
         ],
         "xaxis": "x",
         "y": [
          714005
         ],
         "yaxis": "y"
        },
        {
         "alignmentgroup": "True",
         "hovertemplate": "state=%{x}<br>year=2019<br>btu_state=%{y}<extra></extra>",
         "legendgroup": "ID",
         "marker": {
          "color": "#00cc96",
          "pattern": {
           "shape": ""
          }
         },
         "name": "ID",
         "offsetgroup": "ID",
         "orientation": "v",
         "showlegend": true,
         "textposition": "auto",
         "type": "bar",
         "x": [
          "ID"
         ],
         "xaxis": "x",
         "y": [
          385096
         ],
         "yaxis": "y"
        },
        {
         "alignmentgroup": "True",
         "hovertemplate": "state=%{x}<br>year=2019<br>btu_state=%{y}<extra></extra>",
         "legendgroup": "IL",
         "marker": {
          "color": "#ab63fa",
          "pattern": {
           "shape": ""
          }
         },
         "name": "IL",
         "offsetgroup": "IL",
         "orientation": "v",
         "showlegend": true,
         "textposition": "auto",
         "type": "bar",
         "x": [
          "IL"
         ],
         "xaxis": "x",
         "y": [
          2658344
         ],
         "yaxis": "y"
        },
        {
         "alignmentgroup": "True",
         "hovertemplate": "state=%{x}<br>year=2019<br>btu_state=%{y}<extra></extra>",
         "legendgroup": "IN",
         "marker": {
          "color": "#FFA15A",
          "pattern": {
           "shape": ""
          }
         },
         "name": "IN",
         "offsetgroup": "IN",
         "orientation": "v",
         "showlegend": true,
         "textposition": "auto",
         "type": "bar",
         "x": [
          "IN"
         ],
         "xaxis": "x",
         "y": [
          1418640
         ],
         "yaxis": "y"
        },
        {
         "alignmentgroup": "True",
         "hovertemplate": "state=%{x}<br>year=2019<br>btu_state=%{y}<extra></extra>",
         "legendgroup": "KS",
         "marker": {
          "color": "#19d3f3",
          "pattern": {
           "shape": ""
          }
         },
         "name": "KS",
         "offsetgroup": "KS",
         "orientation": "v",
         "showlegend": true,
         "textposition": "auto",
         "type": "bar",
         "x": [
          "KS"
         ],
         "xaxis": "x",
         "y": [
          612843
         ],
         "yaxis": "y"
        },
        {
         "alignmentgroup": "True",
         "hovertemplate": "state=%{x}<br>year=2019<br>btu_state=%{y}<extra></extra>",
         "legendgroup": "KY",
         "marker": {
          "color": "#FF6692",
          "pattern": {
           "shape": ""
          }
         },
         "name": "KY",
         "offsetgroup": "KY",
         "orientation": "v",
         "showlegend": true,
         "textposition": "auto",
         "type": "bar",
         "x": [
          "KY"
         ],
         "xaxis": "x",
         "y": [
          897357
         ],
         "yaxis": "y"
        },
        {
         "alignmentgroup": "True",
         "hovertemplate": "state=%{x}<br>year=2019<br>btu_state=%{y}<extra></extra>",
         "legendgroup": "LA",
         "marker": {
          "color": "#B6E880",
          "pattern": {
           "shape": ""
          }
         },
         "name": "LA",
         "offsetgroup": "LA",
         "orientation": "v",
         "showlegend": true,
         "textposition": "auto",
         "type": "bar",
         "x": [
          "LA"
         ],
         "xaxis": "x",
         "y": [
          792481
         ],
         "yaxis": "y"
        },
        {
         "alignmentgroup": "True",
         "hovertemplate": "state=%{x}<br>year=2019<br>btu_state=%{y}<extra></extra>",
         "legendgroup": "MA",
         "marker": {
          "color": "#FF97FF",
          "pattern": {
           "shape": ""
          }
         },
         "name": "MA",
         "offsetgroup": "MA",
         "orientation": "v",
         "showlegend": true,
         "textposition": "auto",
         "type": "bar",
         "x": [
          "MA"
         ],
         "xaxis": "x",
         "y": [
          1289259
         ],
         "yaxis": "y"
        },
        {
         "alignmentgroup": "True",
         "hovertemplate": "state=%{x}<br>year=2019<br>btu_state=%{y}<extra></extra>",
         "legendgroup": "MD",
         "marker": {
          "color": "#FECB52",
          "pattern": {
           "shape": ""
          }
         },
         "name": "MD",
         "offsetgroup": "MD",
         "orientation": "v",
         "showlegend": true,
         "textposition": "auto",
         "type": "bar",
         "x": [
          "MD"
         ],
         "xaxis": "x",
         "y": [
          1034554
         ],
         "yaxis": "y"
        },
        {
         "alignmentgroup": "True",
         "hovertemplate": "state=%{x}<br>year=2019<br>btu_state=%{y}<extra></extra>",
         "legendgroup": "ME",
         "marker": {
          "color": "#636efa",
          "pattern": {
           "shape": ""
          }
         },
         "name": "ME",
         "offsetgroup": "ME",
         "orientation": "v",
         "showlegend": true,
         "textposition": "auto",
         "type": "bar",
         "x": [
          "ME"
         ],
         "xaxis": "x",
         "y": [
          365661
         ],
         "yaxis": "y"
        },
        {
         "alignmentgroup": "True",
         "hovertemplate": "state=%{x}<br>year=2019<br>btu_state=%{y}<extra></extra>",
         "legendgroup": "MI",
         "marker": {
          "color": "#EF553B",
          "pattern": {
           "shape": ""
          }
         },
         "name": "MI",
         "offsetgroup": "MI",
         "orientation": "v",
         "showlegend": true,
         "textposition": "auto",
         "type": "bar",
         "x": [
          "MI"
         ],
         "xaxis": "x",
         "y": [
          2255736
         ],
         "yaxis": "y"
        },
        {
         "alignmentgroup": "True",
         "hovertemplate": "state=%{x}<br>year=2019<br>btu_state=%{y}<extra></extra>",
         "legendgroup": "MN",
         "marker": {
          "color": "#00cc96",
          "pattern": {
           "shape": ""
          }
         },
         "name": "MN",
         "offsetgroup": "MN",
         "orientation": "v",
         "showlegend": true,
         "textposition": "auto",
         "type": "bar",
         "x": [
          "MN"
         ],
         "xaxis": "x",
         "y": [
          1209856
         ],
         "yaxis": "y"
        },
        {
         "alignmentgroup": "True",
         "hovertemplate": "state=%{x}<br>year=2019<br>btu_state=%{y}<extra></extra>",
         "legendgroup": "MO",
         "marker": {
          "color": "#ab63fa",
          "pattern": {
           "shape": ""
          }
         },
         "name": "MO",
         "offsetgroup": "MO",
         "orientation": "v",
         "showlegend": true,
         "textposition": "auto",
         "type": "bar",
         "x": [
          "MO"
         ],
         "xaxis": "x",
         "y": [
          1398156
         ],
         "yaxis": "y"
        },
        {
         "alignmentgroup": "True",
         "hovertemplate": "state=%{x}<br>year=2019<br>btu_state=%{y}<extra></extra>",
         "legendgroup": "MS",
         "marker": {
          "color": "#FFA15A",
          "pattern": {
           "shape": ""
          }
         },
         "name": "MS",
         "offsetgroup": "MS",
         "orientation": "v",
         "showlegend": true,
         "textposition": "auto",
         "type": "bar",
         "x": [
          "MS"
         ],
         "xaxis": "x",
         "y": [
          501752
         ],
         "yaxis": "y"
        },
        {
         "alignmentgroup": "True",
         "hovertemplate": "state=%{x}<br>year=2019<br>btu_state=%{y}<extra></extra>",
         "legendgroup": "MT",
         "marker": {
          "color": "#19d3f3",
          "pattern": {
           "shape": ""
          }
         },
         "name": "MT",
         "offsetgroup": "MT",
         "orientation": "v",
         "showlegend": true,
         "textposition": "auto",
         "type": "bar",
         "x": [
          "MT"
         ],
         "xaxis": "x",
         "y": [
          312771
         ],
         "yaxis": "y"
        },
        {
         "alignmentgroup": "True",
         "hovertemplate": "state=%{x}<br>year=2019<br>btu_state=%{y}<extra></extra>",
         "legendgroup": "NC",
         "marker": {
          "color": "#FF6692",
          "pattern": {
           "shape": ""
          }
         },
         "name": "NC",
         "offsetgroup": "NC",
         "orientation": "v",
         "showlegend": true,
         "textposition": "auto",
         "type": "bar",
         "x": [
          "NC"
         ],
         "xaxis": "x",
         "y": [
          1753597
         ],
         "yaxis": "y"
        },
        {
         "alignmentgroup": "True",
         "hovertemplate": "state=%{x}<br>year=2019<br>btu_state=%{y}<extra></extra>",
         "legendgroup": "ND",
         "marker": {
          "color": "#B6E880",
          "pattern": {
           "shape": ""
          }
         },
         "name": "ND",
         "offsetgroup": "ND",
         "orientation": "v",
         "showlegend": true,
         "textposition": "auto",
         "type": "bar",
         "x": [
          "ND"
         ],
         "xaxis": "x",
         "y": [
          219261
         ],
         "yaxis": "y"
        },
        {
         "alignmentgroup": "True",
         "hovertemplate": "state=%{x}<br>year=2019<br>btu_state=%{y}<extra></extra>",
         "legendgroup": "NE",
         "marker": {
          "color": "#FF97FF",
          "pattern": {
           "shape": ""
          }
         },
         "name": "NE",
         "offsetgroup": "NE",
         "orientation": "v",
         "showlegend": true,
         "textposition": "auto",
         "type": "bar",
         "x": [
          "NE"
         ],
         "xaxis": "x",
         "y": [
          449376
         ],
         "yaxis": "y"
        },
        {
         "alignmentgroup": "True",
         "hovertemplate": "state=%{x}<br>year=2019<br>btu_state=%{y}<extra></extra>",
         "legendgroup": "NH",
         "marker": {
          "color": "#FECB52",
          "pattern": {
           "shape": ""
          }
         },
         "name": "NH",
         "offsetgroup": "NH",
         "orientation": "v",
         "showlegend": true,
         "textposition": "auto",
         "type": "bar",
         "x": [
          "NH"
         ],
         "xaxis": "x",
         "y": [
          345052
         ],
         "yaxis": "y"
        },
        {
         "alignmentgroup": "True",
         "hovertemplate": "state=%{x}<br>year=2019<br>btu_state=%{y}<extra></extra>",
         "legendgroup": "NJ",
         "marker": {
          "color": "#636efa",
          "pattern": {
           "shape": ""
          }
         },
         "name": "NJ",
         "offsetgroup": "NJ",
         "orientation": "v",
         "showlegend": true,
         "textposition": "auto",
         "type": "bar",
         "x": [
          "NJ"
         ],
         "xaxis": "x",
         "y": [
          1563788
         ],
         "yaxis": "y"
        },
        {
         "alignmentgroup": "True",
         "hovertemplate": "state=%{x}<br>year=2019<br>btu_state=%{y}<extra></extra>",
         "legendgroup": "NM",
         "marker": {
          "color": "#EF553B",
          "pattern": {
           "shape": ""
          }
         },
         "name": "NM",
         "offsetgroup": "NM",
         "orientation": "v",
         "showlegend": true,
         "textposition": "auto",
         "type": "bar",
         "x": [
          "NM"
         ],
         "xaxis": "x",
         "y": [
          377085
         ],
         "yaxis": "y"
        },
        {
         "alignmentgroup": "True",
         "hovertemplate": "state=%{x}<br>year=2019<br>btu_state=%{y}<extra></extra>",
         "legendgroup": "NV",
         "marker": {
          "color": "#00cc96",
          "pattern": {
           "shape": ""
          }
         },
         "name": "NV",
         "offsetgroup": "NV",
         "orientation": "v",
         "showlegend": true,
         "textposition": "auto",
         "type": "bar",
         "x": [
          "NV"
         ],
         "xaxis": "x",
         "y": [
          468005
         ],
         "yaxis": "y"
        },
        {
         "alignmentgroup": "True",
         "hovertemplate": "state=%{x}<br>year=2019<br>btu_state=%{y}<extra></extra>",
         "legendgroup": "NY",
         "marker": {
          "color": "#ab63fa",
          "pattern": {
           "shape": ""
          }
         },
         "name": "NY",
         "offsetgroup": "NY",
         "orientation": "v",
         "showlegend": true,
         "textposition": "auto",
         "type": "bar",
         "x": [
          "NY"
         ],
         "xaxis": "x",
         "y": [
          3333906
         ],
         "yaxis": "y"
        },
        {
         "alignmentgroup": "True",
         "hovertemplate": "state=%{x}<br>year=2019<br>btu_state=%{y}<extra></extra>",
         "legendgroup": "OH",
         "marker": {
          "color": "#FFA15A",
          "pattern": {
           "shape": ""
          }
         },
         "name": "OH",
         "offsetgroup": "OH",
         "orientation": "v",
         "showlegend": true,
         "textposition": "auto",
         "type": "bar",
         "x": [
          "OH"
         ],
         "xaxis": "x",
         "y": [
          2360913
         ],
         "yaxis": "y"
        },
        {
         "alignmentgroup": "True",
         "hovertemplate": "state=%{x}<br>year=2019<br>btu_state=%{y}<extra></extra>",
         "legendgroup": "OK",
         "marker": {
          "color": "#19d3f3",
          "pattern": {
           "shape": ""
          }
         },
         "name": "OK",
         "offsetgroup": "OK",
         "orientation": "v",
         "showlegend": true,
         "textposition": "auto",
         "type": "bar",
         "x": [
          "OK"
         ],
         "xaxis": "x",
         "y": [
          784135
         ],
         "yaxis": "y"
        },
        {
         "alignmentgroup": "True",
         "hovertemplate": "state=%{x}<br>year=2019<br>btu_state=%{y}<extra></extra>",
         "legendgroup": "OR",
         "marker": {
          "color": "#FF6692",
          "pattern": {
           "shape": ""
          }
         },
         "name": "OR",
         "offsetgroup": "OR",
         "orientation": "v",
         "showlegend": true,
         "textposition": "auto",
         "type": "bar",
         "x": [
          "OR"
         ],
         "xaxis": "x",
         "y": [
          700078
         ],
         "yaxis": "y"
        },
        {
         "alignmentgroup": "True",
         "hovertemplate": "state=%{x}<br>year=2019<br>btu_state=%{y}<extra></extra>",
         "legendgroup": "PA",
         "marker": {
          "color": "#B6E880",
          "pattern": {
           "shape": ""
          }
         },
         "name": "PA",
         "offsetgroup": "PA",
         "orientation": "v",
         "showlegend": true,
         "textposition": "auto",
         "type": "bar",
         "x": [
          "PA"
         ],
         "xaxis": "x",
         "y": [
          2498369
         ],
         "yaxis": "y"
        },
        {
         "alignmentgroup": "True",
         "hovertemplate": "state=%{x}<br>year=2019<br>btu_state=%{y}<extra></extra>",
         "legendgroup": "RI",
         "marker": {
          "color": "#FF97FF",
          "pattern": {
           "shape": ""
          }
         },
         "name": "RI",
         "offsetgroup": "RI",
         "orientation": "v",
         "showlegend": true,
         "textposition": "auto",
         "type": "bar",
         "x": [
          "RI"
         ],
         "xaxis": "x",
         "y": [
          185974
         ],
         "yaxis": "y"
        },
        {
         "alignmentgroup": "True",
         "hovertemplate": "state=%{x}<br>year=2019<br>btu_state=%{y}<extra></extra>",
         "legendgroup": "SC",
         "marker": {
          "color": "#FECB52",
          "pattern": {
           "shape": ""
          }
         },
         "name": "SC",
         "offsetgroup": "SC",
         "orientation": "v",
         "showlegend": true,
         "textposition": "auto",
         "type": "bar",
         "x": [
          "SC"
         ],
         "xaxis": "x",
         "y": [
          893149
         ],
         "yaxis": "y"
        },
        {
         "alignmentgroup": "True",
         "hovertemplate": "state=%{x}<br>year=2019<br>btu_state=%{y}<extra></extra>",
         "legendgroup": "SD",
         "marker": {
          "color": "#636efa",
          "pattern": {
           "shape": ""
          }
         },
         "name": "SD",
         "offsetgroup": "SD",
         "orientation": "v",
         "showlegend": true,
         "textposition": "auto",
         "type": "bar",
         "x": [
          "SD"
         ],
         "xaxis": "x",
         "y": [
          206018
         ],
         "yaxis": "y"
        },
        {
         "alignmentgroup": "True",
         "hovertemplate": "state=%{x}<br>year=2019<br>btu_state=%{y}<extra></extra>",
         "legendgroup": "TN",
         "marker": {
          "color": "#EF553B",
          "pattern": {
           "shape": ""
          }
         },
         "name": "TN",
         "offsetgroup": "TN",
         "orientation": "v",
         "showlegend": true,
         "textposition": "auto",
         "type": "bar",
         "x": [
          "TN"
         ],
         "xaxis": "x",
         "y": [
          1307085
         ],
         "yaxis": "y"
        },
        {
         "alignmentgroup": "True",
         "hovertemplate": "state=%{x}<br>year=2019<br>btu_state=%{y}<extra></extra>",
         "legendgroup": "TX",
         "marker": {
          "color": "#00cc96",
          "pattern": {
           "shape": ""
          }
         },
         "name": "TX",
         "offsetgroup": "TX",
         "orientation": "v",
         "showlegend": true,
         "textposition": "auto",
         "type": "bar",
         "x": [
          "TX"
         ],
         "xaxis": "x",
         "y": [
          4389879
         ],
         "yaxis": "y"
        },
        {
         "alignmentgroup": "True",
         "hovertemplate": "state=%{x}<br>year=2019<br>btu_state=%{y}<extra></extra>",
         "legendgroup": "UT",
         "marker": {
          "color": "#ab63fa",
          "pattern": {
           "shape": ""
          }
         },
         "name": "UT",
         "offsetgroup": "UT",
         "orientation": "v",
         "showlegend": true,
         "textposition": "auto",
         "type": "bar",
         "x": [
          "UT"
         ],
         "xaxis": "x",
         "y": [
          513166
         ],
         "yaxis": "y"
        },
        {
         "alignmentgroup": "True",
         "hovertemplate": "state=%{x}<br>year=2019<br>btu_state=%{y}<extra></extra>",
         "legendgroup": "VA",
         "marker": {
          "color": "#FFA15A",
          "pattern": {
           "shape": ""
          }
         },
         "name": "VA",
         "offsetgroup": "VA",
         "orientation": "v",
         "showlegend": true,
         "textposition": "auto",
         "type": "bar",
         "x": [
          "VA"
         ],
         "xaxis": "x",
         "y": [
          1476908
         ],
         "yaxis": "y"
        },
        {
         "alignmentgroup": "True",
         "hovertemplate": "state=%{x}<br>year=2019<br>btu_state=%{y}<extra></extra>",
         "legendgroup": "VT",
         "marker": {
          "color": "#19d3f3",
          "pattern": {
           "shape": ""
          }
         },
         "name": "VT",
         "offsetgroup": "VT",
         "orientation": "v",
         "showlegend": true,
         "textposition": "auto",
         "type": "bar",
         "x": [
          "VT"
         ],
         "xaxis": "x",
         "y": [
          183121
         ],
         "yaxis": "y"
        },
        {
         "alignmentgroup": "True",
         "hovertemplate": "state=%{x}<br>year=2019<br>btu_state=%{y}<extra></extra>",
         "legendgroup": "WA",
         "marker": {
          "color": "#FF6692",
          "pattern": {
           "shape": ""
          }
         },
         "name": "WA",
         "offsetgroup": "WA",
         "orientation": "v",
         "showlegend": true,
         "textposition": "auto",
         "type": "bar",
         "x": [
          "WA"
         ],
         "xaxis": "x",
         "y": [
          1323263
         ],
         "yaxis": "y"
        },
        {
         "alignmentgroup": "True",
         "hovertemplate": "state=%{x}<br>year=2019<br>btu_state=%{y}<extra></extra>",
         "legendgroup": "WI",
         "marker": {
          "color": "#B6E880",
          "pattern": {
           "shape": ""
          }
         },
         "name": "WI",
         "offsetgroup": "WI",
         "orientation": "v",
         "showlegend": true,
         "textposition": "auto",
         "type": "bar",
         "x": [
          "WI"
         ],
         "xaxis": "x",
         "y": [
          1297600
         ],
         "yaxis": "y"
        },
        {
         "alignmentgroup": "True",
         "hovertemplate": "state=%{x}<br>year=2019<br>btu_state=%{y}<extra></extra>",
         "legendgroup": "WV",
         "marker": {
          "color": "#FF97FF",
          "pattern": {
           "shape": ""
          }
         },
         "name": "WV",
         "offsetgroup": "WV",
         "orientation": "v",
         "showlegend": true,
         "textposition": "auto",
         "type": "bar",
         "x": [
          "WV"
         ],
         "xaxis": "x",
         "y": [
          407865
         ],
         "yaxis": "y"
        },
        {
         "alignmentgroup": "True",
         "hovertemplate": "state=%{x}<br>year=2019<br>btu_state=%{y}<extra></extra>",
         "legendgroup": "WY",
         "marker": {
          "color": "#FECB52",
          "pattern": {
           "shape": ""
          }
         },
         "name": "WY",
         "offsetgroup": "WY",
         "orientation": "v",
         "showlegend": true,
         "textposition": "auto",
         "type": "bar",
         "x": [
          "WY"
         ],
         "xaxis": "x",
         "y": [
          152236
         ],
         "yaxis": "y"
        }
       ],
       "frames": [
        {
         "data": [
          {
           "alignmentgroup": "True",
           "hovertemplate": "state=%{x}<br>year=2019<br>btu_state=%{y}<extra></extra>",
           "legendgroup": "AK",
           "marker": {
            "color": "#636efa",
            "pattern": {
             "shape": ""
            }
           },
           "name": "AK",
           "offsetgroup": "AK",
           "orientation": "v",
           "showlegend": true,
           "textposition": "auto",
           "type": "bar",
           "x": [
            "AK"
           ],
           "xaxis": "x",
           "y": [
            146972
           ],
           "yaxis": "y"
          },
          {
           "alignmentgroup": "True",
           "hovertemplate": "state=%{x}<br>year=2019<br>btu_state=%{y}<extra></extra>",
           "legendgroup": "AL",
           "marker": {
            "color": "#EF553B",
            "pattern": {
             "shape": ""
            }
           },
           "name": "AL",
           "offsetgroup": "AL",
           "orientation": "v",
           "showlegend": true,
           "textposition": "auto",
           "type": "bar",
           "x": [
            "AL"
           ],
           "xaxis": "x",
           "y": [
            860730
           ],
           "yaxis": "y"
          },
          {
           "alignmentgroup": "True",
           "hovertemplate": "state=%{x}<br>year=2019<br>btu_state=%{y}<extra></extra>",
           "legendgroup": "AR",
           "marker": {
            "color": "#00cc96",
            "pattern": {
             "shape": ""
            }
           },
           "name": "AR",
           "offsetgroup": "AR",
           "orientation": "v",
           "showlegend": true,
           "textposition": "auto",
           "type": "bar",
           "x": [
            "AR"
           ],
           "xaxis": "x",
           "y": [
            580372
           ],
           "yaxis": "y"
          },
          {
           "alignmentgroup": "True",
           "hovertemplate": "state=%{x}<br>year=2019<br>btu_state=%{y}<extra></extra>",
           "legendgroup": "AZ",
           "marker": {
            "color": "#ab63fa",
            "pattern": {
             "shape": ""
            }
           },
           "name": "AZ",
           "offsetgroup": "AZ",
           "orientation": "v",
           "showlegend": true,
           "textposition": "auto",
           "type": "bar",
           "x": [
            "AZ"
           ],
           "xaxis": "x",
           "y": [
            1054246
           ],
           "yaxis": "y"
          },
          {
           "alignmentgroup": "True",
           "hovertemplate": "state=%{x}<br>year=2019<br>btu_state=%{y}<extra></extra>",
           "legendgroup": "CA",
           "marker": {
            "color": "#FFA15A",
            "pattern": {
             "shape": ""
            }
           },
           "name": "CA",
           "offsetgroup": "CA",
           "orientation": "v",
           "showlegend": true,
           "textposition": "auto",
           "type": "bar",
           "x": [
            "CA"
           ],
           "xaxis": "x",
           "y": [
            4029464
           ],
           "yaxis": "y"
          },
          {
           "alignmentgroup": "True",
           "hovertemplate": "state=%{x}<br>year=2019<br>btu_state=%{y}<extra></extra>",
           "legendgroup": "CO",
           "marker": {
            "color": "#19d3f3",
            "pattern": {
             "shape": ""
            }
           },
           "name": "CO",
           "offsetgroup": "CO",
           "orientation": "v",
           "showlegend": true,
           "textposition": "auto",
           "type": "bar",
           "x": [
            "CO"
           ],
           "xaxis": "x",
           "y": [
            1056678
           ],
           "yaxis": "y"
          },
          {
           "alignmentgroup": "True",
           "hovertemplate": "state=%{x}<br>year=2019<br>btu_state=%{y}<extra></extra>",
           "legendgroup": "CT",
           "marker": {
            "color": "#FF6692",
            "pattern": {
             "shape": ""
            }
           },
           "name": "CT",
           "offsetgroup": "CT",
           "orientation": "v",
           "showlegend": true,
           "textposition": "auto",
           "type": "bar",
           "x": [
            "CT"
           ],
           "xaxis": "x",
           "y": [
            729607
           ],
           "yaxis": "y"
          },
          {
           "alignmentgroup": "True",
           "hovertemplate": "state=%{x}<br>year=2019<br>btu_state=%{y}<extra></extra>",
           "legendgroup": "DE",
           "marker": {
            "color": "#B6E880",
            "pattern": {
             "shape": ""
            }
           },
           "name": "DE",
           "offsetgroup": "DE",
           "orientation": "v",
           "showlegend": true,
           "textposition": "auto",
           "type": "bar",
           "x": [
            "DE"
           ],
           "xaxis": "x",
           "y": [
            177089
           ],
           "yaxis": "y"
          },
          {
           "alignmentgroup": "True",
           "hovertemplate": "state=%{x}<br>year=2019<br>btu_state=%{y}<extra></extra>",
           "legendgroup": "FL",
           "marker": {
            "color": "#FF97FF",
            "pattern": {
             "shape": ""
            }
           },
           "name": "FL",
           "offsetgroup": "FL",
           "orientation": "v",
           "showlegend": true,
           "textposition": "auto",
           "type": "bar",
           "x": [
            "FL"
           ],
           "xaxis": "x",
           "y": [
            2914578
           ],
           "yaxis": "y"
          },
          {
           "alignmentgroup": "True",
           "hovertemplate": "state=%{x}<br>year=2019<br>btu_state=%{y}<extra></extra>",
           "legendgroup": "GA",
           "marker": {
            "color": "#FECB52",
            "pattern": {
             "shape": ""
            }
           },
           "name": "GA",
           "offsetgroup": "GA",
           "orientation": "v",
           "showlegend": true,
           "textposition": "auto",
           "type": "bar",
           "x": [
            "GA"
           ],
           "xaxis": "x",
           "y": [
            1795035
           ],
           "yaxis": "y"
          },
          {
           "alignmentgroup": "True",
           "hovertemplate": "state=%{x}<br>year=2019<br>btu_state=%{y}<extra></extra>",
           "legendgroup": "HI",
           "marker": {
            "color": "#636efa",
            "pattern": {
             "shape": ""
            }
           },
           "name": "HI",
           "offsetgroup": "HI",
           "orientation": "v",
           "showlegend": true,
           "textposition": "auto",
           "type": "bar",
           "x": [
            "HI"
           ],
           "xaxis": "x",
           "y": [
            97105
           ],
           "yaxis": "y"
          },
          {
           "alignmentgroup": "True",
           "hovertemplate": "state=%{x}<br>year=2019<br>btu_state=%{y}<extra></extra>",
           "legendgroup": "IA",
           "marker": {
            "color": "#EF553B",
            "pattern": {
             "shape": ""
            }
           },
           "name": "IA",
           "offsetgroup": "IA",
           "orientation": "v",
           "showlegend": true,
           "textposition": "auto",
           "type": "bar",
           "x": [
            "IA"
           ],
           "xaxis": "x",
           "y": [
            714005
           ],
           "yaxis": "y"
          },
          {
           "alignmentgroup": "True",
           "hovertemplate": "state=%{x}<br>year=2019<br>btu_state=%{y}<extra></extra>",
           "legendgroup": "ID",
           "marker": {
            "color": "#00cc96",
            "pattern": {
             "shape": ""
            }
           },
           "name": "ID",
           "offsetgroup": "ID",
           "orientation": "v",
           "showlegend": true,
           "textposition": "auto",
           "type": "bar",
           "x": [
            "ID"
           ],
           "xaxis": "x",
           "y": [
            385096
           ],
           "yaxis": "y"
          },
          {
           "alignmentgroup": "True",
           "hovertemplate": "state=%{x}<br>year=2019<br>btu_state=%{y}<extra></extra>",
           "legendgroup": "IL",
           "marker": {
            "color": "#ab63fa",
            "pattern": {
             "shape": ""
            }
           },
           "name": "IL",
           "offsetgroup": "IL",
           "orientation": "v",
           "showlegend": true,
           "textposition": "auto",
           "type": "bar",
           "x": [
            "IL"
           ],
           "xaxis": "x",
           "y": [
            2658344
           ],
           "yaxis": "y"
          },
          {
           "alignmentgroup": "True",
           "hovertemplate": "state=%{x}<br>year=2019<br>btu_state=%{y}<extra></extra>",
           "legendgroup": "IN",
           "marker": {
            "color": "#FFA15A",
            "pattern": {
             "shape": ""
            }
           },
           "name": "IN",
           "offsetgroup": "IN",
           "orientation": "v",
           "showlegend": true,
           "textposition": "auto",
           "type": "bar",
           "x": [
            "IN"
           ],
           "xaxis": "x",
           "y": [
            1418640
           ],
           "yaxis": "y"
          },
          {
           "alignmentgroup": "True",
           "hovertemplate": "state=%{x}<br>year=2019<br>btu_state=%{y}<extra></extra>",
           "legendgroup": "KS",
           "marker": {
            "color": "#19d3f3",
            "pattern": {
             "shape": ""
            }
           },
           "name": "KS",
           "offsetgroup": "KS",
           "orientation": "v",
           "showlegend": true,
           "textposition": "auto",
           "type": "bar",
           "x": [
            "KS"
           ],
           "xaxis": "x",
           "y": [
            612843
           ],
           "yaxis": "y"
          },
          {
           "alignmentgroup": "True",
           "hovertemplate": "state=%{x}<br>year=2019<br>btu_state=%{y}<extra></extra>",
           "legendgroup": "KY",
           "marker": {
            "color": "#FF6692",
            "pattern": {
             "shape": ""
            }
           },
           "name": "KY",
           "offsetgroup": "KY",
           "orientation": "v",
           "showlegend": true,
           "textposition": "auto",
           "type": "bar",
           "x": [
            "KY"
           ],
           "xaxis": "x",
           "y": [
            897357
           ],
           "yaxis": "y"
          },
          {
           "alignmentgroup": "True",
           "hovertemplate": "state=%{x}<br>year=2019<br>btu_state=%{y}<extra></extra>",
           "legendgroup": "LA",
           "marker": {
            "color": "#B6E880",
            "pattern": {
             "shape": ""
            }
           },
           "name": "LA",
           "offsetgroup": "LA",
           "orientation": "v",
           "showlegend": true,
           "textposition": "auto",
           "type": "bar",
           "x": [
            "LA"
           ],
           "xaxis": "x",
           "y": [
            792481
           ],
           "yaxis": "y"
          },
          {
           "alignmentgroup": "True",
           "hovertemplate": "state=%{x}<br>year=2019<br>btu_state=%{y}<extra></extra>",
           "legendgroup": "MA",
           "marker": {
            "color": "#FF97FF",
            "pattern": {
             "shape": ""
            }
           },
           "name": "MA",
           "offsetgroup": "MA",
           "orientation": "v",
           "showlegend": true,
           "textposition": "auto",
           "type": "bar",
           "x": [
            "MA"
           ],
           "xaxis": "x",
           "y": [
            1289259
           ],
           "yaxis": "y"
          },
          {
           "alignmentgroup": "True",
           "hovertemplate": "state=%{x}<br>year=2019<br>btu_state=%{y}<extra></extra>",
           "legendgroup": "MD",
           "marker": {
            "color": "#FECB52",
            "pattern": {
             "shape": ""
            }
           },
           "name": "MD",
           "offsetgroup": "MD",
           "orientation": "v",
           "showlegend": true,
           "textposition": "auto",
           "type": "bar",
           "x": [
            "MD"
           ],
           "xaxis": "x",
           "y": [
            1034554
           ],
           "yaxis": "y"
          },
          {
           "alignmentgroup": "True",
           "hovertemplate": "state=%{x}<br>year=2019<br>btu_state=%{y}<extra></extra>",
           "legendgroup": "ME",
           "marker": {
            "color": "#636efa",
            "pattern": {
             "shape": ""
            }
           },
           "name": "ME",
           "offsetgroup": "ME",
           "orientation": "v",
           "showlegend": true,
           "textposition": "auto",
           "type": "bar",
           "x": [
            "ME"
           ],
           "xaxis": "x",
           "y": [
            365661
           ],
           "yaxis": "y"
          },
          {
           "alignmentgroup": "True",
           "hovertemplate": "state=%{x}<br>year=2019<br>btu_state=%{y}<extra></extra>",
           "legendgroup": "MI",
           "marker": {
            "color": "#EF553B",
            "pattern": {
             "shape": ""
            }
           },
           "name": "MI",
           "offsetgroup": "MI",
           "orientation": "v",
           "showlegend": true,
           "textposition": "auto",
           "type": "bar",
           "x": [
            "MI"
           ],
           "xaxis": "x",
           "y": [
            2255736
           ],
           "yaxis": "y"
          },
          {
           "alignmentgroup": "True",
           "hovertemplate": "state=%{x}<br>year=2019<br>btu_state=%{y}<extra></extra>",
           "legendgroup": "MN",
           "marker": {
            "color": "#00cc96",
            "pattern": {
             "shape": ""
            }
           },
           "name": "MN",
           "offsetgroup": "MN",
           "orientation": "v",
           "showlegend": true,
           "textposition": "auto",
           "type": "bar",
           "x": [
            "MN"
           ],
           "xaxis": "x",
           "y": [
            1209856
           ],
           "yaxis": "y"
          },
          {
           "alignmentgroup": "True",
           "hovertemplate": "state=%{x}<br>year=2019<br>btu_state=%{y}<extra></extra>",
           "legendgroup": "MO",
           "marker": {
            "color": "#ab63fa",
            "pattern": {
             "shape": ""
            }
           },
           "name": "MO",
           "offsetgroup": "MO",
           "orientation": "v",
           "showlegend": true,
           "textposition": "auto",
           "type": "bar",
           "x": [
            "MO"
           ],
           "xaxis": "x",
           "y": [
            1398156
           ],
           "yaxis": "y"
          },
          {
           "alignmentgroup": "True",
           "hovertemplate": "state=%{x}<br>year=2019<br>btu_state=%{y}<extra></extra>",
           "legendgroup": "MS",
           "marker": {
            "color": "#FFA15A",
            "pattern": {
             "shape": ""
            }
           },
           "name": "MS",
           "offsetgroup": "MS",
           "orientation": "v",
           "showlegend": true,
           "textposition": "auto",
           "type": "bar",
           "x": [
            "MS"
           ],
           "xaxis": "x",
           "y": [
            501752
           ],
           "yaxis": "y"
          },
          {
           "alignmentgroup": "True",
           "hovertemplate": "state=%{x}<br>year=2019<br>btu_state=%{y}<extra></extra>",
           "legendgroup": "MT",
           "marker": {
            "color": "#19d3f3",
            "pattern": {
             "shape": ""
            }
           },
           "name": "MT",
           "offsetgroup": "MT",
           "orientation": "v",
           "showlegend": true,
           "textposition": "auto",
           "type": "bar",
           "x": [
            "MT"
           ],
           "xaxis": "x",
           "y": [
            312771
           ],
           "yaxis": "y"
          },
          {
           "alignmentgroup": "True",
           "hovertemplate": "state=%{x}<br>year=2019<br>btu_state=%{y}<extra></extra>",
           "legendgroup": "NC",
           "marker": {
            "color": "#FF6692",
            "pattern": {
             "shape": ""
            }
           },
           "name": "NC",
           "offsetgroup": "NC",
           "orientation": "v",
           "showlegend": true,
           "textposition": "auto",
           "type": "bar",
           "x": [
            "NC"
           ],
           "xaxis": "x",
           "y": [
            1753597
           ],
           "yaxis": "y"
          },
          {
           "alignmentgroup": "True",
           "hovertemplate": "state=%{x}<br>year=2019<br>btu_state=%{y}<extra></extra>",
           "legendgroup": "ND",
           "marker": {
            "color": "#B6E880",
            "pattern": {
             "shape": ""
            }
           },
           "name": "ND",
           "offsetgroup": "ND",
           "orientation": "v",
           "showlegend": true,
           "textposition": "auto",
           "type": "bar",
           "x": [
            "ND"
           ],
           "xaxis": "x",
           "y": [
            219261
           ],
           "yaxis": "y"
          },
          {
           "alignmentgroup": "True",
           "hovertemplate": "state=%{x}<br>year=2019<br>btu_state=%{y}<extra></extra>",
           "legendgroup": "NE",
           "marker": {
            "color": "#FF97FF",
            "pattern": {
             "shape": ""
            }
           },
           "name": "NE",
           "offsetgroup": "NE",
           "orientation": "v",
           "showlegend": true,
           "textposition": "auto",
           "type": "bar",
           "x": [
            "NE"
           ],
           "xaxis": "x",
           "y": [
            449376
           ],
           "yaxis": "y"
          },
          {
           "alignmentgroup": "True",
           "hovertemplate": "state=%{x}<br>year=2019<br>btu_state=%{y}<extra></extra>",
           "legendgroup": "NH",
           "marker": {
            "color": "#FECB52",
            "pattern": {
             "shape": ""
            }
           },
           "name": "NH",
           "offsetgroup": "NH",
           "orientation": "v",
           "showlegend": true,
           "textposition": "auto",
           "type": "bar",
           "x": [
            "NH"
           ],
           "xaxis": "x",
           "y": [
            345052
           ],
           "yaxis": "y"
          },
          {
           "alignmentgroup": "True",
           "hovertemplate": "state=%{x}<br>year=2019<br>btu_state=%{y}<extra></extra>",
           "legendgroup": "NJ",
           "marker": {
            "color": "#636efa",
            "pattern": {
             "shape": ""
            }
           },
           "name": "NJ",
           "offsetgroup": "NJ",
           "orientation": "v",
           "showlegend": true,
           "textposition": "auto",
           "type": "bar",
           "x": [
            "NJ"
           ],
           "xaxis": "x",
           "y": [
            1563788
           ],
           "yaxis": "y"
          },
          {
           "alignmentgroup": "True",
           "hovertemplate": "state=%{x}<br>year=2019<br>btu_state=%{y}<extra></extra>",
           "legendgroup": "NM",
           "marker": {
            "color": "#EF553B",
            "pattern": {
             "shape": ""
            }
           },
           "name": "NM",
           "offsetgroup": "NM",
           "orientation": "v",
           "showlegend": true,
           "textposition": "auto",
           "type": "bar",
           "x": [
            "NM"
           ],
           "xaxis": "x",
           "y": [
            377085
           ],
           "yaxis": "y"
          },
          {
           "alignmentgroup": "True",
           "hovertemplate": "state=%{x}<br>year=2019<br>btu_state=%{y}<extra></extra>",
           "legendgroup": "NV",
           "marker": {
            "color": "#00cc96",
            "pattern": {
             "shape": ""
            }
           },
           "name": "NV",
           "offsetgroup": "NV",
           "orientation": "v",
           "showlegend": true,
           "textposition": "auto",
           "type": "bar",
           "x": [
            "NV"
           ],
           "xaxis": "x",
           "y": [
            468005
           ],
           "yaxis": "y"
          },
          {
           "alignmentgroup": "True",
           "hovertemplate": "state=%{x}<br>year=2019<br>btu_state=%{y}<extra></extra>",
           "legendgroup": "NY",
           "marker": {
            "color": "#ab63fa",
            "pattern": {
             "shape": ""
            }
           },
           "name": "NY",
           "offsetgroup": "NY",
           "orientation": "v",
           "showlegend": true,
           "textposition": "auto",
           "type": "bar",
           "x": [
            "NY"
           ],
           "xaxis": "x",
           "y": [
            3333906
           ],
           "yaxis": "y"
          },
          {
           "alignmentgroup": "True",
           "hovertemplate": "state=%{x}<br>year=2019<br>btu_state=%{y}<extra></extra>",
           "legendgroup": "OH",
           "marker": {
            "color": "#FFA15A",
            "pattern": {
             "shape": ""
            }
           },
           "name": "OH",
           "offsetgroup": "OH",
           "orientation": "v",
           "showlegend": true,
           "textposition": "auto",
           "type": "bar",
           "x": [
            "OH"
           ],
           "xaxis": "x",
           "y": [
            2360913
           ],
           "yaxis": "y"
          },
          {
           "alignmentgroup": "True",
           "hovertemplate": "state=%{x}<br>year=2019<br>btu_state=%{y}<extra></extra>",
           "legendgroup": "OK",
           "marker": {
            "color": "#19d3f3",
            "pattern": {
             "shape": ""
            }
           },
           "name": "OK",
           "offsetgroup": "OK",
           "orientation": "v",
           "showlegend": true,
           "textposition": "auto",
           "type": "bar",
           "x": [
            "OK"
           ],
           "xaxis": "x",
           "y": [
            784135
           ],
           "yaxis": "y"
          },
          {
           "alignmentgroup": "True",
           "hovertemplate": "state=%{x}<br>year=2019<br>btu_state=%{y}<extra></extra>",
           "legendgroup": "OR",
           "marker": {
            "color": "#FF6692",
            "pattern": {
             "shape": ""
            }
           },
           "name": "OR",
           "offsetgroup": "OR",
           "orientation": "v",
           "showlegend": true,
           "textposition": "auto",
           "type": "bar",
           "x": [
            "OR"
           ],
           "xaxis": "x",
           "y": [
            700078
           ],
           "yaxis": "y"
          },
          {
           "alignmentgroup": "True",
           "hovertemplate": "state=%{x}<br>year=2019<br>btu_state=%{y}<extra></extra>",
           "legendgroup": "PA",
           "marker": {
            "color": "#B6E880",
            "pattern": {
             "shape": ""
            }
           },
           "name": "PA",
           "offsetgroup": "PA",
           "orientation": "v",
           "showlegend": true,
           "textposition": "auto",
           "type": "bar",
           "x": [
            "PA"
           ],
           "xaxis": "x",
           "y": [
            2498369
           ],
           "yaxis": "y"
          },
          {
           "alignmentgroup": "True",
           "hovertemplate": "state=%{x}<br>year=2019<br>btu_state=%{y}<extra></extra>",
           "legendgroup": "RI",
           "marker": {
            "color": "#FF97FF",
            "pattern": {
             "shape": ""
            }
           },
           "name": "RI",
           "offsetgroup": "RI",
           "orientation": "v",
           "showlegend": true,
           "textposition": "auto",
           "type": "bar",
           "x": [
            "RI"
           ],
           "xaxis": "x",
           "y": [
            185974
           ],
           "yaxis": "y"
          },
          {
           "alignmentgroup": "True",
           "hovertemplate": "state=%{x}<br>year=2019<br>btu_state=%{y}<extra></extra>",
           "legendgroup": "SC",
           "marker": {
            "color": "#FECB52",
            "pattern": {
             "shape": ""
            }
           },
           "name": "SC",
           "offsetgroup": "SC",
           "orientation": "v",
           "showlegend": true,
           "textposition": "auto",
           "type": "bar",
           "x": [
            "SC"
           ],
           "xaxis": "x",
           "y": [
            893149
           ],
           "yaxis": "y"
          },
          {
           "alignmentgroup": "True",
           "hovertemplate": "state=%{x}<br>year=2019<br>btu_state=%{y}<extra></extra>",
           "legendgroup": "SD",
           "marker": {
            "color": "#636efa",
            "pattern": {
             "shape": ""
            }
           },
           "name": "SD",
           "offsetgroup": "SD",
           "orientation": "v",
           "showlegend": true,
           "textposition": "auto",
           "type": "bar",
           "x": [
            "SD"
           ],
           "xaxis": "x",
           "y": [
            206018
           ],
           "yaxis": "y"
          },
          {
           "alignmentgroup": "True",
           "hovertemplate": "state=%{x}<br>year=2019<br>btu_state=%{y}<extra></extra>",
           "legendgroup": "TN",
           "marker": {
            "color": "#EF553B",
            "pattern": {
             "shape": ""
            }
           },
           "name": "TN",
           "offsetgroup": "TN",
           "orientation": "v",
           "showlegend": true,
           "textposition": "auto",
           "type": "bar",
           "x": [
            "TN"
           ],
           "xaxis": "x",
           "y": [
            1307085
           ],
           "yaxis": "y"
          },
          {
           "alignmentgroup": "True",
           "hovertemplate": "state=%{x}<br>year=2019<br>btu_state=%{y}<extra></extra>",
           "legendgroup": "TX",
           "marker": {
            "color": "#00cc96",
            "pattern": {
             "shape": ""
            }
           },
           "name": "TX",
           "offsetgroup": "TX",
           "orientation": "v",
           "showlegend": true,
           "textposition": "auto",
           "type": "bar",
           "x": [
            "TX"
           ],
           "xaxis": "x",
           "y": [
            4389879
           ],
           "yaxis": "y"
          },
          {
           "alignmentgroup": "True",
           "hovertemplate": "state=%{x}<br>year=2019<br>btu_state=%{y}<extra></extra>",
           "legendgroup": "UT",
           "marker": {
            "color": "#ab63fa",
            "pattern": {
             "shape": ""
            }
           },
           "name": "UT",
           "offsetgroup": "UT",
           "orientation": "v",
           "showlegend": true,
           "textposition": "auto",
           "type": "bar",
           "x": [
            "UT"
           ],
           "xaxis": "x",
           "y": [
            513166
           ],
           "yaxis": "y"
          },
          {
           "alignmentgroup": "True",
           "hovertemplate": "state=%{x}<br>year=2019<br>btu_state=%{y}<extra></extra>",
           "legendgroup": "VA",
           "marker": {
            "color": "#FFA15A",
            "pattern": {
             "shape": ""
            }
           },
           "name": "VA",
           "offsetgroup": "VA",
           "orientation": "v",
           "showlegend": true,
           "textposition": "auto",
           "type": "bar",
           "x": [
            "VA"
           ],
           "xaxis": "x",
           "y": [
            1476908
           ],
           "yaxis": "y"
          },
          {
           "alignmentgroup": "True",
           "hovertemplate": "state=%{x}<br>year=2019<br>btu_state=%{y}<extra></extra>",
           "legendgroup": "VT",
           "marker": {
            "color": "#19d3f3",
            "pattern": {
             "shape": ""
            }
           },
           "name": "VT",
           "offsetgroup": "VT",
           "orientation": "v",
           "showlegend": true,
           "textposition": "auto",
           "type": "bar",
           "x": [
            "VT"
           ],
           "xaxis": "x",
           "y": [
            183121
           ],
           "yaxis": "y"
          },
          {
           "alignmentgroup": "True",
           "hovertemplate": "state=%{x}<br>year=2019<br>btu_state=%{y}<extra></extra>",
           "legendgroup": "WA",
           "marker": {
            "color": "#FF6692",
            "pattern": {
             "shape": ""
            }
           },
           "name": "WA",
           "offsetgroup": "WA",
           "orientation": "v",
           "showlegend": true,
           "textposition": "auto",
           "type": "bar",
           "x": [
            "WA"
           ],
           "xaxis": "x",
           "y": [
            1323263
           ],
           "yaxis": "y"
          },
          {
           "alignmentgroup": "True",
           "hovertemplate": "state=%{x}<br>year=2019<br>btu_state=%{y}<extra></extra>",
           "legendgroup": "WI",
           "marker": {
            "color": "#B6E880",
            "pattern": {
             "shape": ""
            }
           },
           "name": "WI",
           "offsetgroup": "WI",
           "orientation": "v",
           "showlegend": true,
           "textposition": "auto",
           "type": "bar",
           "x": [
            "WI"
           ],
           "xaxis": "x",
           "y": [
            1297600
           ],
           "yaxis": "y"
          },
          {
           "alignmentgroup": "True",
           "hovertemplate": "state=%{x}<br>year=2019<br>btu_state=%{y}<extra></extra>",
           "legendgroup": "WV",
           "marker": {
            "color": "#FF97FF",
            "pattern": {
             "shape": ""
            }
           },
           "name": "WV",
           "offsetgroup": "WV",
           "orientation": "v",
           "showlegend": true,
           "textposition": "auto",
           "type": "bar",
           "x": [
            "WV"
           ],
           "xaxis": "x",
           "y": [
            407865
           ],
           "yaxis": "y"
          },
          {
           "alignmentgroup": "True",
           "hovertemplate": "state=%{x}<br>year=2019<br>btu_state=%{y}<extra></extra>",
           "legendgroup": "WY",
           "marker": {
            "color": "#FECB52",
            "pattern": {
             "shape": ""
            }
           },
           "name": "WY",
           "offsetgroup": "WY",
           "orientation": "v",
           "showlegend": true,
           "textposition": "auto",
           "type": "bar",
           "x": [
            "WY"
           ],
           "xaxis": "x",
           "y": [
            152236
           ],
           "yaxis": "y"
          }
         ],
         "name": "2019"
        },
        {
         "data": [
          {
           "alignmentgroup": "True",
           "hovertemplate": "state=%{x}<br>year=2020<br>btu_state=%{y}<extra></extra>",
           "legendgroup": "AK",
           "marker": {
            "color": "#636efa",
            "pattern": {
             "shape": ""
            }
           },
           "name": "AK",
           "offsetgroup": "AK",
           "orientation": "v",
           "showlegend": true,
           "textposition": "auto",
           "type": "bar",
           "x": [
            "AK"
           ],
           "xaxis": "x",
           "y": [
            164524
           ],
           "yaxis": "y"
          },
          {
           "alignmentgroup": "True",
           "hovertemplate": "state=%{x}<br>year=2020<br>btu_state=%{y}<extra></extra>",
           "legendgroup": "AL",
           "marker": {
            "color": "#EF553B",
            "pattern": {
             "shape": ""
            }
           },
           "name": "AL",
           "offsetgroup": "AL",
           "orientation": "v",
           "showlegend": true,
           "textposition": "auto",
           "type": "bar",
           "x": [
            "AL"
           ],
           "xaxis": "x",
           "y": [
            820350
           ],
           "yaxis": "y"
          },
          {
           "alignmentgroup": "True",
           "hovertemplate": "state=%{x}<br>year=2020<br>btu_state=%{y}<extra></extra>",
           "legendgroup": "AR",
           "marker": {
            "color": "#00cc96",
            "pattern": {
             "shape": ""
            }
           },
           "name": "AR",
           "offsetgroup": "AR",
           "orientation": "v",
           "showlegend": true,
           "textposition": "auto",
           "type": "bar",
           "x": [
            "AR"
           ],
           "xaxis": "x",
           "y": [
            550734
           ],
           "yaxis": "y"
          },
          {
           "alignmentgroup": "True",
           "hovertemplate": "state=%{x}<br>year=2020<br>btu_state=%{y}<extra></extra>",
           "legendgroup": "AZ",
           "marker": {
            "color": "#ab63fa",
            "pattern": {
             "shape": ""
            }
           },
           "name": "AZ",
           "offsetgroup": "AZ",
           "orientation": "v",
           "showlegend": true,
           "textposition": "auto",
           "type": "bar",
           "x": [
            "AZ"
           ],
           "xaxis": "x",
           "y": [
            1124069
           ],
           "yaxis": "y"
          },
          {
           "alignmentgroup": "True",
           "hovertemplate": "state=%{x}<br>year=2020<br>btu_state=%{y}<extra></extra>",
           "legendgroup": "CA",
           "marker": {
            "color": "#FFA15A",
            "pattern": {
             "shape": ""
            }
           },
           "name": "CA",
           "offsetgroup": "CA",
           "orientation": "v",
           "showlegend": true,
           "textposition": "auto",
           "type": "bar",
           "x": [
            "CA"
           ],
           "xaxis": "x",
           "y": [
            4156803
           ],
           "yaxis": "y"
          },
          {
           "alignmentgroup": "True",
           "hovertemplate": "state=%{x}<br>year=2020<br>btu_state=%{y}<extra></extra>",
           "legendgroup": "CO",
           "marker": {
            "color": "#19d3f3",
            "pattern": {
             "shape": ""
            }
           },
           "name": "CO",
           "offsetgroup": "CO",
           "orientation": "v",
           "showlegend": true,
           "textposition": "auto",
           "type": "bar",
           "x": [
            "CO"
           ],
           "xaxis": "x",
           "y": [
            1038150
           ],
           "yaxis": "y"
          },
          {
           "alignmentgroup": "True",
           "hovertemplate": "state=%{x}<br>year=2020<br>btu_state=%{y}<extra></extra>",
           "legendgroup": "CT",
           "marker": {
            "color": "#FF6692",
            "pattern": {
             "shape": ""
            }
           },
           "name": "CT",
           "offsetgroup": "CT",
           "orientation": "v",
           "showlegend": true,
           "textposition": "auto",
           "type": "bar",
           "x": [
            "CT"
           ],
           "xaxis": "x",
           "y": [
            689860
           ],
           "yaxis": "y"
          },
          {
           "alignmentgroup": "True",
           "hovertemplate": "state=%{x}<br>year=2020<br>btu_state=%{y}<extra></extra>",
           "legendgroup": "DE",
           "marker": {
            "color": "#B6E880",
            "pattern": {
             "shape": ""
            }
           },
           "name": "DE",
           "offsetgroup": "DE",
           "orientation": "v",
           "showlegend": true,
           "textposition": "auto",
           "type": "bar",
           "x": [
            "DE"
           ],
           "xaxis": "x",
           "y": [
            168064
           ],
           "yaxis": "y"
          },
          {
           "alignmentgroup": "True",
           "hovertemplate": "state=%{x}<br>year=2020<br>btu_state=%{y}<extra></extra>",
           "legendgroup": "FL",
           "marker": {
            "color": "#FF97FF",
            "pattern": {
             "shape": ""
            }
           },
           "name": "FL",
           "offsetgroup": "FL",
           "orientation": "v",
           "showlegend": true,
           "textposition": "auto",
           "type": "bar",
           "x": [
            "FL"
           ],
           "xaxis": "x",
           "y": [
            3014733
           ],
           "yaxis": "y"
          },
          {
           "alignmentgroup": "True",
           "hovertemplate": "state=%{x}<br>year=2020<br>btu_state=%{y}<extra></extra>",
           "legendgroup": "GA",
           "marker": {
            "color": "#FECB52",
            "pattern": {
             "shape": ""
            }
           },
           "name": "GA",
           "offsetgroup": "GA",
           "orientation": "v",
           "showlegend": true,
           "textposition": "auto",
           "type": "bar",
           "x": [
            "GA"
           ],
           "xaxis": "x",
           "y": [
            1733732
           ],
           "yaxis": "y"
          },
          {
           "alignmentgroup": "True",
           "hovertemplate": "state=%{x}<br>year=2020<br>btu_state=%{y}<extra></extra>",
           "legendgroup": "HI",
           "marker": {
            "color": "#636efa",
            "pattern": {
             "shape": ""
            }
           },
           "name": "HI",
           "offsetgroup": "HI",
           "orientation": "v",
           "showlegend": true,
           "textposition": "auto",
           "type": "bar",
           "x": [
            "HI"
           ],
           "xaxis": "x",
           "y": [
            102936
           ],
           "yaxis": "y"
          },
          {
           "alignmentgroup": "True",
           "hovertemplate": "state=%{x}<br>year=2020<br>btu_state=%{y}<extra></extra>",
           "legendgroup": "IA",
           "marker": {
            "color": "#EF553B",
            "pattern": {
             "shape": ""
            }
           },
           "name": "IA",
           "offsetgroup": "IA",
           "orientation": "v",
           "showlegend": true,
           "textposition": "auto",
           "type": "bar",
           "x": [
            "IA"
           ],
           "xaxis": "x",
           "y": [
            674190
           ],
           "yaxis": "y"
          },
          {
           "alignmentgroup": "True",
           "hovertemplate": "state=%{x}<br>year=2020<br>btu_state=%{y}<extra></extra>",
           "legendgroup": "ID",
           "marker": {
            "color": "#00cc96",
            "pattern": {
             "shape": ""
            }
           },
           "name": "ID",
           "offsetgroup": "ID",
           "orientation": "v",
           "showlegend": true,
           "textposition": "auto",
           "type": "bar",
           "x": [
            "ID"
           ],
           "xaxis": "x",
           "y": [
            369315
           ],
           "yaxis": "y"
          },
          {
           "alignmentgroup": "True",
           "hovertemplate": "state=%{x}<br>year=2020<br>btu_state=%{y}<extra></extra>",
           "legendgroup": "IL",
           "marker": {
            "color": "#ab63fa",
            "pattern": {
             "shape": ""
            }
           },
           "name": "IL",
           "offsetgroup": "IL",
           "orientation": "v",
           "showlegend": true,
           "textposition": "auto",
           "type": "bar",
           "x": [
            "IL"
           ],
           "xaxis": "x",
           "y": [
            2554745
           ],
           "yaxis": "y"
          },
          {
           "alignmentgroup": "True",
           "hovertemplate": "state=%{x}<br>year=2020<br>btu_state=%{y}<extra></extra>",
           "legendgroup": "IN",
           "marker": {
            "color": "#FFA15A",
            "pattern": {
             "shape": ""
            }
           },
           "name": "IN",
           "offsetgroup": "IN",
           "orientation": "v",
           "showlegend": true,
           "textposition": "auto",
           "type": "bar",
           "x": [
            "IN"
           ],
           "xaxis": "x",
           "y": [
            1355609
           ],
           "yaxis": "y"
          },
          {
           "alignmentgroup": "True",
           "hovertemplate": "state=%{x}<br>year=2020<br>btu_state=%{y}<extra></extra>",
           "legendgroup": "KS",
           "marker": {
            "color": "#19d3f3",
            "pattern": {
             "shape": ""
            }
           },
           "name": "KS",
           "offsetgroup": "KS",
           "orientation": "v",
           "showlegend": true,
           "textposition": "auto",
           "type": "bar",
           "x": [
            "KS"
           ],
           "xaxis": "x",
           "y": [
            579861
           ],
           "yaxis": "y"
          },
          {
           "alignmentgroup": "True",
           "hovertemplate": "state=%{x}<br>year=2020<br>btu_state=%{y}<extra></extra>",
           "legendgroup": "KY",
           "marker": {
            "color": "#FF6692",
            "pattern": {
             "shape": ""
            }
           },
           "name": "KY",
           "offsetgroup": "KY",
           "orientation": "v",
           "showlegend": true,
           "textposition": "auto",
           "type": "bar",
           "x": [
            "KY"
           ],
           "xaxis": "x",
           "y": [
            838866
           ],
           "yaxis": "y"
          },
          {
           "alignmentgroup": "True",
           "hovertemplate": "state=%{x}<br>year=2020<br>btu_state=%{y}<extra></extra>",
           "legendgroup": "LA",
           "marker": {
            "color": "#B6E880",
            "pattern": {
             "shape": ""
            }
           },
           "name": "LA",
           "offsetgroup": "LA",
           "orientation": "v",
           "showlegend": true,
           "textposition": "auto",
           "type": "bar",
           "x": [
            "LA"
           ],
           "xaxis": "x",
           "y": [
            752344
           ],
           "yaxis": "y"
          },
          {
           "alignmentgroup": "True",
           "hovertemplate": "state=%{x}<br>year=2020<br>btu_state=%{y}<extra></extra>",
           "legendgroup": "MA",
           "marker": {
            "color": "#FF97FF",
            "pattern": {
             "shape": ""
            }
           },
           "name": "MA",
           "offsetgroup": "MA",
           "orientation": "v",
           "showlegend": true,
           "textposition": "auto",
           "type": "bar",
           "x": [
            "MA"
           ],
           "xaxis": "x",
           "y": [
            1210846
           ],
           "yaxis": "y"
          },
          {
           "alignmentgroup": "True",
           "hovertemplate": "state=%{x}<br>year=2020<br>btu_state=%{y}<extra></extra>",
           "legendgroup": "MD",
           "marker": {
            "color": "#FECB52",
            "pattern": {
             "shape": ""
            }
           },
           "name": "MD",
           "offsetgroup": "MD",
           "orientation": "v",
           "showlegend": true,
           "textposition": "auto",
           "type": "bar",
           "x": [
            "MD"
           ],
           "xaxis": "x",
           "y": [
            1002374
           ],
           "yaxis": "y"
          },
          {
           "alignmentgroup": "True",
           "hovertemplate": "state=%{x}<br>year=2020<br>btu_state=%{y}<extra></extra>",
           "legendgroup": "ME",
           "marker": {
            "color": "#636efa",
            "pattern": {
             "shape": ""
            }
           },
           "name": "ME",
           "offsetgroup": "ME",
           "orientation": "v",
           "showlegend": true,
           "textposition": "auto",
           "type": "bar",
           "x": [
            "ME"
           ],
           "xaxis": "x",
           "y": [
            343249
           ],
           "yaxis": "y"
          },
          {
           "alignmentgroup": "True",
           "hovertemplate": "state=%{x}<br>year=2020<br>btu_state=%{y}<extra></extra>",
           "legendgroup": "MI",
           "marker": {
            "color": "#EF553B",
            "pattern": {
             "shape": ""
            }
           },
           "name": "MI",
           "offsetgroup": "MI",
           "orientation": "v",
           "showlegend": true,
           "textposition": "auto",
           "type": "bar",
           "x": [
            "MI"
           ],
           "xaxis": "x",
           "y": [
            2172583
           ],
           "yaxis": "y"
          },
          {
           "alignmentgroup": "True",
           "hovertemplate": "state=%{x}<br>year=2020<br>btu_state=%{y}<extra></extra>",
           "legendgroup": "MN",
           "marker": {
            "color": "#00cc96",
            "pattern": {
             "shape": ""
            }
           },
           "name": "MN",
           "offsetgroup": "MN",
           "orientation": "v",
           "showlegend": true,
           "textposition": "auto",
           "type": "bar",
           "x": [
            "MN"
           ],
           "xaxis": "x",
           "y": [
            1163133
           ],
           "yaxis": "y"
          },
          {
           "alignmentgroup": "True",
           "hovertemplate": "state=%{x}<br>year=2020<br>btu_state=%{y}<extra></extra>",
           "legendgroup": "MO",
           "marker": {
            "color": "#ab63fa",
            "pattern": {
             "shape": ""
            }
           },
           "name": "MO",
           "offsetgroup": "MO",
           "orientation": "v",
           "showlegend": true,
           "textposition": "auto",
           "type": "bar",
           "x": [
            "MO"
           ],
           "xaxis": "x",
           "y": [
            1317834
           ],
           "yaxis": "y"
          },
          {
           "alignmentgroup": "True",
           "hovertemplate": "state=%{x}<br>year=2020<br>btu_state=%{y}<extra></extra>",
           "legendgroup": "MS",
           "marker": {
            "color": "#FFA15A",
            "pattern": {
             "shape": ""
            }
           },
           "name": "MS",
           "offsetgroup": "MS",
           "orientation": "v",
           "showlegend": true,
           "textposition": "auto",
           "type": "bar",
           "x": [
            "MS"
           ],
           "xaxis": "x",
           "y": [
            460110
           ],
           "yaxis": "y"
          },
          {
           "alignmentgroup": "True",
           "hovertemplate": "state=%{x}<br>year=2020<br>btu_state=%{y}<extra></extra>",
           "legendgroup": "MT",
           "marker": {
            "color": "#19d3f3",
            "pattern": {
             "shape": ""
            }
           },
           "name": "MT",
           "offsetgroup": "MT",
           "orientation": "v",
           "showlegend": true,
           "textposition": "auto",
           "type": "bar",
           "x": [
            "MT"
           ],
           "xaxis": "x",
           "y": [
            292536
           ],
           "yaxis": "y"
          },
          {
           "alignmentgroup": "True",
           "hovertemplate": "state=%{x}<br>year=2020<br>btu_state=%{y}<extra></extra>",
           "legendgroup": "NC",
           "marker": {
            "color": "#FF6692",
            "pattern": {
             "shape": ""
            }
           },
           "name": "NC",
           "offsetgroup": "NC",
           "orientation": "v",
           "showlegend": true,
           "textposition": "auto",
           "type": "bar",
           "x": [
            "NC"
           ],
           "xaxis": "x",
           "y": [
            1686248
           ],
           "yaxis": "y"
          },
          {
           "alignmentgroup": "True",
           "hovertemplate": "state=%{x}<br>year=2020<br>btu_state=%{y}<extra></extra>",
           "legendgroup": "ND",
           "marker": {
            "color": "#B6E880",
            "pattern": {
             "shape": ""
            }
           },
           "name": "ND",
           "offsetgroup": "ND",
           "orientation": "v",
           "showlegend": true,
           "textposition": "auto",
           "type": "bar",
           "x": [
            "ND"
           ],
           "xaxis": "x",
           "y": [
            180884
           ],
           "yaxis": "y"
          },
          {
           "alignmentgroup": "True",
           "hovertemplate": "state=%{x}<br>year=2020<br>btu_state=%{y}<extra></extra>",
           "legendgroup": "NE",
           "marker": {
            "color": "#FF97FF",
            "pattern": {
             "shape": ""
            }
           },
           "name": "NE",
           "offsetgroup": "NE",
           "orientation": "v",
           "showlegend": true,
           "textposition": "auto",
           "type": "bar",
           "x": [
            "NE"
           ],
           "xaxis": "x",
           "y": [
            420699
           ],
           "yaxis": "y"
          },
          {
           "alignmentgroup": "True",
           "hovertemplate": "state=%{x}<br>year=2020<br>btu_state=%{y}<extra></extra>",
           "legendgroup": "NH",
           "marker": {
            "color": "#FECB52",
            "pattern": {
             "shape": ""
            }
           },
           "name": "NH",
           "offsetgroup": "NH",
           "orientation": "v",
           "showlegend": true,
           "textposition": "auto",
           "type": "bar",
           "x": [
            "NH"
           ],
           "xaxis": "x",
           "y": [
            326000
           ],
           "yaxis": "y"
          },
          {
           "alignmentgroup": "True",
           "hovertemplate": "state=%{x}<br>year=2020<br>btu_state=%{y}<extra></extra>",
           "legendgroup": "NJ",
           "marker": {
            "color": "#636efa",
            "pattern": {
             "shape": ""
            }
           },
           "name": "NJ",
           "offsetgroup": "NJ",
           "orientation": "v",
           "showlegend": true,
           "textposition": "auto",
           "type": "bar",
           "x": [
            "NJ"
           ],
           "xaxis": "x",
           "y": [
            1533654
           ],
           "yaxis": "y"
          },
          {
           "alignmentgroup": "True",
           "hovertemplate": "state=%{x}<br>year=2020<br>btu_state=%{y}<extra></extra>",
           "legendgroup": "NM",
           "marker": {
            "color": "#EF553B",
            "pattern": {
             "shape": ""
            }
           },
           "name": "NM",
           "offsetgroup": "NM",
           "orientation": "v",
           "showlegend": true,
           "textposition": "auto",
           "type": "bar",
           "x": [
            "NM"
           ],
           "xaxis": "x",
           "y": [
            354336
           ],
           "yaxis": "y"
          },
          {
           "alignmentgroup": "True",
           "hovertemplate": "state=%{x}<br>year=2020<br>btu_state=%{y}<extra></extra>",
           "legendgroup": "NV",
           "marker": {
            "color": "#00cc96",
            "pattern": {
             "shape": ""
            }
           },
           "name": "NV",
           "offsetgroup": "NV",
           "orientation": "v",
           "showlegend": true,
           "textposition": "auto",
           "type": "bar",
           "x": [
            "NV"
           ],
           "xaxis": "x",
           "y": [
            494563
           ],
           "yaxis": "y"
          },
          {
           "alignmentgroup": "True",
           "hovertemplate": "state=%{x}<br>year=2020<br>btu_state=%{y}<extra></extra>",
           "legendgroup": "NY",
           "marker": {
            "color": "#ab63fa",
            "pattern": {
             "shape": ""
            }
           },
           "name": "NY",
           "offsetgroup": "NY",
           "orientation": "v",
           "showlegend": true,
           "textposition": "auto",
           "type": "bar",
           "x": [
            "NY"
           ],
           "xaxis": "x",
           "y": [
            3100864
           ],
           "yaxis": "y"
          },
          {
           "alignmentgroup": "True",
           "hovertemplate": "state=%{x}<br>year=2020<br>btu_state=%{y}<extra></extra>",
           "legendgroup": "OH",
           "marker": {
            "color": "#FFA15A",
            "pattern": {
             "shape": ""
            }
           },
           "name": "OH",
           "offsetgroup": "OH",
           "orientation": "v",
           "showlegend": true,
           "textposition": "auto",
           "type": "bar",
           "x": [
            "OH"
           ],
           "xaxis": "x",
           "y": [
            2273014
           ],
           "yaxis": "y"
          },
          {
           "alignmentgroup": "True",
           "hovertemplate": "state=%{x}<br>year=2020<br>btu_state=%{y}<extra></extra>",
           "legendgroup": "OK",
           "marker": {
            "color": "#19d3f3",
            "pattern": {
             "shape": ""
            }
           },
           "name": "OK",
           "offsetgroup": "OK",
           "orientation": "v",
           "showlegend": true,
           "textposition": "auto",
           "type": "bar",
           "x": [
            "OK"
           ],
           "xaxis": "x",
           "y": [
            737300
           ],
           "yaxis": "y"
          },
          {
           "alignmentgroup": "True",
           "hovertemplate": "state=%{x}<br>year=2020<br>btu_state=%{y}<extra></extra>",
           "legendgroup": "OR",
           "marker": {
            "color": "#FF6692",
            "pattern": {
             "shape": ""
            }
           },
           "name": "OR",
           "offsetgroup": "OR",
           "orientation": "v",
           "showlegend": true,
           "textposition": "auto",
           "type": "bar",
           "x": [
            "OR"
           ],
           "xaxis": "x",
           "y": [
            671869
           ],
           "yaxis": "y"
          },
          {
           "alignmentgroup": "True",
           "hovertemplate": "state=%{x}<br>year=2020<br>btu_state=%{y}<extra></extra>",
           "legendgroup": "PA",
           "marker": {
            "color": "#B6E880",
            "pattern": {
             "shape": ""
            }
           },
           "name": "PA",
           "offsetgroup": "PA",
           "orientation": "v",
           "showlegend": true,
           "textposition": "auto",
           "type": "bar",
           "x": [
            "PA"
           ],
           "xaxis": "x",
           "y": [
            2361807
           ],
           "yaxis": "y"
          },
          {
           "alignmentgroup": "True",
           "hovertemplate": "state=%{x}<br>year=2020<br>btu_state=%{y}<extra></extra>",
           "legendgroup": "RI",
           "marker": {
            "color": "#FF97FF",
            "pattern": {
             "shape": ""
            }
           },
           "name": "RI",
           "offsetgroup": "RI",
           "orientation": "v",
           "showlegend": true,
           "textposition": "auto",
           "type": "bar",
           "x": [
            "RI"
           ],
           "xaxis": "x",
           "y": [
            176786
           ],
           "yaxis": "y"
          },
          {
           "alignmentgroup": "True",
           "hovertemplate": "state=%{x}<br>year=2020<br>btu_state=%{y}<extra></extra>",
           "legendgroup": "SC",
           "marker": {
            "color": "#FECB52",
            "pattern": {
             "shape": ""
            }
           },
           "name": "SC",
           "offsetgroup": "SC",
           "orientation": "v",
           "showlegend": true,
           "textposition": "auto",
           "type": "bar",
           "x": [
            "SC"
           ],
           "xaxis": "x",
           "y": [
            876666
           ],
           "yaxis": "y"
          },
          {
           "alignmentgroup": "True",
           "hovertemplate": "state=%{x}<br>year=2020<br>btu_state=%{y}<extra></extra>",
           "legendgroup": "SD",
           "marker": {
            "color": "#636efa",
            "pattern": {
             "shape": ""
            }
           },
           "name": "SD",
           "offsetgroup": "SD",
           "orientation": "v",
           "showlegend": true,
           "textposition": "auto",
           "type": "bar",
           "x": [
            "SD"
           ],
           "xaxis": "x",
           "y": [
            189069
           ],
           "yaxis": "y"
          },
          {
           "alignmentgroup": "True",
           "hovertemplate": "state=%{x}<br>year=2020<br>btu_state=%{y}<extra></extra>",
           "legendgroup": "TN",
           "marker": {
            "color": "#EF553B",
            "pattern": {
             "shape": ""
            }
           },
           "name": "TN",
           "offsetgroup": "TN",
           "orientation": "v",
           "showlegend": true,
           "textposition": "auto",
           "type": "bar",
           "x": [
            "TN"
           ],
           "xaxis": "x",
           "y": [
            1240078
           ],
           "yaxis": "y"
          },
          {
           "alignmentgroup": "True",
           "hovertemplate": "state=%{x}<br>year=2020<br>btu_state=%{y}<extra></extra>",
           "legendgroup": "TX",
           "marker": {
            "color": "#00cc96",
            "pattern": {
             "shape": ""
            }
           },
           "name": "TX",
           "offsetgroup": "TX",
           "orientation": "v",
           "showlegend": true,
           "textposition": "auto",
           "type": "bar",
           "x": [
            "TX"
           ],
           "xaxis": "x",
           "y": [
            4312707
           ],
           "yaxis": "y"
          },
          {
           "alignmentgroup": "True",
           "hovertemplate": "state=%{x}<br>year=2020<br>btu_state=%{y}<extra></extra>",
           "legendgroup": "UT",
           "marker": {
            "color": "#ab63fa",
            "pattern": {
             "shape": ""
            }
           },
           "name": "UT",
           "offsetgroup": "UT",
           "orientation": "v",
           "showlegend": true,
           "textposition": "auto",
           "type": "bar",
           "x": [
            "UT"
           ],
           "xaxis": "x",
           "y": [
            518295
           ],
           "yaxis": "y"
          },
          {
           "alignmentgroup": "True",
           "hovertemplate": "state=%{x}<br>year=2020<br>btu_state=%{y}<extra></extra>",
           "legendgroup": "VA",
           "marker": {
            "color": "#FFA15A",
            "pattern": {
             "shape": ""
            }
           },
           "name": "VA",
           "offsetgroup": "VA",
           "orientation": "v",
           "showlegend": true,
           "textposition": "auto",
           "type": "bar",
           "x": [
            "VA"
           ],
           "xaxis": "x",
           "y": [
            1423038
           ],
           "yaxis": "y"
          },
          {
           "alignmentgroup": "True",
           "hovertemplate": "state=%{x}<br>year=2020<br>btu_state=%{y}<extra></extra>",
           "legendgroup": "VT",
           "marker": {
            "color": "#19d3f3",
            "pattern": {
             "shape": ""
            }
           },
           "name": "VT",
           "offsetgroup": "VT",
           "orientation": "v",
           "showlegend": true,
           "textposition": "auto",
           "type": "bar",
           "x": [
            "VT"
           ],
           "xaxis": "x",
           "y": [
            165490
           ],
           "yaxis": "y"
          },
          {
           "alignmentgroup": "True",
           "hovertemplate": "state=%{x}<br>year=2020<br>btu_state=%{y}<extra></extra>",
           "legendgroup": "WA",
           "marker": {
            "color": "#FF6692",
            "pattern": {
             "shape": ""
            }
           },
           "name": "WA",
           "offsetgroup": "WA",
           "orientation": "v",
           "showlegend": true,
           "textposition": "auto",
           "type": "bar",
           "x": [
            "WA"
           ],
           "xaxis": "x",
           "y": [
            1239440
           ],
           "yaxis": "y"
          },
          {
           "alignmentgroup": "True",
           "hovertemplate": "state=%{x}<br>year=2020<br>btu_state=%{y}<extra></extra>",
           "legendgroup": "WI",
           "marker": {
            "color": "#B6E880",
            "pattern": {
             "shape": ""
            }
           },
           "name": "WI",
           "offsetgroup": "WI",
           "orientation": "v",
           "showlegend": true,
           "textposition": "auto",
           "type": "bar",
           "x": [
            "WI"
           ],
           "xaxis": "x",
           "y": [
            1225445
           ],
           "yaxis": "y"
          },
          {
           "alignmentgroup": "True",
           "hovertemplate": "state=%{x}<br>year=2020<br>btu_state=%{y}<extra></extra>",
           "legendgroup": "WV",
           "marker": {
            "color": "#FF97FF",
            "pattern": {
             "shape": ""
            }
           },
           "name": "WV",
           "offsetgroup": "WV",
           "orientation": "v",
           "showlegend": true,
           "textposition": "auto",
           "type": "bar",
           "x": [
            "WV"
           ],
           "xaxis": "x",
           "y": [
            394968
           ],
           "yaxis": "y"
          },
          {
           "alignmentgroup": "True",
           "hovertemplate": "state=%{x}<br>year=2020<br>btu_state=%{y}<extra></extra>",
           "legendgroup": "WY",
           "marker": {
            "color": "#FECB52",
            "pattern": {
             "shape": ""
            }
           },
           "name": "WY",
           "offsetgroup": "WY",
           "orientation": "v",
           "showlegend": true,
           "textposition": "auto",
           "type": "bar",
           "x": [
            "WY"
           ],
           "xaxis": "x",
           "y": [
            145799
           ],
           "yaxis": "y"
          }
         ],
         "name": "2020"
        },
        {
         "data": [
          {
           "alignmentgroup": "True",
           "hovertemplate": "state=%{x}<br>year=2021<br>btu_state=%{y}<extra></extra>",
           "legendgroup": "AK",
           "marker": {
            "color": "#636efa",
            "pattern": {
             "shape": ""
            }
           },
           "name": "AK",
           "offsetgroup": "AK",
           "orientation": "v",
           "showlegend": true,
           "textposition": "auto",
           "type": "bar",
           "x": [
            "AK"
           ],
           "xaxis": "x",
           "y": [
            168553
           ],
           "yaxis": "y"
          },
          {
           "alignmentgroup": "True",
           "hovertemplate": "state=%{x}<br>year=2021<br>btu_state=%{y}<extra></extra>",
           "legendgroup": "AL",
           "marker": {
            "color": "#EF553B",
            "pattern": {
             "shape": ""
            }
           },
           "name": "AL",
           "offsetgroup": "AL",
           "orientation": "v",
           "showlegend": true,
           "textposition": "auto",
           "type": "bar",
           "x": [
            "AL"
           ],
           "xaxis": "x",
           "y": [
            837413
           ],
           "yaxis": "y"
          },
          {
           "alignmentgroup": "True",
           "hovertemplate": "state=%{x}<br>year=2021<br>btu_state=%{y}<extra></extra>",
           "legendgroup": "AR",
           "marker": {
            "color": "#00cc96",
            "pattern": {
             "shape": ""
            }
           },
           "name": "AR",
           "offsetgroup": "AR",
           "orientation": "v",
           "showlegend": true,
           "textposition": "auto",
           "type": "bar",
           "x": [
            "AR"
           ],
           "xaxis": "x",
           "y": [
            575725
           ],
           "yaxis": "y"
          },
          {
           "alignmentgroup": "True",
           "hovertemplate": "state=%{x}<br>year=2021<br>btu_state=%{y}<extra></extra>",
           "legendgroup": "AZ",
           "marker": {
            "color": "#ab63fa",
            "pattern": {
             "shape": ""
            }
           },
           "name": "AZ",
           "offsetgroup": "AZ",
           "orientation": "v",
           "showlegend": true,
           "textposition": "auto",
           "type": "bar",
           "x": [
            "AZ"
           ],
           "xaxis": "x",
           "y": [
            1093190
           ],
           "yaxis": "y"
          },
          {
           "alignmentgroup": "True",
           "hovertemplate": "state=%{x}<br>year=2021<br>btu_state=%{y}<extra></extra>",
           "legendgroup": "CA",
           "marker": {
            "color": "#FFA15A",
            "pattern": {
             "shape": ""
            }
           },
           "name": "CA",
           "offsetgroup": "CA",
           "orientation": "v",
           "showlegend": true,
           "textposition": "auto",
           "type": "bar",
           "x": [
            "CA"
           ],
           "xaxis": "x",
           "y": [
            4096690
           ],
           "yaxis": "y"
          },
          {
           "alignmentgroup": "True",
           "hovertemplate": "state=%{x}<br>year=2021<br>btu_state=%{y}<extra></extra>",
           "legendgroup": "CO",
           "marker": {
            "color": "#19d3f3",
            "pattern": {
             "shape": ""
            }
           },
           "name": "CO",
           "offsetgroup": "CO",
           "orientation": "v",
           "showlegend": true,
           "textposition": "auto",
           "type": "bar",
           "x": [
            "CO"
           ],
           "xaxis": "x",
           "y": [
            1041909
           ],
           "yaxis": "y"
          },
          {
           "alignmentgroup": "True",
           "hovertemplate": "state=%{x}<br>year=2021<br>btu_state=%{y}<extra></extra>",
           "legendgroup": "CT",
           "marker": {
            "color": "#FF6692",
            "pattern": {
             "shape": ""
            }
           },
           "name": "CT",
           "offsetgroup": "CT",
           "orientation": "v",
           "showlegend": true,
           "textposition": "auto",
           "type": "bar",
           "x": [
            "CT"
           ],
           "xaxis": "x",
           "y": [
            730047
           ],
           "yaxis": "y"
          },
          {
           "alignmentgroup": "True",
           "hovertemplate": "state=%{x}<br>year=2021<br>btu_state=%{y}<extra></extra>",
           "legendgroup": "DE",
           "marker": {
            "color": "#B6E880",
            "pattern": {
             "shape": ""
            }
           },
           "name": "DE",
           "offsetgroup": "DE",
           "orientation": "v",
           "showlegend": true,
           "textposition": "auto",
           "type": "bar",
           "x": [
            "DE"
           ],
           "xaxis": "x",
           "y": [
            184034
           ],
           "yaxis": "y"
          },
          {
           "alignmentgroup": "True",
           "hovertemplate": "state=%{x}<br>year=2021<br>btu_state=%{y}<extra></extra>",
           "legendgroup": "FL",
           "marker": {
            "color": "#FF97FF",
            "pattern": {
             "shape": ""
            }
           },
           "name": "FL",
           "offsetgroup": "FL",
           "orientation": "v",
           "showlegend": true,
           "textposition": "auto",
           "type": "bar",
           "x": [
            "FL"
           ],
           "xaxis": "x",
           "y": [
            3003120
           ],
           "yaxis": "y"
          },
          {
           "alignmentgroup": "True",
           "hovertemplate": "state=%{x}<br>year=2021<br>btu_state=%{y}<extra></extra>",
           "legendgroup": "GA",
           "marker": {
            "color": "#FECB52",
            "pattern": {
             "shape": ""
            }
           },
           "name": "GA",
           "offsetgroup": "GA",
           "orientation": "v",
           "showlegend": true,
           "textposition": "auto",
           "type": "bar",
           "x": [
            "GA"
           ],
           "xaxis": "x",
           "y": [
            1769232
           ],
           "yaxis": "y"
          },
          {
           "alignmentgroup": "True",
           "hovertemplate": "state=%{x}<br>year=2021<br>btu_state=%{y}<extra></extra>",
           "legendgroup": "HI",
           "marker": {
            "color": "#636efa",
            "pattern": {
             "shape": ""
            }
           },
           "name": "HI",
           "offsetgroup": "HI",
           "orientation": "v",
           "showlegend": true,
           "textposition": "auto",
           "type": "bar",
           "x": [
            "HI"
           ],
           "xaxis": "x",
           "y": [
            104464
           ],
           "yaxis": "y"
          },
          {
           "alignmentgroup": "True",
           "hovertemplate": "state=%{x}<br>year=2021<br>btu_state=%{y}<extra></extra>",
           "legendgroup": "IA",
           "marker": {
            "color": "#EF553B",
            "pattern": {
             "shape": ""
            }
           },
           "name": "IA",
           "offsetgroup": "IA",
           "orientation": "v",
           "showlegend": true,
           "textposition": "auto",
           "type": "bar",
           "x": [
            "IA"
           ],
           "xaxis": "x",
           "y": [
            659407
           ],
           "yaxis": "y"
          },
          {
           "alignmentgroup": "True",
           "hovertemplate": "state=%{x}<br>year=2021<br>btu_state=%{y}<extra></extra>",
           "legendgroup": "ID",
           "marker": {
            "color": "#00cc96",
            "pattern": {
             "shape": ""
            }
           },
           "name": "ID",
           "offsetgroup": "ID",
           "orientation": "v",
           "showlegend": true,
           "textposition": "auto",
           "type": "bar",
           "x": [
            "ID"
           ],
           "xaxis": "x",
           "y": [
            386948
           ],
           "yaxis": "y"
          },
          {
           "alignmentgroup": "True",
           "hovertemplate": "state=%{x}<br>year=2021<br>btu_state=%{y}<extra></extra>",
           "legendgroup": "IL",
           "marker": {
            "color": "#ab63fa",
            "pattern": {
             "shape": ""
            }
           },
           "name": "IL",
           "offsetgroup": "IL",
           "orientation": "v",
           "showlegend": true,
           "textposition": "auto",
           "type": "bar",
           "x": [
            "IL"
           ],
           "xaxis": "x",
           "y": [
            2541911
           ],
           "yaxis": "y"
          },
          {
           "alignmentgroup": "True",
           "hovertemplate": "state=%{x}<br>year=2021<br>btu_state=%{y}<extra></extra>",
           "legendgroup": "IN",
           "marker": {
            "color": "#FFA15A",
            "pattern": {
             "shape": ""
            }
           },
           "name": "IN",
           "offsetgroup": "IN",
           "orientation": "v",
           "showlegend": true,
           "textposition": "auto",
           "type": "bar",
           "x": [
            "IN"
           ],
           "xaxis": "x",
           "y": [
            1382720
           ],
           "yaxis": "y"
          },
          {
           "alignmentgroup": "True",
           "hovertemplate": "state=%{x}<br>year=2021<br>btu_state=%{y}<extra></extra>",
           "legendgroup": "KS",
           "marker": {
            "color": "#19d3f3",
            "pattern": {
             "shape": ""
            }
           },
           "name": "KS",
           "offsetgroup": "KS",
           "orientation": "v",
           "showlegend": true,
           "textposition": "auto",
           "type": "bar",
           "x": [
            "KS"
           ],
           "xaxis": "x",
           "y": [
            571078
           ],
           "yaxis": "y"
          },
          {
           "alignmentgroup": "True",
           "hovertemplate": "state=%{x}<br>year=2021<br>btu_state=%{y}<extra></extra>",
           "legendgroup": "KY",
           "marker": {
            "color": "#FF6692",
            "pattern": {
             "shape": ""
            }
           },
           "name": "KY",
           "offsetgroup": "KY",
           "orientation": "v",
           "showlegend": true,
           "textposition": "auto",
           "type": "bar",
           "x": [
            "KY"
           ],
           "xaxis": "x",
           "y": [
            863222
           ],
           "yaxis": "y"
          },
          {
           "alignmentgroup": "True",
           "hovertemplate": "state=%{x}<br>year=2021<br>btu_state=%{y}<extra></extra>",
           "legendgroup": "LA",
           "marker": {
            "color": "#B6E880",
            "pattern": {
             "shape": ""
            }
           },
           "name": "LA",
           "offsetgroup": "LA",
           "orientation": "v",
           "showlegend": true,
           "textposition": "auto",
           "type": "bar",
           "x": [
            "LA"
           ],
           "xaxis": "x",
           "y": [
            783984
           ],
           "yaxis": "y"
          },
          {
           "alignmentgroup": "True",
           "hovertemplate": "state=%{x}<br>year=2021<br>btu_state=%{y}<extra></extra>",
           "legendgroup": "MA",
           "marker": {
            "color": "#FF97FF",
            "pattern": {
             "shape": ""
            }
           },
           "name": "MA",
           "offsetgroup": "MA",
           "orientation": "v",
           "showlegend": true,
           "textposition": "auto",
           "type": "bar",
           "x": [
            "MA"
           ],
           "xaxis": "x",
           "y": [
            1235996
           ],
           "yaxis": "y"
          },
          {
           "alignmentgroup": "True",
           "hovertemplate": "state=%{x}<br>year=2021<br>btu_state=%{y}<extra></extra>",
           "legendgroup": "MD",
           "marker": {
            "color": "#FECB52",
            "pattern": {
             "shape": ""
            }
           },
           "name": "MD",
           "offsetgroup": "MD",
           "orientation": "v",
           "showlegend": true,
           "textposition": "auto",
           "type": "bar",
           "x": [
            "MD"
           ],
           "xaxis": "x",
           "y": [
            1025857
           ],
           "yaxis": "y"
          },
          {
           "alignmentgroup": "True",
           "hovertemplate": "state=%{x}<br>year=2021<br>btu_state=%{y}<extra></extra>",
           "legendgroup": "ME",
           "marker": {
            "color": "#636efa",
            "pattern": {
             "shape": ""
            }
           },
           "name": "ME",
           "offsetgroup": "ME",
           "orientation": "v",
           "showlegend": true,
           "textposition": "auto",
           "type": "bar",
           "x": [
            "ME"
           ],
           "xaxis": "x",
           "y": [
            332710
           ],
           "yaxis": "y"
          },
          {
           "alignmentgroup": "True",
           "hovertemplate": "state=%{x}<br>year=2021<br>btu_state=%{y}<extra></extra>",
           "legendgroup": "MI",
           "marker": {
            "color": "#EF553B",
            "pattern": {
             "shape": ""
            }
           },
           "name": "MI",
           "offsetgroup": "MI",
           "orientation": "v",
           "showlegend": true,
           "textposition": "auto",
           "type": "bar",
           "x": [
            "MI"
           ],
           "xaxis": "x",
           "y": [
            2123854
           ],
           "yaxis": "y"
          },
          {
           "alignmentgroup": "True",
           "hovertemplate": "state=%{x}<br>year=2021<br>btu_state=%{y}<extra></extra>",
           "legendgroup": "MN",
           "marker": {
            "color": "#00cc96",
            "pattern": {
             "shape": ""
            }
           },
           "name": "MN",
           "offsetgroup": "MN",
           "orientation": "v",
           "showlegend": true,
           "textposition": "auto",
           "type": "bar",
           "x": [
            "MN"
           ],
           "xaxis": "x",
           "y": [
            1169119
           ],
           "yaxis": "y"
          },
          {
           "alignmentgroup": "True",
           "hovertemplate": "state=%{x}<br>year=2021<br>btu_state=%{y}<extra></extra>",
           "legendgroup": "MO",
           "marker": {
            "color": "#ab63fa",
            "pattern": {
             "shape": ""
            }
           },
           "name": "MO",
           "offsetgroup": "MO",
           "orientation": "v",
           "showlegend": true,
           "textposition": "auto",
           "type": "bar",
           "x": [
            "MO"
           ],
           "xaxis": "x",
           "y": [
            1325810
           ],
           "yaxis": "y"
          },
          {
           "alignmentgroup": "True",
           "hovertemplate": "state=%{x}<br>year=2021<br>btu_state=%{y}<extra></extra>",
           "legendgroup": "MS",
           "marker": {
            "color": "#FFA15A",
            "pattern": {
             "shape": ""
            }
           },
           "name": "MS",
           "offsetgroup": "MS",
           "orientation": "v",
           "showlegend": true,
           "textposition": "auto",
           "type": "bar",
           "x": [
            "MS"
           ],
           "xaxis": "x",
           "y": [
            484706
           ],
           "yaxis": "y"
          },
          {
           "alignmentgroup": "True",
           "hovertemplate": "state=%{x}<br>year=2021<br>btu_state=%{y}<extra></extra>",
           "legendgroup": "MT",
           "marker": {
            "color": "#19d3f3",
            "pattern": {
             "shape": ""
            }
           },
           "name": "MT",
           "offsetgroup": "MT",
           "orientation": "v",
           "showlegend": true,
           "textposition": "auto",
           "type": "bar",
           "x": [
            "MT"
           ],
           "xaxis": "x",
           "y": [
            294646
           ],
           "yaxis": "y"
          },
          {
           "alignmentgroup": "True",
           "hovertemplate": "state=%{x}<br>year=2021<br>btu_state=%{y}<extra></extra>",
           "legendgroup": "NC",
           "marker": {
            "color": "#FF6692",
            "pattern": {
             "shape": ""
            }
           },
           "name": "NC",
           "offsetgroup": "NC",
           "orientation": "v",
           "showlegend": true,
           "textposition": "auto",
           "type": "bar",
           "x": [
            "NC"
           ],
           "xaxis": "x",
           "y": [
            1782008
           ],
           "yaxis": "y"
          },
          {
           "alignmentgroup": "True",
           "hovertemplate": "state=%{x}<br>year=2021<br>btu_state=%{y}<extra></extra>",
           "legendgroup": "ND",
           "marker": {
            "color": "#B6E880",
            "pattern": {
             "shape": ""
            }
           },
           "name": "ND",
           "offsetgroup": "ND",
           "orientation": "v",
           "showlegend": true,
           "textposition": "auto",
           "type": "bar",
           "x": [
            "ND"
           ],
           "xaxis": "x",
           "y": [
            192429
           ],
           "yaxis": "y"
          },
          {
           "alignmentgroup": "True",
           "hovertemplate": "state=%{x}<br>year=2021<br>btu_state=%{y}<extra></extra>",
           "legendgroup": "NE",
           "marker": {
            "color": "#FF97FF",
            "pattern": {
             "shape": ""
            }
           },
           "name": "NE",
           "offsetgroup": "NE",
           "orientation": "v",
           "showlegend": true,
           "textposition": "auto",
           "type": "bar",
           "x": [
            "NE"
           ],
           "xaxis": "x",
           "y": [
            417751
           ],
           "yaxis": "y"
          },
          {
           "alignmentgroup": "True",
           "hovertemplate": "state=%{x}<br>year=2021<br>btu_state=%{y}<extra></extra>",
           "legendgroup": "NH",
           "marker": {
            "color": "#FECB52",
            "pattern": {
             "shape": ""
            }
           },
           "name": "NH",
           "offsetgroup": "NH",
           "orientation": "v",
           "showlegend": true,
           "textposition": "auto",
           "type": "bar",
           "x": [
            "NH"
           ],
           "xaxis": "x",
           "y": [
            307953
           ],
           "yaxis": "y"
          },
          {
           "alignmentgroup": "True",
           "hovertemplate": "state=%{x}<br>year=2021<br>btu_state=%{y}<extra></extra>",
           "legendgroup": "NJ",
           "marker": {
            "color": "#636efa",
            "pattern": {
             "shape": ""
            }
           },
           "name": "NJ",
           "offsetgroup": "NJ",
           "orientation": "v",
           "showlegend": true,
           "textposition": "auto",
           "type": "bar",
           "x": [
            "NJ"
           ],
           "xaxis": "x",
           "y": [
            1594768
           ],
           "yaxis": "y"
          },
          {
           "alignmentgroup": "True",
           "hovertemplate": "state=%{x}<br>year=2021<br>btu_state=%{y}<extra></extra>",
           "legendgroup": "NM",
           "marker": {
            "color": "#EF553B",
            "pattern": {
             "shape": ""
            }
           },
           "name": "NM",
           "offsetgroup": "NM",
           "orientation": "v",
           "showlegend": true,
           "textposition": "auto",
           "type": "bar",
           "x": [
            "NM"
           ],
           "xaxis": "x",
           "y": [
            351891
           ],
           "yaxis": "y"
          },
          {
           "alignmentgroup": "True",
           "hovertemplate": "state=%{x}<br>year=2021<br>btu_state=%{y}<extra></extra>",
           "legendgroup": "NV",
           "marker": {
            "color": "#00cc96",
            "pattern": {
             "shape": ""
            }
           },
           "name": "NV",
           "offsetgroup": "NV",
           "orientation": "v",
           "showlegend": true,
           "textposition": "auto",
           "type": "bar",
           "x": [
            "NV"
           ],
           "xaxis": "x",
           "y": [
            499431
           ],
           "yaxis": "y"
          },
          {
           "alignmentgroup": "True",
           "hovertemplate": "state=%{x}<br>year=2021<br>btu_state=%{y}<extra></extra>",
           "legendgroup": "NY",
           "marker": {
            "color": "#ab63fa",
            "pattern": {
             "shape": ""
            }
           },
           "name": "NY",
           "offsetgroup": "NY",
           "orientation": "v",
           "showlegend": true,
           "textposition": "auto",
           "type": "bar",
           "x": [
            "NY"
           ],
           "xaxis": "x",
           "y": [
            3225422
           ],
           "yaxis": "y"
          },
          {
           "alignmentgroup": "True",
           "hovertemplate": "state=%{x}<br>year=2021<br>btu_state=%{y}<extra></extra>",
           "legendgroup": "OH",
           "marker": {
            "color": "#FFA15A",
            "pattern": {
             "shape": ""
            }
           },
           "name": "OH",
           "offsetgroup": "OH",
           "orientation": "v",
           "showlegend": true,
           "textposition": "auto",
           "type": "bar",
           "x": [
            "OH"
           ],
           "xaxis": "x",
           "y": [
            2297925
           ],
           "yaxis": "y"
          },
          {
           "alignmentgroup": "True",
           "hovertemplate": "state=%{x}<br>year=2021<br>btu_state=%{y}<extra></extra>",
           "legendgroup": "OK",
           "marker": {
            "color": "#19d3f3",
            "pattern": {
             "shape": ""
            }
           },
           "name": "OK",
           "offsetgroup": "OK",
           "orientation": "v",
           "showlegend": true,
           "textposition": "auto",
           "type": "bar",
           "x": [
            "OK"
           ],
           "xaxis": "x",
           "y": [
            777439
           ],
           "yaxis": "y"
          },
          {
           "alignmentgroup": "True",
           "hovertemplate": "state=%{x}<br>year=2021<br>btu_state=%{y}<extra></extra>",
           "legendgroup": "OR",
           "marker": {
            "color": "#FF6692",
            "pattern": {
             "shape": ""
            }
           },
           "name": "OR",
           "offsetgroup": "OR",
           "orientation": "v",
           "showlegend": true,
           "textposition": "auto",
           "type": "bar",
           "x": [
            "OR"
           ],
           "xaxis": "x",
           "y": [
            697013
           ],
           "yaxis": "y"
          },
          {
           "alignmentgroup": "True",
           "hovertemplate": "state=%{x}<br>year=2021<br>btu_state=%{y}<extra></extra>",
           "legendgroup": "PA",
           "marker": {
            "color": "#B6E880",
            "pattern": {
             "shape": ""
            }
           },
           "name": "PA",
           "offsetgroup": "PA",
           "orientation": "v",
           "showlegend": true,
           "textposition": "auto",
           "type": "bar",
           "x": [
            "PA"
           ],
           "xaxis": "x",
           "y": [
            2451310
           ],
           "yaxis": "y"
          },
          {
           "alignmentgroup": "True",
           "hovertemplate": "state=%{x}<br>year=2021<br>btu_state=%{y}<extra></extra>",
           "legendgroup": "RI",
           "marker": {
            "color": "#FF97FF",
            "pattern": {
             "shape": ""
            }
           },
           "name": "RI",
           "offsetgroup": "RI",
           "orientation": "v",
           "showlegend": true,
           "textposition": "auto",
           "type": "bar",
           "x": [
            "RI"
           ],
           "xaxis": "x",
           "y": [
            189788
           ],
           "yaxis": "y"
          },
          {
           "alignmentgroup": "True",
           "hovertemplate": "state=%{x}<br>year=2021<br>btu_state=%{y}<extra></extra>",
           "legendgroup": "SC",
           "marker": {
            "color": "#FECB52",
            "pattern": {
             "shape": ""
            }
           },
           "name": "SC",
           "offsetgroup": "SC",
           "orientation": "v",
           "showlegend": true,
           "textposition": "auto",
           "type": "bar",
           "x": [
            "SC"
           ],
           "xaxis": "x",
           "y": [
            911474
           ],
           "yaxis": "y"
          },
          {
           "alignmentgroup": "True",
           "hovertemplate": "state=%{x}<br>year=2021<br>btu_state=%{y}<extra></extra>",
           "legendgroup": "SD",
           "marker": {
            "color": "#636efa",
            "pattern": {
             "shape": ""
            }
           },
           "name": "SD",
           "offsetgroup": "SD",
           "orientation": "v",
           "showlegend": true,
           "textposition": "auto",
           "type": "bar",
           "x": [
            "SD"
           ],
           "xaxis": "x",
           "y": [
            184842
           ],
           "yaxis": "y"
          },
          {
           "alignmentgroup": "True",
           "hovertemplate": "state=%{x}<br>year=2021<br>btu_state=%{y}<extra></extra>",
           "legendgroup": "TN",
           "marker": {
            "color": "#EF553B",
            "pattern": {
             "shape": ""
            }
           },
           "name": "TN",
           "offsetgroup": "TN",
           "orientation": "v",
           "showlegend": true,
           "textposition": "auto",
           "type": "bar",
           "x": [
            "TN"
           ],
           "xaxis": "x",
           "y": [
            1320014
           ],
           "yaxis": "y"
          },
          {
           "alignmentgroup": "True",
           "hovertemplate": "state=%{x}<br>year=2021<br>btu_state=%{y}<extra></extra>",
           "legendgroup": "TX",
           "marker": {
            "color": "#00cc96",
            "pattern": {
             "shape": ""
            }
           },
           "name": "TX",
           "offsetgroup": "TX",
           "orientation": "v",
           "showlegend": true,
           "textposition": "auto",
           "type": "bar",
           "x": [
            "TX"
           ],
           "xaxis": "x",
           "y": [
            4322739
           ],
           "yaxis": "y"
          },
          {
           "alignmentgroup": "True",
           "hovertemplate": "state=%{x}<br>year=2021<br>btu_state=%{y}<extra></extra>",
           "legendgroup": "UT",
           "marker": {
            "color": "#ab63fa",
            "pattern": {
             "shape": ""
            }
           },
           "name": "UT",
           "offsetgroup": "UT",
           "orientation": "v",
           "showlegend": true,
           "textposition": "auto",
           "type": "bar",
           "x": [
            "UT"
           ],
           "xaxis": "x",
           "y": [
            515988
           ],
           "yaxis": "y"
          },
          {
           "alignmentgroup": "True",
           "hovertemplate": "state=%{x}<br>year=2021<br>btu_state=%{y}<extra></extra>",
           "legendgroup": "VA",
           "marker": {
            "color": "#FFA15A",
            "pattern": {
             "shape": ""
            }
           },
           "name": "VA",
           "offsetgroup": "VA",
           "orientation": "v",
           "showlegend": true,
           "textposition": "auto",
           "type": "bar",
           "x": [
            "VA"
           ],
           "xaxis": "x",
           "y": [
            1476522
           ],
           "yaxis": "y"
          },
          {
           "alignmentgroup": "True",
           "hovertemplate": "state=%{x}<br>year=2021<br>btu_state=%{y}<extra></extra>",
           "legendgroup": "VT",
           "marker": {
            "color": "#19d3f3",
            "pattern": {
             "shape": ""
            }
           },
           "name": "VT",
           "offsetgroup": "VT",
           "orientation": "v",
           "showlegend": true,
           "textposition": "auto",
           "type": "bar",
           "x": [
            "VT"
           ],
           "xaxis": "x",
           "y": [
            163670
           ],
           "yaxis": "y"
          },
          {
           "alignmentgroup": "True",
           "hovertemplate": "state=%{x}<br>year=2021<br>btu_state=%{y}<extra></extra>",
           "legendgroup": "WA",
           "marker": {
            "color": "#FF6692",
            "pattern": {
             "shape": ""
            }
           },
           "name": "WA",
           "offsetgroup": "WA",
           "orientation": "v",
           "showlegend": true,
           "textposition": "auto",
           "type": "bar",
           "x": [
            "WA"
           ],
           "xaxis": "x",
           "y": [
            1276006
           ],
           "yaxis": "y"
          },
          {
           "alignmentgroup": "True",
           "hovertemplate": "state=%{x}<br>year=2021<br>btu_state=%{y}<extra></extra>",
           "legendgroup": "WI",
           "marker": {
            "color": "#B6E880",
            "pattern": {
             "shape": ""
            }
           },
           "name": "WI",
           "offsetgroup": "WI",
           "orientation": "v",
           "showlegend": true,
           "textposition": "auto",
           "type": "bar",
           "x": [
            "WI"
           ],
           "xaxis": "x",
           "y": [
            1214509
           ],
           "yaxis": "y"
          },
          {
           "alignmentgroup": "True",
           "hovertemplate": "state=%{x}<br>year=2021<br>btu_state=%{y}<extra></extra>",
           "legendgroup": "WV",
           "marker": {
            "color": "#FF97FF",
            "pattern": {
             "shape": ""
            }
           },
           "name": "WV",
           "offsetgroup": "WV",
           "orientation": "v",
           "showlegend": true,
           "textposition": "auto",
           "type": "bar",
           "x": [
            "WV"
           ],
           "xaxis": "x",
           "y": [
            398736
           ],
           "yaxis": "y"
          },
          {
           "alignmentgroup": "True",
           "hovertemplate": "state=%{x}<br>year=2021<br>btu_state=%{y}<extra></extra>",
           "legendgroup": "WY",
           "marker": {
            "color": "#FECB52",
            "pattern": {
             "shape": ""
            }
           },
           "name": "WY",
           "offsetgroup": "WY",
           "orientation": "v",
           "showlegend": true,
           "textposition": "auto",
           "type": "bar",
           "x": [
            "WY"
           ],
           "xaxis": "x",
           "y": [
            146123
           ],
           "yaxis": "y"
          }
         ],
         "name": "2021"
        }
       ],
       "layout": {
        "barmode": "relative",
        "legend": {
         "title": {
          "text": "state"
         },
         "tracegroupgap": 0
        },
        "sliders": [
         {
          "active": 0,
          "currentvalue": {
           "prefix": "year="
          },
          "len": 0.9,
          "pad": {
           "b": 10,
           "t": 60
          },
          "steps": [
           {
            "args": [
             [
              "2019"
             ],
             {
              "frame": {
               "duration": 0,
               "redraw": true
              },
              "fromcurrent": true,
              "mode": "immediate",
              "transition": {
               "duration": 0,
               "easing": "linear"
              }
             }
            ],
            "label": "2019",
            "method": "animate"
           },
           {
            "args": [
             [
              "2020"
             ],
             {
              "frame": {
               "duration": 0,
               "redraw": true
              },
              "fromcurrent": true,
              "mode": "immediate",
              "transition": {
               "duration": 0,
               "easing": "linear"
              }
             }
            ],
            "label": "2020",
            "method": "animate"
           },
           {
            "args": [
             [
              "2021"
             ],
             {
              "frame": {
               "duration": 0,
               "redraw": true
              },
              "fromcurrent": true,
              "mode": "immediate",
              "transition": {
               "duration": 0,
               "easing": "linear"
              }
             }
            ],
            "label": "2021",
            "method": "animate"
           }
          ],
          "x": 0.1,
          "xanchor": "left",
          "y": 0,
          "yanchor": "top"
         }
        ],
        "template": {
         "data": {
          "bar": [
           {
            "error_x": {
             "color": "#2a3f5f"
            },
            "error_y": {
             "color": "#2a3f5f"
            },
            "marker": {
             "line": {
              "color": "#E5ECF6",
              "width": 0.5
             },
             "pattern": {
              "fillmode": "overlay",
              "size": 10,
              "solidity": 0.2
             }
            },
            "type": "bar"
           }
          ],
          "barpolar": [
           {
            "marker": {
             "line": {
              "color": "#E5ECF6",
              "width": 0.5
             },
             "pattern": {
              "fillmode": "overlay",
              "size": 10,
              "solidity": 0.2
             }
            },
            "type": "barpolar"
           }
          ],
          "carpet": [
           {
            "aaxis": {
             "endlinecolor": "#2a3f5f",
             "gridcolor": "white",
             "linecolor": "white",
             "minorgridcolor": "white",
             "startlinecolor": "#2a3f5f"
            },
            "baxis": {
             "endlinecolor": "#2a3f5f",
             "gridcolor": "white",
             "linecolor": "white",
             "minorgridcolor": "white",
             "startlinecolor": "#2a3f5f"
            },
            "type": "carpet"
           }
          ],
          "choropleth": [
           {
            "colorbar": {
             "outlinewidth": 0,
             "ticks": ""
            },
            "type": "choropleth"
           }
          ],
          "contour": [
           {
            "colorbar": {
             "outlinewidth": 0,
             "ticks": ""
            },
            "colorscale": [
             [
              0,
              "#0d0887"
             ],
             [
              0.1111111111111111,
              "#46039f"
             ],
             [
              0.2222222222222222,
              "#7201a8"
             ],
             [
              0.3333333333333333,
              "#9c179e"
             ],
             [
              0.4444444444444444,
              "#bd3786"
             ],
             [
              0.5555555555555556,
              "#d8576b"
             ],
             [
              0.6666666666666666,
              "#ed7953"
             ],
             [
              0.7777777777777778,
              "#fb9f3a"
             ],
             [
              0.8888888888888888,
              "#fdca26"
             ],
             [
              1,
              "#f0f921"
             ]
            ],
            "type": "contour"
           }
          ],
          "contourcarpet": [
           {
            "colorbar": {
             "outlinewidth": 0,
             "ticks": ""
            },
            "type": "contourcarpet"
           }
          ],
          "heatmap": [
           {
            "colorbar": {
             "outlinewidth": 0,
             "ticks": ""
            },
            "colorscale": [
             [
              0,
              "#0d0887"
             ],
             [
              0.1111111111111111,
              "#46039f"
             ],
             [
              0.2222222222222222,
              "#7201a8"
             ],
             [
              0.3333333333333333,
              "#9c179e"
             ],
             [
              0.4444444444444444,
              "#bd3786"
             ],
             [
              0.5555555555555556,
              "#d8576b"
             ],
             [
              0.6666666666666666,
              "#ed7953"
             ],
             [
              0.7777777777777778,
              "#fb9f3a"
             ],
             [
              0.8888888888888888,
              "#fdca26"
             ],
             [
              1,
              "#f0f921"
             ]
            ],
            "type": "heatmap"
           }
          ],
          "heatmapgl": [
           {
            "colorbar": {
             "outlinewidth": 0,
             "ticks": ""
            },
            "colorscale": [
             [
              0,
              "#0d0887"
             ],
             [
              0.1111111111111111,
              "#46039f"
             ],
             [
              0.2222222222222222,
              "#7201a8"
             ],
             [
              0.3333333333333333,
              "#9c179e"
             ],
             [
              0.4444444444444444,
              "#bd3786"
             ],
             [
              0.5555555555555556,
              "#d8576b"
             ],
             [
              0.6666666666666666,
              "#ed7953"
             ],
             [
              0.7777777777777778,
              "#fb9f3a"
             ],
             [
              0.8888888888888888,
              "#fdca26"
             ],
             [
              1,
              "#f0f921"
             ]
            ],
            "type": "heatmapgl"
           }
          ],
          "histogram": [
           {
            "marker": {
             "pattern": {
              "fillmode": "overlay",
              "size": 10,
              "solidity": 0.2
             }
            },
            "type": "histogram"
           }
          ],
          "histogram2d": [
           {
            "colorbar": {
             "outlinewidth": 0,
             "ticks": ""
            },
            "colorscale": [
             [
              0,
              "#0d0887"
             ],
             [
              0.1111111111111111,
              "#46039f"
             ],
             [
              0.2222222222222222,
              "#7201a8"
             ],
             [
              0.3333333333333333,
              "#9c179e"
             ],
             [
              0.4444444444444444,
              "#bd3786"
             ],
             [
              0.5555555555555556,
              "#d8576b"
             ],
             [
              0.6666666666666666,
              "#ed7953"
             ],
             [
              0.7777777777777778,
              "#fb9f3a"
             ],
             [
              0.8888888888888888,
              "#fdca26"
             ],
             [
              1,
              "#f0f921"
             ]
            ],
            "type": "histogram2d"
           }
          ],
          "histogram2dcontour": [
           {
            "colorbar": {
             "outlinewidth": 0,
             "ticks": ""
            },
            "colorscale": [
             [
              0,
              "#0d0887"
             ],
             [
              0.1111111111111111,
              "#46039f"
             ],
             [
              0.2222222222222222,
              "#7201a8"
             ],
             [
              0.3333333333333333,
              "#9c179e"
             ],
             [
              0.4444444444444444,
              "#bd3786"
             ],
             [
              0.5555555555555556,
              "#d8576b"
             ],
             [
              0.6666666666666666,
              "#ed7953"
             ],
             [
              0.7777777777777778,
              "#fb9f3a"
             ],
             [
              0.8888888888888888,
              "#fdca26"
             ],
             [
              1,
              "#f0f921"
             ]
            ],
            "type": "histogram2dcontour"
           }
          ],
          "mesh3d": [
           {
            "colorbar": {
             "outlinewidth": 0,
             "ticks": ""
            },
            "type": "mesh3d"
           }
          ],
          "parcoords": [
           {
            "line": {
             "colorbar": {
              "outlinewidth": 0,
              "ticks": ""
             }
            },
            "type": "parcoords"
           }
          ],
          "pie": [
           {
            "automargin": true,
            "type": "pie"
           }
          ],
          "scatter": [
           {
            "fillpattern": {
             "fillmode": "overlay",
             "size": 10,
             "solidity": 0.2
            },
            "type": "scatter"
           }
          ],
          "scatter3d": [
           {
            "line": {
             "colorbar": {
              "outlinewidth": 0,
              "ticks": ""
             }
            },
            "marker": {
             "colorbar": {
              "outlinewidth": 0,
              "ticks": ""
             }
            },
            "type": "scatter3d"
           }
          ],
          "scattercarpet": [
           {
            "marker": {
             "colorbar": {
              "outlinewidth": 0,
              "ticks": ""
             }
            },
            "type": "scattercarpet"
           }
          ],
          "scattergeo": [
           {
            "marker": {
             "colorbar": {
              "outlinewidth": 0,
              "ticks": ""
             }
            },
            "type": "scattergeo"
           }
          ],
          "scattergl": [
           {
            "marker": {
             "colorbar": {
              "outlinewidth": 0,
              "ticks": ""
             }
            },
            "type": "scattergl"
           }
          ],
          "scattermapbox": [
           {
            "marker": {
             "colorbar": {
              "outlinewidth": 0,
              "ticks": ""
             }
            },
            "type": "scattermapbox"
           }
          ],
          "scatterpolar": [
           {
            "marker": {
             "colorbar": {
              "outlinewidth": 0,
              "ticks": ""
             }
            },
            "type": "scatterpolar"
           }
          ],
          "scatterpolargl": [
           {
            "marker": {
             "colorbar": {
              "outlinewidth": 0,
              "ticks": ""
             }
            },
            "type": "scatterpolargl"
           }
          ],
          "scatterternary": [
           {
            "marker": {
             "colorbar": {
              "outlinewidth": 0,
              "ticks": ""
             }
            },
            "type": "scatterternary"
           }
          ],
          "surface": [
           {
            "colorbar": {
             "outlinewidth": 0,
             "ticks": ""
            },
            "colorscale": [
             [
              0,
              "#0d0887"
             ],
             [
              0.1111111111111111,
              "#46039f"
             ],
             [
              0.2222222222222222,
              "#7201a8"
             ],
             [
              0.3333333333333333,
              "#9c179e"
             ],
             [
              0.4444444444444444,
              "#bd3786"
             ],
             [
              0.5555555555555556,
              "#d8576b"
             ],
             [
              0.6666666666666666,
              "#ed7953"
             ],
             [
              0.7777777777777778,
              "#fb9f3a"
             ],
             [
              0.8888888888888888,
              "#fdca26"
             ],
             [
              1,
              "#f0f921"
             ]
            ],
            "type": "surface"
           }
          ],
          "table": [
           {
            "cells": {
             "fill": {
              "color": "#EBF0F8"
             },
             "line": {
              "color": "white"
             }
            },
            "header": {
             "fill": {
              "color": "#C8D4E3"
             },
             "line": {
              "color": "white"
             }
            },
            "type": "table"
           }
          ]
         },
         "layout": {
          "annotationdefaults": {
           "arrowcolor": "#2a3f5f",
           "arrowhead": 0,
           "arrowwidth": 1
          },
          "autotypenumbers": "strict",
          "coloraxis": {
           "colorbar": {
            "outlinewidth": 0,
            "ticks": ""
           }
          },
          "colorscale": {
           "diverging": [
            [
             0,
             "#8e0152"
            ],
            [
             0.1,
             "#c51b7d"
            ],
            [
             0.2,
             "#de77ae"
            ],
            [
             0.3,
             "#f1b6da"
            ],
            [
             0.4,
             "#fde0ef"
            ],
            [
             0.5,
             "#f7f7f7"
            ],
            [
             0.6,
             "#e6f5d0"
            ],
            [
             0.7,
             "#b8e186"
            ],
            [
             0.8,
             "#7fbc41"
            ],
            [
             0.9,
             "#4d9221"
            ],
            [
             1,
             "#276419"
            ]
           ],
           "sequential": [
            [
             0,
             "#0d0887"
            ],
            [
             0.1111111111111111,
             "#46039f"
            ],
            [
             0.2222222222222222,
             "#7201a8"
            ],
            [
             0.3333333333333333,
             "#9c179e"
            ],
            [
             0.4444444444444444,
             "#bd3786"
            ],
            [
             0.5555555555555556,
             "#d8576b"
            ],
            [
             0.6666666666666666,
             "#ed7953"
            ],
            [
             0.7777777777777778,
             "#fb9f3a"
            ],
            [
             0.8888888888888888,
             "#fdca26"
            ],
            [
             1,
             "#f0f921"
            ]
           ],
           "sequentialminus": [
            [
             0,
             "#0d0887"
            ],
            [
             0.1111111111111111,
             "#46039f"
            ],
            [
             0.2222222222222222,
             "#7201a8"
            ],
            [
             0.3333333333333333,
             "#9c179e"
            ],
            [
             0.4444444444444444,
             "#bd3786"
            ],
            [
             0.5555555555555556,
             "#d8576b"
            ],
            [
             0.6666666666666666,
             "#ed7953"
            ],
            [
             0.7777777777777778,
             "#fb9f3a"
            ],
            [
             0.8888888888888888,
             "#fdca26"
            ],
            [
             1,
             "#f0f921"
            ]
           ]
          },
          "colorway": [
           "#636efa",
           "#EF553B",
           "#00cc96",
           "#ab63fa",
           "#FFA15A",
           "#19d3f3",
           "#FF6692",
           "#B6E880",
           "#FF97FF",
           "#FECB52"
          ],
          "font": {
           "color": "#2a3f5f"
          },
          "geo": {
           "bgcolor": "white",
           "lakecolor": "white",
           "landcolor": "#E5ECF6",
           "showlakes": true,
           "showland": true,
           "subunitcolor": "white"
          },
          "hoverlabel": {
           "align": "left"
          },
          "hovermode": "closest",
          "mapbox": {
           "style": "light"
          },
          "paper_bgcolor": "white",
          "plot_bgcolor": "#E5ECF6",
          "polar": {
           "angularaxis": {
            "gridcolor": "white",
            "linecolor": "white",
            "ticks": ""
           },
           "bgcolor": "#E5ECF6",
           "radialaxis": {
            "gridcolor": "white",
            "linecolor": "white",
            "ticks": ""
           }
          },
          "scene": {
           "xaxis": {
            "backgroundcolor": "#E5ECF6",
            "gridcolor": "white",
            "gridwidth": 2,
            "linecolor": "white",
            "showbackground": true,
            "ticks": "",
            "zerolinecolor": "white"
           },
           "yaxis": {
            "backgroundcolor": "#E5ECF6",
            "gridcolor": "white",
            "gridwidth": 2,
            "linecolor": "white",
            "showbackground": true,
            "ticks": "",
            "zerolinecolor": "white"
           },
           "zaxis": {
            "backgroundcolor": "#E5ECF6",
            "gridcolor": "white",
            "gridwidth": 2,
            "linecolor": "white",
            "showbackground": true,
            "ticks": "",
            "zerolinecolor": "white"
           }
          },
          "shapedefaults": {
           "line": {
            "color": "#2a3f5f"
           }
          },
          "ternary": {
           "aaxis": {
            "gridcolor": "white",
            "linecolor": "white",
            "ticks": ""
           },
           "baxis": {
            "gridcolor": "white",
            "linecolor": "white",
            "ticks": ""
           },
           "bgcolor": "#E5ECF6",
           "caxis": {
            "gridcolor": "white",
            "linecolor": "white",
            "ticks": ""
           }
          },
          "title": {
           "x": 0.05
          },
          "xaxis": {
           "automargin": true,
           "gridcolor": "white",
           "linecolor": "white",
           "ticks": "",
           "title": {
            "standoff": 15
           },
           "zerolinecolor": "white",
           "zerolinewidth": 2
          },
          "yaxis": {
           "automargin": true,
           "gridcolor": "white",
           "linecolor": "white",
           "ticks": "",
           "title": {
            "standoff": 15
           },
           "zerolinecolor": "white",
           "zerolinewidth": 2
          }
         }
        },
        "title": {
         "text": "United States residential energy consumption PER STATE (BTU)"
        },
        "updatemenus": [
         {
          "buttons": [
           {
            "args": [
             null,
             {
              "frame": {
               "duration": 500,
               "redraw": true
              },
              "fromcurrent": true,
              "mode": "immediate",
              "transition": {
               "duration": 500,
               "easing": "linear"
              }
             }
            ],
            "label": "&#9654;",
            "method": "animate"
           },
           {
            "args": [
             [
              null
             ],
             {
              "frame": {
               "duration": 0,
               "redraw": true
              },
              "fromcurrent": true,
              "mode": "immediate",
              "transition": {
               "duration": 0,
               "easing": "linear"
              }
             }
            ],
            "label": "&#9724;",
            "method": "animate"
           }
          ],
          "direction": "left",
          "pad": {
           "r": 10,
           "t": 70
          },
          "showactive": false,
          "type": "buttons",
          "x": 0.1,
          "xanchor": "right",
          "y": 0,
          "yanchor": "top"
         }
        ],
        "xaxis": {
         "anchor": "y",
         "categoryarray": [
          "AK",
          "AL",
          "AR",
          "AZ",
          "CA",
          "CO",
          "CT",
          "DE",
          "FL",
          "GA",
          "HI",
          "IA",
          "ID",
          "IL",
          "IN",
          "KS",
          "KY",
          "LA",
          "MA",
          "MD",
          "ME",
          "MI",
          "MN",
          "MO",
          "MS",
          "MT",
          "NC",
          "ND",
          "NE",
          "NH",
          "NJ",
          "NM",
          "NV",
          "NY",
          "OH",
          "OK",
          "OR",
          "PA",
          "RI",
          "SC",
          "SD",
          "TN",
          "TX",
          "UT",
          "VA",
          "VT",
          "WA",
          "WI",
          "WV",
          "WY"
         ],
         "categoryorder": "total ascending",
         "domain": [
          0,
          1
         ],
         "title": {
          "text": "state"
         }
        },
        "yaxis": {
         "anchor": "x",
         "domain": [
          0,
          1
         ],
         "range": [
          0,
          4389879
         ],
         "title": {
          "text": "btu_state"
         }
        }
       }
      },
      "text/html": [
       "<div>                            <div id=\"f6e37bae-746f-4905-b956-0d4f15206d19\" class=\"plotly-graph-div\" style=\"height:525px; width:100%;\"></div>            <script type=\"text/javascript\">                require([\"plotly\"], function(Plotly) {                    window.PLOTLYENV=window.PLOTLYENV || {};                                    if (document.getElementById(\"f6e37bae-746f-4905-b956-0d4f15206d19\")) {                    Plotly.newPlot(                        \"f6e37bae-746f-4905-b956-0d4f15206d19\",                        [{\"alignmentgroup\":\"True\",\"hovertemplate\":\"state=%{x}<br>year=2019<br>btu_state=%{y}<extra></extra>\",\"legendgroup\":\"AK\",\"marker\":{\"color\":\"#636efa\",\"pattern\":{\"shape\":\"\"}},\"name\":\"AK\",\"offsetgroup\":\"AK\",\"orientation\":\"v\",\"showlegend\":true,\"textposition\":\"auto\",\"x\":[\"AK\"],\"xaxis\":\"x\",\"y\":[146972.0],\"yaxis\":\"y\",\"type\":\"bar\"},{\"alignmentgroup\":\"True\",\"hovertemplate\":\"state=%{x}<br>year=2019<br>btu_state=%{y}<extra></extra>\",\"legendgroup\":\"AL\",\"marker\":{\"color\":\"#EF553B\",\"pattern\":{\"shape\":\"\"}},\"name\":\"AL\",\"offsetgroup\":\"AL\",\"orientation\":\"v\",\"showlegend\":true,\"textposition\":\"auto\",\"x\":[\"AL\"],\"xaxis\":\"x\",\"y\":[860730.0],\"yaxis\":\"y\",\"type\":\"bar\"},{\"alignmentgroup\":\"True\",\"hovertemplate\":\"state=%{x}<br>year=2019<br>btu_state=%{y}<extra></extra>\",\"legendgroup\":\"AR\",\"marker\":{\"color\":\"#00cc96\",\"pattern\":{\"shape\":\"\"}},\"name\":\"AR\",\"offsetgroup\":\"AR\",\"orientation\":\"v\",\"showlegend\":true,\"textposition\":\"auto\",\"x\":[\"AR\"],\"xaxis\":\"x\",\"y\":[580372.0],\"yaxis\":\"y\",\"type\":\"bar\"},{\"alignmentgroup\":\"True\",\"hovertemplate\":\"state=%{x}<br>year=2019<br>btu_state=%{y}<extra></extra>\",\"legendgroup\":\"AZ\",\"marker\":{\"color\":\"#ab63fa\",\"pattern\":{\"shape\":\"\"}},\"name\":\"AZ\",\"offsetgroup\":\"AZ\",\"orientation\":\"v\",\"showlegend\":true,\"textposition\":\"auto\",\"x\":[\"AZ\"],\"xaxis\":\"x\",\"y\":[1054246.0],\"yaxis\":\"y\",\"type\":\"bar\"},{\"alignmentgroup\":\"True\",\"hovertemplate\":\"state=%{x}<br>year=2019<br>btu_state=%{y}<extra></extra>\",\"legendgroup\":\"CA\",\"marker\":{\"color\":\"#FFA15A\",\"pattern\":{\"shape\":\"\"}},\"name\":\"CA\",\"offsetgroup\":\"CA\",\"orientation\":\"v\",\"showlegend\":true,\"textposition\":\"auto\",\"x\":[\"CA\"],\"xaxis\":\"x\",\"y\":[4029464.0],\"yaxis\":\"y\",\"type\":\"bar\"},{\"alignmentgroup\":\"True\",\"hovertemplate\":\"state=%{x}<br>year=2019<br>btu_state=%{y}<extra></extra>\",\"legendgroup\":\"CO\",\"marker\":{\"color\":\"#19d3f3\",\"pattern\":{\"shape\":\"\"}},\"name\":\"CO\",\"offsetgroup\":\"CO\",\"orientation\":\"v\",\"showlegend\":true,\"textposition\":\"auto\",\"x\":[\"CO\"],\"xaxis\":\"x\",\"y\":[1056678.0],\"yaxis\":\"y\",\"type\":\"bar\"},{\"alignmentgroup\":\"True\",\"hovertemplate\":\"state=%{x}<br>year=2019<br>btu_state=%{y}<extra></extra>\",\"legendgroup\":\"CT\",\"marker\":{\"color\":\"#FF6692\",\"pattern\":{\"shape\":\"\"}},\"name\":\"CT\",\"offsetgroup\":\"CT\",\"orientation\":\"v\",\"showlegend\":true,\"textposition\":\"auto\",\"x\":[\"CT\"],\"xaxis\":\"x\",\"y\":[729607.0],\"yaxis\":\"y\",\"type\":\"bar\"},{\"alignmentgroup\":\"True\",\"hovertemplate\":\"state=%{x}<br>year=2019<br>btu_state=%{y}<extra></extra>\",\"legendgroup\":\"DE\",\"marker\":{\"color\":\"#B6E880\",\"pattern\":{\"shape\":\"\"}},\"name\":\"DE\",\"offsetgroup\":\"DE\",\"orientation\":\"v\",\"showlegend\":true,\"textposition\":\"auto\",\"x\":[\"DE\"],\"xaxis\":\"x\",\"y\":[177089.0],\"yaxis\":\"y\",\"type\":\"bar\"},{\"alignmentgroup\":\"True\",\"hovertemplate\":\"state=%{x}<br>year=2019<br>btu_state=%{y}<extra></extra>\",\"legendgroup\":\"FL\",\"marker\":{\"color\":\"#FF97FF\",\"pattern\":{\"shape\":\"\"}},\"name\":\"FL\",\"offsetgroup\":\"FL\",\"orientation\":\"v\",\"showlegend\":true,\"textposition\":\"auto\",\"x\":[\"FL\"],\"xaxis\":\"x\",\"y\":[2914578.0],\"yaxis\":\"y\",\"type\":\"bar\"},{\"alignmentgroup\":\"True\",\"hovertemplate\":\"state=%{x}<br>year=2019<br>btu_state=%{y}<extra></extra>\",\"legendgroup\":\"GA\",\"marker\":{\"color\":\"#FECB52\",\"pattern\":{\"shape\":\"\"}},\"name\":\"GA\",\"offsetgroup\":\"GA\",\"orientation\":\"v\",\"showlegend\":true,\"textposition\":\"auto\",\"x\":[\"GA\"],\"xaxis\":\"x\",\"y\":[1795035.0],\"yaxis\":\"y\",\"type\":\"bar\"},{\"alignmentgroup\":\"True\",\"hovertemplate\":\"state=%{x}<br>year=2019<br>btu_state=%{y}<extra></extra>\",\"legendgroup\":\"HI\",\"marker\":{\"color\":\"#636efa\",\"pattern\":{\"shape\":\"\"}},\"name\":\"HI\",\"offsetgroup\":\"HI\",\"orientation\":\"v\",\"showlegend\":true,\"textposition\":\"auto\",\"x\":[\"HI\"],\"xaxis\":\"x\",\"y\":[97105.0],\"yaxis\":\"y\",\"type\":\"bar\"},{\"alignmentgroup\":\"True\",\"hovertemplate\":\"state=%{x}<br>year=2019<br>btu_state=%{y}<extra></extra>\",\"legendgroup\":\"IA\",\"marker\":{\"color\":\"#EF553B\",\"pattern\":{\"shape\":\"\"}},\"name\":\"IA\",\"offsetgroup\":\"IA\",\"orientation\":\"v\",\"showlegend\":true,\"textposition\":\"auto\",\"x\":[\"IA\"],\"xaxis\":\"x\",\"y\":[714005.0],\"yaxis\":\"y\",\"type\":\"bar\"},{\"alignmentgroup\":\"True\",\"hovertemplate\":\"state=%{x}<br>year=2019<br>btu_state=%{y}<extra></extra>\",\"legendgroup\":\"ID\",\"marker\":{\"color\":\"#00cc96\",\"pattern\":{\"shape\":\"\"}},\"name\":\"ID\",\"offsetgroup\":\"ID\",\"orientation\":\"v\",\"showlegend\":true,\"textposition\":\"auto\",\"x\":[\"ID\"],\"xaxis\":\"x\",\"y\":[385096.0],\"yaxis\":\"y\",\"type\":\"bar\"},{\"alignmentgroup\":\"True\",\"hovertemplate\":\"state=%{x}<br>year=2019<br>btu_state=%{y}<extra></extra>\",\"legendgroup\":\"IL\",\"marker\":{\"color\":\"#ab63fa\",\"pattern\":{\"shape\":\"\"}},\"name\":\"IL\",\"offsetgroup\":\"IL\",\"orientation\":\"v\",\"showlegend\":true,\"textposition\":\"auto\",\"x\":[\"IL\"],\"xaxis\":\"x\",\"y\":[2658344.0],\"yaxis\":\"y\",\"type\":\"bar\"},{\"alignmentgroup\":\"True\",\"hovertemplate\":\"state=%{x}<br>year=2019<br>btu_state=%{y}<extra></extra>\",\"legendgroup\":\"IN\",\"marker\":{\"color\":\"#FFA15A\",\"pattern\":{\"shape\":\"\"}},\"name\":\"IN\",\"offsetgroup\":\"IN\",\"orientation\":\"v\",\"showlegend\":true,\"textposition\":\"auto\",\"x\":[\"IN\"],\"xaxis\":\"x\",\"y\":[1418640.0],\"yaxis\":\"y\",\"type\":\"bar\"},{\"alignmentgroup\":\"True\",\"hovertemplate\":\"state=%{x}<br>year=2019<br>btu_state=%{y}<extra></extra>\",\"legendgroup\":\"KS\",\"marker\":{\"color\":\"#19d3f3\",\"pattern\":{\"shape\":\"\"}},\"name\":\"KS\",\"offsetgroup\":\"KS\",\"orientation\":\"v\",\"showlegend\":true,\"textposition\":\"auto\",\"x\":[\"KS\"],\"xaxis\":\"x\",\"y\":[612843.0],\"yaxis\":\"y\",\"type\":\"bar\"},{\"alignmentgroup\":\"True\",\"hovertemplate\":\"state=%{x}<br>year=2019<br>btu_state=%{y}<extra></extra>\",\"legendgroup\":\"KY\",\"marker\":{\"color\":\"#FF6692\",\"pattern\":{\"shape\":\"\"}},\"name\":\"KY\",\"offsetgroup\":\"KY\",\"orientation\":\"v\",\"showlegend\":true,\"textposition\":\"auto\",\"x\":[\"KY\"],\"xaxis\":\"x\",\"y\":[897357.0],\"yaxis\":\"y\",\"type\":\"bar\"},{\"alignmentgroup\":\"True\",\"hovertemplate\":\"state=%{x}<br>year=2019<br>btu_state=%{y}<extra></extra>\",\"legendgroup\":\"LA\",\"marker\":{\"color\":\"#B6E880\",\"pattern\":{\"shape\":\"\"}},\"name\":\"LA\",\"offsetgroup\":\"LA\",\"orientation\":\"v\",\"showlegend\":true,\"textposition\":\"auto\",\"x\":[\"LA\"],\"xaxis\":\"x\",\"y\":[792481.0],\"yaxis\":\"y\",\"type\":\"bar\"},{\"alignmentgroup\":\"True\",\"hovertemplate\":\"state=%{x}<br>year=2019<br>btu_state=%{y}<extra></extra>\",\"legendgroup\":\"MA\",\"marker\":{\"color\":\"#FF97FF\",\"pattern\":{\"shape\":\"\"}},\"name\":\"MA\",\"offsetgroup\":\"MA\",\"orientation\":\"v\",\"showlegend\":true,\"textposition\":\"auto\",\"x\":[\"MA\"],\"xaxis\":\"x\",\"y\":[1289259.0],\"yaxis\":\"y\",\"type\":\"bar\"},{\"alignmentgroup\":\"True\",\"hovertemplate\":\"state=%{x}<br>year=2019<br>btu_state=%{y}<extra></extra>\",\"legendgroup\":\"MD\",\"marker\":{\"color\":\"#FECB52\",\"pattern\":{\"shape\":\"\"}},\"name\":\"MD\",\"offsetgroup\":\"MD\",\"orientation\":\"v\",\"showlegend\":true,\"textposition\":\"auto\",\"x\":[\"MD\"],\"xaxis\":\"x\",\"y\":[1034554.0],\"yaxis\":\"y\",\"type\":\"bar\"},{\"alignmentgroup\":\"True\",\"hovertemplate\":\"state=%{x}<br>year=2019<br>btu_state=%{y}<extra></extra>\",\"legendgroup\":\"ME\",\"marker\":{\"color\":\"#636efa\",\"pattern\":{\"shape\":\"\"}},\"name\":\"ME\",\"offsetgroup\":\"ME\",\"orientation\":\"v\",\"showlegend\":true,\"textposition\":\"auto\",\"x\":[\"ME\"],\"xaxis\":\"x\",\"y\":[365661.0],\"yaxis\":\"y\",\"type\":\"bar\"},{\"alignmentgroup\":\"True\",\"hovertemplate\":\"state=%{x}<br>year=2019<br>btu_state=%{y}<extra></extra>\",\"legendgroup\":\"MI\",\"marker\":{\"color\":\"#EF553B\",\"pattern\":{\"shape\":\"\"}},\"name\":\"MI\",\"offsetgroup\":\"MI\",\"orientation\":\"v\",\"showlegend\":true,\"textposition\":\"auto\",\"x\":[\"MI\"],\"xaxis\":\"x\",\"y\":[2255736.0],\"yaxis\":\"y\",\"type\":\"bar\"},{\"alignmentgroup\":\"True\",\"hovertemplate\":\"state=%{x}<br>year=2019<br>btu_state=%{y}<extra></extra>\",\"legendgroup\":\"MN\",\"marker\":{\"color\":\"#00cc96\",\"pattern\":{\"shape\":\"\"}},\"name\":\"MN\",\"offsetgroup\":\"MN\",\"orientation\":\"v\",\"showlegend\":true,\"textposition\":\"auto\",\"x\":[\"MN\"],\"xaxis\":\"x\",\"y\":[1209856.0],\"yaxis\":\"y\",\"type\":\"bar\"},{\"alignmentgroup\":\"True\",\"hovertemplate\":\"state=%{x}<br>year=2019<br>btu_state=%{y}<extra></extra>\",\"legendgroup\":\"MO\",\"marker\":{\"color\":\"#ab63fa\",\"pattern\":{\"shape\":\"\"}},\"name\":\"MO\",\"offsetgroup\":\"MO\",\"orientation\":\"v\",\"showlegend\":true,\"textposition\":\"auto\",\"x\":[\"MO\"],\"xaxis\":\"x\",\"y\":[1398156.0],\"yaxis\":\"y\",\"type\":\"bar\"},{\"alignmentgroup\":\"True\",\"hovertemplate\":\"state=%{x}<br>year=2019<br>btu_state=%{y}<extra></extra>\",\"legendgroup\":\"MS\",\"marker\":{\"color\":\"#FFA15A\",\"pattern\":{\"shape\":\"\"}},\"name\":\"MS\",\"offsetgroup\":\"MS\",\"orientation\":\"v\",\"showlegend\":true,\"textposition\":\"auto\",\"x\":[\"MS\"],\"xaxis\":\"x\",\"y\":[501752.0],\"yaxis\":\"y\",\"type\":\"bar\"},{\"alignmentgroup\":\"True\",\"hovertemplate\":\"state=%{x}<br>year=2019<br>btu_state=%{y}<extra></extra>\",\"legendgroup\":\"MT\",\"marker\":{\"color\":\"#19d3f3\",\"pattern\":{\"shape\":\"\"}},\"name\":\"MT\",\"offsetgroup\":\"MT\",\"orientation\":\"v\",\"showlegend\":true,\"textposition\":\"auto\",\"x\":[\"MT\"],\"xaxis\":\"x\",\"y\":[312771.0],\"yaxis\":\"y\",\"type\":\"bar\"},{\"alignmentgroup\":\"True\",\"hovertemplate\":\"state=%{x}<br>year=2019<br>btu_state=%{y}<extra></extra>\",\"legendgroup\":\"NC\",\"marker\":{\"color\":\"#FF6692\",\"pattern\":{\"shape\":\"\"}},\"name\":\"NC\",\"offsetgroup\":\"NC\",\"orientation\":\"v\",\"showlegend\":true,\"textposition\":\"auto\",\"x\":[\"NC\"],\"xaxis\":\"x\",\"y\":[1753597.0],\"yaxis\":\"y\",\"type\":\"bar\"},{\"alignmentgroup\":\"True\",\"hovertemplate\":\"state=%{x}<br>year=2019<br>btu_state=%{y}<extra></extra>\",\"legendgroup\":\"ND\",\"marker\":{\"color\":\"#B6E880\",\"pattern\":{\"shape\":\"\"}},\"name\":\"ND\",\"offsetgroup\":\"ND\",\"orientation\":\"v\",\"showlegend\":true,\"textposition\":\"auto\",\"x\":[\"ND\"],\"xaxis\":\"x\",\"y\":[219261.0],\"yaxis\":\"y\",\"type\":\"bar\"},{\"alignmentgroup\":\"True\",\"hovertemplate\":\"state=%{x}<br>year=2019<br>btu_state=%{y}<extra></extra>\",\"legendgroup\":\"NE\",\"marker\":{\"color\":\"#FF97FF\",\"pattern\":{\"shape\":\"\"}},\"name\":\"NE\",\"offsetgroup\":\"NE\",\"orientation\":\"v\",\"showlegend\":true,\"textposition\":\"auto\",\"x\":[\"NE\"],\"xaxis\":\"x\",\"y\":[449376.0],\"yaxis\":\"y\",\"type\":\"bar\"},{\"alignmentgroup\":\"True\",\"hovertemplate\":\"state=%{x}<br>year=2019<br>btu_state=%{y}<extra></extra>\",\"legendgroup\":\"NH\",\"marker\":{\"color\":\"#FECB52\",\"pattern\":{\"shape\":\"\"}},\"name\":\"NH\",\"offsetgroup\":\"NH\",\"orientation\":\"v\",\"showlegend\":true,\"textposition\":\"auto\",\"x\":[\"NH\"],\"xaxis\":\"x\",\"y\":[345052.0],\"yaxis\":\"y\",\"type\":\"bar\"},{\"alignmentgroup\":\"True\",\"hovertemplate\":\"state=%{x}<br>year=2019<br>btu_state=%{y}<extra></extra>\",\"legendgroup\":\"NJ\",\"marker\":{\"color\":\"#636efa\",\"pattern\":{\"shape\":\"\"}},\"name\":\"NJ\",\"offsetgroup\":\"NJ\",\"orientation\":\"v\",\"showlegend\":true,\"textposition\":\"auto\",\"x\":[\"NJ\"],\"xaxis\":\"x\",\"y\":[1563788.0],\"yaxis\":\"y\",\"type\":\"bar\"},{\"alignmentgroup\":\"True\",\"hovertemplate\":\"state=%{x}<br>year=2019<br>btu_state=%{y}<extra></extra>\",\"legendgroup\":\"NM\",\"marker\":{\"color\":\"#EF553B\",\"pattern\":{\"shape\":\"\"}},\"name\":\"NM\",\"offsetgroup\":\"NM\",\"orientation\":\"v\",\"showlegend\":true,\"textposition\":\"auto\",\"x\":[\"NM\"],\"xaxis\":\"x\",\"y\":[377085.0],\"yaxis\":\"y\",\"type\":\"bar\"},{\"alignmentgroup\":\"True\",\"hovertemplate\":\"state=%{x}<br>year=2019<br>btu_state=%{y}<extra></extra>\",\"legendgroup\":\"NV\",\"marker\":{\"color\":\"#00cc96\",\"pattern\":{\"shape\":\"\"}},\"name\":\"NV\",\"offsetgroup\":\"NV\",\"orientation\":\"v\",\"showlegend\":true,\"textposition\":\"auto\",\"x\":[\"NV\"],\"xaxis\":\"x\",\"y\":[468005.0],\"yaxis\":\"y\",\"type\":\"bar\"},{\"alignmentgroup\":\"True\",\"hovertemplate\":\"state=%{x}<br>year=2019<br>btu_state=%{y}<extra></extra>\",\"legendgroup\":\"NY\",\"marker\":{\"color\":\"#ab63fa\",\"pattern\":{\"shape\":\"\"}},\"name\":\"NY\",\"offsetgroup\":\"NY\",\"orientation\":\"v\",\"showlegend\":true,\"textposition\":\"auto\",\"x\":[\"NY\"],\"xaxis\":\"x\",\"y\":[3333906.0],\"yaxis\":\"y\",\"type\":\"bar\"},{\"alignmentgroup\":\"True\",\"hovertemplate\":\"state=%{x}<br>year=2019<br>btu_state=%{y}<extra></extra>\",\"legendgroup\":\"OH\",\"marker\":{\"color\":\"#FFA15A\",\"pattern\":{\"shape\":\"\"}},\"name\":\"OH\",\"offsetgroup\":\"OH\",\"orientation\":\"v\",\"showlegend\":true,\"textposition\":\"auto\",\"x\":[\"OH\"],\"xaxis\":\"x\",\"y\":[2360913.0],\"yaxis\":\"y\",\"type\":\"bar\"},{\"alignmentgroup\":\"True\",\"hovertemplate\":\"state=%{x}<br>year=2019<br>btu_state=%{y}<extra></extra>\",\"legendgroup\":\"OK\",\"marker\":{\"color\":\"#19d3f3\",\"pattern\":{\"shape\":\"\"}},\"name\":\"OK\",\"offsetgroup\":\"OK\",\"orientation\":\"v\",\"showlegend\":true,\"textposition\":\"auto\",\"x\":[\"OK\"],\"xaxis\":\"x\",\"y\":[784135.0],\"yaxis\":\"y\",\"type\":\"bar\"},{\"alignmentgroup\":\"True\",\"hovertemplate\":\"state=%{x}<br>year=2019<br>btu_state=%{y}<extra></extra>\",\"legendgroup\":\"OR\",\"marker\":{\"color\":\"#FF6692\",\"pattern\":{\"shape\":\"\"}},\"name\":\"OR\",\"offsetgroup\":\"OR\",\"orientation\":\"v\",\"showlegend\":true,\"textposition\":\"auto\",\"x\":[\"OR\"],\"xaxis\":\"x\",\"y\":[700078.0],\"yaxis\":\"y\",\"type\":\"bar\"},{\"alignmentgroup\":\"True\",\"hovertemplate\":\"state=%{x}<br>year=2019<br>btu_state=%{y}<extra></extra>\",\"legendgroup\":\"PA\",\"marker\":{\"color\":\"#B6E880\",\"pattern\":{\"shape\":\"\"}},\"name\":\"PA\",\"offsetgroup\":\"PA\",\"orientation\":\"v\",\"showlegend\":true,\"textposition\":\"auto\",\"x\":[\"PA\"],\"xaxis\":\"x\",\"y\":[2498369.0],\"yaxis\":\"y\",\"type\":\"bar\"},{\"alignmentgroup\":\"True\",\"hovertemplate\":\"state=%{x}<br>year=2019<br>btu_state=%{y}<extra></extra>\",\"legendgroup\":\"RI\",\"marker\":{\"color\":\"#FF97FF\",\"pattern\":{\"shape\":\"\"}},\"name\":\"RI\",\"offsetgroup\":\"RI\",\"orientation\":\"v\",\"showlegend\":true,\"textposition\":\"auto\",\"x\":[\"RI\"],\"xaxis\":\"x\",\"y\":[185974.0],\"yaxis\":\"y\",\"type\":\"bar\"},{\"alignmentgroup\":\"True\",\"hovertemplate\":\"state=%{x}<br>year=2019<br>btu_state=%{y}<extra></extra>\",\"legendgroup\":\"SC\",\"marker\":{\"color\":\"#FECB52\",\"pattern\":{\"shape\":\"\"}},\"name\":\"SC\",\"offsetgroup\":\"SC\",\"orientation\":\"v\",\"showlegend\":true,\"textposition\":\"auto\",\"x\":[\"SC\"],\"xaxis\":\"x\",\"y\":[893149.0],\"yaxis\":\"y\",\"type\":\"bar\"},{\"alignmentgroup\":\"True\",\"hovertemplate\":\"state=%{x}<br>year=2019<br>btu_state=%{y}<extra></extra>\",\"legendgroup\":\"SD\",\"marker\":{\"color\":\"#636efa\",\"pattern\":{\"shape\":\"\"}},\"name\":\"SD\",\"offsetgroup\":\"SD\",\"orientation\":\"v\",\"showlegend\":true,\"textposition\":\"auto\",\"x\":[\"SD\"],\"xaxis\":\"x\",\"y\":[206018.0],\"yaxis\":\"y\",\"type\":\"bar\"},{\"alignmentgroup\":\"True\",\"hovertemplate\":\"state=%{x}<br>year=2019<br>btu_state=%{y}<extra></extra>\",\"legendgroup\":\"TN\",\"marker\":{\"color\":\"#EF553B\",\"pattern\":{\"shape\":\"\"}},\"name\":\"TN\",\"offsetgroup\":\"TN\",\"orientation\":\"v\",\"showlegend\":true,\"textposition\":\"auto\",\"x\":[\"TN\"],\"xaxis\":\"x\",\"y\":[1307085.0],\"yaxis\":\"y\",\"type\":\"bar\"},{\"alignmentgroup\":\"True\",\"hovertemplate\":\"state=%{x}<br>year=2019<br>btu_state=%{y}<extra></extra>\",\"legendgroup\":\"TX\",\"marker\":{\"color\":\"#00cc96\",\"pattern\":{\"shape\":\"\"}},\"name\":\"TX\",\"offsetgroup\":\"TX\",\"orientation\":\"v\",\"showlegend\":true,\"textposition\":\"auto\",\"x\":[\"TX\"],\"xaxis\":\"x\",\"y\":[4389879.0],\"yaxis\":\"y\",\"type\":\"bar\"},{\"alignmentgroup\":\"True\",\"hovertemplate\":\"state=%{x}<br>year=2019<br>btu_state=%{y}<extra></extra>\",\"legendgroup\":\"UT\",\"marker\":{\"color\":\"#ab63fa\",\"pattern\":{\"shape\":\"\"}},\"name\":\"UT\",\"offsetgroup\":\"UT\",\"orientation\":\"v\",\"showlegend\":true,\"textposition\":\"auto\",\"x\":[\"UT\"],\"xaxis\":\"x\",\"y\":[513166.0],\"yaxis\":\"y\",\"type\":\"bar\"},{\"alignmentgroup\":\"True\",\"hovertemplate\":\"state=%{x}<br>year=2019<br>btu_state=%{y}<extra></extra>\",\"legendgroup\":\"VA\",\"marker\":{\"color\":\"#FFA15A\",\"pattern\":{\"shape\":\"\"}},\"name\":\"VA\",\"offsetgroup\":\"VA\",\"orientation\":\"v\",\"showlegend\":true,\"textposition\":\"auto\",\"x\":[\"VA\"],\"xaxis\":\"x\",\"y\":[1476908.0],\"yaxis\":\"y\",\"type\":\"bar\"},{\"alignmentgroup\":\"True\",\"hovertemplate\":\"state=%{x}<br>year=2019<br>btu_state=%{y}<extra></extra>\",\"legendgroup\":\"VT\",\"marker\":{\"color\":\"#19d3f3\",\"pattern\":{\"shape\":\"\"}},\"name\":\"VT\",\"offsetgroup\":\"VT\",\"orientation\":\"v\",\"showlegend\":true,\"textposition\":\"auto\",\"x\":[\"VT\"],\"xaxis\":\"x\",\"y\":[183121.0],\"yaxis\":\"y\",\"type\":\"bar\"},{\"alignmentgroup\":\"True\",\"hovertemplate\":\"state=%{x}<br>year=2019<br>btu_state=%{y}<extra></extra>\",\"legendgroup\":\"WA\",\"marker\":{\"color\":\"#FF6692\",\"pattern\":{\"shape\":\"\"}},\"name\":\"WA\",\"offsetgroup\":\"WA\",\"orientation\":\"v\",\"showlegend\":true,\"textposition\":\"auto\",\"x\":[\"WA\"],\"xaxis\":\"x\",\"y\":[1323263.0],\"yaxis\":\"y\",\"type\":\"bar\"},{\"alignmentgroup\":\"True\",\"hovertemplate\":\"state=%{x}<br>year=2019<br>btu_state=%{y}<extra></extra>\",\"legendgroup\":\"WI\",\"marker\":{\"color\":\"#B6E880\",\"pattern\":{\"shape\":\"\"}},\"name\":\"WI\",\"offsetgroup\":\"WI\",\"orientation\":\"v\",\"showlegend\":true,\"textposition\":\"auto\",\"x\":[\"WI\"],\"xaxis\":\"x\",\"y\":[1297600.0],\"yaxis\":\"y\",\"type\":\"bar\"},{\"alignmentgroup\":\"True\",\"hovertemplate\":\"state=%{x}<br>year=2019<br>btu_state=%{y}<extra></extra>\",\"legendgroup\":\"WV\",\"marker\":{\"color\":\"#FF97FF\",\"pattern\":{\"shape\":\"\"}},\"name\":\"WV\",\"offsetgroup\":\"WV\",\"orientation\":\"v\",\"showlegend\":true,\"textposition\":\"auto\",\"x\":[\"WV\"],\"xaxis\":\"x\",\"y\":[407865.0],\"yaxis\":\"y\",\"type\":\"bar\"},{\"alignmentgroup\":\"True\",\"hovertemplate\":\"state=%{x}<br>year=2019<br>btu_state=%{y}<extra></extra>\",\"legendgroup\":\"WY\",\"marker\":{\"color\":\"#FECB52\",\"pattern\":{\"shape\":\"\"}},\"name\":\"WY\",\"offsetgroup\":\"WY\",\"orientation\":\"v\",\"showlegend\":true,\"textposition\":\"auto\",\"x\":[\"WY\"],\"xaxis\":\"x\",\"y\":[152236.0],\"yaxis\":\"y\",\"type\":\"bar\"}],                        {\"template\":{\"data\":{\"histogram2dcontour\":[{\"type\":\"histogram2dcontour\",\"colorbar\":{\"outlinewidth\":0,\"ticks\":\"\"},\"colorscale\":[[0.0,\"#0d0887\"],[0.1111111111111111,\"#46039f\"],[0.2222222222222222,\"#7201a8\"],[0.3333333333333333,\"#9c179e\"],[0.4444444444444444,\"#bd3786\"],[0.5555555555555556,\"#d8576b\"],[0.6666666666666666,\"#ed7953\"],[0.7777777777777778,\"#fb9f3a\"],[0.8888888888888888,\"#fdca26\"],[1.0,\"#f0f921\"]]}],\"choropleth\":[{\"type\":\"choropleth\",\"colorbar\":{\"outlinewidth\":0,\"ticks\":\"\"}}],\"histogram2d\":[{\"type\":\"histogram2d\",\"colorbar\":{\"outlinewidth\":0,\"ticks\":\"\"},\"colorscale\":[[0.0,\"#0d0887\"],[0.1111111111111111,\"#46039f\"],[0.2222222222222222,\"#7201a8\"],[0.3333333333333333,\"#9c179e\"],[0.4444444444444444,\"#bd3786\"],[0.5555555555555556,\"#d8576b\"],[0.6666666666666666,\"#ed7953\"],[0.7777777777777778,\"#fb9f3a\"],[0.8888888888888888,\"#fdca26\"],[1.0,\"#f0f921\"]]}],\"heatmap\":[{\"type\":\"heatmap\",\"colorbar\":{\"outlinewidth\":0,\"ticks\":\"\"},\"colorscale\":[[0.0,\"#0d0887\"],[0.1111111111111111,\"#46039f\"],[0.2222222222222222,\"#7201a8\"],[0.3333333333333333,\"#9c179e\"],[0.4444444444444444,\"#bd3786\"],[0.5555555555555556,\"#d8576b\"],[0.6666666666666666,\"#ed7953\"],[0.7777777777777778,\"#fb9f3a\"],[0.8888888888888888,\"#fdca26\"],[1.0,\"#f0f921\"]]}],\"heatmapgl\":[{\"type\":\"heatmapgl\",\"colorbar\":{\"outlinewidth\":0,\"ticks\":\"\"},\"colorscale\":[[0.0,\"#0d0887\"],[0.1111111111111111,\"#46039f\"],[0.2222222222222222,\"#7201a8\"],[0.3333333333333333,\"#9c179e\"],[0.4444444444444444,\"#bd3786\"],[0.5555555555555556,\"#d8576b\"],[0.6666666666666666,\"#ed7953\"],[0.7777777777777778,\"#fb9f3a\"],[0.8888888888888888,\"#fdca26\"],[1.0,\"#f0f921\"]]}],\"contourcarpet\":[{\"type\":\"contourcarpet\",\"colorbar\":{\"outlinewidth\":0,\"ticks\":\"\"}}],\"contour\":[{\"type\":\"contour\",\"colorbar\":{\"outlinewidth\":0,\"ticks\":\"\"},\"colorscale\":[[0.0,\"#0d0887\"],[0.1111111111111111,\"#46039f\"],[0.2222222222222222,\"#7201a8\"],[0.3333333333333333,\"#9c179e\"],[0.4444444444444444,\"#bd3786\"],[0.5555555555555556,\"#d8576b\"],[0.6666666666666666,\"#ed7953\"],[0.7777777777777778,\"#fb9f3a\"],[0.8888888888888888,\"#fdca26\"],[1.0,\"#f0f921\"]]}],\"surface\":[{\"type\":\"surface\",\"colorbar\":{\"outlinewidth\":0,\"ticks\":\"\"},\"colorscale\":[[0.0,\"#0d0887\"],[0.1111111111111111,\"#46039f\"],[0.2222222222222222,\"#7201a8\"],[0.3333333333333333,\"#9c179e\"],[0.4444444444444444,\"#bd3786\"],[0.5555555555555556,\"#d8576b\"],[0.6666666666666666,\"#ed7953\"],[0.7777777777777778,\"#fb9f3a\"],[0.8888888888888888,\"#fdca26\"],[1.0,\"#f0f921\"]]}],\"mesh3d\":[{\"type\":\"mesh3d\",\"colorbar\":{\"outlinewidth\":0,\"ticks\":\"\"}}],\"scatter\":[{\"fillpattern\":{\"fillmode\":\"overlay\",\"size\":10,\"solidity\":0.2},\"type\":\"scatter\"}],\"parcoords\":[{\"type\":\"parcoords\",\"line\":{\"colorbar\":{\"outlinewidth\":0,\"ticks\":\"\"}}}],\"scatterpolargl\":[{\"type\":\"scatterpolargl\",\"marker\":{\"colorbar\":{\"outlinewidth\":0,\"ticks\":\"\"}}}],\"bar\":[{\"error_x\":{\"color\":\"#2a3f5f\"},\"error_y\":{\"color\":\"#2a3f5f\"},\"marker\":{\"line\":{\"color\":\"#E5ECF6\",\"width\":0.5},\"pattern\":{\"fillmode\":\"overlay\",\"size\":10,\"solidity\":0.2}},\"type\":\"bar\"}],\"scattergeo\":[{\"type\":\"scattergeo\",\"marker\":{\"colorbar\":{\"outlinewidth\":0,\"ticks\":\"\"}}}],\"scatterpolar\":[{\"type\":\"scatterpolar\",\"marker\":{\"colorbar\":{\"outlinewidth\":0,\"ticks\":\"\"}}}],\"histogram\":[{\"marker\":{\"pattern\":{\"fillmode\":\"overlay\",\"size\":10,\"solidity\":0.2}},\"type\":\"histogram\"}],\"scattergl\":[{\"type\":\"scattergl\",\"marker\":{\"colorbar\":{\"outlinewidth\":0,\"ticks\":\"\"}}}],\"scatter3d\":[{\"type\":\"scatter3d\",\"line\":{\"colorbar\":{\"outlinewidth\":0,\"ticks\":\"\"}},\"marker\":{\"colorbar\":{\"outlinewidth\":0,\"ticks\":\"\"}}}],\"scattermapbox\":[{\"type\":\"scattermapbox\",\"marker\":{\"colorbar\":{\"outlinewidth\":0,\"ticks\":\"\"}}}],\"scatterternary\":[{\"type\":\"scatterternary\",\"marker\":{\"colorbar\":{\"outlinewidth\":0,\"ticks\":\"\"}}}],\"scattercarpet\":[{\"type\":\"scattercarpet\",\"marker\":{\"colorbar\":{\"outlinewidth\":0,\"ticks\":\"\"}}}],\"carpet\":[{\"aaxis\":{\"endlinecolor\":\"#2a3f5f\",\"gridcolor\":\"white\",\"linecolor\":\"white\",\"minorgridcolor\":\"white\",\"startlinecolor\":\"#2a3f5f\"},\"baxis\":{\"endlinecolor\":\"#2a3f5f\",\"gridcolor\":\"white\",\"linecolor\":\"white\",\"minorgridcolor\":\"white\",\"startlinecolor\":\"#2a3f5f\"},\"type\":\"carpet\"}],\"table\":[{\"cells\":{\"fill\":{\"color\":\"#EBF0F8\"},\"line\":{\"color\":\"white\"}},\"header\":{\"fill\":{\"color\":\"#C8D4E3\"},\"line\":{\"color\":\"white\"}},\"type\":\"table\"}],\"barpolar\":[{\"marker\":{\"line\":{\"color\":\"#E5ECF6\",\"width\":0.5},\"pattern\":{\"fillmode\":\"overlay\",\"size\":10,\"solidity\":0.2}},\"type\":\"barpolar\"}],\"pie\":[{\"automargin\":true,\"type\":\"pie\"}]},\"layout\":{\"autotypenumbers\":\"strict\",\"colorway\":[\"#636efa\",\"#EF553B\",\"#00cc96\",\"#ab63fa\",\"#FFA15A\",\"#19d3f3\",\"#FF6692\",\"#B6E880\",\"#FF97FF\",\"#FECB52\"],\"font\":{\"color\":\"#2a3f5f\"},\"hovermode\":\"closest\",\"hoverlabel\":{\"align\":\"left\"},\"paper_bgcolor\":\"white\",\"plot_bgcolor\":\"#E5ECF6\",\"polar\":{\"bgcolor\":\"#E5ECF6\",\"angularaxis\":{\"gridcolor\":\"white\",\"linecolor\":\"white\",\"ticks\":\"\"},\"radialaxis\":{\"gridcolor\":\"white\",\"linecolor\":\"white\",\"ticks\":\"\"}},\"ternary\":{\"bgcolor\":\"#E5ECF6\",\"aaxis\":{\"gridcolor\":\"white\",\"linecolor\":\"white\",\"ticks\":\"\"},\"baxis\":{\"gridcolor\":\"white\",\"linecolor\":\"white\",\"ticks\":\"\"},\"caxis\":{\"gridcolor\":\"white\",\"linecolor\":\"white\",\"ticks\":\"\"}},\"coloraxis\":{\"colorbar\":{\"outlinewidth\":0,\"ticks\":\"\"}},\"colorscale\":{\"sequential\":[[0.0,\"#0d0887\"],[0.1111111111111111,\"#46039f\"],[0.2222222222222222,\"#7201a8\"],[0.3333333333333333,\"#9c179e\"],[0.4444444444444444,\"#bd3786\"],[0.5555555555555556,\"#d8576b\"],[0.6666666666666666,\"#ed7953\"],[0.7777777777777778,\"#fb9f3a\"],[0.8888888888888888,\"#fdca26\"],[1.0,\"#f0f921\"]],\"sequentialminus\":[[0.0,\"#0d0887\"],[0.1111111111111111,\"#46039f\"],[0.2222222222222222,\"#7201a8\"],[0.3333333333333333,\"#9c179e\"],[0.4444444444444444,\"#bd3786\"],[0.5555555555555556,\"#d8576b\"],[0.6666666666666666,\"#ed7953\"],[0.7777777777777778,\"#fb9f3a\"],[0.8888888888888888,\"#fdca26\"],[1.0,\"#f0f921\"]],\"diverging\":[[0,\"#8e0152\"],[0.1,\"#c51b7d\"],[0.2,\"#de77ae\"],[0.3,\"#f1b6da\"],[0.4,\"#fde0ef\"],[0.5,\"#f7f7f7\"],[0.6,\"#e6f5d0\"],[0.7,\"#b8e186\"],[0.8,\"#7fbc41\"],[0.9,\"#4d9221\"],[1,\"#276419\"]]},\"xaxis\":{\"gridcolor\":\"white\",\"linecolor\":\"white\",\"ticks\":\"\",\"title\":{\"standoff\":15},\"zerolinecolor\":\"white\",\"automargin\":true,\"zerolinewidth\":2},\"yaxis\":{\"gridcolor\":\"white\",\"linecolor\":\"white\",\"ticks\":\"\",\"title\":{\"standoff\":15},\"zerolinecolor\":\"white\",\"automargin\":true,\"zerolinewidth\":2},\"scene\":{\"xaxis\":{\"backgroundcolor\":\"#E5ECF6\",\"gridcolor\":\"white\",\"linecolor\":\"white\",\"showbackground\":true,\"ticks\":\"\",\"zerolinecolor\":\"white\",\"gridwidth\":2},\"yaxis\":{\"backgroundcolor\":\"#E5ECF6\",\"gridcolor\":\"white\",\"linecolor\":\"white\",\"showbackground\":true,\"ticks\":\"\",\"zerolinecolor\":\"white\",\"gridwidth\":2},\"zaxis\":{\"backgroundcolor\":\"#E5ECF6\",\"gridcolor\":\"white\",\"linecolor\":\"white\",\"showbackground\":true,\"ticks\":\"\",\"zerolinecolor\":\"white\",\"gridwidth\":2}},\"shapedefaults\":{\"line\":{\"color\":\"#2a3f5f\"}},\"annotationdefaults\":{\"arrowcolor\":\"#2a3f5f\",\"arrowhead\":0,\"arrowwidth\":1},\"geo\":{\"bgcolor\":\"white\",\"landcolor\":\"#E5ECF6\",\"subunitcolor\":\"white\",\"showland\":true,\"showlakes\":true,\"lakecolor\":\"white\"},\"title\":{\"x\":0.05},\"mapbox\":{\"style\":\"light\"}}},\"xaxis\":{\"anchor\":\"y\",\"domain\":[0.0,1.0],\"title\":{\"text\":\"state\"},\"categoryorder\":\"total ascending\",\"categoryarray\":[\"AK\",\"AL\",\"AR\",\"AZ\",\"CA\",\"CO\",\"CT\",\"DE\",\"FL\",\"GA\",\"HI\",\"IA\",\"ID\",\"IL\",\"IN\",\"KS\",\"KY\",\"LA\",\"MA\",\"MD\",\"ME\",\"MI\",\"MN\",\"MO\",\"MS\",\"MT\",\"NC\",\"ND\",\"NE\",\"NH\",\"NJ\",\"NM\",\"NV\",\"NY\",\"OH\",\"OK\",\"OR\",\"PA\",\"RI\",\"SC\",\"SD\",\"TN\",\"TX\",\"UT\",\"VA\",\"VT\",\"WA\",\"WI\",\"WV\",\"WY\"]},\"yaxis\":{\"anchor\":\"x\",\"domain\":[0.0,1.0],\"title\":{\"text\":\"btu_state\"},\"range\":[0,4389879.0]},\"legend\":{\"title\":{\"text\":\"state\"},\"tracegroupgap\":0},\"title\":{\"text\":\"United States residential energy consumption PER STATE (BTU)\"},\"barmode\":\"relative\",\"updatemenus\":[{\"buttons\":[{\"args\":[null,{\"frame\":{\"duration\":500,\"redraw\":true},\"mode\":\"immediate\",\"fromcurrent\":true,\"transition\":{\"duration\":500,\"easing\":\"linear\"}}],\"label\":\"&#9654;\",\"method\":\"animate\"},{\"args\":[[null],{\"frame\":{\"duration\":0,\"redraw\":true},\"mode\":\"immediate\",\"fromcurrent\":true,\"transition\":{\"duration\":0,\"easing\":\"linear\"}}],\"label\":\"&#9724;\",\"method\":\"animate\"}],\"direction\":\"left\",\"pad\":{\"r\":10,\"t\":70},\"showactive\":false,\"type\":\"buttons\",\"x\":0.1,\"xanchor\":\"right\",\"y\":0,\"yanchor\":\"top\"}],\"sliders\":[{\"active\":0,\"currentvalue\":{\"prefix\":\"year=\"},\"len\":0.9,\"pad\":{\"b\":10,\"t\":60},\"steps\":[{\"args\":[[\"2019\"],{\"frame\":{\"duration\":0,\"redraw\":true},\"mode\":\"immediate\",\"fromcurrent\":true,\"transition\":{\"duration\":0,\"easing\":\"linear\"}}],\"label\":\"2019\",\"method\":\"animate\"},{\"args\":[[\"2020\"],{\"frame\":{\"duration\":0,\"redraw\":true},\"mode\":\"immediate\",\"fromcurrent\":true,\"transition\":{\"duration\":0,\"easing\":\"linear\"}}],\"label\":\"2020\",\"method\":\"animate\"},{\"args\":[[\"2021\"],{\"frame\":{\"duration\":0,\"redraw\":true},\"mode\":\"immediate\",\"fromcurrent\":true,\"transition\":{\"duration\":0,\"easing\":\"linear\"}}],\"label\":\"2021\",\"method\":\"animate\"}],\"x\":0.1,\"xanchor\":\"left\",\"y\":0,\"yanchor\":\"top\"}]},                        {\"responsive\": true}                    ).then(function(){\n",
       "                            Plotly.addFrames('f6e37bae-746f-4905-b956-0d4f15206d19', [{\"data\":[{\"alignmentgroup\":\"True\",\"hovertemplate\":\"state=%{x}<br>year=2019<br>btu_state=%{y}<extra></extra>\",\"legendgroup\":\"AK\",\"marker\":{\"color\":\"#636efa\",\"pattern\":{\"shape\":\"\"}},\"name\":\"AK\",\"offsetgroup\":\"AK\",\"orientation\":\"v\",\"showlegend\":true,\"textposition\":\"auto\",\"x\":[\"AK\"],\"xaxis\":\"x\",\"y\":[146972.0],\"yaxis\":\"y\",\"type\":\"bar\"},{\"alignmentgroup\":\"True\",\"hovertemplate\":\"state=%{x}<br>year=2019<br>btu_state=%{y}<extra></extra>\",\"legendgroup\":\"AL\",\"marker\":{\"color\":\"#EF553B\",\"pattern\":{\"shape\":\"\"}},\"name\":\"AL\",\"offsetgroup\":\"AL\",\"orientation\":\"v\",\"showlegend\":true,\"textposition\":\"auto\",\"x\":[\"AL\"],\"xaxis\":\"x\",\"y\":[860730.0],\"yaxis\":\"y\",\"type\":\"bar\"},{\"alignmentgroup\":\"True\",\"hovertemplate\":\"state=%{x}<br>year=2019<br>btu_state=%{y}<extra></extra>\",\"legendgroup\":\"AR\",\"marker\":{\"color\":\"#00cc96\",\"pattern\":{\"shape\":\"\"}},\"name\":\"AR\",\"offsetgroup\":\"AR\",\"orientation\":\"v\",\"showlegend\":true,\"textposition\":\"auto\",\"x\":[\"AR\"],\"xaxis\":\"x\",\"y\":[580372.0],\"yaxis\":\"y\",\"type\":\"bar\"},{\"alignmentgroup\":\"True\",\"hovertemplate\":\"state=%{x}<br>year=2019<br>btu_state=%{y}<extra></extra>\",\"legendgroup\":\"AZ\",\"marker\":{\"color\":\"#ab63fa\",\"pattern\":{\"shape\":\"\"}},\"name\":\"AZ\",\"offsetgroup\":\"AZ\",\"orientation\":\"v\",\"showlegend\":true,\"textposition\":\"auto\",\"x\":[\"AZ\"],\"xaxis\":\"x\",\"y\":[1054246.0],\"yaxis\":\"y\",\"type\":\"bar\"},{\"alignmentgroup\":\"True\",\"hovertemplate\":\"state=%{x}<br>year=2019<br>btu_state=%{y}<extra></extra>\",\"legendgroup\":\"CA\",\"marker\":{\"color\":\"#FFA15A\",\"pattern\":{\"shape\":\"\"}},\"name\":\"CA\",\"offsetgroup\":\"CA\",\"orientation\":\"v\",\"showlegend\":true,\"textposition\":\"auto\",\"x\":[\"CA\"],\"xaxis\":\"x\",\"y\":[4029464.0],\"yaxis\":\"y\",\"type\":\"bar\"},{\"alignmentgroup\":\"True\",\"hovertemplate\":\"state=%{x}<br>year=2019<br>btu_state=%{y}<extra></extra>\",\"legendgroup\":\"CO\",\"marker\":{\"color\":\"#19d3f3\",\"pattern\":{\"shape\":\"\"}},\"name\":\"CO\",\"offsetgroup\":\"CO\",\"orientation\":\"v\",\"showlegend\":true,\"textposition\":\"auto\",\"x\":[\"CO\"],\"xaxis\":\"x\",\"y\":[1056678.0],\"yaxis\":\"y\",\"type\":\"bar\"},{\"alignmentgroup\":\"True\",\"hovertemplate\":\"state=%{x}<br>year=2019<br>btu_state=%{y}<extra></extra>\",\"legendgroup\":\"CT\",\"marker\":{\"color\":\"#FF6692\",\"pattern\":{\"shape\":\"\"}},\"name\":\"CT\",\"offsetgroup\":\"CT\",\"orientation\":\"v\",\"showlegend\":true,\"textposition\":\"auto\",\"x\":[\"CT\"],\"xaxis\":\"x\",\"y\":[729607.0],\"yaxis\":\"y\",\"type\":\"bar\"},{\"alignmentgroup\":\"True\",\"hovertemplate\":\"state=%{x}<br>year=2019<br>btu_state=%{y}<extra></extra>\",\"legendgroup\":\"DE\",\"marker\":{\"color\":\"#B6E880\",\"pattern\":{\"shape\":\"\"}},\"name\":\"DE\",\"offsetgroup\":\"DE\",\"orientation\":\"v\",\"showlegend\":true,\"textposition\":\"auto\",\"x\":[\"DE\"],\"xaxis\":\"x\",\"y\":[177089.0],\"yaxis\":\"y\",\"type\":\"bar\"},{\"alignmentgroup\":\"True\",\"hovertemplate\":\"state=%{x}<br>year=2019<br>btu_state=%{y}<extra></extra>\",\"legendgroup\":\"FL\",\"marker\":{\"color\":\"#FF97FF\",\"pattern\":{\"shape\":\"\"}},\"name\":\"FL\",\"offsetgroup\":\"FL\",\"orientation\":\"v\",\"showlegend\":true,\"textposition\":\"auto\",\"x\":[\"FL\"],\"xaxis\":\"x\",\"y\":[2914578.0],\"yaxis\":\"y\",\"type\":\"bar\"},{\"alignmentgroup\":\"True\",\"hovertemplate\":\"state=%{x}<br>year=2019<br>btu_state=%{y}<extra></extra>\",\"legendgroup\":\"GA\",\"marker\":{\"color\":\"#FECB52\",\"pattern\":{\"shape\":\"\"}},\"name\":\"GA\",\"offsetgroup\":\"GA\",\"orientation\":\"v\",\"showlegend\":true,\"textposition\":\"auto\",\"x\":[\"GA\"],\"xaxis\":\"x\",\"y\":[1795035.0],\"yaxis\":\"y\",\"type\":\"bar\"},{\"alignmentgroup\":\"True\",\"hovertemplate\":\"state=%{x}<br>year=2019<br>btu_state=%{y}<extra></extra>\",\"legendgroup\":\"HI\",\"marker\":{\"color\":\"#636efa\",\"pattern\":{\"shape\":\"\"}},\"name\":\"HI\",\"offsetgroup\":\"HI\",\"orientation\":\"v\",\"showlegend\":true,\"textposition\":\"auto\",\"x\":[\"HI\"],\"xaxis\":\"x\",\"y\":[97105.0],\"yaxis\":\"y\",\"type\":\"bar\"},{\"alignmentgroup\":\"True\",\"hovertemplate\":\"state=%{x}<br>year=2019<br>btu_state=%{y}<extra></extra>\",\"legendgroup\":\"IA\",\"marker\":{\"color\":\"#EF553B\",\"pattern\":{\"shape\":\"\"}},\"name\":\"IA\",\"offsetgroup\":\"IA\",\"orientation\":\"v\",\"showlegend\":true,\"textposition\":\"auto\",\"x\":[\"IA\"],\"xaxis\":\"x\",\"y\":[714005.0],\"yaxis\":\"y\",\"type\":\"bar\"},{\"alignmentgroup\":\"True\",\"hovertemplate\":\"state=%{x}<br>year=2019<br>btu_state=%{y}<extra></extra>\",\"legendgroup\":\"ID\",\"marker\":{\"color\":\"#00cc96\",\"pattern\":{\"shape\":\"\"}},\"name\":\"ID\",\"offsetgroup\":\"ID\",\"orientation\":\"v\",\"showlegend\":true,\"textposition\":\"auto\",\"x\":[\"ID\"],\"xaxis\":\"x\",\"y\":[385096.0],\"yaxis\":\"y\",\"type\":\"bar\"},{\"alignmentgroup\":\"True\",\"hovertemplate\":\"state=%{x}<br>year=2019<br>btu_state=%{y}<extra></extra>\",\"legendgroup\":\"IL\",\"marker\":{\"color\":\"#ab63fa\",\"pattern\":{\"shape\":\"\"}},\"name\":\"IL\",\"offsetgroup\":\"IL\",\"orientation\":\"v\",\"showlegend\":true,\"textposition\":\"auto\",\"x\":[\"IL\"],\"xaxis\":\"x\",\"y\":[2658344.0],\"yaxis\":\"y\",\"type\":\"bar\"},{\"alignmentgroup\":\"True\",\"hovertemplate\":\"state=%{x}<br>year=2019<br>btu_state=%{y}<extra></extra>\",\"legendgroup\":\"IN\",\"marker\":{\"color\":\"#FFA15A\",\"pattern\":{\"shape\":\"\"}},\"name\":\"IN\",\"offsetgroup\":\"IN\",\"orientation\":\"v\",\"showlegend\":true,\"textposition\":\"auto\",\"x\":[\"IN\"],\"xaxis\":\"x\",\"y\":[1418640.0],\"yaxis\":\"y\",\"type\":\"bar\"},{\"alignmentgroup\":\"True\",\"hovertemplate\":\"state=%{x}<br>year=2019<br>btu_state=%{y}<extra></extra>\",\"legendgroup\":\"KS\",\"marker\":{\"color\":\"#19d3f3\",\"pattern\":{\"shape\":\"\"}},\"name\":\"KS\",\"offsetgroup\":\"KS\",\"orientation\":\"v\",\"showlegend\":true,\"textposition\":\"auto\",\"x\":[\"KS\"],\"xaxis\":\"x\",\"y\":[612843.0],\"yaxis\":\"y\",\"type\":\"bar\"},{\"alignmentgroup\":\"True\",\"hovertemplate\":\"state=%{x}<br>year=2019<br>btu_state=%{y}<extra></extra>\",\"legendgroup\":\"KY\",\"marker\":{\"color\":\"#FF6692\",\"pattern\":{\"shape\":\"\"}},\"name\":\"KY\",\"offsetgroup\":\"KY\",\"orientation\":\"v\",\"showlegend\":true,\"textposition\":\"auto\",\"x\":[\"KY\"],\"xaxis\":\"x\",\"y\":[897357.0],\"yaxis\":\"y\",\"type\":\"bar\"},{\"alignmentgroup\":\"True\",\"hovertemplate\":\"state=%{x}<br>year=2019<br>btu_state=%{y}<extra></extra>\",\"legendgroup\":\"LA\",\"marker\":{\"color\":\"#B6E880\",\"pattern\":{\"shape\":\"\"}},\"name\":\"LA\",\"offsetgroup\":\"LA\",\"orientation\":\"v\",\"showlegend\":true,\"textposition\":\"auto\",\"x\":[\"LA\"],\"xaxis\":\"x\",\"y\":[792481.0],\"yaxis\":\"y\",\"type\":\"bar\"},{\"alignmentgroup\":\"True\",\"hovertemplate\":\"state=%{x}<br>year=2019<br>btu_state=%{y}<extra></extra>\",\"legendgroup\":\"MA\",\"marker\":{\"color\":\"#FF97FF\",\"pattern\":{\"shape\":\"\"}},\"name\":\"MA\",\"offsetgroup\":\"MA\",\"orientation\":\"v\",\"showlegend\":true,\"textposition\":\"auto\",\"x\":[\"MA\"],\"xaxis\":\"x\",\"y\":[1289259.0],\"yaxis\":\"y\",\"type\":\"bar\"},{\"alignmentgroup\":\"True\",\"hovertemplate\":\"state=%{x}<br>year=2019<br>btu_state=%{y}<extra></extra>\",\"legendgroup\":\"MD\",\"marker\":{\"color\":\"#FECB52\",\"pattern\":{\"shape\":\"\"}},\"name\":\"MD\",\"offsetgroup\":\"MD\",\"orientation\":\"v\",\"showlegend\":true,\"textposition\":\"auto\",\"x\":[\"MD\"],\"xaxis\":\"x\",\"y\":[1034554.0],\"yaxis\":\"y\",\"type\":\"bar\"},{\"alignmentgroup\":\"True\",\"hovertemplate\":\"state=%{x}<br>year=2019<br>btu_state=%{y}<extra></extra>\",\"legendgroup\":\"ME\",\"marker\":{\"color\":\"#636efa\",\"pattern\":{\"shape\":\"\"}},\"name\":\"ME\",\"offsetgroup\":\"ME\",\"orientation\":\"v\",\"showlegend\":true,\"textposition\":\"auto\",\"x\":[\"ME\"],\"xaxis\":\"x\",\"y\":[365661.0],\"yaxis\":\"y\",\"type\":\"bar\"},{\"alignmentgroup\":\"True\",\"hovertemplate\":\"state=%{x}<br>year=2019<br>btu_state=%{y}<extra></extra>\",\"legendgroup\":\"MI\",\"marker\":{\"color\":\"#EF553B\",\"pattern\":{\"shape\":\"\"}},\"name\":\"MI\",\"offsetgroup\":\"MI\",\"orientation\":\"v\",\"showlegend\":true,\"textposition\":\"auto\",\"x\":[\"MI\"],\"xaxis\":\"x\",\"y\":[2255736.0],\"yaxis\":\"y\",\"type\":\"bar\"},{\"alignmentgroup\":\"True\",\"hovertemplate\":\"state=%{x}<br>year=2019<br>btu_state=%{y}<extra></extra>\",\"legendgroup\":\"MN\",\"marker\":{\"color\":\"#00cc96\",\"pattern\":{\"shape\":\"\"}},\"name\":\"MN\",\"offsetgroup\":\"MN\",\"orientation\":\"v\",\"showlegend\":true,\"textposition\":\"auto\",\"x\":[\"MN\"],\"xaxis\":\"x\",\"y\":[1209856.0],\"yaxis\":\"y\",\"type\":\"bar\"},{\"alignmentgroup\":\"True\",\"hovertemplate\":\"state=%{x}<br>year=2019<br>btu_state=%{y}<extra></extra>\",\"legendgroup\":\"MO\",\"marker\":{\"color\":\"#ab63fa\",\"pattern\":{\"shape\":\"\"}},\"name\":\"MO\",\"offsetgroup\":\"MO\",\"orientation\":\"v\",\"showlegend\":true,\"textposition\":\"auto\",\"x\":[\"MO\"],\"xaxis\":\"x\",\"y\":[1398156.0],\"yaxis\":\"y\",\"type\":\"bar\"},{\"alignmentgroup\":\"True\",\"hovertemplate\":\"state=%{x}<br>year=2019<br>btu_state=%{y}<extra></extra>\",\"legendgroup\":\"MS\",\"marker\":{\"color\":\"#FFA15A\",\"pattern\":{\"shape\":\"\"}},\"name\":\"MS\",\"offsetgroup\":\"MS\",\"orientation\":\"v\",\"showlegend\":true,\"textposition\":\"auto\",\"x\":[\"MS\"],\"xaxis\":\"x\",\"y\":[501752.0],\"yaxis\":\"y\",\"type\":\"bar\"},{\"alignmentgroup\":\"True\",\"hovertemplate\":\"state=%{x}<br>year=2019<br>btu_state=%{y}<extra></extra>\",\"legendgroup\":\"MT\",\"marker\":{\"color\":\"#19d3f3\",\"pattern\":{\"shape\":\"\"}},\"name\":\"MT\",\"offsetgroup\":\"MT\",\"orientation\":\"v\",\"showlegend\":true,\"textposition\":\"auto\",\"x\":[\"MT\"],\"xaxis\":\"x\",\"y\":[312771.0],\"yaxis\":\"y\",\"type\":\"bar\"},{\"alignmentgroup\":\"True\",\"hovertemplate\":\"state=%{x}<br>year=2019<br>btu_state=%{y}<extra></extra>\",\"legendgroup\":\"NC\",\"marker\":{\"color\":\"#FF6692\",\"pattern\":{\"shape\":\"\"}},\"name\":\"NC\",\"offsetgroup\":\"NC\",\"orientation\":\"v\",\"showlegend\":true,\"textposition\":\"auto\",\"x\":[\"NC\"],\"xaxis\":\"x\",\"y\":[1753597.0],\"yaxis\":\"y\",\"type\":\"bar\"},{\"alignmentgroup\":\"True\",\"hovertemplate\":\"state=%{x}<br>year=2019<br>btu_state=%{y}<extra></extra>\",\"legendgroup\":\"ND\",\"marker\":{\"color\":\"#B6E880\",\"pattern\":{\"shape\":\"\"}},\"name\":\"ND\",\"offsetgroup\":\"ND\",\"orientation\":\"v\",\"showlegend\":true,\"textposition\":\"auto\",\"x\":[\"ND\"],\"xaxis\":\"x\",\"y\":[219261.0],\"yaxis\":\"y\",\"type\":\"bar\"},{\"alignmentgroup\":\"True\",\"hovertemplate\":\"state=%{x}<br>year=2019<br>btu_state=%{y}<extra></extra>\",\"legendgroup\":\"NE\",\"marker\":{\"color\":\"#FF97FF\",\"pattern\":{\"shape\":\"\"}},\"name\":\"NE\",\"offsetgroup\":\"NE\",\"orientation\":\"v\",\"showlegend\":true,\"textposition\":\"auto\",\"x\":[\"NE\"],\"xaxis\":\"x\",\"y\":[449376.0],\"yaxis\":\"y\",\"type\":\"bar\"},{\"alignmentgroup\":\"True\",\"hovertemplate\":\"state=%{x}<br>year=2019<br>btu_state=%{y}<extra></extra>\",\"legendgroup\":\"NH\",\"marker\":{\"color\":\"#FECB52\",\"pattern\":{\"shape\":\"\"}},\"name\":\"NH\",\"offsetgroup\":\"NH\",\"orientation\":\"v\",\"showlegend\":true,\"textposition\":\"auto\",\"x\":[\"NH\"],\"xaxis\":\"x\",\"y\":[345052.0],\"yaxis\":\"y\",\"type\":\"bar\"},{\"alignmentgroup\":\"True\",\"hovertemplate\":\"state=%{x}<br>year=2019<br>btu_state=%{y}<extra></extra>\",\"legendgroup\":\"NJ\",\"marker\":{\"color\":\"#636efa\",\"pattern\":{\"shape\":\"\"}},\"name\":\"NJ\",\"offsetgroup\":\"NJ\",\"orientation\":\"v\",\"showlegend\":true,\"textposition\":\"auto\",\"x\":[\"NJ\"],\"xaxis\":\"x\",\"y\":[1563788.0],\"yaxis\":\"y\",\"type\":\"bar\"},{\"alignmentgroup\":\"True\",\"hovertemplate\":\"state=%{x}<br>year=2019<br>btu_state=%{y}<extra></extra>\",\"legendgroup\":\"NM\",\"marker\":{\"color\":\"#EF553B\",\"pattern\":{\"shape\":\"\"}},\"name\":\"NM\",\"offsetgroup\":\"NM\",\"orientation\":\"v\",\"showlegend\":true,\"textposition\":\"auto\",\"x\":[\"NM\"],\"xaxis\":\"x\",\"y\":[377085.0],\"yaxis\":\"y\",\"type\":\"bar\"},{\"alignmentgroup\":\"True\",\"hovertemplate\":\"state=%{x}<br>year=2019<br>btu_state=%{y}<extra></extra>\",\"legendgroup\":\"NV\",\"marker\":{\"color\":\"#00cc96\",\"pattern\":{\"shape\":\"\"}},\"name\":\"NV\",\"offsetgroup\":\"NV\",\"orientation\":\"v\",\"showlegend\":true,\"textposition\":\"auto\",\"x\":[\"NV\"],\"xaxis\":\"x\",\"y\":[468005.0],\"yaxis\":\"y\",\"type\":\"bar\"},{\"alignmentgroup\":\"True\",\"hovertemplate\":\"state=%{x}<br>year=2019<br>btu_state=%{y}<extra></extra>\",\"legendgroup\":\"NY\",\"marker\":{\"color\":\"#ab63fa\",\"pattern\":{\"shape\":\"\"}},\"name\":\"NY\",\"offsetgroup\":\"NY\",\"orientation\":\"v\",\"showlegend\":true,\"textposition\":\"auto\",\"x\":[\"NY\"],\"xaxis\":\"x\",\"y\":[3333906.0],\"yaxis\":\"y\",\"type\":\"bar\"},{\"alignmentgroup\":\"True\",\"hovertemplate\":\"state=%{x}<br>year=2019<br>btu_state=%{y}<extra></extra>\",\"legendgroup\":\"OH\",\"marker\":{\"color\":\"#FFA15A\",\"pattern\":{\"shape\":\"\"}},\"name\":\"OH\",\"offsetgroup\":\"OH\",\"orientation\":\"v\",\"showlegend\":true,\"textposition\":\"auto\",\"x\":[\"OH\"],\"xaxis\":\"x\",\"y\":[2360913.0],\"yaxis\":\"y\",\"type\":\"bar\"},{\"alignmentgroup\":\"True\",\"hovertemplate\":\"state=%{x}<br>year=2019<br>btu_state=%{y}<extra></extra>\",\"legendgroup\":\"OK\",\"marker\":{\"color\":\"#19d3f3\",\"pattern\":{\"shape\":\"\"}},\"name\":\"OK\",\"offsetgroup\":\"OK\",\"orientation\":\"v\",\"showlegend\":true,\"textposition\":\"auto\",\"x\":[\"OK\"],\"xaxis\":\"x\",\"y\":[784135.0],\"yaxis\":\"y\",\"type\":\"bar\"},{\"alignmentgroup\":\"True\",\"hovertemplate\":\"state=%{x}<br>year=2019<br>btu_state=%{y}<extra></extra>\",\"legendgroup\":\"OR\",\"marker\":{\"color\":\"#FF6692\",\"pattern\":{\"shape\":\"\"}},\"name\":\"OR\",\"offsetgroup\":\"OR\",\"orientation\":\"v\",\"showlegend\":true,\"textposition\":\"auto\",\"x\":[\"OR\"],\"xaxis\":\"x\",\"y\":[700078.0],\"yaxis\":\"y\",\"type\":\"bar\"},{\"alignmentgroup\":\"True\",\"hovertemplate\":\"state=%{x}<br>year=2019<br>btu_state=%{y}<extra></extra>\",\"legendgroup\":\"PA\",\"marker\":{\"color\":\"#B6E880\",\"pattern\":{\"shape\":\"\"}},\"name\":\"PA\",\"offsetgroup\":\"PA\",\"orientation\":\"v\",\"showlegend\":true,\"textposition\":\"auto\",\"x\":[\"PA\"],\"xaxis\":\"x\",\"y\":[2498369.0],\"yaxis\":\"y\",\"type\":\"bar\"},{\"alignmentgroup\":\"True\",\"hovertemplate\":\"state=%{x}<br>year=2019<br>btu_state=%{y}<extra></extra>\",\"legendgroup\":\"RI\",\"marker\":{\"color\":\"#FF97FF\",\"pattern\":{\"shape\":\"\"}},\"name\":\"RI\",\"offsetgroup\":\"RI\",\"orientation\":\"v\",\"showlegend\":true,\"textposition\":\"auto\",\"x\":[\"RI\"],\"xaxis\":\"x\",\"y\":[185974.0],\"yaxis\":\"y\",\"type\":\"bar\"},{\"alignmentgroup\":\"True\",\"hovertemplate\":\"state=%{x}<br>year=2019<br>btu_state=%{y}<extra></extra>\",\"legendgroup\":\"SC\",\"marker\":{\"color\":\"#FECB52\",\"pattern\":{\"shape\":\"\"}},\"name\":\"SC\",\"offsetgroup\":\"SC\",\"orientation\":\"v\",\"showlegend\":true,\"textposition\":\"auto\",\"x\":[\"SC\"],\"xaxis\":\"x\",\"y\":[893149.0],\"yaxis\":\"y\",\"type\":\"bar\"},{\"alignmentgroup\":\"True\",\"hovertemplate\":\"state=%{x}<br>year=2019<br>btu_state=%{y}<extra></extra>\",\"legendgroup\":\"SD\",\"marker\":{\"color\":\"#636efa\",\"pattern\":{\"shape\":\"\"}},\"name\":\"SD\",\"offsetgroup\":\"SD\",\"orientation\":\"v\",\"showlegend\":true,\"textposition\":\"auto\",\"x\":[\"SD\"],\"xaxis\":\"x\",\"y\":[206018.0],\"yaxis\":\"y\",\"type\":\"bar\"},{\"alignmentgroup\":\"True\",\"hovertemplate\":\"state=%{x}<br>year=2019<br>btu_state=%{y}<extra></extra>\",\"legendgroup\":\"TN\",\"marker\":{\"color\":\"#EF553B\",\"pattern\":{\"shape\":\"\"}},\"name\":\"TN\",\"offsetgroup\":\"TN\",\"orientation\":\"v\",\"showlegend\":true,\"textposition\":\"auto\",\"x\":[\"TN\"],\"xaxis\":\"x\",\"y\":[1307085.0],\"yaxis\":\"y\",\"type\":\"bar\"},{\"alignmentgroup\":\"True\",\"hovertemplate\":\"state=%{x}<br>year=2019<br>btu_state=%{y}<extra></extra>\",\"legendgroup\":\"TX\",\"marker\":{\"color\":\"#00cc96\",\"pattern\":{\"shape\":\"\"}},\"name\":\"TX\",\"offsetgroup\":\"TX\",\"orientation\":\"v\",\"showlegend\":true,\"textposition\":\"auto\",\"x\":[\"TX\"],\"xaxis\":\"x\",\"y\":[4389879.0],\"yaxis\":\"y\",\"type\":\"bar\"},{\"alignmentgroup\":\"True\",\"hovertemplate\":\"state=%{x}<br>year=2019<br>btu_state=%{y}<extra></extra>\",\"legendgroup\":\"UT\",\"marker\":{\"color\":\"#ab63fa\",\"pattern\":{\"shape\":\"\"}},\"name\":\"UT\",\"offsetgroup\":\"UT\",\"orientation\":\"v\",\"showlegend\":true,\"textposition\":\"auto\",\"x\":[\"UT\"],\"xaxis\":\"x\",\"y\":[513166.0],\"yaxis\":\"y\",\"type\":\"bar\"},{\"alignmentgroup\":\"True\",\"hovertemplate\":\"state=%{x}<br>year=2019<br>btu_state=%{y}<extra></extra>\",\"legendgroup\":\"VA\",\"marker\":{\"color\":\"#FFA15A\",\"pattern\":{\"shape\":\"\"}},\"name\":\"VA\",\"offsetgroup\":\"VA\",\"orientation\":\"v\",\"showlegend\":true,\"textposition\":\"auto\",\"x\":[\"VA\"],\"xaxis\":\"x\",\"y\":[1476908.0],\"yaxis\":\"y\",\"type\":\"bar\"},{\"alignmentgroup\":\"True\",\"hovertemplate\":\"state=%{x}<br>year=2019<br>btu_state=%{y}<extra></extra>\",\"legendgroup\":\"VT\",\"marker\":{\"color\":\"#19d3f3\",\"pattern\":{\"shape\":\"\"}},\"name\":\"VT\",\"offsetgroup\":\"VT\",\"orientation\":\"v\",\"showlegend\":true,\"textposition\":\"auto\",\"x\":[\"VT\"],\"xaxis\":\"x\",\"y\":[183121.0],\"yaxis\":\"y\",\"type\":\"bar\"},{\"alignmentgroup\":\"True\",\"hovertemplate\":\"state=%{x}<br>year=2019<br>btu_state=%{y}<extra></extra>\",\"legendgroup\":\"WA\",\"marker\":{\"color\":\"#FF6692\",\"pattern\":{\"shape\":\"\"}},\"name\":\"WA\",\"offsetgroup\":\"WA\",\"orientation\":\"v\",\"showlegend\":true,\"textposition\":\"auto\",\"x\":[\"WA\"],\"xaxis\":\"x\",\"y\":[1323263.0],\"yaxis\":\"y\",\"type\":\"bar\"},{\"alignmentgroup\":\"True\",\"hovertemplate\":\"state=%{x}<br>year=2019<br>btu_state=%{y}<extra></extra>\",\"legendgroup\":\"WI\",\"marker\":{\"color\":\"#B6E880\",\"pattern\":{\"shape\":\"\"}},\"name\":\"WI\",\"offsetgroup\":\"WI\",\"orientation\":\"v\",\"showlegend\":true,\"textposition\":\"auto\",\"x\":[\"WI\"],\"xaxis\":\"x\",\"y\":[1297600.0],\"yaxis\":\"y\",\"type\":\"bar\"},{\"alignmentgroup\":\"True\",\"hovertemplate\":\"state=%{x}<br>year=2019<br>btu_state=%{y}<extra></extra>\",\"legendgroup\":\"WV\",\"marker\":{\"color\":\"#FF97FF\",\"pattern\":{\"shape\":\"\"}},\"name\":\"WV\",\"offsetgroup\":\"WV\",\"orientation\":\"v\",\"showlegend\":true,\"textposition\":\"auto\",\"x\":[\"WV\"],\"xaxis\":\"x\",\"y\":[407865.0],\"yaxis\":\"y\",\"type\":\"bar\"},{\"alignmentgroup\":\"True\",\"hovertemplate\":\"state=%{x}<br>year=2019<br>btu_state=%{y}<extra></extra>\",\"legendgroup\":\"WY\",\"marker\":{\"color\":\"#FECB52\",\"pattern\":{\"shape\":\"\"}},\"name\":\"WY\",\"offsetgroup\":\"WY\",\"orientation\":\"v\",\"showlegend\":true,\"textposition\":\"auto\",\"x\":[\"WY\"],\"xaxis\":\"x\",\"y\":[152236.0],\"yaxis\":\"y\",\"type\":\"bar\"}],\"name\":\"2019\"},{\"data\":[{\"alignmentgroup\":\"True\",\"hovertemplate\":\"state=%{x}<br>year=2020<br>btu_state=%{y}<extra></extra>\",\"legendgroup\":\"AK\",\"marker\":{\"color\":\"#636efa\",\"pattern\":{\"shape\":\"\"}},\"name\":\"AK\",\"offsetgroup\":\"AK\",\"orientation\":\"v\",\"showlegend\":true,\"textposition\":\"auto\",\"x\":[\"AK\"],\"xaxis\":\"x\",\"y\":[164524.0],\"yaxis\":\"y\",\"type\":\"bar\"},{\"alignmentgroup\":\"True\",\"hovertemplate\":\"state=%{x}<br>year=2020<br>btu_state=%{y}<extra></extra>\",\"legendgroup\":\"AL\",\"marker\":{\"color\":\"#EF553B\",\"pattern\":{\"shape\":\"\"}},\"name\":\"AL\",\"offsetgroup\":\"AL\",\"orientation\":\"v\",\"showlegend\":true,\"textposition\":\"auto\",\"x\":[\"AL\"],\"xaxis\":\"x\",\"y\":[820350.0],\"yaxis\":\"y\",\"type\":\"bar\"},{\"alignmentgroup\":\"True\",\"hovertemplate\":\"state=%{x}<br>year=2020<br>btu_state=%{y}<extra></extra>\",\"legendgroup\":\"AR\",\"marker\":{\"color\":\"#00cc96\",\"pattern\":{\"shape\":\"\"}},\"name\":\"AR\",\"offsetgroup\":\"AR\",\"orientation\":\"v\",\"showlegend\":true,\"textposition\":\"auto\",\"x\":[\"AR\"],\"xaxis\":\"x\",\"y\":[550734.0],\"yaxis\":\"y\",\"type\":\"bar\"},{\"alignmentgroup\":\"True\",\"hovertemplate\":\"state=%{x}<br>year=2020<br>btu_state=%{y}<extra></extra>\",\"legendgroup\":\"AZ\",\"marker\":{\"color\":\"#ab63fa\",\"pattern\":{\"shape\":\"\"}},\"name\":\"AZ\",\"offsetgroup\":\"AZ\",\"orientation\":\"v\",\"showlegend\":true,\"textposition\":\"auto\",\"x\":[\"AZ\"],\"xaxis\":\"x\",\"y\":[1124069.0],\"yaxis\":\"y\",\"type\":\"bar\"},{\"alignmentgroup\":\"True\",\"hovertemplate\":\"state=%{x}<br>year=2020<br>btu_state=%{y}<extra></extra>\",\"legendgroup\":\"CA\",\"marker\":{\"color\":\"#FFA15A\",\"pattern\":{\"shape\":\"\"}},\"name\":\"CA\",\"offsetgroup\":\"CA\",\"orientation\":\"v\",\"showlegend\":true,\"textposition\":\"auto\",\"x\":[\"CA\"],\"xaxis\":\"x\",\"y\":[4156803.0],\"yaxis\":\"y\",\"type\":\"bar\"},{\"alignmentgroup\":\"True\",\"hovertemplate\":\"state=%{x}<br>year=2020<br>btu_state=%{y}<extra></extra>\",\"legendgroup\":\"CO\",\"marker\":{\"color\":\"#19d3f3\",\"pattern\":{\"shape\":\"\"}},\"name\":\"CO\",\"offsetgroup\":\"CO\",\"orientation\":\"v\",\"showlegend\":true,\"textposition\":\"auto\",\"x\":[\"CO\"],\"xaxis\":\"x\",\"y\":[1038150.0],\"yaxis\":\"y\",\"type\":\"bar\"},{\"alignmentgroup\":\"True\",\"hovertemplate\":\"state=%{x}<br>year=2020<br>btu_state=%{y}<extra></extra>\",\"legendgroup\":\"CT\",\"marker\":{\"color\":\"#FF6692\",\"pattern\":{\"shape\":\"\"}},\"name\":\"CT\",\"offsetgroup\":\"CT\",\"orientation\":\"v\",\"showlegend\":true,\"textposition\":\"auto\",\"x\":[\"CT\"],\"xaxis\":\"x\",\"y\":[689860.0],\"yaxis\":\"y\",\"type\":\"bar\"},{\"alignmentgroup\":\"True\",\"hovertemplate\":\"state=%{x}<br>year=2020<br>btu_state=%{y}<extra></extra>\",\"legendgroup\":\"DE\",\"marker\":{\"color\":\"#B6E880\",\"pattern\":{\"shape\":\"\"}},\"name\":\"DE\",\"offsetgroup\":\"DE\",\"orientation\":\"v\",\"showlegend\":true,\"textposition\":\"auto\",\"x\":[\"DE\"],\"xaxis\":\"x\",\"y\":[168064.0],\"yaxis\":\"y\",\"type\":\"bar\"},{\"alignmentgroup\":\"True\",\"hovertemplate\":\"state=%{x}<br>year=2020<br>btu_state=%{y}<extra></extra>\",\"legendgroup\":\"FL\",\"marker\":{\"color\":\"#FF97FF\",\"pattern\":{\"shape\":\"\"}},\"name\":\"FL\",\"offsetgroup\":\"FL\",\"orientation\":\"v\",\"showlegend\":true,\"textposition\":\"auto\",\"x\":[\"FL\"],\"xaxis\":\"x\",\"y\":[3014733.0],\"yaxis\":\"y\",\"type\":\"bar\"},{\"alignmentgroup\":\"True\",\"hovertemplate\":\"state=%{x}<br>year=2020<br>btu_state=%{y}<extra></extra>\",\"legendgroup\":\"GA\",\"marker\":{\"color\":\"#FECB52\",\"pattern\":{\"shape\":\"\"}},\"name\":\"GA\",\"offsetgroup\":\"GA\",\"orientation\":\"v\",\"showlegend\":true,\"textposition\":\"auto\",\"x\":[\"GA\"],\"xaxis\":\"x\",\"y\":[1733732.0],\"yaxis\":\"y\",\"type\":\"bar\"},{\"alignmentgroup\":\"True\",\"hovertemplate\":\"state=%{x}<br>year=2020<br>btu_state=%{y}<extra></extra>\",\"legendgroup\":\"HI\",\"marker\":{\"color\":\"#636efa\",\"pattern\":{\"shape\":\"\"}},\"name\":\"HI\",\"offsetgroup\":\"HI\",\"orientation\":\"v\",\"showlegend\":true,\"textposition\":\"auto\",\"x\":[\"HI\"],\"xaxis\":\"x\",\"y\":[102936.0],\"yaxis\":\"y\",\"type\":\"bar\"},{\"alignmentgroup\":\"True\",\"hovertemplate\":\"state=%{x}<br>year=2020<br>btu_state=%{y}<extra></extra>\",\"legendgroup\":\"IA\",\"marker\":{\"color\":\"#EF553B\",\"pattern\":{\"shape\":\"\"}},\"name\":\"IA\",\"offsetgroup\":\"IA\",\"orientation\":\"v\",\"showlegend\":true,\"textposition\":\"auto\",\"x\":[\"IA\"],\"xaxis\":\"x\",\"y\":[674190.0],\"yaxis\":\"y\",\"type\":\"bar\"},{\"alignmentgroup\":\"True\",\"hovertemplate\":\"state=%{x}<br>year=2020<br>btu_state=%{y}<extra></extra>\",\"legendgroup\":\"ID\",\"marker\":{\"color\":\"#00cc96\",\"pattern\":{\"shape\":\"\"}},\"name\":\"ID\",\"offsetgroup\":\"ID\",\"orientation\":\"v\",\"showlegend\":true,\"textposition\":\"auto\",\"x\":[\"ID\"],\"xaxis\":\"x\",\"y\":[369315.0],\"yaxis\":\"y\",\"type\":\"bar\"},{\"alignmentgroup\":\"True\",\"hovertemplate\":\"state=%{x}<br>year=2020<br>btu_state=%{y}<extra></extra>\",\"legendgroup\":\"IL\",\"marker\":{\"color\":\"#ab63fa\",\"pattern\":{\"shape\":\"\"}},\"name\":\"IL\",\"offsetgroup\":\"IL\",\"orientation\":\"v\",\"showlegend\":true,\"textposition\":\"auto\",\"x\":[\"IL\"],\"xaxis\":\"x\",\"y\":[2554745.0],\"yaxis\":\"y\",\"type\":\"bar\"},{\"alignmentgroup\":\"True\",\"hovertemplate\":\"state=%{x}<br>year=2020<br>btu_state=%{y}<extra></extra>\",\"legendgroup\":\"IN\",\"marker\":{\"color\":\"#FFA15A\",\"pattern\":{\"shape\":\"\"}},\"name\":\"IN\",\"offsetgroup\":\"IN\",\"orientation\":\"v\",\"showlegend\":true,\"textposition\":\"auto\",\"x\":[\"IN\"],\"xaxis\":\"x\",\"y\":[1355609.0],\"yaxis\":\"y\",\"type\":\"bar\"},{\"alignmentgroup\":\"True\",\"hovertemplate\":\"state=%{x}<br>year=2020<br>btu_state=%{y}<extra></extra>\",\"legendgroup\":\"KS\",\"marker\":{\"color\":\"#19d3f3\",\"pattern\":{\"shape\":\"\"}},\"name\":\"KS\",\"offsetgroup\":\"KS\",\"orientation\":\"v\",\"showlegend\":true,\"textposition\":\"auto\",\"x\":[\"KS\"],\"xaxis\":\"x\",\"y\":[579861.0],\"yaxis\":\"y\",\"type\":\"bar\"},{\"alignmentgroup\":\"True\",\"hovertemplate\":\"state=%{x}<br>year=2020<br>btu_state=%{y}<extra></extra>\",\"legendgroup\":\"KY\",\"marker\":{\"color\":\"#FF6692\",\"pattern\":{\"shape\":\"\"}},\"name\":\"KY\",\"offsetgroup\":\"KY\",\"orientation\":\"v\",\"showlegend\":true,\"textposition\":\"auto\",\"x\":[\"KY\"],\"xaxis\":\"x\",\"y\":[838866.0],\"yaxis\":\"y\",\"type\":\"bar\"},{\"alignmentgroup\":\"True\",\"hovertemplate\":\"state=%{x}<br>year=2020<br>btu_state=%{y}<extra></extra>\",\"legendgroup\":\"LA\",\"marker\":{\"color\":\"#B6E880\",\"pattern\":{\"shape\":\"\"}},\"name\":\"LA\",\"offsetgroup\":\"LA\",\"orientation\":\"v\",\"showlegend\":true,\"textposition\":\"auto\",\"x\":[\"LA\"],\"xaxis\":\"x\",\"y\":[752344.0],\"yaxis\":\"y\",\"type\":\"bar\"},{\"alignmentgroup\":\"True\",\"hovertemplate\":\"state=%{x}<br>year=2020<br>btu_state=%{y}<extra></extra>\",\"legendgroup\":\"MA\",\"marker\":{\"color\":\"#FF97FF\",\"pattern\":{\"shape\":\"\"}},\"name\":\"MA\",\"offsetgroup\":\"MA\",\"orientation\":\"v\",\"showlegend\":true,\"textposition\":\"auto\",\"x\":[\"MA\"],\"xaxis\":\"x\",\"y\":[1210846.0],\"yaxis\":\"y\",\"type\":\"bar\"},{\"alignmentgroup\":\"True\",\"hovertemplate\":\"state=%{x}<br>year=2020<br>btu_state=%{y}<extra></extra>\",\"legendgroup\":\"MD\",\"marker\":{\"color\":\"#FECB52\",\"pattern\":{\"shape\":\"\"}},\"name\":\"MD\",\"offsetgroup\":\"MD\",\"orientation\":\"v\",\"showlegend\":true,\"textposition\":\"auto\",\"x\":[\"MD\"],\"xaxis\":\"x\",\"y\":[1002374.0],\"yaxis\":\"y\",\"type\":\"bar\"},{\"alignmentgroup\":\"True\",\"hovertemplate\":\"state=%{x}<br>year=2020<br>btu_state=%{y}<extra></extra>\",\"legendgroup\":\"ME\",\"marker\":{\"color\":\"#636efa\",\"pattern\":{\"shape\":\"\"}},\"name\":\"ME\",\"offsetgroup\":\"ME\",\"orientation\":\"v\",\"showlegend\":true,\"textposition\":\"auto\",\"x\":[\"ME\"],\"xaxis\":\"x\",\"y\":[343249.0],\"yaxis\":\"y\",\"type\":\"bar\"},{\"alignmentgroup\":\"True\",\"hovertemplate\":\"state=%{x}<br>year=2020<br>btu_state=%{y}<extra></extra>\",\"legendgroup\":\"MI\",\"marker\":{\"color\":\"#EF553B\",\"pattern\":{\"shape\":\"\"}},\"name\":\"MI\",\"offsetgroup\":\"MI\",\"orientation\":\"v\",\"showlegend\":true,\"textposition\":\"auto\",\"x\":[\"MI\"],\"xaxis\":\"x\",\"y\":[2172583.0],\"yaxis\":\"y\",\"type\":\"bar\"},{\"alignmentgroup\":\"True\",\"hovertemplate\":\"state=%{x}<br>year=2020<br>btu_state=%{y}<extra></extra>\",\"legendgroup\":\"MN\",\"marker\":{\"color\":\"#00cc96\",\"pattern\":{\"shape\":\"\"}},\"name\":\"MN\",\"offsetgroup\":\"MN\",\"orientation\":\"v\",\"showlegend\":true,\"textposition\":\"auto\",\"x\":[\"MN\"],\"xaxis\":\"x\",\"y\":[1163133.0],\"yaxis\":\"y\",\"type\":\"bar\"},{\"alignmentgroup\":\"True\",\"hovertemplate\":\"state=%{x}<br>year=2020<br>btu_state=%{y}<extra></extra>\",\"legendgroup\":\"MO\",\"marker\":{\"color\":\"#ab63fa\",\"pattern\":{\"shape\":\"\"}},\"name\":\"MO\",\"offsetgroup\":\"MO\",\"orientation\":\"v\",\"showlegend\":true,\"textposition\":\"auto\",\"x\":[\"MO\"],\"xaxis\":\"x\",\"y\":[1317834.0],\"yaxis\":\"y\",\"type\":\"bar\"},{\"alignmentgroup\":\"True\",\"hovertemplate\":\"state=%{x}<br>year=2020<br>btu_state=%{y}<extra></extra>\",\"legendgroup\":\"MS\",\"marker\":{\"color\":\"#FFA15A\",\"pattern\":{\"shape\":\"\"}},\"name\":\"MS\",\"offsetgroup\":\"MS\",\"orientation\":\"v\",\"showlegend\":true,\"textposition\":\"auto\",\"x\":[\"MS\"],\"xaxis\":\"x\",\"y\":[460110.0],\"yaxis\":\"y\",\"type\":\"bar\"},{\"alignmentgroup\":\"True\",\"hovertemplate\":\"state=%{x}<br>year=2020<br>btu_state=%{y}<extra></extra>\",\"legendgroup\":\"MT\",\"marker\":{\"color\":\"#19d3f3\",\"pattern\":{\"shape\":\"\"}},\"name\":\"MT\",\"offsetgroup\":\"MT\",\"orientation\":\"v\",\"showlegend\":true,\"textposition\":\"auto\",\"x\":[\"MT\"],\"xaxis\":\"x\",\"y\":[292536.0],\"yaxis\":\"y\",\"type\":\"bar\"},{\"alignmentgroup\":\"True\",\"hovertemplate\":\"state=%{x}<br>year=2020<br>btu_state=%{y}<extra></extra>\",\"legendgroup\":\"NC\",\"marker\":{\"color\":\"#FF6692\",\"pattern\":{\"shape\":\"\"}},\"name\":\"NC\",\"offsetgroup\":\"NC\",\"orientation\":\"v\",\"showlegend\":true,\"textposition\":\"auto\",\"x\":[\"NC\"],\"xaxis\":\"x\",\"y\":[1686248.0],\"yaxis\":\"y\",\"type\":\"bar\"},{\"alignmentgroup\":\"True\",\"hovertemplate\":\"state=%{x}<br>year=2020<br>btu_state=%{y}<extra></extra>\",\"legendgroup\":\"ND\",\"marker\":{\"color\":\"#B6E880\",\"pattern\":{\"shape\":\"\"}},\"name\":\"ND\",\"offsetgroup\":\"ND\",\"orientation\":\"v\",\"showlegend\":true,\"textposition\":\"auto\",\"x\":[\"ND\"],\"xaxis\":\"x\",\"y\":[180884.0],\"yaxis\":\"y\",\"type\":\"bar\"},{\"alignmentgroup\":\"True\",\"hovertemplate\":\"state=%{x}<br>year=2020<br>btu_state=%{y}<extra></extra>\",\"legendgroup\":\"NE\",\"marker\":{\"color\":\"#FF97FF\",\"pattern\":{\"shape\":\"\"}},\"name\":\"NE\",\"offsetgroup\":\"NE\",\"orientation\":\"v\",\"showlegend\":true,\"textposition\":\"auto\",\"x\":[\"NE\"],\"xaxis\":\"x\",\"y\":[420699.0],\"yaxis\":\"y\",\"type\":\"bar\"},{\"alignmentgroup\":\"True\",\"hovertemplate\":\"state=%{x}<br>year=2020<br>btu_state=%{y}<extra></extra>\",\"legendgroup\":\"NH\",\"marker\":{\"color\":\"#FECB52\",\"pattern\":{\"shape\":\"\"}},\"name\":\"NH\",\"offsetgroup\":\"NH\",\"orientation\":\"v\",\"showlegend\":true,\"textposition\":\"auto\",\"x\":[\"NH\"],\"xaxis\":\"x\",\"y\":[326000.0],\"yaxis\":\"y\",\"type\":\"bar\"},{\"alignmentgroup\":\"True\",\"hovertemplate\":\"state=%{x}<br>year=2020<br>btu_state=%{y}<extra></extra>\",\"legendgroup\":\"NJ\",\"marker\":{\"color\":\"#636efa\",\"pattern\":{\"shape\":\"\"}},\"name\":\"NJ\",\"offsetgroup\":\"NJ\",\"orientation\":\"v\",\"showlegend\":true,\"textposition\":\"auto\",\"x\":[\"NJ\"],\"xaxis\":\"x\",\"y\":[1533654.0],\"yaxis\":\"y\",\"type\":\"bar\"},{\"alignmentgroup\":\"True\",\"hovertemplate\":\"state=%{x}<br>year=2020<br>btu_state=%{y}<extra></extra>\",\"legendgroup\":\"NM\",\"marker\":{\"color\":\"#EF553B\",\"pattern\":{\"shape\":\"\"}},\"name\":\"NM\",\"offsetgroup\":\"NM\",\"orientation\":\"v\",\"showlegend\":true,\"textposition\":\"auto\",\"x\":[\"NM\"],\"xaxis\":\"x\",\"y\":[354336.0],\"yaxis\":\"y\",\"type\":\"bar\"},{\"alignmentgroup\":\"True\",\"hovertemplate\":\"state=%{x}<br>year=2020<br>btu_state=%{y}<extra></extra>\",\"legendgroup\":\"NV\",\"marker\":{\"color\":\"#00cc96\",\"pattern\":{\"shape\":\"\"}},\"name\":\"NV\",\"offsetgroup\":\"NV\",\"orientation\":\"v\",\"showlegend\":true,\"textposition\":\"auto\",\"x\":[\"NV\"],\"xaxis\":\"x\",\"y\":[494563.0],\"yaxis\":\"y\",\"type\":\"bar\"},{\"alignmentgroup\":\"True\",\"hovertemplate\":\"state=%{x}<br>year=2020<br>btu_state=%{y}<extra></extra>\",\"legendgroup\":\"NY\",\"marker\":{\"color\":\"#ab63fa\",\"pattern\":{\"shape\":\"\"}},\"name\":\"NY\",\"offsetgroup\":\"NY\",\"orientation\":\"v\",\"showlegend\":true,\"textposition\":\"auto\",\"x\":[\"NY\"],\"xaxis\":\"x\",\"y\":[3100864.0],\"yaxis\":\"y\",\"type\":\"bar\"},{\"alignmentgroup\":\"True\",\"hovertemplate\":\"state=%{x}<br>year=2020<br>btu_state=%{y}<extra></extra>\",\"legendgroup\":\"OH\",\"marker\":{\"color\":\"#FFA15A\",\"pattern\":{\"shape\":\"\"}},\"name\":\"OH\",\"offsetgroup\":\"OH\",\"orientation\":\"v\",\"showlegend\":true,\"textposition\":\"auto\",\"x\":[\"OH\"],\"xaxis\":\"x\",\"y\":[2273014.0],\"yaxis\":\"y\",\"type\":\"bar\"},{\"alignmentgroup\":\"True\",\"hovertemplate\":\"state=%{x}<br>year=2020<br>btu_state=%{y}<extra></extra>\",\"legendgroup\":\"OK\",\"marker\":{\"color\":\"#19d3f3\",\"pattern\":{\"shape\":\"\"}},\"name\":\"OK\",\"offsetgroup\":\"OK\",\"orientation\":\"v\",\"showlegend\":true,\"textposition\":\"auto\",\"x\":[\"OK\"],\"xaxis\":\"x\",\"y\":[737300.0],\"yaxis\":\"y\",\"type\":\"bar\"},{\"alignmentgroup\":\"True\",\"hovertemplate\":\"state=%{x}<br>year=2020<br>btu_state=%{y}<extra></extra>\",\"legendgroup\":\"OR\",\"marker\":{\"color\":\"#FF6692\",\"pattern\":{\"shape\":\"\"}},\"name\":\"OR\",\"offsetgroup\":\"OR\",\"orientation\":\"v\",\"showlegend\":true,\"textposition\":\"auto\",\"x\":[\"OR\"],\"xaxis\":\"x\",\"y\":[671869.0],\"yaxis\":\"y\",\"type\":\"bar\"},{\"alignmentgroup\":\"True\",\"hovertemplate\":\"state=%{x}<br>year=2020<br>btu_state=%{y}<extra></extra>\",\"legendgroup\":\"PA\",\"marker\":{\"color\":\"#B6E880\",\"pattern\":{\"shape\":\"\"}},\"name\":\"PA\",\"offsetgroup\":\"PA\",\"orientation\":\"v\",\"showlegend\":true,\"textposition\":\"auto\",\"x\":[\"PA\"],\"xaxis\":\"x\",\"y\":[2361807.0],\"yaxis\":\"y\",\"type\":\"bar\"},{\"alignmentgroup\":\"True\",\"hovertemplate\":\"state=%{x}<br>year=2020<br>btu_state=%{y}<extra></extra>\",\"legendgroup\":\"RI\",\"marker\":{\"color\":\"#FF97FF\",\"pattern\":{\"shape\":\"\"}},\"name\":\"RI\",\"offsetgroup\":\"RI\",\"orientation\":\"v\",\"showlegend\":true,\"textposition\":\"auto\",\"x\":[\"RI\"],\"xaxis\":\"x\",\"y\":[176786.0],\"yaxis\":\"y\",\"type\":\"bar\"},{\"alignmentgroup\":\"True\",\"hovertemplate\":\"state=%{x}<br>year=2020<br>btu_state=%{y}<extra></extra>\",\"legendgroup\":\"SC\",\"marker\":{\"color\":\"#FECB52\",\"pattern\":{\"shape\":\"\"}},\"name\":\"SC\",\"offsetgroup\":\"SC\",\"orientation\":\"v\",\"showlegend\":true,\"textposition\":\"auto\",\"x\":[\"SC\"],\"xaxis\":\"x\",\"y\":[876666.0],\"yaxis\":\"y\",\"type\":\"bar\"},{\"alignmentgroup\":\"True\",\"hovertemplate\":\"state=%{x}<br>year=2020<br>btu_state=%{y}<extra></extra>\",\"legendgroup\":\"SD\",\"marker\":{\"color\":\"#636efa\",\"pattern\":{\"shape\":\"\"}},\"name\":\"SD\",\"offsetgroup\":\"SD\",\"orientation\":\"v\",\"showlegend\":true,\"textposition\":\"auto\",\"x\":[\"SD\"],\"xaxis\":\"x\",\"y\":[189069.0],\"yaxis\":\"y\",\"type\":\"bar\"},{\"alignmentgroup\":\"True\",\"hovertemplate\":\"state=%{x}<br>year=2020<br>btu_state=%{y}<extra></extra>\",\"legendgroup\":\"TN\",\"marker\":{\"color\":\"#EF553B\",\"pattern\":{\"shape\":\"\"}},\"name\":\"TN\",\"offsetgroup\":\"TN\",\"orientation\":\"v\",\"showlegend\":true,\"textposition\":\"auto\",\"x\":[\"TN\"],\"xaxis\":\"x\",\"y\":[1240078.0],\"yaxis\":\"y\",\"type\":\"bar\"},{\"alignmentgroup\":\"True\",\"hovertemplate\":\"state=%{x}<br>year=2020<br>btu_state=%{y}<extra></extra>\",\"legendgroup\":\"TX\",\"marker\":{\"color\":\"#00cc96\",\"pattern\":{\"shape\":\"\"}},\"name\":\"TX\",\"offsetgroup\":\"TX\",\"orientation\":\"v\",\"showlegend\":true,\"textposition\":\"auto\",\"x\":[\"TX\"],\"xaxis\":\"x\",\"y\":[4312707.0],\"yaxis\":\"y\",\"type\":\"bar\"},{\"alignmentgroup\":\"True\",\"hovertemplate\":\"state=%{x}<br>year=2020<br>btu_state=%{y}<extra></extra>\",\"legendgroup\":\"UT\",\"marker\":{\"color\":\"#ab63fa\",\"pattern\":{\"shape\":\"\"}},\"name\":\"UT\",\"offsetgroup\":\"UT\",\"orientation\":\"v\",\"showlegend\":true,\"textposition\":\"auto\",\"x\":[\"UT\"],\"xaxis\":\"x\",\"y\":[518295.0],\"yaxis\":\"y\",\"type\":\"bar\"},{\"alignmentgroup\":\"True\",\"hovertemplate\":\"state=%{x}<br>year=2020<br>btu_state=%{y}<extra></extra>\",\"legendgroup\":\"VA\",\"marker\":{\"color\":\"#FFA15A\",\"pattern\":{\"shape\":\"\"}},\"name\":\"VA\",\"offsetgroup\":\"VA\",\"orientation\":\"v\",\"showlegend\":true,\"textposition\":\"auto\",\"x\":[\"VA\"],\"xaxis\":\"x\",\"y\":[1423038.0],\"yaxis\":\"y\",\"type\":\"bar\"},{\"alignmentgroup\":\"True\",\"hovertemplate\":\"state=%{x}<br>year=2020<br>btu_state=%{y}<extra></extra>\",\"legendgroup\":\"VT\",\"marker\":{\"color\":\"#19d3f3\",\"pattern\":{\"shape\":\"\"}},\"name\":\"VT\",\"offsetgroup\":\"VT\",\"orientation\":\"v\",\"showlegend\":true,\"textposition\":\"auto\",\"x\":[\"VT\"],\"xaxis\":\"x\",\"y\":[165490.0],\"yaxis\":\"y\",\"type\":\"bar\"},{\"alignmentgroup\":\"True\",\"hovertemplate\":\"state=%{x}<br>year=2020<br>btu_state=%{y}<extra></extra>\",\"legendgroup\":\"WA\",\"marker\":{\"color\":\"#FF6692\",\"pattern\":{\"shape\":\"\"}},\"name\":\"WA\",\"offsetgroup\":\"WA\",\"orientation\":\"v\",\"showlegend\":true,\"textposition\":\"auto\",\"x\":[\"WA\"],\"xaxis\":\"x\",\"y\":[1239440.0],\"yaxis\":\"y\",\"type\":\"bar\"},{\"alignmentgroup\":\"True\",\"hovertemplate\":\"state=%{x}<br>year=2020<br>btu_state=%{y}<extra></extra>\",\"legendgroup\":\"WI\",\"marker\":{\"color\":\"#B6E880\",\"pattern\":{\"shape\":\"\"}},\"name\":\"WI\",\"offsetgroup\":\"WI\",\"orientation\":\"v\",\"showlegend\":true,\"textposition\":\"auto\",\"x\":[\"WI\"],\"xaxis\":\"x\",\"y\":[1225445.0],\"yaxis\":\"y\",\"type\":\"bar\"},{\"alignmentgroup\":\"True\",\"hovertemplate\":\"state=%{x}<br>year=2020<br>btu_state=%{y}<extra></extra>\",\"legendgroup\":\"WV\",\"marker\":{\"color\":\"#FF97FF\",\"pattern\":{\"shape\":\"\"}},\"name\":\"WV\",\"offsetgroup\":\"WV\",\"orientation\":\"v\",\"showlegend\":true,\"textposition\":\"auto\",\"x\":[\"WV\"],\"xaxis\":\"x\",\"y\":[394968.0],\"yaxis\":\"y\",\"type\":\"bar\"},{\"alignmentgroup\":\"True\",\"hovertemplate\":\"state=%{x}<br>year=2020<br>btu_state=%{y}<extra></extra>\",\"legendgroup\":\"WY\",\"marker\":{\"color\":\"#FECB52\",\"pattern\":{\"shape\":\"\"}},\"name\":\"WY\",\"offsetgroup\":\"WY\",\"orientation\":\"v\",\"showlegend\":true,\"textposition\":\"auto\",\"x\":[\"WY\"],\"xaxis\":\"x\",\"y\":[145799.0],\"yaxis\":\"y\",\"type\":\"bar\"}],\"name\":\"2020\"},{\"data\":[{\"alignmentgroup\":\"True\",\"hovertemplate\":\"state=%{x}<br>year=2021<br>btu_state=%{y}<extra></extra>\",\"legendgroup\":\"AK\",\"marker\":{\"color\":\"#636efa\",\"pattern\":{\"shape\":\"\"}},\"name\":\"AK\",\"offsetgroup\":\"AK\",\"orientation\":\"v\",\"showlegend\":true,\"textposition\":\"auto\",\"x\":[\"AK\"],\"xaxis\":\"x\",\"y\":[168553.0],\"yaxis\":\"y\",\"type\":\"bar\"},{\"alignmentgroup\":\"True\",\"hovertemplate\":\"state=%{x}<br>year=2021<br>btu_state=%{y}<extra></extra>\",\"legendgroup\":\"AL\",\"marker\":{\"color\":\"#EF553B\",\"pattern\":{\"shape\":\"\"}},\"name\":\"AL\",\"offsetgroup\":\"AL\",\"orientation\":\"v\",\"showlegend\":true,\"textposition\":\"auto\",\"x\":[\"AL\"],\"xaxis\":\"x\",\"y\":[837413.0],\"yaxis\":\"y\",\"type\":\"bar\"},{\"alignmentgroup\":\"True\",\"hovertemplate\":\"state=%{x}<br>year=2021<br>btu_state=%{y}<extra></extra>\",\"legendgroup\":\"AR\",\"marker\":{\"color\":\"#00cc96\",\"pattern\":{\"shape\":\"\"}},\"name\":\"AR\",\"offsetgroup\":\"AR\",\"orientation\":\"v\",\"showlegend\":true,\"textposition\":\"auto\",\"x\":[\"AR\"],\"xaxis\":\"x\",\"y\":[575725.0],\"yaxis\":\"y\",\"type\":\"bar\"},{\"alignmentgroup\":\"True\",\"hovertemplate\":\"state=%{x}<br>year=2021<br>btu_state=%{y}<extra></extra>\",\"legendgroup\":\"AZ\",\"marker\":{\"color\":\"#ab63fa\",\"pattern\":{\"shape\":\"\"}},\"name\":\"AZ\",\"offsetgroup\":\"AZ\",\"orientation\":\"v\",\"showlegend\":true,\"textposition\":\"auto\",\"x\":[\"AZ\"],\"xaxis\":\"x\",\"y\":[1093190.0],\"yaxis\":\"y\",\"type\":\"bar\"},{\"alignmentgroup\":\"True\",\"hovertemplate\":\"state=%{x}<br>year=2021<br>btu_state=%{y}<extra></extra>\",\"legendgroup\":\"CA\",\"marker\":{\"color\":\"#FFA15A\",\"pattern\":{\"shape\":\"\"}},\"name\":\"CA\",\"offsetgroup\":\"CA\",\"orientation\":\"v\",\"showlegend\":true,\"textposition\":\"auto\",\"x\":[\"CA\"],\"xaxis\":\"x\",\"y\":[4096690.0],\"yaxis\":\"y\",\"type\":\"bar\"},{\"alignmentgroup\":\"True\",\"hovertemplate\":\"state=%{x}<br>year=2021<br>btu_state=%{y}<extra></extra>\",\"legendgroup\":\"CO\",\"marker\":{\"color\":\"#19d3f3\",\"pattern\":{\"shape\":\"\"}},\"name\":\"CO\",\"offsetgroup\":\"CO\",\"orientation\":\"v\",\"showlegend\":true,\"textposition\":\"auto\",\"x\":[\"CO\"],\"xaxis\":\"x\",\"y\":[1041909.0],\"yaxis\":\"y\",\"type\":\"bar\"},{\"alignmentgroup\":\"True\",\"hovertemplate\":\"state=%{x}<br>year=2021<br>btu_state=%{y}<extra></extra>\",\"legendgroup\":\"CT\",\"marker\":{\"color\":\"#FF6692\",\"pattern\":{\"shape\":\"\"}},\"name\":\"CT\",\"offsetgroup\":\"CT\",\"orientation\":\"v\",\"showlegend\":true,\"textposition\":\"auto\",\"x\":[\"CT\"],\"xaxis\":\"x\",\"y\":[730047.0],\"yaxis\":\"y\",\"type\":\"bar\"},{\"alignmentgroup\":\"True\",\"hovertemplate\":\"state=%{x}<br>year=2021<br>btu_state=%{y}<extra></extra>\",\"legendgroup\":\"DE\",\"marker\":{\"color\":\"#B6E880\",\"pattern\":{\"shape\":\"\"}},\"name\":\"DE\",\"offsetgroup\":\"DE\",\"orientation\":\"v\",\"showlegend\":true,\"textposition\":\"auto\",\"x\":[\"DE\"],\"xaxis\":\"x\",\"y\":[184034.0],\"yaxis\":\"y\",\"type\":\"bar\"},{\"alignmentgroup\":\"True\",\"hovertemplate\":\"state=%{x}<br>year=2021<br>btu_state=%{y}<extra></extra>\",\"legendgroup\":\"FL\",\"marker\":{\"color\":\"#FF97FF\",\"pattern\":{\"shape\":\"\"}},\"name\":\"FL\",\"offsetgroup\":\"FL\",\"orientation\":\"v\",\"showlegend\":true,\"textposition\":\"auto\",\"x\":[\"FL\"],\"xaxis\":\"x\",\"y\":[3003120.0],\"yaxis\":\"y\",\"type\":\"bar\"},{\"alignmentgroup\":\"True\",\"hovertemplate\":\"state=%{x}<br>year=2021<br>btu_state=%{y}<extra></extra>\",\"legendgroup\":\"GA\",\"marker\":{\"color\":\"#FECB52\",\"pattern\":{\"shape\":\"\"}},\"name\":\"GA\",\"offsetgroup\":\"GA\",\"orientation\":\"v\",\"showlegend\":true,\"textposition\":\"auto\",\"x\":[\"GA\"],\"xaxis\":\"x\",\"y\":[1769232.0],\"yaxis\":\"y\",\"type\":\"bar\"},{\"alignmentgroup\":\"True\",\"hovertemplate\":\"state=%{x}<br>year=2021<br>btu_state=%{y}<extra></extra>\",\"legendgroup\":\"HI\",\"marker\":{\"color\":\"#636efa\",\"pattern\":{\"shape\":\"\"}},\"name\":\"HI\",\"offsetgroup\":\"HI\",\"orientation\":\"v\",\"showlegend\":true,\"textposition\":\"auto\",\"x\":[\"HI\"],\"xaxis\":\"x\",\"y\":[104464.0],\"yaxis\":\"y\",\"type\":\"bar\"},{\"alignmentgroup\":\"True\",\"hovertemplate\":\"state=%{x}<br>year=2021<br>btu_state=%{y}<extra></extra>\",\"legendgroup\":\"IA\",\"marker\":{\"color\":\"#EF553B\",\"pattern\":{\"shape\":\"\"}},\"name\":\"IA\",\"offsetgroup\":\"IA\",\"orientation\":\"v\",\"showlegend\":true,\"textposition\":\"auto\",\"x\":[\"IA\"],\"xaxis\":\"x\",\"y\":[659407.0],\"yaxis\":\"y\",\"type\":\"bar\"},{\"alignmentgroup\":\"True\",\"hovertemplate\":\"state=%{x}<br>year=2021<br>btu_state=%{y}<extra></extra>\",\"legendgroup\":\"ID\",\"marker\":{\"color\":\"#00cc96\",\"pattern\":{\"shape\":\"\"}},\"name\":\"ID\",\"offsetgroup\":\"ID\",\"orientation\":\"v\",\"showlegend\":true,\"textposition\":\"auto\",\"x\":[\"ID\"],\"xaxis\":\"x\",\"y\":[386948.0],\"yaxis\":\"y\",\"type\":\"bar\"},{\"alignmentgroup\":\"True\",\"hovertemplate\":\"state=%{x}<br>year=2021<br>btu_state=%{y}<extra></extra>\",\"legendgroup\":\"IL\",\"marker\":{\"color\":\"#ab63fa\",\"pattern\":{\"shape\":\"\"}},\"name\":\"IL\",\"offsetgroup\":\"IL\",\"orientation\":\"v\",\"showlegend\":true,\"textposition\":\"auto\",\"x\":[\"IL\"],\"xaxis\":\"x\",\"y\":[2541911.0],\"yaxis\":\"y\",\"type\":\"bar\"},{\"alignmentgroup\":\"True\",\"hovertemplate\":\"state=%{x}<br>year=2021<br>btu_state=%{y}<extra></extra>\",\"legendgroup\":\"IN\",\"marker\":{\"color\":\"#FFA15A\",\"pattern\":{\"shape\":\"\"}},\"name\":\"IN\",\"offsetgroup\":\"IN\",\"orientation\":\"v\",\"showlegend\":true,\"textposition\":\"auto\",\"x\":[\"IN\"],\"xaxis\":\"x\",\"y\":[1382720.0],\"yaxis\":\"y\",\"type\":\"bar\"},{\"alignmentgroup\":\"True\",\"hovertemplate\":\"state=%{x}<br>year=2021<br>btu_state=%{y}<extra></extra>\",\"legendgroup\":\"KS\",\"marker\":{\"color\":\"#19d3f3\",\"pattern\":{\"shape\":\"\"}},\"name\":\"KS\",\"offsetgroup\":\"KS\",\"orientation\":\"v\",\"showlegend\":true,\"textposition\":\"auto\",\"x\":[\"KS\"],\"xaxis\":\"x\",\"y\":[571078.0],\"yaxis\":\"y\",\"type\":\"bar\"},{\"alignmentgroup\":\"True\",\"hovertemplate\":\"state=%{x}<br>year=2021<br>btu_state=%{y}<extra></extra>\",\"legendgroup\":\"KY\",\"marker\":{\"color\":\"#FF6692\",\"pattern\":{\"shape\":\"\"}},\"name\":\"KY\",\"offsetgroup\":\"KY\",\"orientation\":\"v\",\"showlegend\":true,\"textposition\":\"auto\",\"x\":[\"KY\"],\"xaxis\":\"x\",\"y\":[863222.0],\"yaxis\":\"y\",\"type\":\"bar\"},{\"alignmentgroup\":\"True\",\"hovertemplate\":\"state=%{x}<br>year=2021<br>btu_state=%{y}<extra></extra>\",\"legendgroup\":\"LA\",\"marker\":{\"color\":\"#B6E880\",\"pattern\":{\"shape\":\"\"}},\"name\":\"LA\",\"offsetgroup\":\"LA\",\"orientation\":\"v\",\"showlegend\":true,\"textposition\":\"auto\",\"x\":[\"LA\"],\"xaxis\":\"x\",\"y\":[783984.0],\"yaxis\":\"y\",\"type\":\"bar\"},{\"alignmentgroup\":\"True\",\"hovertemplate\":\"state=%{x}<br>year=2021<br>btu_state=%{y}<extra></extra>\",\"legendgroup\":\"MA\",\"marker\":{\"color\":\"#FF97FF\",\"pattern\":{\"shape\":\"\"}},\"name\":\"MA\",\"offsetgroup\":\"MA\",\"orientation\":\"v\",\"showlegend\":true,\"textposition\":\"auto\",\"x\":[\"MA\"],\"xaxis\":\"x\",\"y\":[1235996.0],\"yaxis\":\"y\",\"type\":\"bar\"},{\"alignmentgroup\":\"True\",\"hovertemplate\":\"state=%{x}<br>year=2021<br>btu_state=%{y}<extra></extra>\",\"legendgroup\":\"MD\",\"marker\":{\"color\":\"#FECB52\",\"pattern\":{\"shape\":\"\"}},\"name\":\"MD\",\"offsetgroup\":\"MD\",\"orientation\":\"v\",\"showlegend\":true,\"textposition\":\"auto\",\"x\":[\"MD\"],\"xaxis\":\"x\",\"y\":[1025857.0],\"yaxis\":\"y\",\"type\":\"bar\"},{\"alignmentgroup\":\"True\",\"hovertemplate\":\"state=%{x}<br>year=2021<br>btu_state=%{y}<extra></extra>\",\"legendgroup\":\"ME\",\"marker\":{\"color\":\"#636efa\",\"pattern\":{\"shape\":\"\"}},\"name\":\"ME\",\"offsetgroup\":\"ME\",\"orientation\":\"v\",\"showlegend\":true,\"textposition\":\"auto\",\"x\":[\"ME\"],\"xaxis\":\"x\",\"y\":[332710.0],\"yaxis\":\"y\",\"type\":\"bar\"},{\"alignmentgroup\":\"True\",\"hovertemplate\":\"state=%{x}<br>year=2021<br>btu_state=%{y}<extra></extra>\",\"legendgroup\":\"MI\",\"marker\":{\"color\":\"#EF553B\",\"pattern\":{\"shape\":\"\"}},\"name\":\"MI\",\"offsetgroup\":\"MI\",\"orientation\":\"v\",\"showlegend\":true,\"textposition\":\"auto\",\"x\":[\"MI\"],\"xaxis\":\"x\",\"y\":[2123854.0],\"yaxis\":\"y\",\"type\":\"bar\"},{\"alignmentgroup\":\"True\",\"hovertemplate\":\"state=%{x}<br>year=2021<br>btu_state=%{y}<extra></extra>\",\"legendgroup\":\"MN\",\"marker\":{\"color\":\"#00cc96\",\"pattern\":{\"shape\":\"\"}},\"name\":\"MN\",\"offsetgroup\":\"MN\",\"orientation\":\"v\",\"showlegend\":true,\"textposition\":\"auto\",\"x\":[\"MN\"],\"xaxis\":\"x\",\"y\":[1169119.0],\"yaxis\":\"y\",\"type\":\"bar\"},{\"alignmentgroup\":\"True\",\"hovertemplate\":\"state=%{x}<br>year=2021<br>btu_state=%{y}<extra></extra>\",\"legendgroup\":\"MO\",\"marker\":{\"color\":\"#ab63fa\",\"pattern\":{\"shape\":\"\"}},\"name\":\"MO\",\"offsetgroup\":\"MO\",\"orientation\":\"v\",\"showlegend\":true,\"textposition\":\"auto\",\"x\":[\"MO\"],\"xaxis\":\"x\",\"y\":[1325810.0],\"yaxis\":\"y\",\"type\":\"bar\"},{\"alignmentgroup\":\"True\",\"hovertemplate\":\"state=%{x}<br>year=2021<br>btu_state=%{y}<extra></extra>\",\"legendgroup\":\"MS\",\"marker\":{\"color\":\"#FFA15A\",\"pattern\":{\"shape\":\"\"}},\"name\":\"MS\",\"offsetgroup\":\"MS\",\"orientation\":\"v\",\"showlegend\":true,\"textposition\":\"auto\",\"x\":[\"MS\"],\"xaxis\":\"x\",\"y\":[484706.0],\"yaxis\":\"y\",\"type\":\"bar\"},{\"alignmentgroup\":\"True\",\"hovertemplate\":\"state=%{x}<br>year=2021<br>btu_state=%{y}<extra></extra>\",\"legendgroup\":\"MT\",\"marker\":{\"color\":\"#19d3f3\",\"pattern\":{\"shape\":\"\"}},\"name\":\"MT\",\"offsetgroup\":\"MT\",\"orientation\":\"v\",\"showlegend\":true,\"textposition\":\"auto\",\"x\":[\"MT\"],\"xaxis\":\"x\",\"y\":[294646.0],\"yaxis\":\"y\",\"type\":\"bar\"},{\"alignmentgroup\":\"True\",\"hovertemplate\":\"state=%{x}<br>year=2021<br>btu_state=%{y}<extra></extra>\",\"legendgroup\":\"NC\",\"marker\":{\"color\":\"#FF6692\",\"pattern\":{\"shape\":\"\"}},\"name\":\"NC\",\"offsetgroup\":\"NC\",\"orientation\":\"v\",\"showlegend\":true,\"textposition\":\"auto\",\"x\":[\"NC\"],\"xaxis\":\"x\",\"y\":[1782008.0],\"yaxis\":\"y\",\"type\":\"bar\"},{\"alignmentgroup\":\"True\",\"hovertemplate\":\"state=%{x}<br>year=2021<br>btu_state=%{y}<extra></extra>\",\"legendgroup\":\"ND\",\"marker\":{\"color\":\"#B6E880\",\"pattern\":{\"shape\":\"\"}},\"name\":\"ND\",\"offsetgroup\":\"ND\",\"orientation\":\"v\",\"showlegend\":true,\"textposition\":\"auto\",\"x\":[\"ND\"],\"xaxis\":\"x\",\"y\":[192429.0],\"yaxis\":\"y\",\"type\":\"bar\"},{\"alignmentgroup\":\"True\",\"hovertemplate\":\"state=%{x}<br>year=2021<br>btu_state=%{y}<extra></extra>\",\"legendgroup\":\"NE\",\"marker\":{\"color\":\"#FF97FF\",\"pattern\":{\"shape\":\"\"}},\"name\":\"NE\",\"offsetgroup\":\"NE\",\"orientation\":\"v\",\"showlegend\":true,\"textposition\":\"auto\",\"x\":[\"NE\"],\"xaxis\":\"x\",\"y\":[417751.0],\"yaxis\":\"y\",\"type\":\"bar\"},{\"alignmentgroup\":\"True\",\"hovertemplate\":\"state=%{x}<br>year=2021<br>btu_state=%{y}<extra></extra>\",\"legendgroup\":\"NH\",\"marker\":{\"color\":\"#FECB52\",\"pattern\":{\"shape\":\"\"}},\"name\":\"NH\",\"offsetgroup\":\"NH\",\"orientation\":\"v\",\"showlegend\":true,\"textposition\":\"auto\",\"x\":[\"NH\"],\"xaxis\":\"x\",\"y\":[307953.0],\"yaxis\":\"y\",\"type\":\"bar\"},{\"alignmentgroup\":\"True\",\"hovertemplate\":\"state=%{x}<br>year=2021<br>btu_state=%{y}<extra></extra>\",\"legendgroup\":\"NJ\",\"marker\":{\"color\":\"#636efa\",\"pattern\":{\"shape\":\"\"}},\"name\":\"NJ\",\"offsetgroup\":\"NJ\",\"orientation\":\"v\",\"showlegend\":true,\"textposition\":\"auto\",\"x\":[\"NJ\"],\"xaxis\":\"x\",\"y\":[1594768.0],\"yaxis\":\"y\",\"type\":\"bar\"},{\"alignmentgroup\":\"True\",\"hovertemplate\":\"state=%{x}<br>year=2021<br>btu_state=%{y}<extra></extra>\",\"legendgroup\":\"NM\",\"marker\":{\"color\":\"#EF553B\",\"pattern\":{\"shape\":\"\"}},\"name\":\"NM\",\"offsetgroup\":\"NM\",\"orientation\":\"v\",\"showlegend\":true,\"textposition\":\"auto\",\"x\":[\"NM\"],\"xaxis\":\"x\",\"y\":[351891.0],\"yaxis\":\"y\",\"type\":\"bar\"},{\"alignmentgroup\":\"True\",\"hovertemplate\":\"state=%{x}<br>year=2021<br>btu_state=%{y}<extra></extra>\",\"legendgroup\":\"NV\",\"marker\":{\"color\":\"#00cc96\",\"pattern\":{\"shape\":\"\"}},\"name\":\"NV\",\"offsetgroup\":\"NV\",\"orientation\":\"v\",\"showlegend\":true,\"textposition\":\"auto\",\"x\":[\"NV\"],\"xaxis\":\"x\",\"y\":[499431.0],\"yaxis\":\"y\",\"type\":\"bar\"},{\"alignmentgroup\":\"True\",\"hovertemplate\":\"state=%{x}<br>year=2021<br>btu_state=%{y}<extra></extra>\",\"legendgroup\":\"NY\",\"marker\":{\"color\":\"#ab63fa\",\"pattern\":{\"shape\":\"\"}},\"name\":\"NY\",\"offsetgroup\":\"NY\",\"orientation\":\"v\",\"showlegend\":true,\"textposition\":\"auto\",\"x\":[\"NY\"],\"xaxis\":\"x\",\"y\":[3225422.0],\"yaxis\":\"y\",\"type\":\"bar\"},{\"alignmentgroup\":\"True\",\"hovertemplate\":\"state=%{x}<br>year=2021<br>btu_state=%{y}<extra></extra>\",\"legendgroup\":\"OH\",\"marker\":{\"color\":\"#FFA15A\",\"pattern\":{\"shape\":\"\"}},\"name\":\"OH\",\"offsetgroup\":\"OH\",\"orientation\":\"v\",\"showlegend\":true,\"textposition\":\"auto\",\"x\":[\"OH\"],\"xaxis\":\"x\",\"y\":[2297925.0],\"yaxis\":\"y\",\"type\":\"bar\"},{\"alignmentgroup\":\"True\",\"hovertemplate\":\"state=%{x}<br>year=2021<br>btu_state=%{y}<extra></extra>\",\"legendgroup\":\"OK\",\"marker\":{\"color\":\"#19d3f3\",\"pattern\":{\"shape\":\"\"}},\"name\":\"OK\",\"offsetgroup\":\"OK\",\"orientation\":\"v\",\"showlegend\":true,\"textposition\":\"auto\",\"x\":[\"OK\"],\"xaxis\":\"x\",\"y\":[777439.0],\"yaxis\":\"y\",\"type\":\"bar\"},{\"alignmentgroup\":\"True\",\"hovertemplate\":\"state=%{x}<br>year=2021<br>btu_state=%{y}<extra></extra>\",\"legendgroup\":\"OR\",\"marker\":{\"color\":\"#FF6692\",\"pattern\":{\"shape\":\"\"}},\"name\":\"OR\",\"offsetgroup\":\"OR\",\"orientation\":\"v\",\"showlegend\":true,\"textposition\":\"auto\",\"x\":[\"OR\"],\"xaxis\":\"x\",\"y\":[697013.0],\"yaxis\":\"y\",\"type\":\"bar\"},{\"alignmentgroup\":\"True\",\"hovertemplate\":\"state=%{x}<br>year=2021<br>btu_state=%{y}<extra></extra>\",\"legendgroup\":\"PA\",\"marker\":{\"color\":\"#B6E880\",\"pattern\":{\"shape\":\"\"}},\"name\":\"PA\",\"offsetgroup\":\"PA\",\"orientation\":\"v\",\"showlegend\":true,\"textposition\":\"auto\",\"x\":[\"PA\"],\"xaxis\":\"x\",\"y\":[2451310.0],\"yaxis\":\"y\",\"type\":\"bar\"},{\"alignmentgroup\":\"True\",\"hovertemplate\":\"state=%{x}<br>year=2021<br>btu_state=%{y}<extra></extra>\",\"legendgroup\":\"RI\",\"marker\":{\"color\":\"#FF97FF\",\"pattern\":{\"shape\":\"\"}},\"name\":\"RI\",\"offsetgroup\":\"RI\",\"orientation\":\"v\",\"showlegend\":true,\"textposition\":\"auto\",\"x\":[\"RI\"],\"xaxis\":\"x\",\"y\":[189788.0],\"yaxis\":\"y\",\"type\":\"bar\"},{\"alignmentgroup\":\"True\",\"hovertemplate\":\"state=%{x}<br>year=2021<br>btu_state=%{y}<extra></extra>\",\"legendgroup\":\"SC\",\"marker\":{\"color\":\"#FECB52\",\"pattern\":{\"shape\":\"\"}},\"name\":\"SC\",\"offsetgroup\":\"SC\",\"orientation\":\"v\",\"showlegend\":true,\"textposition\":\"auto\",\"x\":[\"SC\"],\"xaxis\":\"x\",\"y\":[911474.0],\"yaxis\":\"y\",\"type\":\"bar\"},{\"alignmentgroup\":\"True\",\"hovertemplate\":\"state=%{x}<br>year=2021<br>btu_state=%{y}<extra></extra>\",\"legendgroup\":\"SD\",\"marker\":{\"color\":\"#636efa\",\"pattern\":{\"shape\":\"\"}},\"name\":\"SD\",\"offsetgroup\":\"SD\",\"orientation\":\"v\",\"showlegend\":true,\"textposition\":\"auto\",\"x\":[\"SD\"],\"xaxis\":\"x\",\"y\":[184842.0],\"yaxis\":\"y\",\"type\":\"bar\"},{\"alignmentgroup\":\"True\",\"hovertemplate\":\"state=%{x}<br>year=2021<br>btu_state=%{y}<extra></extra>\",\"legendgroup\":\"TN\",\"marker\":{\"color\":\"#EF553B\",\"pattern\":{\"shape\":\"\"}},\"name\":\"TN\",\"offsetgroup\":\"TN\",\"orientation\":\"v\",\"showlegend\":true,\"textposition\":\"auto\",\"x\":[\"TN\"],\"xaxis\":\"x\",\"y\":[1320014.0],\"yaxis\":\"y\",\"type\":\"bar\"},{\"alignmentgroup\":\"True\",\"hovertemplate\":\"state=%{x}<br>year=2021<br>btu_state=%{y}<extra></extra>\",\"legendgroup\":\"TX\",\"marker\":{\"color\":\"#00cc96\",\"pattern\":{\"shape\":\"\"}},\"name\":\"TX\",\"offsetgroup\":\"TX\",\"orientation\":\"v\",\"showlegend\":true,\"textposition\":\"auto\",\"x\":[\"TX\"],\"xaxis\":\"x\",\"y\":[4322739.0],\"yaxis\":\"y\",\"type\":\"bar\"},{\"alignmentgroup\":\"True\",\"hovertemplate\":\"state=%{x}<br>year=2021<br>btu_state=%{y}<extra></extra>\",\"legendgroup\":\"UT\",\"marker\":{\"color\":\"#ab63fa\",\"pattern\":{\"shape\":\"\"}},\"name\":\"UT\",\"offsetgroup\":\"UT\",\"orientation\":\"v\",\"showlegend\":true,\"textposition\":\"auto\",\"x\":[\"UT\"],\"xaxis\":\"x\",\"y\":[515988.0],\"yaxis\":\"y\",\"type\":\"bar\"},{\"alignmentgroup\":\"True\",\"hovertemplate\":\"state=%{x}<br>year=2021<br>btu_state=%{y}<extra></extra>\",\"legendgroup\":\"VA\",\"marker\":{\"color\":\"#FFA15A\",\"pattern\":{\"shape\":\"\"}},\"name\":\"VA\",\"offsetgroup\":\"VA\",\"orientation\":\"v\",\"showlegend\":true,\"textposition\":\"auto\",\"x\":[\"VA\"],\"xaxis\":\"x\",\"y\":[1476522.0],\"yaxis\":\"y\",\"type\":\"bar\"},{\"alignmentgroup\":\"True\",\"hovertemplate\":\"state=%{x}<br>year=2021<br>btu_state=%{y}<extra></extra>\",\"legendgroup\":\"VT\",\"marker\":{\"color\":\"#19d3f3\",\"pattern\":{\"shape\":\"\"}},\"name\":\"VT\",\"offsetgroup\":\"VT\",\"orientation\":\"v\",\"showlegend\":true,\"textposition\":\"auto\",\"x\":[\"VT\"],\"xaxis\":\"x\",\"y\":[163670.0],\"yaxis\":\"y\",\"type\":\"bar\"},{\"alignmentgroup\":\"True\",\"hovertemplate\":\"state=%{x}<br>year=2021<br>btu_state=%{y}<extra></extra>\",\"legendgroup\":\"WA\",\"marker\":{\"color\":\"#FF6692\",\"pattern\":{\"shape\":\"\"}},\"name\":\"WA\",\"offsetgroup\":\"WA\",\"orientation\":\"v\",\"showlegend\":true,\"textposition\":\"auto\",\"x\":[\"WA\"],\"xaxis\":\"x\",\"y\":[1276006.0],\"yaxis\":\"y\",\"type\":\"bar\"},{\"alignmentgroup\":\"True\",\"hovertemplate\":\"state=%{x}<br>year=2021<br>btu_state=%{y}<extra></extra>\",\"legendgroup\":\"WI\",\"marker\":{\"color\":\"#B6E880\",\"pattern\":{\"shape\":\"\"}},\"name\":\"WI\",\"offsetgroup\":\"WI\",\"orientation\":\"v\",\"showlegend\":true,\"textposition\":\"auto\",\"x\":[\"WI\"],\"xaxis\":\"x\",\"y\":[1214509.0],\"yaxis\":\"y\",\"type\":\"bar\"},{\"alignmentgroup\":\"True\",\"hovertemplate\":\"state=%{x}<br>year=2021<br>btu_state=%{y}<extra></extra>\",\"legendgroup\":\"WV\",\"marker\":{\"color\":\"#FF97FF\",\"pattern\":{\"shape\":\"\"}},\"name\":\"WV\",\"offsetgroup\":\"WV\",\"orientation\":\"v\",\"showlegend\":true,\"textposition\":\"auto\",\"x\":[\"WV\"],\"xaxis\":\"x\",\"y\":[398736.0],\"yaxis\":\"y\",\"type\":\"bar\"},{\"alignmentgroup\":\"True\",\"hovertemplate\":\"state=%{x}<br>year=2021<br>btu_state=%{y}<extra></extra>\",\"legendgroup\":\"WY\",\"marker\":{\"color\":\"#FECB52\",\"pattern\":{\"shape\":\"\"}},\"name\":\"WY\",\"offsetgroup\":\"WY\",\"orientation\":\"v\",\"showlegend\":true,\"textposition\":\"auto\",\"x\":[\"WY\"],\"xaxis\":\"x\",\"y\":[146123.0],\"yaxis\":\"y\",\"type\":\"bar\"}],\"name\":\"2021\"}]);\n",
       "                        }).then(function(){\n",
       "                            \n",
       "var gd = document.getElementById('f6e37bae-746f-4905-b956-0d4f15206d19');\n",
       "var x = new MutationObserver(function (mutations, observer) {{\n",
       "        var display = window.getComputedStyle(gd).display;\n",
       "        if (!display || display === 'none') {{\n",
       "            console.log([gd, 'removed!']);\n",
       "            Plotly.purge(gd);\n",
       "            observer.disconnect();\n",
       "        }}\n",
       "}});\n",
       "\n",
       "// Listen for the removal of the full notebook cells\n",
       "var notebookContainer = gd.closest('#notebook-container');\n",
       "if (notebookContainer) {{\n",
       "    x.observe(notebookContainer, {childList: true});\n",
       "}}\n",
       "\n",
       "// Listen for the clearing of the current output cell\n",
       "var outputEl = gd.closest('.output');\n",
       "if (outputEl) {{\n",
       "    x.observe(outputEl, {childList: true});\n",
       "}}\n",
       "\n",
       "                        })                };                });            </script>        </div>"
      ]
     },
     "metadata": {},
     "output_type": "display_data"
    }
   ],
   "source": [
    "#Use animation frame to create interactive visual that demonstrates stage energy usage per person (in ascending order)\n",
    "fig2 = px.bar(\n",
    "        df_covidst_grouped, \n",
    "        x=\"state\", \n",
    "        y=\"btu_state\", \n",
    "        animation_frame=\"year\", \n",
    "        range_y=(\n",
    "            0, \n",
    "            df_covidst_grouped[\"btu_state\"].max()\n",
    "        ), \n",
    "        color=\"state\",\n",
    "        title=\"United States residential energy consumption PER STATE (BTU)\"\n",
    ").update_xaxes(categoryorder=\"total ascending\")\n",
    "    \n",
    "fig2.show()"
   ]
  },
  {
   "cell_type": "code",
   "execution_count": 165,
   "id": "1d83cd92",
   "metadata": {},
   "outputs": [
    {
     "data": {
      "text/plain": [
       "'interactive_plot_TOTAL_FINAL.html'"
      ]
     },
     "execution_count": 165,
     "metadata": {},
     "output_type": "execute_result"
    }
   ],
   "source": [
    "# Save Fig 2 as an interactive HTML file\n",
    "html_file_path = \"interactive_plot_TOTAL_FINAL.html\"\n",
    "plot(fig2, filename=html_file_path, auto_open=False)"
   ]
  },
  {
   "cell_type": "code",
   "execution_count": 166,
   "id": "0009ad66",
   "metadata": {},
   "outputs": [
    {
     "data": {
      "text/plain": [
       "array(['AVACB', 'BDACB', 'CLACB', 'DFACB', 'EMACB', 'ESACB', 'HLACB',\n",
       "       'JFACB', 'LOACB', 'LUACB', 'MGACB', 'NGACB', 'OPACB', 'PAACB',\n",
       "       'PQACB', 'REACB', 'RFACB', 'TEACB', 'TNACB'], dtype=object)"
      ]
     },
     "execution_count": 166,
     "metadata": {},
     "output_type": "execute_result"
    }
   ],
   "source": [
    "#Analyzing transportation end use energy consumption for US as a whole from pre covid to 2021:\n",
    "#AC is residential sector consumption\n",
    "#filter energy use codes by AC, to get residential use (btu per state)\n",
    "total_df_pop_AC = df_pop[df_pop[\"code\"].str.match(\"[A-Z]{2}AC[A-Z]\")]\n",
    "total_df_pop_AC[\"code\"].unique()"
   ]
  },
  {
   "cell_type": "code",
   "execution_count": 167,
   "id": "a9a3ed24",
   "metadata": {},
   "outputs": [
    {
     "data": {
      "text/html": [
       "<div>\n",
       "<style scoped>\n",
       "    .dataframe tbody tr th:only-of-type {\n",
       "        vertical-align: middle;\n",
       "    }\n",
       "\n",
       "    .dataframe tbody tr th {\n",
       "        vertical-align: top;\n",
       "    }\n",
       "\n",
       "    .dataframe thead th {\n",
       "        text-align: right;\n",
       "    }\n",
       "</style>\n",
       "<table border=\"1\" class=\"dataframe\">\n",
       "  <thead>\n",
       "    <tr style=\"text-align: right;\">\n",
       "      <th></th>\n",
       "      <th>st_abbreviation</th>\n",
       "      <th>2019</th>\n",
       "      <th>2020</th>\n",
       "      <th>2021</th>\n",
       "      <th>2022</th>\n",
       "      <th>2023</th>\n",
       "      <th>code</th>\n",
       "      <th>btu_2019</th>\n",
       "      <th>btu_2020</th>\n",
       "      <th>btu_2021</th>\n",
       "    </tr>\n",
       "  </thead>\n",
       "  <tbody>\n",
       "    <tr>\n",
       "      <th>4</th>\n",
       "      <td>AK</td>\n",
       "      <td>733374</td>\n",
       "      <td>732964</td>\n",
       "      <td>734923</td>\n",
       "      <td>733276</td>\n",
       "      <td>733406</td>\n",
       "      <td>AVACB</td>\n",
       "      <td>1245.0</td>\n",
       "      <td>915.0</td>\n",
       "      <td>1037.0</td>\n",
       "    </tr>\n",
       "    <tr>\n",
       "      <th>9</th>\n",
       "      <td>AK</td>\n",
       "      <td>733374</td>\n",
       "      <td>732964</td>\n",
       "      <td>734923</td>\n",
       "      <td>733276</td>\n",
       "      <td>733406</td>\n",
       "      <td>BDACB</td>\n",
       "      <td>865.0</td>\n",
       "      <td>865.0</td>\n",
       "      <td>865.0</td>\n",
       "    </tr>\n",
       "    <tr>\n",
       "      <th>20</th>\n",
       "      <td>AK</td>\n",
       "      <td>733374</td>\n",
       "      <td>732964</td>\n",
       "      <td>734923</td>\n",
       "      <td>733276</td>\n",
       "      <td>733406</td>\n",
       "      <td>CLACB</td>\n",
       "      <td>0.0</td>\n",
       "      <td>0.0</td>\n",
       "      <td>0.0</td>\n",
       "    </tr>\n",
       "    <tr>\n",
       "      <th>31</th>\n",
       "      <td>AK</td>\n",
       "      <td>733374</td>\n",
       "      <td>732964</td>\n",
       "      <td>734923</td>\n",
       "      <td>733276</td>\n",
       "      <td>733406</td>\n",
       "      <td>DFACB</td>\n",
       "      <td>36849.0</td>\n",
       "      <td>30027.0</td>\n",
       "      <td>29651.0</td>\n",
       "    </tr>\n",
       "    <tr>\n",
       "      <th>45</th>\n",
       "      <td>AK</td>\n",
       "      <td>733374</td>\n",
       "      <td>732964</td>\n",
       "      <td>734923</td>\n",
       "      <td>733276</td>\n",
       "      <td>733406</td>\n",
       "      <td>EMACB</td>\n",
       "      <td>0.0</td>\n",
       "      <td>0.0</td>\n",
       "      <td>0.0</td>\n",
       "    </tr>\n",
       "    <tr>\n",
       "      <th>...</th>\n",
       "      <td>...</td>\n",
       "      <td>...</td>\n",
       "      <td>...</td>\n",
       "      <td>...</td>\n",
       "      <td>...</td>\n",
       "      <td>...</td>\n",
       "      <td>...</td>\n",
       "      <td>...</td>\n",
       "      <td>...</td>\n",
       "      <td>...</td>\n",
       "    </tr>\n",
       "    <tr>\n",
       "      <th>12210</th>\n",
       "      <td>WY</td>\n",
       "      <td>576850</td>\n",
       "      <td>577664</td>\n",
       "      <td>579548</td>\n",
       "      <td>581629</td>\n",
       "      <td>584057</td>\n",
       "      <td>PQACB</td>\n",
       "      <td>28.0</td>\n",
       "      <td>16.0</td>\n",
       "      <td>6.0</td>\n",
       "    </tr>\n",
       "    <tr>\n",
       "      <th>12218</th>\n",
       "      <td>WY</td>\n",
       "      <td>576850</td>\n",
       "      <td>577664</td>\n",
       "      <td>579548</td>\n",
       "      <td>581629</td>\n",
       "      <td>584057</td>\n",
       "      <td>REACB</td>\n",
       "      <td>3774.0</td>\n",
       "      <td>3451.0</td>\n",
       "      <td>3183.0</td>\n",
       "    </tr>\n",
       "    <tr>\n",
       "      <th>12225</th>\n",
       "      <td>WY</td>\n",
       "      <td>576850</td>\n",
       "      <td>577664</td>\n",
       "      <td>579548</td>\n",
       "      <td>581629</td>\n",
       "      <td>584057</td>\n",
       "      <td>RFACB</td>\n",
       "      <td>0.0</td>\n",
       "      <td>0.0</td>\n",
       "      <td>0.0</td>\n",
       "    </tr>\n",
       "    <tr>\n",
       "      <th>12245</th>\n",
       "      <td>WY</td>\n",
       "      <td>576850</td>\n",
       "      <td>577664</td>\n",
       "      <td>579548</td>\n",
       "      <td>581629</td>\n",
       "      <td>584057</td>\n",
       "      <td>TEACB</td>\n",
       "      <td>116164.0</td>\n",
       "      <td>107115.0</td>\n",
       "      <td>110044.0</td>\n",
       "    </tr>\n",
       "    <tr>\n",
       "      <th>12258</th>\n",
       "      <td>WY</td>\n",
       "      <td>576850</td>\n",
       "      <td>577664</td>\n",
       "      <td>579548</td>\n",
       "      <td>581629</td>\n",
       "      <td>584057</td>\n",
       "      <td>TNACB</td>\n",
       "      <td>116164.0</td>\n",
       "      <td>107115.0</td>\n",
       "      <td>110044.0</td>\n",
       "    </tr>\n",
       "  </tbody>\n",
       "</table>\n",
       "<p>969 rows × 10 columns</p>\n",
       "</div>"
      ],
      "text/plain": [
       "      st_abbreviation    2019    2020    2021    2022    2023   code  \\\n",
       "4                  AK  733374  732964  734923  733276  733406  AVACB   \n",
       "9                  AK  733374  732964  734923  733276  733406  BDACB   \n",
       "20                 AK  733374  732964  734923  733276  733406  CLACB   \n",
       "31                 AK  733374  732964  734923  733276  733406  DFACB   \n",
       "45                 AK  733374  732964  734923  733276  733406  EMACB   \n",
       "...               ...     ...     ...     ...     ...     ...    ...   \n",
       "12210              WY  576850  577664  579548  581629  584057  PQACB   \n",
       "12218              WY  576850  577664  579548  581629  584057  REACB   \n",
       "12225              WY  576850  577664  579548  581629  584057  RFACB   \n",
       "12245              WY  576850  577664  579548  581629  584057  TEACB   \n",
       "12258              WY  576850  577664  579548  581629  584057  TNACB   \n",
       "\n",
       "       btu_2019  btu_2020  btu_2021  \n",
       "4        1245.0     915.0    1037.0  \n",
       "9         865.0     865.0     865.0  \n",
       "20          0.0       0.0       0.0  \n",
       "31      36849.0   30027.0   29651.0  \n",
       "45          0.0       0.0       0.0  \n",
       "...         ...       ...       ...  \n",
       "12210      28.0      16.0       6.0  \n",
       "12218    3774.0    3451.0    3183.0  \n",
       "12225       0.0       0.0       0.0  \n",
       "12245  116164.0  107115.0  110044.0  \n",
       "12258  116164.0  107115.0  110044.0  \n",
       "\n",
       "[969 rows x 10 columns]"
      ]
     },
     "execution_count": 167,
     "metadata": {},
     "output_type": "execute_result"
    }
   ],
   "source": [
    "total_df_pop_AC"
   ]
  },
  {
   "cell_type": "code",
   "execution_count": 168,
   "id": "84465909",
   "metadata": {},
   "outputs": [
    {
     "data": {
      "text/html": [
       "<div>\n",
       "<style scoped>\n",
       "    .dataframe tbody tr th:only-of-type {\n",
       "        vertical-align: middle;\n",
       "    }\n",
       "\n",
       "    .dataframe tbody tr th {\n",
       "        vertical-align: top;\n",
       "    }\n",
       "\n",
       "    .dataframe thead th {\n",
       "        text-align: right;\n",
       "    }\n",
       "</style>\n",
       "<table border=\"1\" class=\"dataframe\">\n",
       "  <thead>\n",
       "    <tr style=\"text-align: right;\">\n",
       "      <th></th>\n",
       "      <th>state</th>\n",
       "      <th>code</th>\n",
       "      <th>2019</th>\n",
       "      <th>2020</th>\n",
       "      <th>2021</th>\n",
       "    </tr>\n",
       "  </thead>\n",
       "  <tbody>\n",
       "    <tr>\n",
       "      <th>4</th>\n",
       "      <td>AK</td>\n",
       "      <td>AVACB</td>\n",
       "      <td>1245.0</td>\n",
       "      <td>915.0</td>\n",
       "      <td>1037.0</td>\n",
       "    </tr>\n",
       "    <tr>\n",
       "      <th>9</th>\n",
       "      <td>AK</td>\n",
       "      <td>BDACB</td>\n",
       "      <td>865.0</td>\n",
       "      <td>865.0</td>\n",
       "      <td>865.0</td>\n",
       "    </tr>\n",
       "    <tr>\n",
       "      <th>20</th>\n",
       "      <td>AK</td>\n",
       "      <td>CLACB</td>\n",
       "      <td>0.0</td>\n",
       "      <td>0.0</td>\n",
       "      <td>0.0</td>\n",
       "    </tr>\n",
       "    <tr>\n",
       "      <th>31</th>\n",
       "      <td>AK</td>\n",
       "      <td>DFACB</td>\n",
       "      <td>36849.0</td>\n",
       "      <td>30027.0</td>\n",
       "      <td>29651.0</td>\n",
       "    </tr>\n",
       "    <tr>\n",
       "      <th>45</th>\n",
       "      <td>AK</td>\n",
       "      <td>EMACB</td>\n",
       "      <td>0.0</td>\n",
       "      <td>0.0</td>\n",
       "      <td>0.0</td>\n",
       "    </tr>\n",
       "    <tr>\n",
       "      <th>...</th>\n",
       "      <td>...</td>\n",
       "      <td>...</td>\n",
       "      <td>...</td>\n",
       "      <td>...</td>\n",
       "      <td>...</td>\n",
       "    </tr>\n",
       "    <tr>\n",
       "      <th>12210</th>\n",
       "      <td>WY</td>\n",
       "      <td>PQACB</td>\n",
       "      <td>28.0</td>\n",
       "      <td>16.0</td>\n",
       "      <td>6.0</td>\n",
       "    </tr>\n",
       "    <tr>\n",
       "      <th>12218</th>\n",
       "      <td>WY</td>\n",
       "      <td>REACB</td>\n",
       "      <td>3774.0</td>\n",
       "      <td>3451.0</td>\n",
       "      <td>3183.0</td>\n",
       "    </tr>\n",
       "    <tr>\n",
       "      <th>12225</th>\n",
       "      <td>WY</td>\n",
       "      <td>RFACB</td>\n",
       "      <td>0.0</td>\n",
       "      <td>0.0</td>\n",
       "      <td>0.0</td>\n",
       "    </tr>\n",
       "    <tr>\n",
       "      <th>12245</th>\n",
       "      <td>WY</td>\n",
       "      <td>TEACB</td>\n",
       "      <td>116164.0</td>\n",
       "      <td>107115.0</td>\n",
       "      <td>110044.0</td>\n",
       "    </tr>\n",
       "    <tr>\n",
       "      <th>12258</th>\n",
       "      <td>WY</td>\n",
       "      <td>TNACB</td>\n",
       "      <td>116164.0</td>\n",
       "      <td>107115.0</td>\n",
       "      <td>110044.0</td>\n",
       "    </tr>\n",
       "  </tbody>\n",
       "</table>\n",
       "<p>969 rows × 5 columns</p>\n",
       "</div>"
      ],
      "text/plain": [
       "      state   code      2019      2020      2021\n",
       "4        AK  AVACB    1245.0     915.0    1037.0\n",
       "9        AK  BDACB     865.0     865.0     865.0\n",
       "20       AK  CLACB       0.0       0.0       0.0\n",
       "31       AK  DFACB   36849.0   30027.0   29651.0\n",
       "45       AK  EMACB       0.0       0.0       0.0\n",
       "...     ...    ...       ...       ...       ...\n",
       "12210    WY  PQACB      28.0      16.0       6.0\n",
       "12218    WY  REACB    3774.0    3451.0    3183.0\n",
       "12225    WY  RFACB       0.0       0.0       0.0\n",
       "12245    WY  TEACB  116164.0  107115.0  110044.0\n",
       "12258    WY  TNACB  116164.0  107115.0  110044.0\n",
       "\n",
       "[969 rows x 5 columns]"
      ]
     },
     "execution_count": 168,
     "metadata": {},
     "output_type": "execute_result"
    }
   ],
   "source": [
    "#Create dataframe with only AC BTU per year across states\n",
    "total_df_AC = total_df_pop_AC[['st_abbreviation','code','btu_2019','btu_2020','btu_2021']]\n",
    "total_df_AC.columns=['state','code','2019','2020','2021']\n",
    "total_df_AC"
   ]
  },
  {
   "cell_type": "code",
   "execution_count": 169,
   "id": "3d21b7d9",
   "metadata": {},
   "outputs": [
    {
     "data": {
      "text/html": [
       "<div>\n",
       "<style scoped>\n",
       "    .dataframe tbody tr th:only-of-type {\n",
       "        vertical-align: middle;\n",
       "    }\n",
       "\n",
       "    .dataframe tbody tr th {\n",
       "        vertical-align: top;\n",
       "    }\n",
       "\n",
       "    .dataframe thead th {\n",
       "        text-align: right;\n",
       "    }\n",
       "</style>\n",
       "<table border=\"1\" class=\"dataframe\">\n",
       "  <thead>\n",
       "    <tr style=\"text-align: right;\">\n",
       "      <th></th>\n",
       "      <th>state</th>\n",
       "      <th>code</th>\n",
       "      <th>year</th>\n",
       "      <th>btu_US</th>\n",
       "    </tr>\n",
       "  </thead>\n",
       "  <tbody>\n",
       "    <tr>\n",
       "      <th>0</th>\n",
       "      <td>AK</td>\n",
       "      <td>AVACB</td>\n",
       "      <td>2019</td>\n",
       "      <td>1245.0</td>\n",
       "    </tr>\n",
       "    <tr>\n",
       "      <th>1</th>\n",
       "      <td>AK</td>\n",
       "      <td>BDACB</td>\n",
       "      <td>2019</td>\n",
       "      <td>865.0</td>\n",
       "    </tr>\n",
       "    <tr>\n",
       "      <th>2</th>\n",
       "      <td>AK</td>\n",
       "      <td>CLACB</td>\n",
       "      <td>2019</td>\n",
       "      <td>0.0</td>\n",
       "    </tr>\n",
       "    <tr>\n",
       "      <th>3</th>\n",
       "      <td>AK</td>\n",
       "      <td>DFACB</td>\n",
       "      <td>2019</td>\n",
       "      <td>36849.0</td>\n",
       "    </tr>\n",
       "    <tr>\n",
       "      <th>4</th>\n",
       "      <td>AK</td>\n",
       "      <td>EMACB</td>\n",
       "      <td>2019</td>\n",
       "      <td>0.0</td>\n",
       "    </tr>\n",
       "    <tr>\n",
       "      <th>...</th>\n",
       "      <td>...</td>\n",
       "      <td>...</td>\n",
       "      <td>...</td>\n",
       "      <td>...</td>\n",
       "    </tr>\n",
       "    <tr>\n",
       "      <th>2902</th>\n",
       "      <td>WY</td>\n",
       "      <td>PQACB</td>\n",
       "      <td>2021</td>\n",
       "      <td>6.0</td>\n",
       "    </tr>\n",
       "    <tr>\n",
       "      <th>2903</th>\n",
       "      <td>WY</td>\n",
       "      <td>REACB</td>\n",
       "      <td>2021</td>\n",
       "      <td>3183.0</td>\n",
       "    </tr>\n",
       "    <tr>\n",
       "      <th>2904</th>\n",
       "      <td>WY</td>\n",
       "      <td>RFACB</td>\n",
       "      <td>2021</td>\n",
       "      <td>0.0</td>\n",
       "    </tr>\n",
       "    <tr>\n",
       "      <th>2905</th>\n",
       "      <td>WY</td>\n",
       "      <td>TEACB</td>\n",
       "      <td>2021</td>\n",
       "      <td>110044.0</td>\n",
       "    </tr>\n",
       "    <tr>\n",
       "      <th>2906</th>\n",
       "      <td>WY</td>\n",
       "      <td>TNACB</td>\n",
       "      <td>2021</td>\n",
       "      <td>110044.0</td>\n",
       "    </tr>\n",
       "  </tbody>\n",
       "</table>\n",
       "<p>2907 rows × 4 columns</p>\n",
       "</div>"
      ],
      "text/plain": [
       "     state   code  year    btu_US\n",
       "0       AK  AVACB  2019    1245.0\n",
       "1       AK  BDACB  2019     865.0\n",
       "2       AK  CLACB  2019       0.0\n",
       "3       AK  DFACB  2019   36849.0\n",
       "4       AK  EMACB  2019       0.0\n",
       "...    ...    ...   ...       ...\n",
       "2902    WY  PQACB  2021       6.0\n",
       "2903    WY  REACB  2021    3183.0\n",
       "2904    WY  RFACB  2021       0.0\n",
       "2905    WY  TEACB  2021  110044.0\n",
       "2906    WY  TNACB  2021  110044.0\n",
       "\n",
       "[2907 rows x 4 columns]"
      ]
     },
     "execution_count": 169,
     "metadata": {},
     "output_type": "execute_result"
    }
   ],
   "source": [
    "#use melt method to assign years per column of btu entry\n",
    "total_df_AC_new= total_df_AC.melt(id_vars=[\"state\", \"code\"], var_name=\"year\", value_name=\"btu_US\")\n",
    "total_df_AC_new"
   ]
  },
  {
   "cell_type": "code",
   "execution_count": 170,
   "id": "713128ee",
   "metadata": {},
   "outputs": [
    {
     "data": {
      "text/html": [
       "<div>\n",
       "<style scoped>\n",
       "    .dataframe tbody tr th:only-of-type {\n",
       "        vertical-align: middle;\n",
       "    }\n",
       "\n",
       "    .dataframe tbody tr th {\n",
       "        vertical-align: top;\n",
       "    }\n",
       "\n",
       "    .dataframe thead th {\n",
       "        text-align: right;\n",
       "    }\n",
       "</style>\n",
       "<table border=\"1\" class=\"dataframe\">\n",
       "  <thead>\n",
       "    <tr style=\"text-align: right;\">\n",
       "      <th></th>\n",
       "      <th>year</th>\n",
       "      <th>state</th>\n",
       "      <th>code</th>\n",
       "      <th>btu_US</th>\n",
       "    </tr>\n",
       "  </thead>\n",
       "  <tbody>\n",
       "    <tr>\n",
       "      <th>0</th>\n",
       "      <td>2019</td>\n",
       "      <td>AKAKAKAKAKAKAKAKAKAKAKAKAKAKAKAKAKAKAKALALALAL...</td>\n",
       "      <td>AVACBBDACBCLACBDFACBEMACBESACBHLACBJFACBLOACBL...</td>\n",
       "      <td>116038189.0</td>\n",
       "    </tr>\n",
       "    <tr>\n",
       "      <th>1</th>\n",
       "      <td>2020</td>\n",
       "      <td>AKAKAKAKAKAKAKAKAKAKAKAKAKAKAKAKAKAKAKALALALAL...</td>\n",
       "      <td>AVACBBDACBCLACBDFACBEMACBESACBHLACBJFACBLOACBL...</td>\n",
       "      <td>98852260.0</td>\n",
       "    </tr>\n",
       "    <tr>\n",
       "      <th>2</th>\n",
       "      <td>2021</td>\n",
       "      <td>AKAKAKAKAKAKAKAKAKAKAKAKAKAKAKAKAKAKAKALALALAL...</td>\n",
       "      <td>AVACBBDACBCLACBDFACBEMACBESACBHLACBJFACBLOACBL...</td>\n",
       "      <td>109780954.0</td>\n",
       "    </tr>\n",
       "  </tbody>\n",
       "</table>\n",
       "</div>"
      ],
      "text/plain": [
       "   year                                              state  \\\n",
       "0  2019  AKAKAKAKAKAKAKAKAKAKAKAKAKAKAKAKAKAKAKALALALAL...   \n",
       "1  2020  AKAKAKAKAKAKAKAKAKAKAKAKAKAKAKAKAKAKAKALALALAL...   \n",
       "2  2021  AKAKAKAKAKAKAKAKAKAKAKAKAKAKAKAKAKAKAKALALALAL...   \n",
       "\n",
       "                                                code       btu_US  \n",
       "0  AVACBBDACBCLACBDFACBEMACBESACBHLACBJFACBLOACBL...  116038189.0  \n",
       "1  AVACBBDACBCLACBDFACBEMACBESACBHLACBJFACBLOACBL...   98852260.0  \n",
       "2  AVACBBDACBCLACBDFACBEMACBESACBHLACBJFACBLOACBL...  109780954.0  "
      ]
     },
     "execution_count": 170,
     "metadata": {},
     "output_type": "execute_result"
    }
   ],
   "source": [
    "#sum transportation energy consumption by year to compare to findings from consumer spending trends\n",
    "total_df_AC_grouped = total_df_AC_new.groupby([\"year\"], as_index=False).sum()\n",
    "total_df_AC_grouped"
   ]
  },
  {
   "cell_type": "code",
   "execution_count": 171,
   "id": "f7181c45",
   "metadata": {},
   "outputs": [
    {
     "data": {
      "application/vnd.plotly.v1+json": {
       "config": {
        "plotlyServerURL": "https://plot.ly"
       },
       "data": [
        {
         "hovertemplate": "year=%{x}<br>btu_US=%{y}<extra></extra>",
         "legendgroup": "",
         "line": {
          "color": "#636efa",
          "dash": "solid"
         },
         "marker": {
          "symbol": "circle"
         },
         "mode": "lines",
         "name": "",
         "orientation": "v",
         "showlegend": false,
         "type": "scatter",
         "x": [
          "2019",
          "2020",
          "2021"
         ],
         "xaxis": "x",
         "y": [
          116038189,
          98852260,
          109780954
         ],
         "yaxis": "y"
        }
       ],
       "layout": {
        "legend": {
         "tracegroupgap": 0
        },
        "template": {
         "data": {
          "bar": [
           {
            "error_x": {
             "color": "#2a3f5f"
            },
            "error_y": {
             "color": "#2a3f5f"
            },
            "marker": {
             "line": {
              "color": "#E5ECF6",
              "width": 0.5
             },
             "pattern": {
              "fillmode": "overlay",
              "size": 10,
              "solidity": 0.2
             }
            },
            "type": "bar"
           }
          ],
          "barpolar": [
           {
            "marker": {
             "line": {
              "color": "#E5ECF6",
              "width": 0.5
             },
             "pattern": {
              "fillmode": "overlay",
              "size": 10,
              "solidity": 0.2
             }
            },
            "type": "barpolar"
           }
          ],
          "carpet": [
           {
            "aaxis": {
             "endlinecolor": "#2a3f5f",
             "gridcolor": "white",
             "linecolor": "white",
             "minorgridcolor": "white",
             "startlinecolor": "#2a3f5f"
            },
            "baxis": {
             "endlinecolor": "#2a3f5f",
             "gridcolor": "white",
             "linecolor": "white",
             "minorgridcolor": "white",
             "startlinecolor": "#2a3f5f"
            },
            "type": "carpet"
           }
          ],
          "choropleth": [
           {
            "colorbar": {
             "outlinewidth": 0,
             "ticks": ""
            },
            "type": "choropleth"
           }
          ],
          "contour": [
           {
            "colorbar": {
             "outlinewidth": 0,
             "ticks": ""
            },
            "colorscale": [
             [
              0,
              "#0d0887"
             ],
             [
              0.1111111111111111,
              "#46039f"
             ],
             [
              0.2222222222222222,
              "#7201a8"
             ],
             [
              0.3333333333333333,
              "#9c179e"
             ],
             [
              0.4444444444444444,
              "#bd3786"
             ],
             [
              0.5555555555555556,
              "#d8576b"
             ],
             [
              0.6666666666666666,
              "#ed7953"
             ],
             [
              0.7777777777777778,
              "#fb9f3a"
             ],
             [
              0.8888888888888888,
              "#fdca26"
             ],
             [
              1,
              "#f0f921"
             ]
            ],
            "type": "contour"
           }
          ],
          "contourcarpet": [
           {
            "colorbar": {
             "outlinewidth": 0,
             "ticks": ""
            },
            "type": "contourcarpet"
           }
          ],
          "heatmap": [
           {
            "colorbar": {
             "outlinewidth": 0,
             "ticks": ""
            },
            "colorscale": [
             [
              0,
              "#0d0887"
             ],
             [
              0.1111111111111111,
              "#46039f"
             ],
             [
              0.2222222222222222,
              "#7201a8"
             ],
             [
              0.3333333333333333,
              "#9c179e"
             ],
             [
              0.4444444444444444,
              "#bd3786"
             ],
             [
              0.5555555555555556,
              "#d8576b"
             ],
             [
              0.6666666666666666,
              "#ed7953"
             ],
             [
              0.7777777777777778,
              "#fb9f3a"
             ],
             [
              0.8888888888888888,
              "#fdca26"
             ],
             [
              1,
              "#f0f921"
             ]
            ],
            "type": "heatmap"
           }
          ],
          "heatmapgl": [
           {
            "colorbar": {
             "outlinewidth": 0,
             "ticks": ""
            },
            "colorscale": [
             [
              0,
              "#0d0887"
             ],
             [
              0.1111111111111111,
              "#46039f"
             ],
             [
              0.2222222222222222,
              "#7201a8"
             ],
             [
              0.3333333333333333,
              "#9c179e"
             ],
             [
              0.4444444444444444,
              "#bd3786"
             ],
             [
              0.5555555555555556,
              "#d8576b"
             ],
             [
              0.6666666666666666,
              "#ed7953"
             ],
             [
              0.7777777777777778,
              "#fb9f3a"
             ],
             [
              0.8888888888888888,
              "#fdca26"
             ],
             [
              1,
              "#f0f921"
             ]
            ],
            "type": "heatmapgl"
           }
          ],
          "histogram": [
           {
            "marker": {
             "pattern": {
              "fillmode": "overlay",
              "size": 10,
              "solidity": 0.2
             }
            },
            "type": "histogram"
           }
          ],
          "histogram2d": [
           {
            "colorbar": {
             "outlinewidth": 0,
             "ticks": ""
            },
            "colorscale": [
             [
              0,
              "#0d0887"
             ],
             [
              0.1111111111111111,
              "#46039f"
             ],
             [
              0.2222222222222222,
              "#7201a8"
             ],
             [
              0.3333333333333333,
              "#9c179e"
             ],
             [
              0.4444444444444444,
              "#bd3786"
             ],
             [
              0.5555555555555556,
              "#d8576b"
             ],
             [
              0.6666666666666666,
              "#ed7953"
             ],
             [
              0.7777777777777778,
              "#fb9f3a"
             ],
             [
              0.8888888888888888,
              "#fdca26"
             ],
             [
              1,
              "#f0f921"
             ]
            ],
            "type": "histogram2d"
           }
          ],
          "histogram2dcontour": [
           {
            "colorbar": {
             "outlinewidth": 0,
             "ticks": ""
            },
            "colorscale": [
             [
              0,
              "#0d0887"
             ],
             [
              0.1111111111111111,
              "#46039f"
             ],
             [
              0.2222222222222222,
              "#7201a8"
             ],
             [
              0.3333333333333333,
              "#9c179e"
             ],
             [
              0.4444444444444444,
              "#bd3786"
             ],
             [
              0.5555555555555556,
              "#d8576b"
             ],
             [
              0.6666666666666666,
              "#ed7953"
             ],
             [
              0.7777777777777778,
              "#fb9f3a"
             ],
             [
              0.8888888888888888,
              "#fdca26"
             ],
             [
              1,
              "#f0f921"
             ]
            ],
            "type": "histogram2dcontour"
           }
          ],
          "mesh3d": [
           {
            "colorbar": {
             "outlinewidth": 0,
             "ticks": ""
            },
            "type": "mesh3d"
           }
          ],
          "parcoords": [
           {
            "line": {
             "colorbar": {
              "outlinewidth": 0,
              "ticks": ""
             }
            },
            "type": "parcoords"
           }
          ],
          "pie": [
           {
            "automargin": true,
            "type": "pie"
           }
          ],
          "scatter": [
           {
            "fillpattern": {
             "fillmode": "overlay",
             "size": 10,
             "solidity": 0.2
            },
            "type": "scatter"
           }
          ],
          "scatter3d": [
           {
            "line": {
             "colorbar": {
              "outlinewidth": 0,
              "ticks": ""
             }
            },
            "marker": {
             "colorbar": {
              "outlinewidth": 0,
              "ticks": ""
             }
            },
            "type": "scatter3d"
           }
          ],
          "scattercarpet": [
           {
            "marker": {
             "colorbar": {
              "outlinewidth": 0,
              "ticks": ""
             }
            },
            "type": "scattercarpet"
           }
          ],
          "scattergeo": [
           {
            "marker": {
             "colorbar": {
              "outlinewidth": 0,
              "ticks": ""
             }
            },
            "type": "scattergeo"
           }
          ],
          "scattergl": [
           {
            "marker": {
             "colorbar": {
              "outlinewidth": 0,
              "ticks": ""
             }
            },
            "type": "scattergl"
           }
          ],
          "scattermapbox": [
           {
            "marker": {
             "colorbar": {
              "outlinewidth": 0,
              "ticks": ""
             }
            },
            "type": "scattermapbox"
           }
          ],
          "scatterpolar": [
           {
            "marker": {
             "colorbar": {
              "outlinewidth": 0,
              "ticks": ""
             }
            },
            "type": "scatterpolar"
           }
          ],
          "scatterpolargl": [
           {
            "marker": {
             "colorbar": {
              "outlinewidth": 0,
              "ticks": ""
             }
            },
            "type": "scatterpolargl"
           }
          ],
          "scatterternary": [
           {
            "marker": {
             "colorbar": {
              "outlinewidth": 0,
              "ticks": ""
             }
            },
            "type": "scatterternary"
           }
          ],
          "surface": [
           {
            "colorbar": {
             "outlinewidth": 0,
             "ticks": ""
            },
            "colorscale": [
             [
              0,
              "#0d0887"
             ],
             [
              0.1111111111111111,
              "#46039f"
             ],
             [
              0.2222222222222222,
              "#7201a8"
             ],
             [
              0.3333333333333333,
              "#9c179e"
             ],
             [
              0.4444444444444444,
              "#bd3786"
             ],
             [
              0.5555555555555556,
              "#d8576b"
             ],
             [
              0.6666666666666666,
              "#ed7953"
             ],
             [
              0.7777777777777778,
              "#fb9f3a"
             ],
             [
              0.8888888888888888,
              "#fdca26"
             ],
             [
              1,
              "#f0f921"
             ]
            ],
            "type": "surface"
           }
          ],
          "table": [
           {
            "cells": {
             "fill": {
              "color": "#EBF0F8"
             },
             "line": {
              "color": "white"
             }
            },
            "header": {
             "fill": {
              "color": "#C8D4E3"
             },
             "line": {
              "color": "white"
             }
            },
            "type": "table"
           }
          ]
         },
         "layout": {
          "annotationdefaults": {
           "arrowcolor": "#2a3f5f",
           "arrowhead": 0,
           "arrowwidth": 1
          },
          "autotypenumbers": "strict",
          "coloraxis": {
           "colorbar": {
            "outlinewidth": 0,
            "ticks": ""
           }
          },
          "colorscale": {
           "diverging": [
            [
             0,
             "#8e0152"
            ],
            [
             0.1,
             "#c51b7d"
            ],
            [
             0.2,
             "#de77ae"
            ],
            [
             0.3,
             "#f1b6da"
            ],
            [
             0.4,
             "#fde0ef"
            ],
            [
             0.5,
             "#f7f7f7"
            ],
            [
             0.6,
             "#e6f5d0"
            ],
            [
             0.7,
             "#b8e186"
            ],
            [
             0.8,
             "#7fbc41"
            ],
            [
             0.9,
             "#4d9221"
            ],
            [
             1,
             "#276419"
            ]
           ],
           "sequential": [
            [
             0,
             "#0d0887"
            ],
            [
             0.1111111111111111,
             "#46039f"
            ],
            [
             0.2222222222222222,
             "#7201a8"
            ],
            [
             0.3333333333333333,
             "#9c179e"
            ],
            [
             0.4444444444444444,
             "#bd3786"
            ],
            [
             0.5555555555555556,
             "#d8576b"
            ],
            [
             0.6666666666666666,
             "#ed7953"
            ],
            [
             0.7777777777777778,
             "#fb9f3a"
            ],
            [
             0.8888888888888888,
             "#fdca26"
            ],
            [
             1,
             "#f0f921"
            ]
           ],
           "sequentialminus": [
            [
             0,
             "#0d0887"
            ],
            [
             0.1111111111111111,
             "#46039f"
            ],
            [
             0.2222222222222222,
             "#7201a8"
            ],
            [
             0.3333333333333333,
             "#9c179e"
            ],
            [
             0.4444444444444444,
             "#bd3786"
            ],
            [
             0.5555555555555556,
             "#d8576b"
            ],
            [
             0.6666666666666666,
             "#ed7953"
            ],
            [
             0.7777777777777778,
             "#fb9f3a"
            ],
            [
             0.8888888888888888,
             "#fdca26"
            ],
            [
             1,
             "#f0f921"
            ]
           ]
          },
          "colorway": [
           "#636efa",
           "#EF553B",
           "#00cc96",
           "#ab63fa",
           "#FFA15A",
           "#19d3f3",
           "#FF6692",
           "#B6E880",
           "#FF97FF",
           "#FECB52"
          ],
          "font": {
           "color": "#2a3f5f"
          },
          "geo": {
           "bgcolor": "white",
           "lakecolor": "white",
           "landcolor": "#E5ECF6",
           "showlakes": true,
           "showland": true,
           "subunitcolor": "white"
          },
          "hoverlabel": {
           "align": "left"
          },
          "hovermode": "closest",
          "mapbox": {
           "style": "light"
          },
          "paper_bgcolor": "white",
          "plot_bgcolor": "#E5ECF6",
          "polar": {
           "angularaxis": {
            "gridcolor": "white",
            "linecolor": "white",
            "ticks": ""
           },
           "bgcolor": "#E5ECF6",
           "radialaxis": {
            "gridcolor": "white",
            "linecolor": "white",
            "ticks": ""
           }
          },
          "scene": {
           "xaxis": {
            "backgroundcolor": "#E5ECF6",
            "gridcolor": "white",
            "gridwidth": 2,
            "linecolor": "white",
            "showbackground": true,
            "ticks": "",
            "zerolinecolor": "white"
           },
           "yaxis": {
            "backgroundcolor": "#E5ECF6",
            "gridcolor": "white",
            "gridwidth": 2,
            "linecolor": "white",
            "showbackground": true,
            "ticks": "",
            "zerolinecolor": "white"
           },
           "zaxis": {
            "backgroundcolor": "#E5ECF6",
            "gridcolor": "white",
            "gridwidth": 2,
            "linecolor": "white",
            "showbackground": true,
            "ticks": "",
            "zerolinecolor": "white"
           }
          },
          "shapedefaults": {
           "line": {
            "color": "#2a3f5f"
           }
          },
          "ternary": {
           "aaxis": {
            "gridcolor": "white",
            "linecolor": "white",
            "ticks": ""
           },
           "baxis": {
            "gridcolor": "white",
            "linecolor": "white",
            "ticks": ""
           },
           "bgcolor": "#E5ECF6",
           "caxis": {
            "gridcolor": "white",
            "linecolor": "white",
            "ticks": ""
           }
          },
          "title": {
           "x": 0.05
          },
          "xaxis": {
           "automargin": true,
           "gridcolor": "white",
           "linecolor": "white",
           "ticks": "",
           "title": {
            "standoff": 15
           },
           "zerolinecolor": "white",
           "zerolinewidth": 2
          },
          "yaxis": {
           "automargin": true,
           "gridcolor": "white",
           "linecolor": "white",
           "ticks": "",
           "title": {
            "standoff": 15
           },
           "zerolinecolor": "white",
           "zerolinewidth": 2
          }
         }
        },
        "title": {
         "text": "US Transportation energy consumption per year"
        },
        "xaxis": {
         "anchor": "y",
         "domain": [
          0,
          1
         ],
         "title": {
          "text": "year"
         }
        },
        "yaxis": {
         "anchor": "x",
         "domain": [
          0,
          1
         ],
         "title": {
          "text": "btu_US"
         }
        }
       }
      },
      "text/html": [
       "<div>                            <div id=\"7d93576b-c9ef-4e0b-a780-977088fd828c\" class=\"plotly-graph-div\" style=\"height:525px; width:100%;\"></div>            <script type=\"text/javascript\">                require([\"plotly\"], function(Plotly) {                    window.PLOTLYENV=window.PLOTLYENV || {};                                    if (document.getElementById(\"7d93576b-c9ef-4e0b-a780-977088fd828c\")) {                    Plotly.newPlot(                        \"7d93576b-c9ef-4e0b-a780-977088fd828c\",                        [{\"hovertemplate\":\"year=%{x}<br>btu_US=%{y}<extra></extra>\",\"legendgroup\":\"\",\"line\":{\"color\":\"#636efa\",\"dash\":\"solid\"},\"marker\":{\"symbol\":\"circle\"},\"mode\":\"lines\",\"name\":\"\",\"orientation\":\"v\",\"showlegend\":false,\"x\":[\"2019\",\"2020\",\"2021\"],\"xaxis\":\"x\",\"y\":[116038189.0,98852260.0,109780954.0],\"yaxis\":\"y\",\"type\":\"scatter\"}],                        {\"template\":{\"data\":{\"histogram2dcontour\":[{\"type\":\"histogram2dcontour\",\"colorbar\":{\"outlinewidth\":0,\"ticks\":\"\"},\"colorscale\":[[0.0,\"#0d0887\"],[0.1111111111111111,\"#46039f\"],[0.2222222222222222,\"#7201a8\"],[0.3333333333333333,\"#9c179e\"],[0.4444444444444444,\"#bd3786\"],[0.5555555555555556,\"#d8576b\"],[0.6666666666666666,\"#ed7953\"],[0.7777777777777778,\"#fb9f3a\"],[0.8888888888888888,\"#fdca26\"],[1.0,\"#f0f921\"]]}],\"choropleth\":[{\"type\":\"choropleth\",\"colorbar\":{\"outlinewidth\":0,\"ticks\":\"\"}}],\"histogram2d\":[{\"type\":\"histogram2d\",\"colorbar\":{\"outlinewidth\":0,\"ticks\":\"\"},\"colorscale\":[[0.0,\"#0d0887\"],[0.1111111111111111,\"#46039f\"],[0.2222222222222222,\"#7201a8\"],[0.3333333333333333,\"#9c179e\"],[0.4444444444444444,\"#bd3786\"],[0.5555555555555556,\"#d8576b\"],[0.6666666666666666,\"#ed7953\"],[0.7777777777777778,\"#fb9f3a\"],[0.8888888888888888,\"#fdca26\"],[1.0,\"#f0f921\"]]}],\"heatmap\":[{\"type\":\"heatmap\",\"colorbar\":{\"outlinewidth\":0,\"ticks\":\"\"},\"colorscale\":[[0.0,\"#0d0887\"],[0.1111111111111111,\"#46039f\"],[0.2222222222222222,\"#7201a8\"],[0.3333333333333333,\"#9c179e\"],[0.4444444444444444,\"#bd3786\"],[0.5555555555555556,\"#d8576b\"],[0.6666666666666666,\"#ed7953\"],[0.7777777777777778,\"#fb9f3a\"],[0.8888888888888888,\"#fdca26\"],[1.0,\"#f0f921\"]]}],\"heatmapgl\":[{\"type\":\"heatmapgl\",\"colorbar\":{\"outlinewidth\":0,\"ticks\":\"\"},\"colorscale\":[[0.0,\"#0d0887\"],[0.1111111111111111,\"#46039f\"],[0.2222222222222222,\"#7201a8\"],[0.3333333333333333,\"#9c179e\"],[0.4444444444444444,\"#bd3786\"],[0.5555555555555556,\"#d8576b\"],[0.6666666666666666,\"#ed7953\"],[0.7777777777777778,\"#fb9f3a\"],[0.8888888888888888,\"#fdca26\"],[1.0,\"#f0f921\"]]}],\"contourcarpet\":[{\"type\":\"contourcarpet\",\"colorbar\":{\"outlinewidth\":0,\"ticks\":\"\"}}],\"contour\":[{\"type\":\"contour\",\"colorbar\":{\"outlinewidth\":0,\"ticks\":\"\"},\"colorscale\":[[0.0,\"#0d0887\"],[0.1111111111111111,\"#46039f\"],[0.2222222222222222,\"#7201a8\"],[0.3333333333333333,\"#9c179e\"],[0.4444444444444444,\"#bd3786\"],[0.5555555555555556,\"#d8576b\"],[0.6666666666666666,\"#ed7953\"],[0.7777777777777778,\"#fb9f3a\"],[0.8888888888888888,\"#fdca26\"],[1.0,\"#f0f921\"]]}],\"surface\":[{\"type\":\"surface\",\"colorbar\":{\"outlinewidth\":0,\"ticks\":\"\"},\"colorscale\":[[0.0,\"#0d0887\"],[0.1111111111111111,\"#46039f\"],[0.2222222222222222,\"#7201a8\"],[0.3333333333333333,\"#9c179e\"],[0.4444444444444444,\"#bd3786\"],[0.5555555555555556,\"#d8576b\"],[0.6666666666666666,\"#ed7953\"],[0.7777777777777778,\"#fb9f3a\"],[0.8888888888888888,\"#fdca26\"],[1.0,\"#f0f921\"]]}],\"mesh3d\":[{\"type\":\"mesh3d\",\"colorbar\":{\"outlinewidth\":0,\"ticks\":\"\"}}],\"scatter\":[{\"fillpattern\":{\"fillmode\":\"overlay\",\"size\":10,\"solidity\":0.2},\"type\":\"scatter\"}],\"parcoords\":[{\"type\":\"parcoords\",\"line\":{\"colorbar\":{\"outlinewidth\":0,\"ticks\":\"\"}}}],\"scatterpolargl\":[{\"type\":\"scatterpolargl\",\"marker\":{\"colorbar\":{\"outlinewidth\":0,\"ticks\":\"\"}}}],\"bar\":[{\"error_x\":{\"color\":\"#2a3f5f\"},\"error_y\":{\"color\":\"#2a3f5f\"},\"marker\":{\"line\":{\"color\":\"#E5ECF6\",\"width\":0.5},\"pattern\":{\"fillmode\":\"overlay\",\"size\":10,\"solidity\":0.2}},\"type\":\"bar\"}],\"scattergeo\":[{\"type\":\"scattergeo\",\"marker\":{\"colorbar\":{\"outlinewidth\":0,\"ticks\":\"\"}}}],\"scatterpolar\":[{\"type\":\"scatterpolar\",\"marker\":{\"colorbar\":{\"outlinewidth\":0,\"ticks\":\"\"}}}],\"histogram\":[{\"marker\":{\"pattern\":{\"fillmode\":\"overlay\",\"size\":10,\"solidity\":0.2}},\"type\":\"histogram\"}],\"scattergl\":[{\"type\":\"scattergl\",\"marker\":{\"colorbar\":{\"outlinewidth\":0,\"ticks\":\"\"}}}],\"scatter3d\":[{\"type\":\"scatter3d\",\"line\":{\"colorbar\":{\"outlinewidth\":0,\"ticks\":\"\"}},\"marker\":{\"colorbar\":{\"outlinewidth\":0,\"ticks\":\"\"}}}],\"scattermapbox\":[{\"type\":\"scattermapbox\",\"marker\":{\"colorbar\":{\"outlinewidth\":0,\"ticks\":\"\"}}}],\"scatterternary\":[{\"type\":\"scatterternary\",\"marker\":{\"colorbar\":{\"outlinewidth\":0,\"ticks\":\"\"}}}],\"scattercarpet\":[{\"type\":\"scattercarpet\",\"marker\":{\"colorbar\":{\"outlinewidth\":0,\"ticks\":\"\"}}}],\"carpet\":[{\"aaxis\":{\"endlinecolor\":\"#2a3f5f\",\"gridcolor\":\"white\",\"linecolor\":\"white\",\"minorgridcolor\":\"white\",\"startlinecolor\":\"#2a3f5f\"},\"baxis\":{\"endlinecolor\":\"#2a3f5f\",\"gridcolor\":\"white\",\"linecolor\":\"white\",\"minorgridcolor\":\"white\",\"startlinecolor\":\"#2a3f5f\"},\"type\":\"carpet\"}],\"table\":[{\"cells\":{\"fill\":{\"color\":\"#EBF0F8\"},\"line\":{\"color\":\"white\"}},\"header\":{\"fill\":{\"color\":\"#C8D4E3\"},\"line\":{\"color\":\"white\"}},\"type\":\"table\"}],\"barpolar\":[{\"marker\":{\"line\":{\"color\":\"#E5ECF6\",\"width\":0.5},\"pattern\":{\"fillmode\":\"overlay\",\"size\":10,\"solidity\":0.2}},\"type\":\"barpolar\"}],\"pie\":[{\"automargin\":true,\"type\":\"pie\"}]},\"layout\":{\"autotypenumbers\":\"strict\",\"colorway\":[\"#636efa\",\"#EF553B\",\"#00cc96\",\"#ab63fa\",\"#FFA15A\",\"#19d3f3\",\"#FF6692\",\"#B6E880\",\"#FF97FF\",\"#FECB52\"],\"font\":{\"color\":\"#2a3f5f\"},\"hovermode\":\"closest\",\"hoverlabel\":{\"align\":\"left\"},\"paper_bgcolor\":\"white\",\"plot_bgcolor\":\"#E5ECF6\",\"polar\":{\"bgcolor\":\"#E5ECF6\",\"angularaxis\":{\"gridcolor\":\"white\",\"linecolor\":\"white\",\"ticks\":\"\"},\"radialaxis\":{\"gridcolor\":\"white\",\"linecolor\":\"white\",\"ticks\":\"\"}},\"ternary\":{\"bgcolor\":\"#E5ECF6\",\"aaxis\":{\"gridcolor\":\"white\",\"linecolor\":\"white\",\"ticks\":\"\"},\"baxis\":{\"gridcolor\":\"white\",\"linecolor\":\"white\",\"ticks\":\"\"},\"caxis\":{\"gridcolor\":\"white\",\"linecolor\":\"white\",\"ticks\":\"\"}},\"coloraxis\":{\"colorbar\":{\"outlinewidth\":0,\"ticks\":\"\"}},\"colorscale\":{\"sequential\":[[0.0,\"#0d0887\"],[0.1111111111111111,\"#46039f\"],[0.2222222222222222,\"#7201a8\"],[0.3333333333333333,\"#9c179e\"],[0.4444444444444444,\"#bd3786\"],[0.5555555555555556,\"#d8576b\"],[0.6666666666666666,\"#ed7953\"],[0.7777777777777778,\"#fb9f3a\"],[0.8888888888888888,\"#fdca26\"],[1.0,\"#f0f921\"]],\"sequentialminus\":[[0.0,\"#0d0887\"],[0.1111111111111111,\"#46039f\"],[0.2222222222222222,\"#7201a8\"],[0.3333333333333333,\"#9c179e\"],[0.4444444444444444,\"#bd3786\"],[0.5555555555555556,\"#d8576b\"],[0.6666666666666666,\"#ed7953\"],[0.7777777777777778,\"#fb9f3a\"],[0.8888888888888888,\"#fdca26\"],[1.0,\"#f0f921\"]],\"diverging\":[[0,\"#8e0152\"],[0.1,\"#c51b7d\"],[0.2,\"#de77ae\"],[0.3,\"#f1b6da\"],[0.4,\"#fde0ef\"],[0.5,\"#f7f7f7\"],[0.6,\"#e6f5d0\"],[0.7,\"#b8e186\"],[0.8,\"#7fbc41\"],[0.9,\"#4d9221\"],[1,\"#276419\"]]},\"xaxis\":{\"gridcolor\":\"white\",\"linecolor\":\"white\",\"ticks\":\"\",\"title\":{\"standoff\":15},\"zerolinecolor\":\"white\",\"automargin\":true,\"zerolinewidth\":2},\"yaxis\":{\"gridcolor\":\"white\",\"linecolor\":\"white\",\"ticks\":\"\",\"title\":{\"standoff\":15},\"zerolinecolor\":\"white\",\"automargin\":true,\"zerolinewidth\":2},\"scene\":{\"xaxis\":{\"backgroundcolor\":\"#E5ECF6\",\"gridcolor\":\"white\",\"linecolor\":\"white\",\"showbackground\":true,\"ticks\":\"\",\"zerolinecolor\":\"white\",\"gridwidth\":2},\"yaxis\":{\"backgroundcolor\":\"#E5ECF6\",\"gridcolor\":\"white\",\"linecolor\":\"white\",\"showbackground\":true,\"ticks\":\"\",\"zerolinecolor\":\"white\",\"gridwidth\":2},\"zaxis\":{\"backgroundcolor\":\"#E5ECF6\",\"gridcolor\":\"white\",\"linecolor\":\"white\",\"showbackground\":true,\"ticks\":\"\",\"zerolinecolor\":\"white\",\"gridwidth\":2}},\"shapedefaults\":{\"line\":{\"color\":\"#2a3f5f\"}},\"annotationdefaults\":{\"arrowcolor\":\"#2a3f5f\",\"arrowhead\":0,\"arrowwidth\":1},\"geo\":{\"bgcolor\":\"white\",\"landcolor\":\"#E5ECF6\",\"subunitcolor\":\"white\",\"showland\":true,\"showlakes\":true,\"lakecolor\":\"white\"},\"title\":{\"x\":0.05},\"mapbox\":{\"style\":\"light\"}}},\"xaxis\":{\"anchor\":\"y\",\"domain\":[0.0,1.0],\"title\":{\"text\":\"year\"}},\"yaxis\":{\"anchor\":\"x\",\"domain\":[0.0,1.0],\"title\":{\"text\":\"btu_US\"}},\"legend\":{\"tracegroupgap\":0},\"title\":{\"text\":\"US Transportation energy consumption per year\"}},                        {\"responsive\": true}                    ).then(function(){\n",
       "                            \n",
       "var gd = document.getElementById('7d93576b-c9ef-4e0b-a780-977088fd828c');\n",
       "var x = new MutationObserver(function (mutations, observer) {{\n",
       "        var display = window.getComputedStyle(gd).display;\n",
       "        if (!display || display === 'none') {{\n",
       "            console.log([gd, 'removed!']);\n",
       "            Plotly.purge(gd);\n",
       "            observer.disconnect();\n",
       "        }}\n",
       "}});\n",
       "\n",
       "// Listen for the removal of the full notebook cells\n",
       "var notebookContainer = gd.closest('#notebook-container');\n",
       "if (notebookContainer) {{\n",
       "    x.observe(notebookContainer, {childList: true});\n",
       "}}\n",
       "\n",
       "// Listen for the clearing of the current output cell\n",
       "var outputEl = gd.closest('.output');\n",
       "if (outputEl) {{\n",
       "    x.observe(outputEl, {childList: true});\n",
       "}}\n",
       "\n",
       "                        })                };                });            </script>        </div>"
      ]
     },
     "metadata": {},
     "output_type": "display_data"
    }
   ],
   "source": [
    "#create line plot to commpare against consumer spending trends in separate section of this project's covid analysis\n",
    "fig3 = px.line(total_df_AC_grouped, x=\"year\", y=\"btu_US\", title='US Transportation energy consumption per year')\n",
    "fig3.show()"
   ]
  },
  {
   "cell_type": "code",
   "execution_count": 91,
   "id": "42916312",
   "metadata": {},
   "outputs": [
    {
     "data": {
      "text/plain": [
       "'static_UStransportation_Energy.html'"
      ]
     },
     "execution_count": 91,
     "metadata": {},
     "output_type": "execute_result"
    }
   ],
   "source": [
    "# Save Fig 3 as an interactive HTML file\n",
    "html_file_path = \"static_UStransportation_Energy.html\"\n",
    "plot(fig3, filename=html_file_path, auto_open=False)"
   ]
  },
  {
   "cell_type": "code",
   "execution_count": 148,
   "id": "ff7a9d0d",
   "metadata": {},
   "outputs": [],
   "source": [
    "#export mutiple plots on one div\n",
    "with open('multiplefigs.html', 'a') as f:\n",
    "    f.write(fig2.to_html(full_html=False, include_plotlyjs='cdn'))\n",
    "    f.write(figa.to_html(full_html=False, include_plotlyjs='cdn'))\n",
    "    f.write(figb.to_html(full_html=False, include_plotlyjs='cdn'))\n",
    "    f.write(fig3.to_html(full_html=False, include_plotlyjs='cdn'))"
   ]
  },
  {
   "cell_type": "code",
   "execution_count": null,
   "id": "b3b97747",
   "metadata": {},
   "outputs": [],
   "source": []
  }
 ],
 "metadata": {
  "kernelspec": {
   "display_name": "Python 3 (ipykernel)",
   "language": "python",
   "name": "python3"
  },
  "language_info": {
   "codemirror_mode": {
    "name": "ipython",
    "version": 3
   },
   "file_extension": ".py",
   "mimetype": "text/x-python",
   "name": "python",
   "nbconvert_exporter": "python",
   "pygments_lexer": "ipython3",
   "version": "3.10.13"
  }
 },
 "nbformat": 4,
 "nbformat_minor": 5
}
